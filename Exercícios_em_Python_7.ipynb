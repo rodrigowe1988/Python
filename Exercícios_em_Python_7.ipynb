{
  "nbformat": 4,
  "nbformat_minor": 0,
  "metadata": {
    "colab": {
      "name": "Exercícios em Python 7.ipynb",
      "provenance": [],
      "authorship_tag": "ABX9TyP6oXVkmw3kWet20bn8uRDl",
      "include_colab_link": true
    },
    "kernelspec": {
      "display_name": "Python 3",
      "name": "python3"
    }
  },
  "cells": [
    {
      "cell_type": "markdown",
      "metadata": {
        "id": "view-in-github",
        "colab_type": "text"
      },
      "source": [
        "<a href=\"https://colab.research.google.com/github/rodrigowe1988/Python/blob/main/Exerc%C3%ADcios_em_Python_7.ipynb\" target=\"_parent\"><img src=\"https://colab.research.google.com/assets/colab-badge.svg\" alt=\"Open In Colab\"/></a>"
      ]
    },
    {
      "cell_type": "markdown",
      "metadata": {
        "id": "-3Kv2lCwqccF"
      },
      "source": [
        "#Crie um programa que tenha uma tupla totalmente preenchida com uma contagem por extenso, de zero até vinte.\r\n",
        "\r\n",
        "Seu programa deverá ler um número pelo teclado(entre 0 e 20) e mostrá-lo por extenso.\r\n",
        "\r\n",
        "Ex.: \r\n",
        "Digite um número entre 0 e 20: 90\r\n",
        "\r\n",
        "Tente novamente. Digite um número entre 0 e 20: -15\r\n",
        "\r\n",
        "Tente novamente. Digite um número entre 0 e 20: 13\r\n",
        "\r\n",
        "Você digitou o número treze"
      ]
    },
    {
      "cell_type": "code",
      "metadata": {
        "colab": {
          "base_uri": "https://localhost:8080/"
        },
        "id": "uOJQRvHSqWHH",
        "outputId": "1afebc45-03a1-42a8-e715-f88169f785f5"
      },
      "source": [
        "numbers = ('zero', 'um', 'dois', 'três','quatro', 'cinco','seis', 'sete','oito', 'nove', 'dez', 'onze', 'doze', 'treze', 'quatorze', 'quinze', 'dezesseis', 'dezessete', 'dezoito', 'dezenove', 'vinte'\r\n",
        "while True:\r\n",
        "  number = int(input('Digite um número entre 0 e 20: [\"-99\" para finalizar] '))\r\n",
        "  if number == -99:\r\n",
        "    break\r\n",
        "  elif number >= 0 and number <= 20:\r\n",
        "    print(f'O número digitado foi: {numbers[number]}.')\r\n",
        "  else: \r\n",
        "    print('Número inválido.')\r\n",
        "print('Obrigado por usar esse programa!')"
      ],
      "execution_count": null,
      "outputs": [
        {
          "output_type": "stream",
          "text": [
            "Digite um número entre 0 e 20: [\"-99\" para finalizar] 10\n",
            "O número digitado foi: dez.\n",
            "Digite um número entre 0 e 20: [\"-99\" para finalizar] 11\n",
            "O número digitado foi: onze.\n",
            "Digite um número entre 0 e 20: [\"-99\" para finalizar] -99\n",
            "Obrigado por usar esse programa!\n"
          ],
          "name": "stdout"
        }
      ]
    },
    {
      "cell_type": "markdown",
      "metadata": {
        "id": "r2ui1XNAq7I0"
      },
      "source": [
        "#Crie um tupla preenchida com os 20 times da Tabela do Campeonato Brasileiro de Futebol, na ordem de colocação. Depois mostre:\r\n",
        "\r\n",
        "* apenas os 4 primeiros colocados (que irão participar da Libertadores);\r\n",
        "* os 4 últimos colocados(que serão rebaixados);\r\n",
        "* uma lista com os times em ordem alfabética\r\n",
        "* em que posição na tabela está o time escolhido pelo usuário\r\n"
      ]
    },
    {
      "cell_type": "code",
      "metadata": {
        "colab": {
          "base_uri": "https://localhost:8080/"
        },
        "id": "v85zhtjptaFx",
        "outputId": "f07e9837-e180-4671-c5a9-55466d9d8a60"
      },
      "source": [
        "times = ('Flamengo', 'Internacional', 'Atlético-MG', 'São Paulo', 'Fluminense', 'Grêmio', 'Palmeiras', 'Santos', 'Atlético-PR', 'Bragantino', 'Ceará-SC', 'Corinthians', 'Atlético-GO', 'Bahia', 'Sport Recife', 'Fortaleza', 'Vasco da Gama', 'Goiás', 'Coritiba', 'Botafogo')\r\n",
        "print('Os times classificados para a Libertadores são: {}, {}, {} e {}.'.format(times[0], times[1], times[2], times[3]))\r\n",
        "print(f'Os times rebaixados para a Segunda Divisão do Campeonato Brasileiro são: {times[-4], times[-3], times[-2], times[-1]}')\r\n",
        "print(sorted(times))\r\n",
        "choice = str(input('Digite o nome do time para descobrir sua colocação: '))\r\n",
        "choice_final = times.index(choice)\r\n",
        "print(f'O time selecionado({choice}) ficou na posição {choice_final + 1} do campeonato.')"
      ],
      "execution_count": null,
      "outputs": [
        {
          "output_type": "stream",
          "text": [
            "Os times classificados para a Libertadores são: Flamengo, Internacional, Atlético-MG e São Paulo.\n",
            "Os times rebaixados para a Segunda Divisão do Campeonato Brasileiro são: ('Vasco da Gama', 'Goiás', 'Coritiba', 'Botafogo')\n",
            "['Atlético-GO', 'Atlético-MG', 'Atlético-PR', 'Bahia', 'Botafogo', 'Bragantino', 'Ceará-SC', 'Corinthians', 'Coritiba', 'Flamengo', 'Fluminense', 'Fortaleza', 'Goiás', 'Grêmio', 'Internacional', 'Palmeiras', 'Santos', 'Sport Recife', 'São Paulo', 'Vasco da Gama']\n"
          ],
          "name": "stdout"
        }
      ]
    },
    {
      "cell_type": "markdown",
      "metadata": {
        "id": "QplNH2xrtYov"
      },
      "source": [
        "#Crie um programa que vai gerar cinco números aleatórios e colocar em uma tupla.\r\n",
        "\r\n",
        "Depois disso, mostre a listagem de números gerados e também indique o menor e o maior valor que estão na tupla."
      ]
    },
    {
      "cell_type": "code",
      "metadata": {
        "colab": {
          "base_uri": "https://localhost:8080/"
        },
        "id": "FlCiSksBtbGb",
        "outputId": "64200739-bd20-4898-dc35-c19d55db6fed"
      },
      "source": [
        "import random \r\n",
        "nums = tuple(random.randint(0, 99) for c in range(0, 5))\r\n",
        "print(nums)\r\n",
        "teste = sorted(nums)\r\n",
        "print(f'O maior número da tupla é {teste[-1]} e o menor número é {teste[0]}')\r\n"
      ],
      "execution_count": null,
      "outputs": [
        {
          "output_type": "stream",
          "text": [
            "(94, 34, 49, 1, 60)\n",
            "O maior número da tupla é 94 e o menor número é 1\n"
          ],
          "name": "stdout"
        }
      ]
    },
    {
      "cell_type": "markdown",
      "metadata": {
        "id": "UmT-FDsxtbXS"
      },
      "source": [
        "#Desenvolva um programa que leia quatro valores pelo teclado e guarde-os em uma tupla. No final, mostre:\r\n",
        "\r\n",
        "* Quantas vezes apareceu o valor 9;\r\n",
        "* Em que posição foi digitado o primeiro valor 3;\r\n",
        "* Quais foram os números pares;"
      ]
    },
    {
      "cell_type": "code",
      "metadata": {
        "colab": {
          "background_save": true
        },
        "id": "GV4qqYvltbso"
      },
      "source": [
        "numbers = []\r\n",
        "for c in range(0, 4):\r\n",
        "  number = int(input('Digite um número inteiro: '))\r\n",
        "  numbers.append(number)\r\n",
        "numbers = tuple(numbers)\r\n",
        "print(numbers)\r\n",
        "print(f'O número 9 apareceu {numbers.count(9)} vezes.')\r\n",
        "print(f'O índice do primeiro 3 que foi digitado é {numbers.index(3)}.')\r\n",
        "total_pairs = 0\r\n",
        "for c in range(0, 4):\r\n",
        "  if numbers[c] % 2 == 0:\r\n",
        "      total_pairs += 1\r\n",
        "print('O número de pares é {}.'.format(total_pairs))\r\n",
        "\r\n"
      ],
      "execution_count": null,
      "outputs": []
    },
    {
      "cell_type": "markdown",
      "metadata": {
        "id": "3BynRiDruzRs"
      },
      "source": [
        "#Crie um programa que tenha uma tupla única com nomes e produtos e seus respectivos preços, na sequência.\r\n",
        "\r\n",
        "No final, mostre uma listagem de preços, organizando os dados em forma tabular.\r\n",
        "\r\n",
        "\r\n"
      ]
    },
    {
      "cell_type": "code",
      "metadata": {
        "id": "YG4wyHMFuzfK",
        "colab": {
          "base_uri": "https://localhost:8080/"
        },
        "outputId": "2608c502-21ad-4d91-ec45-57a32d3efe7a"
      },
      "source": [
        "listagem = ('Lápis', 1.75,\r\n",
        "            'Borracha', 2,\r\n",
        "            'Caderno', 15.90,\r\n",
        "            'Estojo', 25,\r\n",
        "            'Transferidor', 4.20,\r\n",
        "            'Compasso', 9.99,\r\n",
        "            'Mochila', 120.32,\r\n",
        "            'Canetas', 22.30,\r\n",
        "            'Livro', 32.90)\r\n",
        "print('-' * 40)\r\n",
        "print(f'{\"LISTAGEM DE PREÇOS\":^40}')#circunflexo alinha no centro\r\n",
        "print('-' * 40)\r\n",
        "for pos in range(0, len(listagem)):\r\n",
        "    if pos % 2 == 0:\r\n",
        "        print(f'{listagem[pos]:.<30}', end=' ') #:30 especifica que terá sempre 30 caracteres\r\n",
        "    else:\r\n",
        "        print(f'R${listagem[pos]:>7.2f}')\r\n",
        "print('-' * 40)"
      ],
      "execution_count": 3,
      "outputs": [
        {
          "output_type": "stream",
          "text": [
            "----------------------------------------\n",
            "           LISTAGEM DE PREÇOS           \n",
            "----------------------------------------\n",
            "Lápis......................... R$   1.75\n",
            "Borracha...................... R$   2.00\n",
            "Caderno....................... R$  15.90\n",
            "Estojo........................ R$  25.00\n",
            "Transferidor.................. R$   4.20\n",
            "Compasso...................... R$   9.99\n",
            "Mochila....................... R$ 120.32\n",
            "Canetas....................... R$  22.30\n",
            "Livro......................... R$  32.90\n",
            "----------------------------------------\n"
          ],
          "name": "stdout"
        }
      ]
    },
    {
      "cell_type": "markdown",
      "metadata": {
        "id": "Vc15_7UnvjHR"
      },
      "source": [
        "#Crie um programa que tenha uma tupla com várias palavras(não usar acentos). Depois disso, você deve mostrar, para cada palavra, quais são as vogais presentes nela."
      ]
    },
    {
      "cell_type": "code",
      "metadata": {
        "id": "5fOxtB6UvjQ6",
        "colab": {
          "base_uri": "https://localhost:8080/"
        },
        "outputId": "405de641-3382-4bb4-b8c2-5612fccc8a66"
      },
      "source": [
        "words = ('APRENDER', 'PROGRAMAR', 'LINGUAGEM', 'PYTHON', 'CURSO', 'GRATIS', \r\n",
        "         'ESTUDAR', 'PRATICAR', 'TRABALHAR', 'MERCADO', 'PROGRAMADOR', 'FUTURO')\r\n",
        "for p in words:\r\n",
        "  print(f'\\nNa palavra {p} temos ', end='')\r\n",
        "  for letra in p:\r\n",
        "    if letra.lower() in 'aeiou':\r\n",
        "      print(letra.lower(), end=' ')\r\n",
        "\r\n",
        "\r\n"
      ],
      "execution_count": 5,
      "outputs": [
        {
          "output_type": "stream",
          "text": [
            "\n",
            "Na palavra APRENDER temos a e e \n",
            "Na palavra PROGRAMAR temos o a a \n",
            "Na palavra LINGUAGEM temos i u a e \n",
            "Na palavra PYTHON temos o \n",
            "Na palavra CURSO temos u o \n",
            "Na palavra GRATIS temos a i \n",
            "Na palavra ESTUDAR temos e u a \n",
            "Na palavra PRATICAR temos a i a \n",
            "Na palavra TRABALHAR temos a a a \n",
            "Na palavra MERCADO temos e a o \n",
            "Na palavra PROGRAMADOR temos o a a o \n",
            "Na palavra FUTURO temos u u o "
          ],
          "name": "stdout"
        }
      ]
    }
  ]
}