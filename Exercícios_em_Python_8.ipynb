{
  "nbformat": 4,
  "nbformat_minor": 0,
  "metadata": {
    "colab": {
      "name": "Exercícios em Python 8.ipynb",
      "provenance": [],
      "authorship_tag": "ABX9TyP7sNI2Lk87fV/oUC8ZspQR",
      "include_colab_link": true
    },
    "kernelspec": {
      "name": "python3",
      "display_name": "Python 3"
    }
  },
  "cells": [
    {
      "cell_type": "markdown",
      "metadata": {
        "id": "view-in-github",
        "colab_type": "text"
      },
      "source": [
        "<a href=\"https://colab.research.google.com/github/rodrigowe1988/Python/blob/main/Exerc%C3%ADcios_em_Python_8.ipynb\" target=\"_parent\"><img src=\"https://colab.research.google.com/assets/colab-badge.svg\" alt=\"Open In Colab\"/></a>"
      ]
    },
    {
      "cell_type": "markdown",
      "metadata": {
        "id": "43pc-qWUmwCX"
      },
      "source": [
        "#Crie um programa que leia 5 valores numéricos e guarde-os em uma lista.\r\n",
        "\r\n",
        "* no final, mostre qual foi o maior e o menor valor digitado e as suas respectivas posições na lista. \r\n",
        "\r\n",
        "* ex.:\r\n",
        "  * Você digitou os valores [1, 2, 3, 4, 5, 5]\r\n",
        "  * O maior valor digitado foi 5 nas posições 4... 5...\r\n",
        "  * O menor valor digitado foi 1 nas posições 0..."
      ]
    },
    {
      "cell_type": "code",
      "metadata": {
        "id": "9hcMElOumu6I",
        "colab": {
          "base_uri": "https://localhost:8080/"
        },
        "outputId": "fd4f6ea5-008d-47cb-b2da-50fb2dc52762"
      },
      "source": [
        "values = []\r\n",
        "larger = 0\r\n",
        "smaller = 0\r\n",
        "for c in range(0, 5):\r\n",
        "  values.append(int(input(f'Digite um valor para a posição {c}: ')))\r\n",
        "  if c == 0:\r\n",
        "    larger = smaller = values[c]\r\n",
        "  else:\r\n",
        "    if values[c] > larger:\r\n",
        "      larger = values[c]\r\n",
        "    if values[c] < smaller:\r\n",
        "      smaller = values[c]\r\n",
        "print('=-' * 30)\r\n",
        "print(f'Você digitou os valores {values}.')\r\n",
        "print(f'O maior valor digitado foi {larger} nas posições ', end='')\r\n",
        "for i, v in enumerate(values):\r\n",
        "  if v == larger:\r\n",
        "    print(f'{i}...', end='')\r\n",
        "print()\r\n",
        "print(f'O menor valor digitado foi {smaller} nas posições ', end='')\r\n",
        "for i, v in enumerate(values):\r\n",
        "  if v == smaller:\r\n",
        "    print(f'{i}...', end='')"
      ],
      "execution_count": null,
      "outputs": [
        {
          "output_type": "stream",
          "text": [
            "Digite um valor para a posição 0: 5\n",
            "Digite um valor para a posição 1: 3\n",
            "Digite um valor para a posição 2: 2\n",
            "Digite um valor para a posição 3: 2\n",
            "Digite um valor para a posição 4: 5\n",
            "=-=-=-=-=-=-=-=-=-=-=-=-=-=-=-=-=-=-=-=-=-=-=-=-=-=-=-=-=-=-\n",
            "Você digitou os valores [5, 3, 2, 2, 5].\n",
            "O maior valor digitado foi 5 nas posições 0...4...\n",
            "O menor valor digitado foi 2 nas posições 2...3..."
          ],
          "name": "stdout"
        }
      ]
    },
    {
      "cell_type": "markdown",
      "metadata": {
        "id": "nKe5KS9axnMM"
      },
      "source": [
        "#crie um programa onde o usuário possa digitar vários valores numéricos e cadastre-os em uma lista. Caso o número já exista lá dentro, ele não será adicionado. No final, serão exibidos todos os valores únicos digitados em ordem crescente.\r\n",
        "\r\n",
        "* Digite um valor: 5\r\n",
        "* Quer continuar? [S/N] s\r\n",
        "* Digite um valor: 9\r\n",
        "* Quer continuar? [S/N] s\r\n",
        "* Digite um valor: 3\r\n",
        "* Quer continuar? [S/N] s\r\n",
        "* Digite um valor: 5\r\n",
        "* Quer continuar? [S/N] s\r\n",
        "* Digite um valor: 9\r\n",
        "* Valor duplicado! Não vou adicionar...\r\n",
        "* Quer continuar? [S/N] s\r\n",
        "\r\n",
        "-=-=-=-=-=-=-=-=-=-=-=-=-=-=-=-=-=-=-=-=\r\n",
        "Você digitou os valores [3, 5, 9]\r\n"
      ]
    },
    {
      "cell_type": "code",
      "metadata": {
        "id": "9qSTatV-yH0i",
        "colab": {
          "base_uri": "https://localhost:8080/"
        },
        "outputId": "12a8a37b-70b4-47b6-c088-c21844258b0a"
      },
      "source": [
        "numbers = list() \r\n",
        "while True:\r\n",
        "  n = int(input('Digite um valor: '))\r\n",
        "  if n not in numbers:\r\n",
        "    numbers.append(n)\r\n",
        "    print('Número adicionado com sucesso')\r\n",
        "  else:\r\n",
        "    print('Número já foi digitado! Não irei adicionar...')\r\n",
        "  r = str(input('Quer continuar? [S/N]'))\r\n",
        "  if r in 'Nn':\r\n",
        "    break\r\n",
        "print('-=' * 30)\r\n",
        "numbers.sort()\r\n",
        "print(f'A lista dos números digitados é {numbers}.')"
      ],
      "execution_count": 4,
      "outputs": [
        {
          "output_type": "stream",
          "text": [
            "Digite um valor: 5\n",
            "Número adicionado com sucesso\n",
            "Quer continuar? [S/N]s\n",
            "Digite um valor: 3\n",
            "Número adicionado com sucesso\n",
            "Quer continuar? [S/N]5\n",
            "Digite um valor: 5\n",
            "Número já foi digitado! Não irei adicionar...\n",
            "Quer continuar? [S/N]n\n"
          ],
          "name": "stdout"
        }
      ]
    },
    {
      "cell_type": "markdown",
      "metadata": {
        "id": "knbkcm1azMVR"
      },
      "source": [
        "#Crie um programa onde o usuário possa digitar cinco valores numéricos e cadastre-os em uma lista, já na posição correta de inserção (sem usar o sort()).\r\n",
        "\r\n",
        "No final, mostre a lista ordenada na tela.\r\n",
        "\r\n",
        "* Digite um valor: 7\r\n",
        "* Adicionando ao final da lista...\r\n",
        "* Digite um valor: 2\r\n",
        "* Adicionando na posição 0 da lista...\r\n",
        "* Digite um valor: 5\r\n",
        "* Adicionando na posição 1 da lista...\r\n",
        "* Digite um valor: 9\r\n",
        "* Adicionando ao final da lista...\r\n",
        "* Digite um valor: 3\r\n",
        "* Adicionando na posição 1 da lista...\r\n",
        "-=-=-=-=-=-=-=-=-=-=-\r\n",
        "Os valores digitados (em ordem) foram [2, 3, 5, 7, 9]"
      ]
    },
    {
      "cell_type": "code",
      "metadata": {
        "id": "KHfu9AEBz5qZ",
        "colab": {
          "base_uri": "https://localhost:8080/"
        },
        "outputId": "8a66c68d-691b-44de-8136-cf2b1c88c550"
      },
      "source": [
        "lista = list()\r\n",
        "for c in range(0, 5):\r\n",
        "  n = int(input('Digite um valor: '))\r\n",
        "  if c == 0 or n > lista[-1]:\r\n",
        "    lista.append(n)\r\n",
        "    print('O número digitado foi adicionado ao final da lista...')\r\n",
        "  else: \r\n",
        "    pos = 0\r\n",
        "    while pos < len(lista):\r\n",
        "      if n <= lista[pos]:\r\n",
        "        lista.insert(pos, n)\r\n",
        "        print(f'Adicionado na posição {pos} da lista...')\r\n",
        "        break\r\n",
        "      pos += 1\r\n",
        "print('-=' * 30)\r\n",
        "print(f'Os valores digitados em ordem foram {lista}')"
      ],
      "execution_count": 7,
      "outputs": [
        {
          "output_type": "stream",
          "text": [
            "Digite um valor: 7\n",
            "O número digitado foi adicionado ao final da lista...\n",
            "Digite um valor: 4\n",
            "Adicionado na posição 0 da lista...\n",
            "Digite um valor: 3\n",
            "Adicionado na posição 0 da lista...\n",
            "Digite um valor: 9\n",
            "O número digitado foi adicionado ao final da lista...\n",
            "Digite um valor: 8\n",
            "Adicionado na posição 3 da lista...\n",
            "-=-=-=-=-=-=-=-=-=-=-=-=-=-=-=-=-=-=-=-=-=-=-=-=-=-=-=-=-=-=\n",
            "Os valores digitados em ordem foram [3, 4, 7, 8, 9]\n"
          ],
          "name": "stdout"
        }
      ]
    },
    {
      "cell_type": "markdown",
      "metadata": {
        "id": "CQfrAsDMz57D"
      },
      "source": [
        "#Crie um programa que vai ler vários números e colocar em uma lista.\r\n",
        "\r\n",
        "* Depois disso, mostra:\r\n",
        "  * quantos números foram digitados;\r\n",
        "  * a lista de valores, ordenadas de forma decrescente;\r\n",
        "  * se o valor 5 foi digitado e está ou não na lista;"
      ]
    },
    {
      "cell_type": "code",
      "metadata": {
        "id": "Hl_epeEmz4BW",
        "colab": {
          "base_uri": "https://localhost:8080/"
        },
        "outputId": "1782c35d-4f97-4a2e-c7a2-903746b3f356"
      },
      "source": [
        "values = list()\r\n",
        "while True:\r\n",
        "  n = int(input('Digite um valor: '))\r\n",
        "  values.append(n)\r\n",
        "  r = str(input('Quer continuar? [S/N] '))\r\n",
        "  if r in 'Nn':\r\n",
        "    break\r\n",
        "values.sort(reverse=True)\r\n",
        "print(f'Foram digitados {len(values)} números na lista.')\r\n",
        "print(f'Segue a lista: {values}')\r\n",
        "if 5 in values:\r\n",
        "  print('O número 5 está na lista.')\r\n",
        "else:\r\n",
        "  print('O número 5 não está na lista.')"
      ],
      "execution_count": 11,
      "outputs": [
        {
          "output_type": "stream",
          "text": [
            "Digite um valor: 7\n",
            "Quer continuar? [S/N] s\n",
            "Digite um valor: 3\n",
            "Quer continuar? [S/N] s\n",
            "Digite um valor: 4\n",
            "Quer continuar? [S/N] s\n",
            "Digite um valor: 2\n",
            "Quer continuar? [S/N] n\n",
            "Foram digitados 4 números na lista.\n",
            "Segue a lista: [7, 4, 3, 2]\n",
            "O número 5 não está na lista.\n"
          ],
          "name": "stdout"
        }
      ]
    },
    {
      "cell_type": "markdown",
      "metadata": {
        "id": "1ZtJgl0Uz4e9"
      },
      "source": [
        "#Crie um programa que vai ler vários números e colocar numa lista.\r\n",
        "\r\n",
        "#Depois disso, crie duas listas extras que vão conter apenas os valores pares e os valores ímpares digitados, respectivamente.\r\n",
        "\r\n",
        "#Ao final, mostre o conteúdo das 3 listas geradas."
      ]
    },
    {
      "cell_type": "code",
      "metadata": {
        "id": "_tHNF4NH0u9Y",
        "colab": {
          "base_uri": "https://localhost:8080/"
        },
        "outputId": "cd136bdb-3d56-4c5e-82b8-6eff82a04309"
      },
      "source": [
        "values = list()\r\n",
        "pair = []\r\n",
        "odd = []\r\n",
        "while True:\r\n",
        "  n = int(input('Digite um número inteiro: '))\r\n",
        "  values.append(n)\r\n",
        "  choice = str(input('Deseja continuar: [S/N]'))\r\n",
        "  if choice in 'Nn':\r\n",
        "    break\r\n",
        "for number in values:\r\n",
        "  if number % 2 == 0:\r\n",
        "    pair.append(number)\r\n",
        "  else:\r\n",
        "    odd.append(number)\r\n",
        "print(f'A lista completa: {values}')\r\n",
        "print(f'Somente os números pares: {pair}')\r\n",
        "print(f'Somente os números ímpares: {odd}')"
      ],
      "execution_count": 14,
      "outputs": [
        {
          "output_type": "stream",
          "text": [
            "Digite um número inteiro: 1\n",
            "Deseja continuar: [S/N]s\n",
            "Digite um número inteiro: 2\n",
            "Deseja continuar: [S/N]s\n",
            "Digite um número inteiro: 3\n",
            "Deseja continuar: [S/N]s\n",
            "Digite um número inteiro: 4\n",
            "Deseja continuar: [S/N]s\n",
            "Digite um número inteiro: 5\n",
            "Deseja continuar: [S/N]s\n",
            "Digite um número inteiro: 6\n",
            "Deseja continuar: [S/N]s\n",
            "Digite um número inteiro: 7\n",
            "Deseja continuar: [S/N]s\n",
            "Digite um número inteiro: 8\n",
            "Deseja continuar: [S/N]n\n",
            "[2, 4, 6, 8]\n",
            "[1, 3, 5, 7]\n"
          ],
          "name": "stdout"
        }
      ]
    },
    {
      "cell_type": "markdown",
      "metadata": {
        "id": "1KbD82Ra0vEO"
      },
      "source": [
        "#crie um programa onde o usuário digite uma expressão qualquer que use parênteses. Seu aplicativo deverá analisar se a expressão passada está com os parênteses abertos e fechados na ordem correta."
      ]
    },
    {
      "cell_type": "code",
      "metadata": {
        "colab": {
          "base_uri": "https://localhost:8080/"
        },
        "id": "bDRLSqJ15Itq",
        "outputId": "9637a341-a1c4-44d0-9e3c-e1506fe61bee"
      },
      "source": [
        "phrase = str(input('Digite uma expressão qualquer: '))\r\n",
        "open = 0\r\n",
        "close = 0\r\n",
        "for symbol in phrase:\r\n",
        "  if symbol == '(':  \r\n",
        "    open += 1\r\n",
        "  elif symbol == ')':\r\n",
        "    close += 1\r\n",
        "print(f'A expressão digitada foi {phrase}.')\r\n",
        "if open == close:\r\n",
        "  print('A expressão digitada é válida.')\r\n",
        "else:\r\n",
        "  print('A expressão digitada não é válida.')\r\n",
        "\r\n"
      ],
      "execution_count": 21,
      "outputs": [
        {
          "output_type": "stream",
          "text": [
            "Digite uma expressão qualquer: ((x=y)*3)\n",
            "A expressão digitada foi ((x=y)*3).\n",
            "A expressão digitada é válida.\n"
          ],
          "name": "stdout"
        }
      ]
    }
  ]
}