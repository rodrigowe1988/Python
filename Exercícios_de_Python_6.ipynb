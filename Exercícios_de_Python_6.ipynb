{
  "nbformat": 4,
  "nbformat_minor": 0,
  "metadata": {
    "colab": {
      "name": "Exercícios de Python 6.ipynb",
      "provenance": [],
      "toc_visible": true,
      "authorship_tag": "ABX9TyMMKc1QNzpolGRdi5sJYBeb",
      "include_colab_link": true
    },
    "kernelspec": {
      "name": "python3",
      "display_name": "Python 3"
    }
  },
  "cells": [
    {
      "cell_type": "markdown",
      "metadata": {
        "id": "view-in-github",
        "colab_type": "text"
      },
      "source": [
        "<a href=\"https://colab.research.google.com/github/rodrigowe1988/Python/blob/main/Exerc%C3%ADcios_de_Python_6.ipynb\" target=\"_parent\"><img src=\"https://colab.research.google.com/assets/colab-badge.svg\" alt=\"Open In Colab\"/></a>"
      ]
    },
    {
      "cell_type": "markdown",
      "metadata": {
        "id": "VR4Af9wyKXTJ"
      },
      "source": [
        "#escreva um programa que leia um número n inteiro qualquer e mostre na tela os n primeiros elementos de uma sequência de Fibonacci"
      ]
    },
    {
      "cell_type": "code",
      "metadata": {
        "colab": {
          "base_uri": "https://localhost:8080/"
        },
        "id": "VBdKXnCEKAeN",
        "outputId": "7d695f40-54b4-405d-bc43-fdea21c3d7dc"
      },
      "source": [
        "print('-' * 24)\r\n",
        "print(' Sequência de Fibonacci')\r\n",
        "print('-' * 24)\r\n",
        "sum = 0\r\n",
        "t1 = 0\r\n",
        "t2 = 1\r\n",
        "n = int(input('Quantos termos você quer mostrar? '))\r\n",
        "print('~' * 30)\r\n",
        "print('{} -> {}'.format(t1, t2), end='')\r\n",
        "cont = 3\r\n",
        "while cont <= n:\r\n",
        "  t3 = t1 + t2\r\n",
        "  print(' -> {}'.format(t3), end='')\r\n",
        "  t1 = t2\r\n",
        "  t2 = t3\r\n",
        "  cont += 1\r\n",
        "print(' -> FIM')\r\n"
      ],
      "execution_count": null,
      "outputs": [
        {
          "output_type": "stream",
          "text": [
            "------------------------\n",
            " Sequência de Fibonacci\n",
            "------------------------\n",
            "Quantos termos você quer mostrar? 20\n",
            "~~~~~~~~~~~~~~~~~~~~~~~~~~~~~~\n",
            "0 -> 1 -> 1 -> 2 -> 3 -> 5 -> 8 -> 13 -> 21 -> 34 -> 55 -> 89 -> 144 -> 233 -> 377 -> 610 -> 987 -> 1597 -> 2584 -> 4181 -> FIM\n"
          ],
          "name": "stdout"
        }
      ]
    },
    {
      "cell_type": "markdown",
      "metadata": {
        "id": "1nkz6fv9Kp3r"
      },
      "source": [
        "#crie um programa que leia vários números inteiros pelo teclado. No final da execução, mostre a média entre todos os valores e qual foi o maior e o menor  valores lidos. O programa deve perguntar ao usuário se ele quer ou não continuar a digitar os valores"
      ]
    },
    {
      "cell_type": "code",
      "metadata": {
        "colab": {
          "base_uri": "https://localhost:8080/"
        },
        "id": "HX_f0BBnKy6w",
        "outputId": "6641cefe-828c-45bb-af56-196878465e17"
      },
      "source": [
        "print('=-' * 17)\r\n",
        "print(\"Quando quiser parar digite -999! \")\r\n",
        "print('=-' * 17)\r\n",
        "numbers = []\r\n",
        "number = 0\r\n",
        "sum = 0\r\n",
        "while number != -999:\r\n",
        "  number = float(input('Digite um número qualquer: '))\r\n",
        "  if number == -999:\r\n",
        "    break\r\n",
        "  numbers.append(number)\r\n",
        "  sum += number\r\n",
        "print('A média dos números digitados é {}.'.format(sum / len(numbers)))\r\n",
        "numbers.sort()\r\n",
        "print(f'{numbers[0]} é o menor número digitado e {numbers[-1]} é o maior.')  "
      ],
      "execution_count": null,
      "outputs": [
        {
          "output_type": "stream",
          "text": [
            "=-=-=-=-=-=-=-=-=-=-=-=-=-=-=-=-=-=-\n",
            "Quando quiser parar digite -999! \n",
            "=-=-=-=-=-=-=-=-=-=-=-=-=-=-=-=-=-=-\n",
            "Digite um número qualquer: 9\n",
            "Digite um número qualquer: 5\n",
            "Digite um número qualquer: 3\n",
            "Digite um número qualquer: 4\n",
            "Digite um número qualquer: 5\n",
            "Digite um número qualquer: -999\n",
            "A média dos números digitados é 5.2.\n",
            "3.0 é o menor número digitado e 9.0 é o maior.\n"
          ],
          "name": "stdout"
        }
      ]
    },
    {
      "cell_type": "markdown",
      "metadata": {
        "id": "WIvxg20YShZ2"
      },
      "source": [
        "\r\n",
        "#Crie um programa que leia vários números inteiros pelo teclado. O programa só vai parar quando o usuário digitar o valor 999, que é a condição de parada. No final, mostre quantos números foram digitados e qual foi a soma entre eles(desconsiderando o flag)\r\n"
      ]
    },
    {
      "cell_type": "code",
      "metadata": {
        "colab": {
          "base_uri": "https://localhost:8080/"
        },
        "id": "GhDFejlfLu1S",
        "outputId": "66f6d435-cac1-4702-ea3e-b1df3f5d4ffe"
      },
      "source": [
        "print('=-' * 20)\r\n",
        "print('Digite 999 para encerrar o programa...')\r\n",
        "print('=-' * 20)\r\n",
        "number = 0\r\n",
        "numbers = []\r\n",
        "sum = 0\r\n",
        "while number != 999:\r\n",
        "  number = float(input('Digite um número qualquer: '))\r\n",
        "  if number == 999:\r\n",
        "    break\r\n",
        "  numbers.append(number)\r\n",
        "  sum += number\r\n",
        "print(f'Você digitou {len(numbers)} números.')\r\n",
        "print('A soma entre eles é {}'.format(sum))\r\n"
      ],
      "execution_count": null,
      "outputs": [
        {
          "output_type": "stream",
          "text": [
            "=-=-=-=-=-=-=-=-=-=-=-=-=-=-=-=-=-=-=-=-\n",
            "Digite 999 para encerrar o programa...\n",
            "=-=-=-=-=-=-=-=-=-=-=-=-=-=-=-=-=-=-=-=-\n",
            "Digite um número qualquer: 5\n",
            "Digite um número qualquer: 4\n",
            "Digite um número qualquer: 3\n",
            "Digite um número qualquer: 7\n",
            "Digite um número qualquer: 8\n",
            "Digite um número qualquer: 999\n",
            "Você digitou 5 números.\n",
            "A soma entre eles é 27.0\n"
          ],
          "name": "stdout"
        }
      ]
    },
    {
      "cell_type": "markdown",
      "metadata": {
        "id": "189BTdqgUxec"
      },
      "source": [
        "#faça um programa que mostre a tabuada de vários números, um de cada vez, para cada valor digitado pelo usuário.\r\n",
        "##O programa será interrompido quando o número digitado for negativo.\r\n",
        "\r\n",
        "ex.:\r\n",
        "\r\n",
        "Quer ver a tabuada de qual valor? 3\r\n",
        "===============================\r\n",
        "3 x 1= 3\r\n",
        "\r\n",
        "3 x 2 = 6\r\n",
        "\r\n",
        "3 x 3 = 9\r\n",
        "...\r\n",
        "===============================\r\n",
        "Quer ver a tabuada de qual valor? \r\n"
      ]
    },
    {
      "cell_type": "code",
      "metadata": {
        "colab": {
          "base_uri": "https://localhost:8080/"
        },
        "id": "NNgnH8feVFLF",
        "outputId": "bc985728-ab8f-4497-8a09-b1e3016ffadf"
      },
      "source": [
        "print('=-' * 16)\r\n",
        "print('Calculando a tabuada para você!')\r\n",
        "print('=-' * 16)\r\n",
        "number = 0\r\n",
        "while number >= 0:\r\n",
        "  number = int(input('Digite um número inteiro: '))\r\n",
        "  if number < 0:\r\n",
        "    break\r\n",
        "  for c in range(1, 11):\r\n",
        "    print(f'{number} X {c} = {number * c}')\r\n",
        "print('Obrigado por usar nossa calculadora de tabuadas!')"
      ],
      "execution_count": null,
      "outputs": [
        {
          "output_type": "stream",
          "text": [
            "=-=-=-=-=-=-=-=-=-=-=-=-=-=-=-=-\n",
            "Calculando a tabuada para você!\n",
            "=-=-=-=-=-=-=-=-=-=-=-=-=-=-=-=-\n",
            "Digite um número inteiro: 5\n",
            "5 X 1 = 5\n",
            "5 X 2 = 10\n",
            "5 X 3 = 15\n",
            "5 X 4 = 20\n",
            "5 X 5 = 25\n",
            "5 X 6 = 30\n",
            "5 X 7 = 35\n",
            "5 X 8 = 40\n",
            "5 X 9 = 45\n",
            "5 X 10 = 50\n",
            "Digite um número inteiro: 4\n",
            "4 X 1 = 4\n",
            "4 X 2 = 8\n",
            "4 X 3 = 12\n",
            "4 X 4 = 16\n",
            "4 X 5 = 20\n",
            "4 X 6 = 24\n",
            "4 X 7 = 28\n",
            "4 X 8 = 32\n",
            "4 X 9 = 36\n",
            "4 X 10 = 40\n",
            "Digite um número inteiro: 10\n",
            "10 X 1 = 10\n",
            "10 X 2 = 20\n",
            "10 X 3 = 30\n",
            "10 X 4 = 40\n",
            "10 X 5 = 50\n",
            "10 X 6 = 60\n",
            "10 X 7 = 70\n",
            "10 X 8 = 80\n",
            "10 X 9 = 90\n",
            "10 X 10 = 100\n",
            "Digite um número inteiro: -1\n",
            "Obrigado por usar nossa calculadora de tabuadas!\n"
          ],
          "name": "stdout"
        }
      ]
    },
    {
      "cell_type": "markdown",
      "metadata": {
        "id": "uXCO4D3QVKmj"
      },
      "source": [
        "\r\n",
        "#Faça um programa que jogue par ou ímpar com o computador. O jogo só será interrompido quando o jogador perder, mostrando no final do jogo o total de vitórias consecutivas que ele conquistou.\r\n",
        "\r\n",
        "=-=-=-=-=-=-=-=-=-=-=-=-=-=-=-=-=-=-=-=-=-=-=-=-=-\r\n",
        "##VAMOS JOGAR PAR OU ÍMPAR?\r\n",
        "=-=-=-=-=-=-=-=-=-=-=-=-=-=-=-=-=-=-=-=-=-=-=-=-=-\r\n",
        "\r\n",
        "Diga um valor: 6\r\n",
        "\r\n",
        "Par ou ímpar? [P/I]\r\n",
        "\r\n",
        "Você jogou 6 e o computador jogou 10. O total foi 16 (PAR).\r\n",
        "VOCÊ PERDEU!\r\n",
        "=-=-=-=-=-=-=-=-=-=-=-=-=-=-=-=-=-=-=\r\n",
        "\r\n",
        "GAME OVER! Você venceu 0 vezes."
      ]
    },
    {
      "cell_type": "code",
      "metadata": {
        "id": "flhN63RTVRCj",
        "colab": {
          "base_uri": "https://localhost:8080/"
        },
        "outputId": "88dd8b9f-a3c6-4911-82b0-381a4c6cce0f"
      },
      "source": [
        "from random import randint\r\n",
        "wins = 0\r\n",
        "print('-=' * 22)\r\n",
        "print('Jogando par ou ímpar com o computador')\r\n",
        "print('-=' * 22)\r\n",
        "\r\n",
        "while choice != -99:\r\n",
        "  choice = int(input('Escolha um número inteiro positivo: [nº negativo para sair] '))\r\n",
        "  computer = randint(0, 11)\r\n",
        "  total = choice + computer\r\n",
        "  tipo = ' '\r\n",
        "  while tipo not in 'PI':\r\n",
        "    tipo = str(input('Par ou Ímpar? [P/I]')).strip().upper()[0]\r\n",
        "  print(f'Você jogou {choice} e o computador {computer}. Total foi {choice + computer}.')\r\n",
        "  if tipo == 'P':\r\n",
        "    if total % 2 == 0:\r\n",
        "      print('Você VENCEU!')\r\n",
        "      wins += 1\r\n",
        "    else:\r\n",
        "      print('Você PERDEU!')p\r\n",
        "      break\r\n",
        "  elif tipo == 'I':\r\n",
        "    if total % 2 == 1:\r\n",
        "      print('Você VENCEU!')\r\n",
        "    else:\r\n",
        "      print('Você PERDEU!')\r\n",
        "      break\r\n",
        "  print('Vamos jogar novamente...')\r\n",
        "print(f'GAME OVER! Você venceu {wins} vezes.')\r\n",
        "\r\n",
        "\r\n"
      ],
      "execution_count": null,
      "outputs": [
        {
          "output_type": "stream",
          "text": [
            "-=-=-=-=-=-=-=-=-=-=-=-=-=-=-=-=-=-=-=-=-=-=\n",
            "Jogando par ou ímpar com o computador\n",
            "-=-=-=-=-=-=-=-=-=-=-=-=-=-=-=-=-=-=-=-=-=-=\n",
            "Escolha um número inteiro positivo: [nº negativo para sair] 4\n",
            "Par ou Ímpar? [P/I]p\n",
            "Você jogou 4 e o computador 10. Total foi 14.\n",
            "Você VENCEU!\n",
            "Vamos jogar novamente...\n",
            "Escolha um número inteiro positivo: [nº negativo para sair] 4\n",
            "Par ou Ímpar? [P/I]p\n",
            "Você jogou 4 e o computador 10. Total foi 14.\n",
            "Você VENCEU!\n",
            "Vamos jogar novamente...\n",
            "Escolha um número inteiro positivo: [nº negativo para sair] 5\n",
            "Par ou Ímpar? [P/I]p\n",
            "Você jogou 5 e o computador 10. Total foi 15.\n",
            "Você PERDEU!\n",
            "GAME OVER! Você venceu 2 vezes\n"
          ],
          "name": "stdout"
        }
      ]
    },
    {
      "cell_type": "markdown",
      "metadata": {
        "id": "z2VrhlV-ZHLV"
      },
      "source": [
        "#crie um programa que leia a idade e o sexo de vária pessoas. A cada pessoa cadastrada, o programa deverá se perguntar se o usuário quer ou não continuar. No final mostre:\r\n",
        "\r\n",
        "-qts pessoas tem mais de 18 anos\r\n",
        "\r\n",
        "-qts pessoas foram cadastradas\r\n",
        "\r\n",
        "-qts mulheres tem menos de 20 anos\r\n",
        "\r\n",
        "------------------------------\r\n",
        "    CADASTRE UMA PESSOA\r\n",
        "------------------------------\r\n",
        "Idade: 33\r\n",
        "Sexo: [M/F]\r\n",
        "------------------------------\r\n",
        "Quer continuar? S\r\n",
        "------------------------------\r\n",
        "    CADASTRE UMA PESSOA\r\n",
        "------------------------------\r\n",
        "Idade: 12\r\n",
        "Sexo: [M/F] F\r\n",
        "------------------------------\r\n",
        "Quer continuar? [S/N] 25\r\n",
        "Quer continuar? [S/N] s\r\n",
        "------------------------------\r\n",
        "    CADASTRE UMA PESSOA\r\n",
        "------------------------------\r\n",
        "Idade: 25\r\n",
        "Sexo: [M/F] q\r\n",
        "Sexo: [M/F] y\r\n",
        "Sexo: [M/F] f\r\n",
        "------------------------------\r\n",
        "    CADASTRE UMA PESSOA\r\n",
        "------------------------------\r\n",
        "Idade: 8\r\n",
        "Sexo: [M/F] m\r\n",
        "------------------------------\r\n",
        "Quer continuar? [S/N] n\r\n",
        "======= FIM DO PROGRAMA =======\r\n",
        "Total de pessoas com mais de 18 anos: 2\r\n",
        "Ao todo temos 2 homens cadastrados\r\n",
        "E temos 1 mulheres com menos de 20 anos"
      ]
    },
    {
      "cell_type": "code",
      "metadata": {
        "id": "5XJ1zp_4ZOd_",
        "colab": {
          "base_uri": "https://localhost:8080/"
        },
        "outputId": "6f665f7c-66e7-4154-d408-be95c01537c5"
      },
      "source": [
        "tot18 = 0\r\n",
        "tot_person = 0\r\n",
        "tot_mul_20 = 0\r\n",
        "while True:\r\n",
        "  idade = int(input('Idade: '))\r\n",
        "  sexo = ' '\r\n",
        "  while sexo not in 'FM':\r\n",
        "    sexo = str(input('Sexo: [M/F] ')).strip().upper()[0]\r\n",
        "    tot_person += 1\r\n",
        "  if idade >= 18:\r\n",
        "    tot18 += 1\r\n",
        "  if sexo == 'F' and idade < 20:\r\n",
        "    tot_mul_20 += 1\r\n",
        "\r\n",
        "  resp = ' '\r\n",
        "  while resp not in 'SN':\r\n",
        "    resp = str(input('Quer continuar: ')).strip().upper()[0]\r\n",
        "  if resp == 'N':\r\n",
        "    break\r\n",
        "print(f'Foram cadastradas {tot18} pessoas com mais de 18 anos,  {tot_mul_20} mulheres com menos de 20 anos num total de  {tot_person} pessoas.')"
      ],
      "execution_count": 2,
      "outputs": [
        {
          "output_type": "stream",
          "text": [
            "Idade: 33\n",
            "Sexo: [M/F] m\n",
            "Quer continuar: s\n",
            "Idade: 26\n",
            "Sexo: [M/F] m\n",
            "Quer continuar: s\n",
            "Idade: 30\n",
            "Sexo: [M/F] f\n",
            "Quer continuar: 29\n",
            "Quer continuar: s\n",
            "Idade: 19\n",
            "Sexo: [M/F] f\n",
            "Quer continuar: n\n",
            "+18 4, mulheres +20 1 total de pessoas 4\n"
          ],
          "name": "stdout"
        }
      ]
    },
    {
      "cell_type": "code",
      "metadata": {
        "id": "AJfSXtL5rvlQ"
      },
      "source": [
        ""
      ],
      "execution_count": null,
      "outputs": []
    }
  ]
}