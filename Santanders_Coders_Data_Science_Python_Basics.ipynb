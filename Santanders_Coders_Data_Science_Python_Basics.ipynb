{
  "nbformat": 4,
  "nbformat_minor": 0,
  "metadata": {
    "colab": {
      "name": "Santanders Coders - Data Science - Python Basics.ipynb",
      "provenance": [],
      "authorship_tag": "ABX9TyME1W52JDi3my2daDWXj8ch",
      "include_colab_link": true
    },
    "kernelspec": {
      "name": "python3",
      "display_name": "Python 3"
    },
    "language_info": {
      "name": "python"
    }
  },
  "cells": [
    {
      "cell_type": "markdown",
      "metadata": {
        "id": "view-in-github",
        "colab_type": "text"
      },
      "source": [
        "<a href=\"https://colab.research.google.com/github/rodrigowe1988/Python/blob/main/Santanders_Coders_Data_Science_Python_Basics.ipynb\" target=\"_parent\"><img src=\"https://colab.research.google.com/assets/colab-badge.svg\" alt=\"Open In Colab\"/></a>"
      ]
    },
    {
      "cell_type": "markdown",
      "metadata": {
        "id": "b0SBUsXzF-cZ"
      },
      "source": [
        "##Variáveis\n"
      ]
    },
    {
      "cell_type": "code",
      "metadata": {
        "colab": {
          "base_uri": "https://localhost:8080/"
        },
        "id": "IC1X6jh1_gv8",
        "outputId": "52c58d9f-f8b2-4544-8199-eb854d909fb2"
      },
      "source": [
        "#armazenando um valor inteiro dentro de uma variável\n",
        "x = 5\n",
        "x"
      ],
      "execution_count": null,
      "outputs": [
        {
          "output_type": "execute_result",
          "data": {
            "text/plain": [
              "5"
            ]
          },
          "metadata": {
            "tags": []
          },
          "execution_count": 1
        }
      ]
    },
    {
      "cell_type": "code",
      "metadata": {
        "colab": {
          "base_uri": "https://localhost:8080/"
        },
        "id": "rpdpLLG1_uKy",
        "outputId": "16a57b1f-b71a-48d9-ad91-f7b05ea52f01"
      },
      "source": [
        "type(x)"
      ],
      "execution_count": null,
      "outputs": [
        {
          "output_type": "execute_result",
          "data": {
            "text/plain": [
              "int"
            ]
          },
          "metadata": {
            "tags": []
          },
          "execution_count": 2
        }
      ]
    },
    {
      "cell_type": "code",
      "metadata": {
        "colab": {
          "base_uri": "https://localhost:8080/"
        },
        "id": "pODBVi2C_3LH",
        "outputId": "37de18a2-192f-46eb-e158-554f1fb135a7"
      },
      "source": [
        "preco = 19.99\n",
        "print(preco, type(preco))"
      ],
      "execution_count": null,
      "outputs": [
        {
          "output_type": "stream",
          "text": [
            "19.99 <class 'float'>\n"
          ],
          "name": "stdout"
        }
      ]
    },
    {
      "cell_type": "code",
      "metadata": {
        "colab": {
          "base_uri": "https://localhost:8080/"
        },
        "id": "RHHXj2dXADtT",
        "outputId": "0860530a-38a8-4ea3-ea7c-2e95227ea90c"
      },
      "source": [
        "cidade = 'Florianópolis'\n",
        "print(cidade, type(cidade))"
      ],
      "execution_count": null,
      "outputs": [
        {
          "output_type": "stream",
          "text": [
            "Florianópolis <class 'str'>\n"
          ],
          "name": "stdout"
        }
      ]
    },
    {
      "cell_type": "code",
      "metadata": {
        "colab": {
          "base_uri": "https://localhost:8080/"
        },
        "id": "x8-lh1msAL0S",
        "outputId": "bf532903-bfbe-4eea-a574-d3b7a1f98006"
      },
      "source": [
        "#valores booleanos(True ou False)\n",
        "disponivel = False\n",
        "print(disponivel, type(disponivel))"
      ],
      "execution_count": null,
      "outputs": [
        {
          "output_type": "stream",
          "text": [
            "False <class 'bool'>\n"
          ],
          "name": "stdout"
        }
      ]
    },
    {
      "cell_type": "markdown",
      "metadata": {
        "id": "B9qru0jbAjzv"
      },
      "source": [
        "## Operadores Aritméticos"
      ]
    },
    {
      "cell_type": "code",
      "metadata": {
        "colab": {
          "base_uri": "https://localhost:8080/"
        },
        "id": "63VRfQoaAXp_",
        "outputId": "e780f086-8c4e-4481-da23-fa51825f0202"
      },
      "source": [
        "#Podemos fazer operações aritméticas simples\n",
        "a = 2 + 3  # Soma\n",
        "b = 2 - 3  # Subtração\n",
        "c = 2 * 3  # Multiplicação\n",
        "d = 2 / 3  # Divisão\n",
        "e = 2 // 3 # Divisão inteira\n",
        "f = 2 ** 3 # Potência\n",
        "g = 2 % 3  # Resto de divisão\n",
        "\n",
        "print (a, b, c, d, e, f, g)\n"
      ],
      "execution_count": null,
      "outputs": [
        {
          "output_type": "stream",
          "text": [
            "5 -1 6 0.6666666666666666 0 8 2\n"
          ],
          "name": "stdout"
        }
      ]
    },
    {
      "cell_type": "code",
      "metadata": {
        "colab": {
          "base_uri": "https://localhost:8080/"
        },
        "id": "faXSy51wAsFw",
        "outputId": "9ed7b7f1-f4db-44be-8fa6-e31de606ddb9"
      },
      "source": [
        "# Podemos fazer operações dentro do print\n",
        "\n",
        "print (a+1, b+1)\n"
      ],
      "execution_count": null,
      "outputs": [
        {
          "output_type": "stream",
          "text": [
            "6 0\n"
          ],
          "name": "stdout"
        }
      ]
    },
    {
      "cell_type": "code",
      "metadata": {
        "colab": {
          "base_uri": "https://localhost:8080/"
        },
        "id": "JV_s_wWfAtBw",
        "outputId": "479ba673-aca2-4b3b-b1f5-fa8dc8e121b1"
      },
      "source": [
        "#Podemos fazer operações com variáveis não inteiras\n",
        "name = str(input('Digite seu nome: ')).capitalize()\n",
        "last_name = str(input('Digite seu sobrenome: ')).capitalize()\n",
        "full_name = name + ' ' + last_name\n",
        "print(full_name)"
      ],
      "execution_count": null,
      "outputs": [
        {
          "output_type": "stream",
          "text": [
            "Digite seu nome: rodrigo\n",
            "Digite seu sobrenome: weber\n",
            "Rodrigo Weber\n"
          ],
          "name": "stdout"
        }
      ]
    },
    {
      "cell_type": "markdown",
      "metadata": {
        "id": "Mfc2P3EqB6SR"
      },
      "source": [
        "## Operadores relacionais"
      ]
    },
    {
      "cell_type": "code",
      "metadata": {
        "colab": {
          "base_uri": "https://localhost:8080/"
        },
        "id": "J0qAnwQ5AwCp",
        "outputId": "6a5cd588-72f9-4e57-c3e9-8852a531305a"
      },
      "source": [
        "{comparacao1 = 5 > 3\n",
        "print(comparacao1)\n",
        "comparacao2 = 5 < 3\n",
        "print(comparacao2)"
      ],
      "execution_count": null,
      "outputs": [
        {
          "output_type": "stream",
          "text": [
            "True\n",
            "False\n"
          ],
          "name": "stdout"
        }
      ]
    },
    {
      "cell_type": "markdown",
      "metadata": {
        "id": "y9ZJZoHdC1Jp"
      },
      "source": [
        "### O Python possui 6 operadores relacionais:\n",
        "\n",
        "* Maior que: >\n",
        "* Maior ou igual: >=\n",
        "* Menor que: <\n",
        "* Menor ou igual: <=\n",
        "* Igual: ==\n",
        "* Diferente: !="
      ]
    },
    {
      "cell_type": "markdown",
      "metadata": {
        "id": "01ucqsSlDB67"
      },
      "source": [
        "Operadores lógicos\n",
        "Em alguns casos também precisamos testar se duas ou mais condições são verdadeiras. Para isso utilizaremos as conjunções lógicas:\n",
        "\n",
        "* and: verdadeiro se condição 1 for verdadeira e condição 2 for verdadeira\n",
        "* or: verdadeiro se condição 1 for verdadeira ou condição 2 for verdadeira"
      ]
    },
    {
      "cell_type": "code",
      "metadata": {
        "colab": {
          "base_uri": "https://localhost:8080/"
        },
        "id": "tFmVd6WxC2jh",
        "outputId": "b3176100-dcf5-4e8a-a863-d7d0d2913289"
      },
      "source": [
        "comparacao1 = 5 > 3 and 6 > 3\n",
        "comparacao2 = 5 < 3 and 6 > 3\n",
        "print(comparacao1, comparacao2)"
      ],
      "execution_count": null,
      "outputs": [
        {
          "output_type": "stream",
          "text": [
            "True False\n"
          ],
          "name": "stdout"
        }
      ]
    },
    {
      "cell_type": "code",
      "metadata": {
        "colab": {
          "base_uri": "https://localhost:8080/"
        },
        "id": "3WNAXO98DH7f",
        "outputId": "a2c8aae0-cd89-4161-afe0-6ff7a6f6d06f"
      },
      "source": [
        "comparacao1 = 5 > 3 or 6 > 3\n",
        "comparacao2 = 5 < 3 or 6 > 3\n",
        "print(comparacao1, comparacao2)"
      ],
      "execution_count": null,
      "outputs": [
        {
          "output_type": "stream",
          "text": [
            "True True\n"
          ],
          "name": "stdout"
        }
      ]
    },
    {
      "cell_type": "markdown",
      "metadata": {
        "id": "xcATOSLLF6Tp"
      },
      "source": [
        "## Inputs e Outputs\n"
      ]
    },
    {
      "cell_type": "code",
      "metadata": {
        "colab": {
          "base_uri": "https://localhost:8080/"
        },
        "id": "zxz_YYreDOeN",
        "outputId": "99b0e97f-61d2-41f6-a667-a2513f86b93e"
      },
      "source": [
        "salario_base = float(input('Quanto você recebe por mês? '))\n",
        "custos_mensais = float(input('Quanto você gasta mensalmente? '))\n",
        "\n",
        "saldo = (salario_base * 13) - (custos_mensais * 12)\n",
        "\n",
        "if saldo > 0:\n",
        "  print(f\"Seu saldo ficou positivo no ano, um total de R${saldo}.\")\n",
        "else:\n",
        "  print(f'Nesse ano seu saldo terminou negativo, devendo {saldo} reais.')"
      ],
      "execution_count": null,
      "outputs": [
        {
          "output_type": "stream",
          "text": [
            "Quanto você recebe por mês? 2000\n",
            "Quanto você gasta mensalmente? 3000\n",
            "Nesse ano seu saldo terminou negativo, devendo -10000.0 reais.\n"
          ],
          "name": "stdout"
        }
      ]
    },
    {
      "cell_type": "markdown",
      "metadata": {
        "id": "vWK0mx0MLbYL"
      },
      "source": [
        "## Estruturas Condicionais\n"
      ]
    },
    {
      "cell_type": "code",
      "metadata": {
        "colab": {
          "base_uri": "https://localhost:8080/"
        },
        "id": "gIacS1RzJPAH",
        "outputId": "68b74687-27d3-4b18-8ce2-2a447da75cb8"
      },
      "source": [
        "exercicios = int(input('Quantos exercícios de Python vc já fez? '))\n",
        "\n",
        "if exercicios > 30:\n",
        "    print('Já está ficando profissional!')\n",
        "elif exercicios > 20:\n",
        "    print('Tá indo bem, bora fazer mais alguns!')\n",
        "elif exercicios > 10:\n",
        "    print('Vamos tirar o atraso?')\n",
        "else:\n",
        "    print('Xiiii...')"
      ],
      "execution_count": null,
      "outputs": [
        {
          "output_type": "stream",
          "text": [
            "Quantos exercícios de Python vc já fez?100\n",
            "Já está ficando profissional!\n"
          ],
          "name": "stdout"
        }
      ]
    },
    {
      "cell_type": "markdown",
      "metadata": {
        "id": "oDpqJvYzLoUq"
      },
      "source": [
        "## Estruturas de Repetição (While)"
      ]
    },
    {
      "cell_type": "code",
      "metadata": {
        "colab": {
          "base_uri": "https://localhost:8080/"
        },
        "id": "HtfSc_nJLsKg",
        "outputId": "819cb46b-ceea-4f91-fcc2-0962c8d31e74"
      },
      "source": [
        "# Declaramos um contador como 0:\n",
        "contador = 0\n",
        "# Definimos o número de repetições:\n",
        "numero = int(input('Digite um numero: '))\n",
        "# Rodamos o while até o contador se igualar ao número de repetições:\n",
        "while contador < numero:\n",
        "    print(contador)\n",
        "    contador = contador + 1"
      ],
      "execution_count": null,
      "outputs": [
        {
          "output_type": "stream",
          "text": [
            "Digite um numero: 5\n",
            "0\n",
            "1\n",
            "2\n",
            "3\n",
            "4\n"
          ],
          "name": "stdout"
        }
      ]
    },
    {
      "cell_type": "code",
      "metadata": {
        "colab": {
          "base_uri": "https://localhost:8080/"
        },
        "id": "hzu_Wjh3Lwf3",
        "outputId": "6f7076de-fa50-4549-ba73-cb6cafa6dd40"
      },
      "source": [
        "while True:\n",
        "    resposta = input('Digite OK: ').upper()\n",
        "    if resposta == 'OK':\n",
        "        break"
      ],
      "execution_count": null,
      "outputs": [
        {
          "output_type": "stream",
          "text": [
            "Digite OK: 5\n",
            "Digite OK: 3\n",
            "Digite OK: certo\n",
            "Digite OK: ok\n"
          ],
          "name": "stdout"
        }
      ]
    },
    {
      "cell_type": "code",
      "metadata": {
        "colab": {
          "base_uri": "https://localhost:8080/"
        },
        "id": "jbs-65WmMrbT",
        "outputId": "1fbbcefa-01a9-4609-8e9c-cf5f4e2a3628"
      },
      "source": [
        "# o exemplo abaixo só sai do loop quando o usuário digitar \"OK\":\n",
        "resposta = input('Digite OK: ').upper()\n",
        "while resposta != 'OK':\n",
        "    resposta = input('Não foi isso que eu pedi, digite OK: ').upper()\n",
        "  "
      ],
      "execution_count": null,
      "outputs": [
        {
          "output_type": "stream",
          "text": [
            "Digite OK: 32\n",
            "Não foi isso que eu pedi, digite OK: tudo \n",
            "Não foi isso que eu pedi, digite OK: teste\n",
            "Não foi isso que eu pedi, digite OK: ok\n"
          ],
          "name": "stdout"
        }
      ]
    },
    {
      "cell_type": "code",
      "metadata": {
        "id": "rtKhmrqANBLk"
      },
      "source": [
        ""
      ],
      "execution_count": null,
      "outputs": []
    }
  ]
}