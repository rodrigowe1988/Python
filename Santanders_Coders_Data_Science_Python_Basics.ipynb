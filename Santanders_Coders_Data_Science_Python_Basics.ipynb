{
  "nbformat": 4,
  "nbformat_minor": 0,
  "metadata": {
    "colab": {
      "name": "Santanders Coders - Data Science - Python Basics.ipynb",
      "provenance": [],
      "toc_visible": true,
      "authorship_tag": "ABX9TyM3jYgP4MvTxByt5PrASFdY",
      "include_colab_link": true
    },
    "kernelspec": {
      "name": "python3",
      "display_name": "Python 3"
    },
    "language_info": {
      "name": "python"
    }
  },
  "cells": [
    {
      "cell_type": "markdown",
      "metadata": {
        "id": "view-in-github",
        "colab_type": "text"
      },
      "source": [
        "<a href=\"https://colab.research.google.com/github/rodrigowe1988/Python/blob/main/Santanders_Coders_Data_Science_Python_Basics.ipynb\" target=\"_parent\"><img src=\"https://colab.research.google.com/assets/colab-badge.svg\" alt=\"Open In Colab\"/></a>"
      ]
    },
    {
      "cell_type": "markdown",
      "metadata": {
        "id": "b0SBUsXzF-cZ"
      },
      "source": [
        "##Variáveis\n"
      ]
    },
    {
      "cell_type": "code",
      "metadata": {
        "colab": {
          "base_uri": "https://localhost:8080/"
        },
        "id": "IC1X6jh1_gv8",
        "outputId": "52c58d9f-f8b2-4544-8199-eb854d909fb2"
      },
      "source": [
        "#armazenando um valor inteiro dentro de uma variável\n",
        "x = 5\n",
        "x"
      ],
      "execution_count": null,
      "outputs": [
        {
          "output_type": "execute_result",
          "data": {
            "text/plain": [
              "5"
            ]
          },
          "metadata": {
            "tags": []
          },
          "execution_count": 1
        }
      ]
    },
    {
      "cell_type": "code",
      "metadata": {
        "colab": {
          "base_uri": "https://localhost:8080/"
        },
        "id": "rpdpLLG1_uKy",
        "outputId": "16a57b1f-b71a-48d9-ad91-f7b05ea52f01"
      },
      "source": [
        "type(x)"
      ],
      "execution_count": null,
      "outputs": [
        {
          "output_type": "execute_result",
          "data": {
            "text/plain": [
              "int"
            ]
          },
          "metadata": {
            "tags": []
          },
          "execution_count": 2
        }
      ]
    },
    {
      "cell_type": "code",
      "metadata": {
        "colab": {
          "base_uri": "https://localhost:8080/"
        },
        "id": "pODBVi2C_3LH",
        "outputId": "37de18a2-192f-46eb-e158-554f1fb135a7"
      },
      "source": [
        "preco = 19.99\n",
        "print(preco, type(preco))"
      ],
      "execution_count": null,
      "outputs": [
        {
          "output_type": "stream",
          "text": [
            "19.99 <class 'float'>\n"
          ],
          "name": "stdout"
        }
      ]
    },
    {
      "cell_type": "code",
      "metadata": {
        "colab": {
          "base_uri": "https://localhost:8080/"
        },
        "id": "RHHXj2dXADtT",
        "outputId": "0860530a-38a8-4ea3-ea7c-2e95227ea90c"
      },
      "source": [
        "cidade = 'Florianópolis'\n",
        "print(cidade, type(cidade))"
      ],
      "execution_count": null,
      "outputs": [
        {
          "output_type": "stream",
          "text": [
            "Florianópolis <class 'str'>\n"
          ],
          "name": "stdout"
        }
      ]
    },
    {
      "cell_type": "code",
      "metadata": {
        "colab": {
          "base_uri": "https://localhost:8080/"
        },
        "id": "x8-lh1msAL0S",
        "outputId": "bf532903-bfbe-4eea-a574-d3b7a1f98006"
      },
      "source": [
        "#valores booleanos(True ou False)\n",
        "disponivel = False\n",
        "print(disponivel, type(disponivel))"
      ],
      "execution_count": null,
      "outputs": [
        {
          "output_type": "stream",
          "text": [
            "False <class 'bool'>\n"
          ],
          "name": "stdout"
        }
      ]
    },
    {
      "cell_type": "markdown",
      "metadata": {
        "id": "B9qru0jbAjzv"
      },
      "source": [
        "## Operadores Aritméticos"
      ]
    },
    {
      "cell_type": "code",
      "metadata": {
        "colab": {
          "base_uri": "https://localhost:8080/"
        },
        "id": "63VRfQoaAXp_",
        "outputId": "e780f086-8c4e-4481-da23-fa51825f0202"
      },
      "source": [
        "#Podemos fazer operações aritméticas simples\n",
        "a = 2 + 3  # Soma\n",
        "b = 2 - 3  # Subtração\n",
        "c = 2 * 3  # Multiplicação\n",
        "d = 2 / 3  # Divisão\n",
        "e = 2 // 3 # Divisão inteira\n",
        "f = 2 ** 3 # Potência\n",
        "g = 2 % 3  # Resto de divisão\n",
        "\n",
        "print (a, b, c, d, e, f, g)\n"
      ],
      "execution_count": null,
      "outputs": [
        {
          "output_type": "stream",
          "text": [
            "5 -1 6 0.6666666666666666 0 8 2\n"
          ],
          "name": "stdout"
        }
      ]
    },
    {
      "cell_type": "code",
      "metadata": {
        "colab": {
          "base_uri": "https://localhost:8080/"
        },
        "id": "faXSy51wAsFw",
        "outputId": "9ed7b7f1-f4db-44be-8fa6-e31de606ddb9"
      },
      "source": [
        "# Podemos fazer operações dentro do print\n",
        "\n",
        "print (a+1, b+1)\n"
      ],
      "execution_count": null,
      "outputs": [
        {
          "output_type": "stream",
          "text": [
            "6 0\n"
          ],
          "name": "stdout"
        }
      ]
    },
    {
      "cell_type": "code",
      "metadata": {
        "colab": {
          "base_uri": "https://localhost:8080/"
        },
        "id": "JV_s_wWfAtBw",
        "outputId": "479ba673-aca2-4b3b-b1f5-fa8dc8e121b1"
      },
      "source": [
        "#Podemos fazer operações com variáveis não inteiras\n",
        "name = str(input('Digite seu nome: ')).capitalize()\n",
        "last_name = str(input('Digite seu sobrenome: ')).capitalize()\n",
        "full_name = name + ' ' + last_name\n",
        "print(full_name)"
      ],
      "execution_count": null,
      "outputs": [
        {
          "output_type": "stream",
          "text": [
            "Digite seu nome: rodrigo\n",
            "Digite seu sobrenome: weber\n",
            "Rodrigo Weber\n"
          ],
          "name": "stdout"
        }
      ]
    },
    {
      "cell_type": "markdown",
      "metadata": {
        "id": "Mfc2P3EqB6SR"
      },
      "source": [
        "## Operadores relacionais"
      ]
    },
    {
      "cell_type": "code",
      "metadata": {
        "colab": {
          "base_uri": "https://localhost:8080/"
        },
        "id": "J0qAnwQ5AwCp",
        "outputId": "6a5cd588-72f9-4e57-c3e9-8852a531305a"
      },
      "source": [
        "{comparacao1 = 5 > 3\n",
        "print(comparacao1)\n",
        "comparacao2 = 5 < 3\n",
        "print(comparacao2)"
      ],
      "execution_count": null,
      "outputs": [
        {
          "output_type": "stream",
          "text": [
            "True\n",
            "False\n"
          ],
          "name": "stdout"
        }
      ]
    },
    {
      "cell_type": "markdown",
      "metadata": {
        "id": "y9ZJZoHdC1Jp"
      },
      "source": [
        "### O Python possui 6 operadores relacionais:\n",
        "\n",
        "* Maior que: >\n",
        "* Maior ou igual: >=\n",
        "* Menor que: <\n",
        "* Menor ou igual: <=\n",
        "* Igual: ==\n",
        "* Diferente: !="
      ]
    },
    {
      "cell_type": "markdown",
      "metadata": {
        "id": "01ucqsSlDB67"
      },
      "source": [
        "Operadores lógicos\n",
        "Em alguns casos também precisamos testar se duas ou mais condições são verdadeiras. Para isso utilizaremos as conjunções lógicas:\n",
        "\n",
        "* and: verdadeiro se condição 1 for verdadeira e condição 2 for verdadeira\n",
        "* or: verdadeiro se condição 1 for verdadeira ou condição 2 for verdadeira"
      ]
    },
    {
      "cell_type": "code",
      "metadata": {
        "colab": {
          "base_uri": "https://localhost:8080/"
        },
        "id": "tFmVd6WxC2jh",
        "outputId": "b3176100-dcf5-4e8a-a863-d7d0d2913289"
      },
      "source": [
        "comparacao1 = 5 > 3 and 6 > 3\n",
        "comparacao2 = 5 < 3 and 6 > 3\n",
        "print(comparacao1, comparacao2)"
      ],
      "execution_count": null,
      "outputs": [
        {
          "output_type": "stream",
          "text": [
            "True False\n"
          ],
          "name": "stdout"
        }
      ]
    },
    {
      "cell_type": "code",
      "metadata": {
        "colab": {
          "base_uri": "https://localhost:8080/"
        },
        "id": "3WNAXO98DH7f",
        "outputId": "a2c8aae0-cd89-4161-afe0-6ff7a6f6d06f"
      },
      "source": [
        "comparacao1 = 5 > 3 or 6 > 3\n",
        "comparacao2 = 5 < 3 or 6 > 3\n",
        "print(comparacao1, comparacao2)"
      ],
      "execution_count": null,
      "outputs": [
        {
          "output_type": "stream",
          "text": [
            "True True\n"
          ],
          "name": "stdout"
        }
      ]
    },
    {
      "cell_type": "markdown",
      "metadata": {
        "id": "xcATOSLLF6Tp"
      },
      "source": [
        "## Inputs e Outputs\n"
      ]
    },
    {
      "cell_type": "code",
      "metadata": {
        "colab": {
          "base_uri": "https://localhost:8080/"
        },
        "id": "zxz_YYreDOeN",
        "outputId": "99b0e97f-61d2-41f6-a667-a2513f86b93e"
      },
      "source": [
        "salario_base = float(input('Quanto você recebe por mês? '))\n",
        "custos_mensais = float(input('Quanto você gasta mensalmente? '))\n",
        "\n",
        "saldo = (salario_base * 13) - (custos_mensais * 12)\n",
        "\n",
        "if saldo > 0:\n",
        "  print(f\"Seu saldo ficou positivo no ano, um total de R${saldo}.\")\n",
        "else:\n",
        "  print(f'Nesse ano seu saldo terminou negativo, devendo {saldo} reais.')"
      ],
      "execution_count": null,
      "outputs": [
        {
          "output_type": "stream",
          "text": [
            "Quanto você recebe por mês? 2000\n",
            "Quanto você gasta mensalmente? 3000\n",
            "Nesse ano seu saldo terminou negativo, devendo -10000.0 reais.\n"
          ],
          "name": "stdout"
        }
      ]
    },
    {
      "cell_type": "markdown",
      "metadata": {
        "id": "vWK0mx0MLbYL"
      },
      "source": [
        "## Estruturas Condicionais\n"
      ]
    },
    {
      "cell_type": "code",
      "metadata": {
        "colab": {
          "base_uri": "https://localhost:8080/"
        },
        "id": "gIacS1RzJPAH",
        "outputId": "68b74687-27d3-4b18-8ce2-2a447da75cb8"
      },
      "source": [
        "exercicios = int(input('Quantos exercícios de Python vc já fez? '))\n",
        "\n",
        "if exercicios > 30:\n",
        "    print('Já está ficando profissional!')\n",
        "elif exercicios > 20:\n",
        "    print('Tá indo bem, bora fazer mais alguns!')\n",
        "elif exercicios > 10:\n",
        "    print('Vamos tirar o atraso?')\n",
        "else:\n",
        "    print('Xiiii...')"
      ],
      "execution_count": null,
      "outputs": [
        {
          "output_type": "stream",
          "text": [
            "Quantos exercícios de Python vc já fez?100\n",
            "Já está ficando profissional!\n"
          ],
          "name": "stdout"
        }
      ]
    },
    {
      "cell_type": "markdown",
      "metadata": {
        "id": "oDpqJvYzLoUq"
      },
      "source": [
        "## Estruturas de Repetição (While)"
      ]
    },
    {
      "cell_type": "code",
      "metadata": {
        "colab": {
          "base_uri": "https://localhost:8080/"
        },
        "id": "HtfSc_nJLsKg",
        "outputId": "819cb46b-ceea-4f91-fcc2-0962c8d31e74"
      },
      "source": [
        "# Declaramos um contador como 0:\n",
        "contador = 0\n",
        "# Definimos o número de repetições:\n",
        "numero = int(input('Digite um numero: '))\n",
        "# Rodamos o while até o contador se igualar ao número de repetições:\n",
        "while contador < numero:\n",
        "    print(contador)\n",
        "    contador = contador + 1"
      ],
      "execution_count": null,
      "outputs": [
        {
          "output_type": "stream",
          "text": [
            "Digite um numero: 5\n",
            "0\n",
            "1\n",
            "2\n",
            "3\n",
            "4\n"
          ],
          "name": "stdout"
        }
      ]
    },
    {
      "cell_type": "code",
      "metadata": {
        "colab": {
          "base_uri": "https://localhost:8080/"
        },
        "id": "hzu_Wjh3Lwf3",
        "outputId": "6f7076de-fa50-4549-ba73-cb6cafa6dd40"
      },
      "source": [
        "while True:\n",
        "    resposta = input('Digite OK: ').upper()\n",
        "    if resposta == 'OK':\n",
        "        break"
      ],
      "execution_count": null,
      "outputs": [
        {
          "output_type": "stream",
          "text": [
            "Digite OK: 5\n",
            "Digite OK: 3\n",
            "Digite OK: certo\n",
            "Digite OK: ok\n"
          ],
          "name": "stdout"
        }
      ]
    },
    {
      "cell_type": "code",
      "metadata": {
        "colab": {
          "base_uri": "https://localhost:8080/"
        },
        "id": "jbs-65WmMrbT",
        "outputId": "1fbbcefa-01a9-4609-8e9c-cf5f4e2a3628"
      },
      "source": [
        "# o exemplo abaixo só sai do loop quando o usuário digitar \"OK\":\n",
        "resposta = input('Digite OK: ').upper()\n",
        "while resposta != 'OK':\n",
        "    resposta = input('Não foi isso que eu pedi, digite OK: ').upper()\n",
        "  "
      ],
      "execution_count": null,
      "outputs": [
        {
          "output_type": "stream",
          "text": [
            "Digite OK: 32\n",
            "Não foi isso que eu pedi, digite OK: tudo \n",
            "Não foi isso que eu pedi, digite OK: teste\n",
            "Não foi isso que eu pedi, digite OK: ok\n"
          ],
          "name": "stdout"
        }
      ]
    },
    {
      "cell_type": "markdown",
      "metadata": {
        "id": "Toh5Jl0rdPv3"
      },
      "source": [
        "## Listas e Tuplas"
      ]
    },
    {
      "cell_type": "markdown",
      "metadata": {
        "id": "etdqGqT8i8Ef"
      },
      "source": [
        "### Listas"
      ]
    },
    {
      "cell_type": "code",
      "metadata": {
        "id": "rtKhmrqANBLk",
        "colab": {
          "base_uri": "https://localhost:8080/"
        },
        "outputId": "ff98c32b-6d2c-494e-b68e-2c376a6b2eaa"
      },
      "source": [
        "nomes_paises = ['Brasil', 'Argentina', 'China', 'Canadá', 'Japão']\n",
        "print(f'Lista de países:{nomes_paises} e o comprimento da lista: {len(nomes_paises)}.')"
      ],
      "execution_count": null,
      "outputs": [
        {
          "output_type": "stream",
          "text": [
            "Lista de países:['Brasil', 'Argentina', 'China', 'Canadá', 'Japão'] e o comprimento da lista: 5.\n"
          ],
          "name": "stdout"
        }
      ]
    },
    {
      "cell_type": "code",
      "metadata": {
        "colab": {
          "base_uri": "https://localhost:8080/"
        },
        "id": "DI3S1443eEf1",
        "outputId": "ba7e2a68-47f4-4cff-e592-c5d1bf2ede7a"
      },
      "source": [
        "#primeiro elemento da lista\n",
        "print(nomes_paises[0])\n",
        "\n",
        "#último elemento da lista\n",
        "print(nomes_paises[-1])\n",
        "\n",
        "#alterar o último elemento da lista\n",
        "nomes_paises[-1] = 'Colômbia'\n",
        "print(nomes_paises)"
      ],
      "execution_count": null,
      "outputs": [
        {
          "output_type": "stream",
          "text": [
            "Brasil\n",
            "Japão\n",
            "['Brasil', 'Argentina', 'China', 'Canadá', 'Colômbia']\n"
          ],
          "name": "stdout"
        }
      ]
    },
    {
      "cell_type": "markdown",
      "metadata": {
        "id": "ul23bZvIfKSU"
      },
      "source": [
        "### Slice (fatiamento)\n"
      ]
    },
    {
      "cell_type": "code",
      "metadata": {
        "colab": {
          "base_uri": "https://localhost:8080/"
        },
        "id": "LTAYDv5IebPJ",
        "outputId": "66942ed2-5ee1-405e-b9e5-b955593a8a4e"
      },
      "source": [
        "print(nomes_paises[1:3])\n",
        "print(nomes_paises[1:-1])"
      ],
      "execution_count": null,
      "outputs": [
        {
          "output_type": "stream",
          "text": [
            "['Argentina', 'China']\n",
            "['Argentina', 'China', 'Canadá']\n"
          ],
          "name": "stdout"
        }
      ]
    },
    {
      "cell_type": "code",
      "metadata": {
        "colab": {
          "base_uri": "https://localhost:8080/"
        },
        "id": "RGMFj6UTfS1q",
        "outputId": "5a870e00-6588-47a4-db47-943fccd038d3"
      },
      "source": [
        "#imprimir na tela do índice 2 até o final da lista\n",
        "print(nomes_paises[2:])\n",
        "\n",
        "#imprimir na tela do primeiro elemento até o índice 3\n",
        "print(nomes_paises[:3])"
      ],
      "execution_count": null,
      "outputs": [
        {
          "output_type": "stream",
          "text": [
            "['China', 'Canadá', 'Colômbia']\n",
            "['Brasil', 'Argentina', 'China']\n"
          ],
          "name": "stdout"
        }
      ]
    },
    {
      "cell_type": "code",
      "metadata": {
        "colab": {
          "base_uri": "https://localhost:8080/"
        },
        "id": "iWyLL_5FfoJv",
        "outputId": "d59c039d-9432-4191-d5ca-a2dd8bcddbe2"
      },
      "source": [
        "#imprimir os elementos por steps\n",
        "print(nomes_paises[::2])\n",
        "\n",
        "#de trás para frente\n",
        "print(nomes_paises[::-1])"
      ],
      "execution_count": null,
      "outputs": [
        {
          "output_type": "stream",
          "text": [
            "['Brasil', 'China', 'Colômbia']\n",
            "['Colômbia', 'Canadá', 'China', 'Argentina', 'Brasil']\n"
          ],
          "name": "stdout"
        }
      ]
    },
    {
      "cell_type": "code",
      "metadata": {
        "colab": {
          "base_uri": "https://localhost:8080/"
        },
        "id": "KqHrfXDPgXRY",
        "outputId": "e525d692-de89-4fbe-97e1-99c578eefc25"
      },
      "source": [
        "#buscando um ocorrência dentro de uma lista\n",
        "print('Brasil' in nomes_paises)\n",
        "\n",
        "print('China' not in nomes_paises)"
      ],
      "execution_count": null,
      "outputs": [
        {
          "output_type": "stream",
          "text": [
            "True\n",
            "False\n"
          ],
          "name": "stdout"
        }
      ]
    },
    {
      "cell_type": "code",
      "metadata": {
        "colab": {
          "base_uri": "https://localhost:8080/"
        },
        "id": "flRyI0bagulr",
        "outputId": "9531b986-a40d-4bab-a14c-acfe8292608b"
      },
      "source": [
        "lista_capitais = []\n",
        "lista_capitais.append('Porto Alegre')\n",
        "lista_capitais.append('Florianópolis')\n",
        "lista_capitais.append('Washington')\n",
        "lista_capitais.append('Lisboa')\n",
        "lista_capitais.append('Buenos Aires')\n",
        "\n",
        "print(lista_capitais)"
      ],
      "execution_count": null,
      "outputs": [
        {
          "output_type": "stream",
          "text": [
            "['Porto Alegre', 'Florianópolis', 'Washington', 'Lisboa', 'Buenos Aires']\n"
          ],
          "name": "stdout"
        }
      ]
    },
    {
      "cell_type": "code",
      "metadata": {
        "colab": {
          "base_uri": "https://localhost:8080/"
        },
        "id": "RXgZp5t5he8s",
        "outputId": "8ddf8d68-ff36-4279-f516-77e41c52565a"
      },
      "source": [
        "#para inserir num índice específico da sua lista use o método insert\n",
        "lista_capitais.insert(2, 'Paris')\n",
        "print(lista_capitais)"
      ],
      "execution_count": null,
      "outputs": [
        {
          "output_type": "stream",
          "text": [
            "['Porto Alegre', 'Florianópolis', 'Paris', 'Washington', 'Lisboa', 'Buenos Aires']\n"
          ],
          "name": "stdout"
        }
      ]
    },
    {
      "cell_type": "code",
      "metadata": {
        "colab": {
          "base_uri": "https://localhost:8080/"
        },
        "id": "89FhvpTghxsN",
        "outputId": "d233dce1-8b13-4f07-8cf0-fa195c9d2b3a"
      },
      "source": [
        "#remover elemento da lista pelo nome\n",
        "lista_capitais.remove('Buenos Aires')\n",
        "print(lista_capitais)"
      ],
      "execution_count": null,
      "outputs": [
        {
          "output_type": "stream",
          "text": [
            "['Porto Alegre', 'Florianópolis', 'Paris', 'Washington', 'Lisboa']\n"
          ],
          "name": "stdout"
        }
      ]
    },
    {
      "cell_type": "code",
      "metadata": {
        "colab": {
          "base_uri": "https://localhost:8080/"
        },
        "id": "1akABiawh9_p",
        "outputId": "61033951-e4b1-4637-d471-729cf27f07ff"
      },
      "source": [
        "removido = lista_capitais.pop(2)\n",
        "print(removido)"
      ],
      "execution_count": null,
      "outputs": [
        {
          "output_type": "stream",
          "text": [
            "Paris\n"
          ],
          "name": "stdout"
        }
      ]
    },
    {
      "cell_type": "code",
      "metadata": {
        "colab": {
          "base_uri": "https://localhost:8080/"
        },
        "id": "JyDTwAvOihu-",
        "outputId": "d6b58f1d-7b35-4cc8-bb03-f5998ee75e5d"
      },
      "source": [
        "print(f'A capital da França é {removido}.')"
      ],
      "execution_count": null,
      "outputs": [
        {
          "output_type": "stream",
          "text": [
            "A capital da França é Paris.\n"
          ],
          "name": "stdout"
        }
      ]
    },
    {
      "cell_type": "code",
      "metadata": {
        "colab": {
          "base_uri": "https://localhost:8080/"
        },
        "id": "ZRHRLImjlS8p",
        "outputId": "abf2ee1f-ded2-46f5-d8d0-1fb0e0ea971b"
      },
      "source": [
        "#percorrendo a lista e extraindo o maior e o menor valor\n",
        "digitos = [3, 1, 4, 1, 5, 9, 2, 6, 5]\n",
        "maior = max(digitos)\n",
        "menor = min(digitos)\n",
        "print(digitos)\n",
        "print(\"Maior = \", maior, \"e menor = \", menor)"
      ],
      "execution_count": null,
      "outputs": [
        {
          "output_type": "stream",
          "text": [
            "[3, 1, 4, 1, 5, 9, 2, 6, 5]\n",
            "Maior =  9 e menor =  1\n"
          ],
          "name": "stdout"
        }
      ]
    },
    {
      "cell_type": "code",
      "metadata": {
        "colab": {
          "base_uri": "https://localhost:8080/"
        },
        "id": "dbL86liCltov",
        "outputId": "5cb13a24-38b4-4508-89d7-1d2551d300f1"
      },
      "source": [
        "#adicionando elementos à lista através do append\n",
        "animais = []\n",
        "resposta = 's'\n",
        "while resposta in 'Ss':\n",
        "    resposta = input('Deseja adicionar um animal à lista (s/n)? ')\n",
        "    if (resposta in 'Ss'):\n",
        "        animal = input('Digite o nome do animal: ')\n",
        "        animais.append(animal) # adiciona o novo animal à lista\n",
        "print(animais)"
      ],
      "execution_count": null,
      "outputs": [
        {
          "output_type": "stream",
          "text": [
            "Deseja adicionar um animal à lista (s/n)? s\n",
            "Digite o nome do animal: Bufalo\n",
            "Deseja adicionar um animal à lista (s/n)? S\n",
            "Digite o nome do animal: zebra\n",
            "Deseja adicionar um animal à lista (s/n)? s\n",
            "Digite o nome do animal: urso\n",
            "Deseja adicionar um animal à lista (s/n)? n\n",
            "['Bufalo', 'zebra', 'urso']\n"
          ],
          "name": "stdout"
        }
      ]
    },
    {
      "cell_type": "code",
      "metadata": {
        "colab": {
          "base_uri": "https://localhost:8080/"
        },
        "id": "uj9pk7v5mOyZ",
        "outputId": "53d99fb7-06e9-4309-b949-707cf2f68b69"
      },
      "source": [
        "#usando o método count para contar o número de vezes que cada palavra \n",
        "#aparece na lista\n",
        "jogadores = ['Ronaldo', 'Rivaldo', 'Ronaldo', 'Adriano']\n",
        "ronaldos = jogadores.count('Ronaldo')\n",
        "print(jogadores)\n",
        "print('Quantidade de Ronaldos: ', ronaldos)"
      ],
      "execution_count": null,
      "outputs": [
        {
          "output_type": "stream",
          "text": [
            "['Ronaldo', 'Rivaldo', 'Ronaldo', 'Adriano']\n",
            "Quantidade de Ronaldos:  2\n"
          ],
          "name": "stdout"
        }
      ]
    },
    {
      "cell_type": "code",
      "metadata": {
        "colab": {
          "base_uri": "https://localhost:8080/"
        },
        "id": "qIy0LEOamb0P",
        "outputId": "f72f8a24-39e4-4e35-d554-f433735ab6ab"
      },
      "source": [
        "#descobrindo o índice que no qual o elemento está inserido\n",
        "rivaldo = jogadores.index('Rivaldo')\n",
        "print(\"Rivaldo está na posição \", rivaldo) "
      ],
      "execution_count": null,
      "outputs": [
        {
          "output_type": "stream",
          "text": [
            "Rivaldo está na posição  1\n"
          ],
          "name": "stdout"
        }
      ]
    },
    {
      "cell_type": "code",
      "metadata": {
        "colab": {
          "base_uri": "https://localhost:8080/"
        },
        "id": "QabO5Ck0mojJ",
        "outputId": "ce2c2c24-c563-4463-e2c3-9fec513d2f59"
      },
      "source": [
        "#imprimir em ordem alfabética\n",
        "jogadores.sort()\n",
        "print(\"jogadores em ordem alfabética: \", jogadores)\n",
        "\n",
        "#imprimir 'de trás para frente'\n",
        "jogadores.sort(reverse=True)\n",
        "print('Lista de jogadores \"de trás para frente\"', jogadores)"
      ],
      "execution_count": null,
      "outputs": [
        {
          "output_type": "stream",
          "text": [
            "jogadores em ordem alfabética:  ['Adriano', 'Rivaldo', 'Ronaldo', 'Ronaldo']\n",
            "Lista de jogadores \"de trás para frente\" ['Ronaldo', 'Ronaldo', 'Rivaldo', 'Adriano']\n"
          ],
          "name": "stdout"
        }
      ]
    },
    {
      "cell_type": "markdown",
      "metadata": {
        "id": "3Ns2eZ5Fi-2O"
      },
      "source": [
        "### Tuplas"
      ]
    },
    {
      "cell_type": "markdown",
      "metadata": {
        "id": "etH6fCAunbhO"
      },
      "source": [
        " Uma tupla é uma coleção de objetos que lembra muito as listas.\n",
        "\n",
        "* Ao invés de colchetes, usamos parênteses para declarar as tuplas:\n",
        "  * numeros = (1,2,3,5,7,11)\n",
        "\n",
        "* Podemos declarar sem parênteses também:\n",
        "  * numeros = 1,2,3,5,7,11\n",
        "\n",
        "* Para acessar um valor, utilizamos a mesma sintaxe das listas:\n",
        "  * print(numeros[4])\n",
        "  * print(type(numeros))\n",
        "\n",
        "Porém, tuplas são imutáveis: não é possível adicionar ou modificar valores.\n",
        "\n",
        "* numeros[4] = 8\n",
        "\n",
        "* Podemos gerar uma tupla a partir de uma lista...\n",
        "  * lista1 = [3, 1, 4, 1, 5, 9, 2, 6, 5]\n",
        "  * tupla1 = tuple(lista1)\n",
        "  * print(tupla1)\n",
        "\n",
        "* ...ou uma lista a partir de uma tupla:\n",
        "  * tupla2 = [1, 6, 1, 8]\n",
        "  * lista2 = list(tupla2)\n",
        "  * print(lista2)\n",
        "\n",
        "* Também pode-se usar o unpacking com uma tupla:\n",
        "  * a, b, c, d, e, f = numeros # \"desempacota\" a tupla numeros\n",
        "  * print(\"O primeiro vale:\", a, \"e o ultimo vale:\", f)\n"
      ]
    },
    {
      "cell_type": "code",
      "metadata": {
        "colab": {
          "base_uri": "https://localhost:8080/"
        },
        "id": "AdycckaSiog6",
        "outputId": "c57eb0ea-f8a7-477a-f8a4-446102e6af66"
      },
      "source": [
        "nomes_paises_tupla = ('Brasil', 'Argentina', 'China', 'Canadá', 'Japão')\n",
        "type(nomes_paises_tupla)\n",
        "print(nomes_paises_tupla[1][2])"
      ],
      "execution_count": null,
      "outputs": [
        {
          "output_type": "stream",
          "text": [
            "g\n"
          ],
          "name": "stdout"
        }
      ]
    },
    {
      "cell_type": "code",
      "metadata": {
        "colab": {
          "base_uri": "https://localhost:8080/"
        },
        "id": "gcZyu8KYjMLb",
        "outputId": "28c3add2-2812-4ff7-9a26-92123adb06c5"
      },
      "source": [
        "#outra forma de criar uma tupla\n",
        "nome_estado = 'São Paulo', 'Rio de Janeiro', 'Santa Catarina'\n",
        "print(nome_estado, type(nome_estado))\n",
        "\n",
        "#terceira forma\n",
        "nome_cidade = 'Florianópolis',\n",
        "print(type(nome_cidade))"
      ],
      "execution_count": null,
      "outputs": [
        {
          "output_type": "stream",
          "text": [
            "('São Paulo', 'Rio de Janeiro', 'Santa Catarina') <class 'tuple'>\n",
            "<class 'tuple'>\n"
          ],
          "name": "stdout"
        }
      ]
    },
    {
      "cell_type": "code",
      "metadata": {
        "colab": {
          "base_uri": "https://localhost:8080/"
        },
        "id": "BkfHOwHujfNr",
        "outputId": "31d28c6c-831a-415d-8207-4d134d23aabc"
      },
      "source": [
        "#atribuindo variáveis a cada um dos elementos das tuplas\n",
        "b, a, ch, ca, j = nomes_paises_tupla\n",
        "print(b, ch)\n",
        "#imprimir separadamente cada um dos elementos presentes na tupla\n",
        "print(*nomes_paises_tupla)\n",
        "#imprimir a tupla inteira\n",
        "print(nomes_paises_tupla)"
      ],
      "execution_count": null,
      "outputs": [
        {
          "output_type": "stream",
          "text": [
            "Brasil China\n",
            "Brasil Argentina China Canadá Japão\n",
            "('Brasil', 'Argentina', 'China', 'Canadá', 'Japão')\n"
          ],
          "name": "stdout"
        }
      ]
    },
    {
      "cell_type": "markdown",
      "metadata": {
        "id": "DCLkVUG0pSNb"
      },
      "source": [
        "## Strings I\n"
      ]
    },
    {
      "cell_type": "code",
      "metadata": {
        "colab": {
          "base_uri": "https://localhost:8080/"
        },
        "id": "JzgEKw7VkYnG",
        "outputId": "795546cd-284e-42e1-8dc1-a77165147c35"
      },
      "source": [
        "# Suponhamos que temos a seguinte string:\n",
        "\n",
        "frase = 'uma FRASE'\n",
        "\n",
        "# Podemos acessar individualmente cada caractere em uma frase.\n",
        "# A ideia é a mesma de acessar uma lista:\n",
        "print(frase[0])\n",
        "print(frase[1])\n",
        "print(frase[2])\n",
        "\n",
        "tamanho = len(frase)\n",
        "print(\"A frase possui\", tamanho, \"caracteres\")"
      ],
      "execution_count": null,
      "outputs": [
        {
          "output_type": "stream",
          "text": [
            "u\n",
            "m\n",
            "a\n",
            "A frase possui 9 caracteres\n"
          ],
          "name": "stdout"
        }
      ]
    },
    {
      "cell_type": "code",
      "metadata": {
        "colab": {
          "base_uri": "https://localhost:8080/"
        },
        "id": "0MeS3r-bpzCD",
        "outputId": "02ab09e4-eba9-451c-d97b-6c640789dad8"
      },
      "source": [
        "# Porém, strings são imutáveis: não podemos alterar caracteres individuais\n",
        "# A linha abaixo, se for descomentada, dará erro no programa:\n",
        "# frase[4] = 'C'\n",
        "\n",
        "# Podemos converter strings para listas:\n",
        "listafrase = list(frase)\n",
        "print(listafrase)\n",
        "\n",
        "# A função join() intercala cada elemento de uma lista com uma string.\n",
        "stringfinal = '-py'.join(listafrase)\n",
        "print(stringfinal)\n",
        "\n",
        "# Usar um join() com uma string vazia é útil para transformar a lista de volta\n",
        "# em string:\n",
        "stringfinal = ''.join(listafrase)\n",
        "print(stringfinal)\n"
      ],
      "execution_count": null,
      "outputs": [
        {
          "output_type": "stream",
          "text": [
            "['u', 'm', 'a', ' ', 'F', 'R', 'A', 'S', 'E']\n",
            "u-pym-pya-py -pyF-pyR-pyA-pyS-pyE\n",
            "uma FRASE\n"
          ],
          "name": "stdout"
        }
      ]
    },
    {
      "cell_type": "code",
      "metadata": {
        "colab": {
          "base_uri": "https://localhost:8080/"
        },
        "id": "gfX4Ao7ep_7y",
        "outputId": "cbf0856a-1361-4dc3-8e0a-8bd31d28b0fc"
      },
      "source": [
        "\n",
        "# Existem algumas funções interessantes que retornam a string \"tratada\":\n",
        "s1 = frase.capitalize() # 1ª letra maiúscula, restante minúscula\n",
        "s2 = frase.title() # todo início de palavra em maiúscula, resto minúscula\n",
        "s3 = frase.upper() # string inteira em maiúscula\n",
        "s4 = frase.lower() # string inteira em minúscula\n",
        "s5 = frase.replace('F', 'C') # substitui a primeira substring pela segunda\n",
        "\n",
        "print(s1)\n",
        "print(s2)\n",
        "print(s3)\n",
        "print(s4)\n",
        "print(s5)\n",
        "# Note que NENHUMA delas ALTERA a string original, elas sempre retornam\n",
        "# a string nova.\n",
        "print('String original:', frase)"
      ],
      "execution_count": null,
      "outputs": [
        {
          "output_type": "stream",
          "text": [
            "Uma frase\n",
            "Uma Frase\n",
            "UMA FRASE\n",
            "uma frase\n",
            "uma CRASE\n",
            "String original: uma FRASE\n"
          ],
          "name": "stdout"
        }
      ]
    },
    {
      "cell_type": "code",
      "metadata": {
        "colab": {
          "base_uri": "https://localhost:8080/"
        },
        "id": "Hs_d-qFmqAZs",
        "outputId": "fd9009cc-b2e1-480e-8a1a-1313ee9dc7c0"
      },
      "source": [
        "\n",
        "# Outra possibilidade com strings é quebrar a string em uma lista de substrings\n",
        "# Sempre que o caractere especificado é encontrado, a string é quebrada\n",
        "quebra1 = frase.split(' ') # quebra a frase no caractere espaço em branco\n",
        "quebra2 = s3.split('A') # quebra a frase em maiúsculas no caractere 'A'\n",
        "\n",
        "print(quebra1)\n",
        "print(quebra2)\n",
        "\n",
        "# Podemos inserir quebras de linha com '\\n'\n",
        "frase = 'uma\\nFRASE'\n",
        "print(frase)\n",
        "# Podemos inserir tabulação com '\\t'\n",
        "frase = 'uma\\n\\tFRASE'\n",
        "print(frase)\n",
        "# Para conseguir representar a barra '\\', precisamos de 2 barras:\n",
        "frase = 'uma\\\\FRASE'"
      ],
      "execution_count": null,
      "outputs": [
        {
          "output_type": "stream",
          "text": [
            "['uma', 'FRASE']\n",
            "['UM', ' FR', 'SE']\n",
            "uma\n",
            "FRASE\n",
            "uma\n",
            "\tFRASE\n"
          ],
          "name": "stdout"
        }
      ]
    },
    {
      "cell_type": "code",
      "metadata": {
        "colab": {
          "base_uri": "https://localhost:8080/"
        },
        "id": "5c5Yf5lrtr-L",
        "outputId": "3f30c367-c25b-4bf9-8ce4-ee58b2310d3e"
      },
      "source": [
        "#Trabalhando com aspas dentro da String\n",
        "frase = 'O professor Pietro da Let\\s Code disse: \"Hoje a pizza é por minha conta!\".'\n",
        "print(frase)"
      ],
      "execution_count": null,
      "outputs": [
        {
          "output_type": "stream",
          "text": [
            "O professor Pietro da Let\\s Code disse: \"Hoje a pizza é por minha conta!\".\n"
          ],
          "name": "stdout"
        }
      ]
    },
    {
      "cell_type": "code",
      "metadata": {
        "colab": {
          "base_uri": "https://localhost:8080/"
        },
        "id": "t9HxjY7st_B0",
        "outputId": "0fa463c8-1011-45ef-8753-5acf15f569a4"
      },
      "source": [
        "empresa = 'Google'\n",
        "print(empresa[0])\n",
        "print(empresa[:3])\n",
        "#imprima Google de trás para frente\n",
        "print(empresa[::-1])"
      ],
      "execution_count": null,
      "outputs": [
        {
          "output_type": "stream",
          "text": [
            "G\n",
            "Goo\n",
            "elgooG\n"
          ],
          "name": "stdout"
        }
      ]
    },
    {
      "cell_type": "code",
      "metadata": {
        "colab": {
          "base_uri": "https://localhost:8080/"
        },
        "id": "0kOAIW5NuOJ2",
        "outputId": "17ef5431-1be1-45ed-88ac-fe917d4f1cee"
      },
      "source": [
        "#Transformando os elementos de uma string em lista através de um separador específico\n",
        "nomes_cidades = \"São Paulo, Belo Horizonte, Rio de Janeiro, Florianópolis\"\n",
        "print(nomes_cidades, type(nomes_cidades))\n",
        "\n",
        "nomes_cidades_lista = nomes_cidades.split(', ')\n",
        "print(nomes_cidades_lista, type(nomes_cidades_lista))"
      ],
      "execution_count": null,
      "outputs": [
        {
          "output_type": "stream",
          "text": [
            "São Paulo, Belo Horizonte, Rio de Janeiro, Florianópolis <class 'str'>\n",
            "['São Paulo', 'Belo Horizonte', 'Rio de Janeiro', 'Florianópolis'] <class 'list'>\n"
          ],
          "name": "stdout"
        }
      ]
    },
    {
      "cell_type": "code",
      "metadata": {
        "colab": {
          "base_uri": "https://localhost:8080/"
        },
        "id": "nKdPvTsSvnwi",
        "outputId": "e87763b2-e291-49ac-9066-73080db27ddd"
      },
      "source": [
        "#método strip para remover espaços\n",
        "cabecalho = '           Menu Principal'\n",
        "print(cabecalho.strip())"
      ],
      "execution_count": null,
      "outputs": [
        {
          "output_type": "stream",
          "text": [
            "Menu Principal\n"
          ],
          "name": "stdout"
        }
      ]
    },
    {
      "cell_type": "code",
      "metadata": {
        "colab": {
          "base_uri": "https://localhost:8080/"
        },
        "id": "YKsY00LVxvYs",
        "outputId": "aaf27902-1299-4beb-d116-07c43a1aa060"
      },
      "source": [
        "nome_de_cidade = \"fLoriAnópoLIS - ilHA Da MaGiA\"\n",
        "\n",
        "print(nome_de_cidade.upper())\n",
        "print(nome_de_cidade.lower())\n",
        "print(nome_de_cidade.capitalize())\n",
        "print(nome_de_cidade.title())"
      ],
      "execution_count": null,
      "outputs": [
        {
          "output_type": "stream",
          "text": [
            "FLORIANÓPOLIS - ILHA DA MAGIA\n",
            "florianópolis - ilha da magia\n",
            "Florianópolis - ilha da magia\n",
            "Florianópolis - Ilha Da Magia\n"
          ],
          "name": "stdout"
        }
      ]
    },
    {
      "cell_type": "code",
      "metadata": {
        "colab": {
          "base_uri": "https://localhost:8080/"
        },
        "id": "H0Pu4jcPydpi",
        "outputId": "3b07d323-aaa4-4037-fe92-0986ecbbf9bb"
      },
      "source": [
        "#quiz para treinar o estudo das Strings\n",
        "nome_da_cidade = str(input(\"Qual cidade brasileira é conhecida com Ilha da Magia? \")).lower()\n",
        "while nome_da_cidade != 'florianopolis':\n",
        "  print('Não é essa. Tente mais uma vez: ')\n",
        "  nome_da_cidade = str(input('De novo: qual cidade brasileira recebe o apelido de Ilha da Magia? ')).lower()\n",
        "print(\"Nice, my friend. Florianópolis é a resposta.\")"
      ],
      "execution_count": null,
      "outputs": [
        {
          "output_type": "stream",
          "text": [
            "Qual cidade brasileira é conhecida com Ilha da Magia? brasilia\n",
            "Não é essa. Tente mais uma vez: \n",
            "De novo: qual cidade brasileira recebe o apelido de Ilha da Magia? bahia\n",
            "Não é essa. Tente mais uma vez: \n",
            "De novo: qual cidade brasileira recebe o apelido de Ilha da Magia? florianopolis\n",
            "Nice, my friend. Florianópolis é a resposta.\n"
          ],
          "name": "stdout"
        }
      ]
    },
    {
      "cell_type": "code",
      "metadata": {
        "colab": {
          "base_uri": "https://localhost:8080/"
        },
        "id": "b8zaLVy60iRE",
        "outputId": "0ca75ddd-0483-44e7-fb57-4763f2d32f57"
      },
      "source": [
        "mensagem = 'Você viu o que o Pietro disse na sala ontem?'\n",
        "print('Pietro' in mensagem)\n",
        "print('Felipe' in mensagem)"
      ],
      "execution_count": null,
      "outputs": [
        {
          "output_type": "stream",
          "text": [
            "True\n",
            "False\n"
          ],
          "name": "stdout"
        }
      ]
    },
    {
      "cell_type": "markdown",
      "metadata": {
        "id": "_WDSFMdrHYBl"
      },
      "source": [
        "## Strings II"
      ]
    },
    {
      "cell_type": "code",
      "metadata": {
        "colab": {
          "base_uri": "https://localhost:8080/"
        },
        "id": "xt0dq8uG4wxb",
        "outputId": "81841223-8caa-420f-b762-7e442786ea20"
      },
      "source": [
        "cumprimento = 'Olá, '\n",
        "nome = str(input('Qual é o seu nome? ')).capitalize()\n",
        "idade = int(input('Quantos anos você tem? '))\n",
        "print(cumprimento + nome)\n",
        "print(nome * 3)\n",
        "print(nome + ' tem ' + str(idade) + ' anos.')"
      ],
      "execution_count": null,
      "outputs": [
        {
          "output_type": "stream",
          "text": [
            "Qual é o seu nome? rodrigo\n",
            "Quantos anos você tem? 22\n",
            "Olá, Rodrigo\n",
            "RodrigoRodrigoRodrigo\n",
            "Rodrigo tem 22 anos.\n"
          ],
          "name": "stdout"
        }
      ]
    },
    {
      "cell_type": "markdown",
      "metadata": {
        "id": "HlUxJPasJTT6"
      },
      "source": [
        "### Método Format"
      ]
    },
    {
      "cell_type": "code",
      "metadata": {
        "colab": {
          "base_uri": "https://localhost:8080/"
        },
        "id": "sS8cj3CMHp31",
        "outputId": "0c5387c2-c74b-40f2-f496-1b87c2e6201d"
      },
      "source": [
        "print('{} tem {} anos.'.format(nome, idade))"
      ],
      "execution_count": null,
      "outputs": [
        {
          "output_type": "stream",
          "text": [
            "Rodrigo tem 22 anos.\n"
          ],
          "name": "stdout"
        }
      ]
    },
    {
      "cell_type": "code",
      "metadata": {
        "colab": {
          "base_uri": "https://localhost:8080/"
        },
        "id": "Z6T_qDUgJdzg",
        "outputId": "87170c43-b6cb-4e79-8eec-ae75c695b83f"
      },
      "source": [
        "preco_gasolina = 4.569\n",
        "print(f'O preço da gasolina subiu e está R${preco_gasolina:.2f}.')"
      ],
      "execution_count": null,
      "outputs": [
        {
          "output_type": "stream",
          "text": [
            "O preço da gasolina subiu e está R$4.57.\n"
          ],
          "name": "stdout"
        }
      ]
    },
    {
      "cell_type": "markdown",
      "metadata": {
        "id": "3mQACYBsKHvI"
      },
      "source": [
        "### Uso de operadores aritméticos com strings"
      ]
    },
    {
      "cell_type": "code",
      "metadata": {
        "colab": {
          "base_uri": "https://localhost:8080/"
        },
        "id": "gmG4O09LJtKx",
        "outputId": "396ebbed-0f21-4d0e-c87c-de0a96d186f6"
      },
      "source": [
        "# Dois operadores aritméticos possuem um comportamento especial em strings:\n",
        "# Operador de soma (+): concatena (une) 2 strings.\n",
        "palavra1 = \"Let's\"\n",
        "palavra2 = \"Code\"\n",
        "palavra3 = palavra1 + palavra2\n",
        "print(palavra3)\n",
        "\n",
        "# Operador de multiplicação (*): copia uma string 'n' vezes:\n",
        "palavra = 'uma'\n",
        "trespalavras = 3*palavra\n",
        "print(trespalavras)"
      ],
      "execution_count": null,
      "outputs": [
        {
          "output_type": "stream",
          "text": [
            "Let'sCode\n",
            "umaumauma\n"
          ],
          "name": "stdout"
        }
      ]
    },
    {
      "cell_type": "code",
      "metadata": {
        "colab": {
          "base_uri": "https://localhost:8080/"
        },
        "id": "v6bN3GVqKKG-",
        "outputId": "f53a4308-b5e4-45a3-d974-d039beb59d76"
      },
      "source": [
        "# Pode-se chamar as variávies em diferentes ordens:\n",
        "\n",
        "print('{2}, {1} and {0}'.format('a', 'b', 'c'))\n",
        "# Saída: c, b and a\n",
        "\n",
        "print('{0}{1}{0}'.format('abra', 'cad'))\n",
        "# Saída: abracadabra\n",
        "\n",
        "\n",
        "# Podemos especificar um número de dígitos obrigatório por campo.\n",
        "# Vejamos o exemplo:\n",
        "\n",
        "dia = 1\n",
        "mes = 8\n",
        "ano = 2019\n",
        "data1 = '{}/{}/{}'.format(dia, mes, ano)\n",
        "print(data1)\n",
        "# Saída: 1/8/2019\n",
        "# O dia e o mês ocupam apenas 1 espaço\n",
        "\n",
        "\n",
        "data2 = '{:2d}/{:2d}/{:4d}'.format(dia, mes, ano)\n",
        "# A opção 'd' significa que o parâmetro é um número inteiro.\n",
        "print(data2)\n",
        "# Saída:  1/ 8/2019\n",
        "# Agora, dia e mês ocupam obrigatoriamente 2 espaços:  1/ 8/2019\n",
        "\n",
        "# Podemos forçar que os espaços em branco sejam preenchidos com o número 0:\n",
        "data3 = '{:02d}/{:02d}/{:04d}'.format(dia, mes, ano)\n",
        "print(data3)\n",
        "# Saída: 01/08/2019\n",
        "# Agora sim a data está no formato usual, dd/mm/aaaa: 01/08/2019\n",
        "\n",
        "# Um modo mais simples de utilizar o format\n",
        "nome = \"Pietro\"\n",
        "profissao = \"professor\"\n",
        "escola = \"Let's Code\"\n",
        "\n",
        "print(f\"{nome} é {profissao} da {escola}.\")\n",
        "# Saída: Pietro é professor da Let's Code."
      ],
      "execution_count": null,
      "outputs": [
        {
          "output_type": "stream",
          "text": [
            "c, b and a\n",
            "abracadabra\n",
            "1/8/2019\n",
            " 1/ 8/2019\n",
            "01/08/2019\n",
            "Pietro é professor da Let's Code.\n"
          ],
          "name": "stdout"
        }
      ]
    },
    {
      "cell_type": "markdown",
      "metadata": {
        "id": "kZwfyvPFKoUU"
      },
      "source": [
        "## Dicionários\n",
        "\n",
        "Um dicionário é uma coleção, assim como as listas e as tuplas. Porém, enquanto as tuplas eram indexadas por um índice, os dicionários são indexados por chaves. Todo elemento em um dicionário possui uma chave e um valor. Chaves tipicamente são strings, valores podem ser qualquer tipo de dado.\n",
        "\n"
      ]
    },
    {
      "cell_type": "code",
      "metadata": {
        "id": "vZm-Hd8VKYoo"
      },
      "source": [
        "# O dicionário é definido pelos símbolos { e }\n",
        "\n",
        "dicionario = {}"
      ],
      "execution_count": null,
      "outputs": []
    },
    {
      "cell_type": "code",
      "metadata": {
        "colab": {
          "base_uri": "https://localhost:8080/"
        },
        "id": "ChZRxAp4aht9",
        "outputId": "99cb4cf7-3af2-4ba3-d84e-aef1eebd6b3a"
      },
      "source": [
        "# O dicionário não possui um \"append\".\n",
        "# Adicionamos valores diretamente:\n",
        "\n",
        "dicionario['cat'] = 'gato'\n",
        "dicionario['dog'] = 'cachorro'\n",
        "dicionario['mouse'] = 'rato'\n",
        "\n",
        "print(dicionario)\n",
        "print(type(dicionario))"
      ],
      "execution_count": null,
      "outputs": [
        {
          "output_type": "stream",
          "text": [
            "{'cat': 'gato', 'dog': 'cachorro', 'mouse': 'rato'}\n",
            "<class 'dict'>\n"
          ],
          "name": "stdout"
        }
      ]
    },
    {
      "cell_type": "code",
      "metadata": {
        "colab": {
          "base_uri": "https://localhost:8080/"
        },
        "id": "DYzMMI8Xah1u",
        "outputId": "b7a300ac-54c2-4e28-a89f-c81522f0ba0f"
      },
      "source": [
        "# Dicionários, assim como as listas, são mutáveis:\n",
        "dicionario['dog'] = 'cão'\n",
        "print(dicionario)\n",
        "\n",
        "# Podemos criar o dicionário diretamente também:\n",
        "dicionario2 = {'Curso': 'Python Pro', 'Linguagem':'Python', 'Módulo': 2}\n",
        "print(dicionario2)"
      ],
      "execution_count": null,
      "outputs": [
        {
          "output_type": "stream",
          "text": [
            "{'cat': 'gato', 'dog': 'cão', 'mouse': 'rato'}\n",
            "{'Curso': 'Python Pro', 'Linguagem': 'Python', 'Módulo': 2}\n"
          ],
          "name": "stdout"
        }
      ]
    },
    {
      "cell_type": "code",
      "metadata": {
        "colab": {
          "base_uri": "https://localhost:8080/"
        },
        "id": "413R4kYRah9C",
        "outputId": "607c4f30-af2d-4e88-f171-0f6c0c8fd1ab"
      },
      "source": [
        "# Podemos utilizar o operador \"in\" para verificar se uma chave existe:\n",
        "if 'cat' in dicionario:\n",
        "    print('cat existe!') # Sim\n",
        "if 'bird' in dicionario:\n",
        "    print('bird existe!') # Não\n",
        "if 'gato' in dicionario:\n",
        "    print('gato existe!') # Não"
      ],
      "execution_count": null,
      "outputs": [
        {
          "output_type": "stream",
          "text": [
            "cat existe!\n"
          ],
          "name": "stdout"
        }
      ]
    },
    {
      "cell_type": "code",
      "metadata": {
        "colab": {
          "base_uri": "https://localhost:8080/"
        },
        "id": "ywDFYfxLa8UW",
        "outputId": "c53b93b0-5188-4b18-b747-8f564ce5c71a"
      },
      "source": [
        "'''Também podemos utilizar as funções .keys() e .values() para obter listas\n",
        "com apenas as chaves ou apenas os valores do dicionário.'''\n",
        "\n",
        "chaves = dicionario.keys()\n",
        "print(chaves)\n",
        "# Saída: dict_keys(['cat', 'dog', 'mouse'])\n",
        "\n",
        "valores = dicionario.values()\n",
        "print(valores)\n",
        "# Saída:dict_values(['gato', 'cão', 'rato'])\n",
        "\n",
        "# Já a função .items(), retorna uma lista de tuplas (chave, valor) de um dicionário\n",
        "\n",
        "itens = dicionario.items()\n",
        "print(itens)\n",
        "# Saída:dict_items([('cat', 'gato'), ('dog', 'cão'), ('mouse', 'rato')])"
      ],
      "execution_count": null,
      "outputs": [
        {
          "output_type": "stream",
          "text": [
            "dict_keys(['cat', 'dog', 'mouse'])\n",
            "dict_values(['gato', 'cão', 'rato'])\n",
            "dict_items([('cat', 'gato'), ('dog', 'cão'), ('mouse', 'rato')])\n"
          ],
          "name": "stdout"
        }
      ]
    },
    {
      "cell_type": "code",
      "metadata": {
        "colab": {
          "base_uri": "https://localhost:8080/"
        },
        "id": "NnbR_qipCQev",
        "outputId": "a7fd1c85-cc68-4795-d895-e0f91adeb036"
      },
      "source": [
        "#criando dicionário\n",
        "dados_cidade = {\n",
        "    'nome': 'São Paulo',\n",
        "    'estado': 'São Paulo',\n",
        "    'area_km2': 1500,\n",
        "    'populacao_milhoes': 12.18\n",
        "}\n",
        "print(dados_cidade)"
      ],
      "execution_count": 4,
      "outputs": [
        {
          "output_type": "stream",
          "text": [
            "{'nome': 'São Paulo', 'estado': 'São Paulo', 'area_km2': 1500, 'populacao_milhoes': 12.18}\n"
          ],
          "name": "stdout"
        }
      ]
    },
    {
      "cell_type": "code",
      "metadata": {
        "colab": {
          "base_uri": "https://localhost:8080/"
        },
        "id": "jBvak9LDOdRh",
        "outputId": "89310542-839b-4040-999d-ae6d55a783ba"
      },
      "source": [
        "#adicionando um novo item ao dicionário\n",
        "dados_cidade['pais'] = 'Brasil'\n",
        "print(dados_cidade)"
      ],
      "execution_count": 5,
      "outputs": [
        {
          "output_type": "stream",
          "text": [
            "{'nome': 'São Paulo', 'estado': 'São Paulo', 'area_km2': 1500, 'populacao_milhoes': 12.18, 'pais': 'Brasil'}\n"
          ],
          "name": "stdout"
        }
      ]
    },
    {
      "cell_type": "code",
      "metadata": {
        "colab": {
          "base_uri": "https://localhost:8080/",
          "height": 35
        },
        "id": "nMRQQd-nPYkC",
        "outputId": "60eb9ba1-4972-430b-a58a-1e1ffc5c9300"
      },
      "source": [
        "#'chamando' um item do do dicionário\n",
        "dados_cidade['estado']"
      ],
      "execution_count": 10,
      "outputs": [
        {
          "output_type": "execute_result",
          "data": {
            "application/vnd.google.colaboratory.intrinsic+json": {
              "type": "string"
            },
            "text/plain": [
              "'São Paulo'"
            ]
          },
          "metadata": {
            "tags": []
          },
          "execution_count": 10
        }
      ]
    },
    {
      "cell_type": "code",
      "metadata": {
        "id": "qGd-ZsLsRyep"
      },
      "source": [
        "#cuidado ao fazer isso, pois as alterações feitas dessa maneira no \n",
        "#dicionário dados_cidade2 afetará o dados_cidade\n",
        "dados_cidade2 = dados_cidade"
      ],
      "execution_count": 11,
      "outputs": []
    },
    {
      "cell_type": "markdown",
      "metadata": {
        "id": "KkpHQnLbSGKS"
      },
      "source": [
        "Para que essa alteração não afete o primeiro dicionário, utilize o método .copy() do Python."
      ]
    },
    {
      "cell_type": "code",
      "metadata": {
        "colab": {
          "base_uri": "https://localhost:8080/"
        },
        "id": "KYdTI2lKSQ4q",
        "outputId": "d78b05b4-e889-46c3-eb67-003844712016"
      },
      "source": [
        "dados_cidade3 = dados_cidade.copy()\n",
        "dados_cidade3['nome'] = 'Rio de Janeiro'\n",
        "dados_cidade3['estado'] = 'Rio de Janeiro'\n",
        "dados_cidade3"
      ],
      "execution_count": 18,
      "outputs": [
        {
          "output_type": "execute_result",
          "data": {
            "text/plain": [
              "{'area_km2': 1500,\n",
              " 'estado': 'Rio de Janeiro',\n",
              " 'nome': 'Rio de Janeiro',\n",
              " 'pais': 'Brasil',\n",
              " 'populacao_milhoes': 12.18}"
            ]
          },
          "metadata": {
            "tags": []
          },
          "execution_count": 18
        }
      ]
    },
    {
      "cell_type": "markdown",
      "metadata": {
        "id": "b7MT2g-1TSjL"
      },
      "source": [
        "### Atualizar dados de um dicionário"
      ]
    },
    {
      "cell_type": "code",
      "metadata": {
        "colab": {
          "base_uri": "https://localhost:8080/"
        },
        "id": "SrDXthrLTSx7",
        "outputId": "56f64952-641b-4e75-ca45-98f901b54056"
      },
      "source": [
        "novos_dados = {\n",
        "    'populacao_milhoes' : 15,\n",
        "    'fundacao': '25/01/1554'\n",
        "}\n",
        "\n",
        "dados_cidade.update(novos_dados)\n",
        "dados_cidade"
      ],
      "execution_count": 20,
      "outputs": [
        {
          "output_type": "execute_result",
          "data": {
            "text/plain": [
              "{'area_km2': 1500,\n",
              " 'estado': 'São Paulo',\n",
              " 'fundacao': '25/01/1554',\n",
              " 'nome': 'São Paulo',\n",
              " 'pais': 'Brasil',\n",
              " 'populacao_milhoes': 15}"
            ]
          },
          "metadata": {
            "tags": []
          },
          "execution_count": 20
        }
      ]
    },
    {
      "cell_type": "code",
      "metadata": {
        "colab": {
          "base_uri": "https://localhost:8080/",
          "height": 178
        },
        "id": "Wv9e4AbNUTAq",
        "outputId": "3415743c-abb7-477c-9fa3-3020be5282ec"
      },
      "source": [
        "#consulta não encontrada\n",
        "dados_cidade['prefeito']"
      ],
      "execution_count": 21,
      "outputs": [
        {
          "output_type": "error",
          "ename": "KeyError",
          "evalue": "ignored",
          "traceback": [
            "\u001b[0;31m---------------------------------------------------------------------------\u001b[0m",
            "\u001b[0;31mKeyError\u001b[0m                                  Traceback (most recent call last)",
            "\u001b[0;32m<ipython-input-21-1f37a9ffd11e>\u001b[0m in \u001b[0;36m<module>\u001b[0;34m()\u001b[0m\n\u001b[1;32m      1\u001b[0m \u001b[0;31m#consulta não encontrada\u001b[0m\u001b[0;34m\u001b[0m\u001b[0;34m\u001b[0m\u001b[0;34m\u001b[0m\u001b[0m\n\u001b[0;32m----> 2\u001b[0;31m \u001b[0mdados_cidade\u001b[0m\u001b[0;34m[\u001b[0m\u001b[0;34m'prefeito'\u001b[0m\u001b[0;34m]\u001b[0m\u001b[0;34m\u001b[0m\u001b[0;34m\u001b[0m\u001b[0m\n\u001b[0m",
            "\u001b[0;31mKeyError\u001b[0m: 'prefeito'"
          ]
        }
      ]
    },
    {
      "cell_type": "code",
      "metadata": {
        "colab": {
          "base_uri": "https://localhost:8080/"
        },
        "id": "afZaxWJSUjDR",
        "outputId": "80160f60-ba4a-42b2-c704-6c88fd9eb89e"
      },
      "source": [
        "print(dados_cidade.get('prefeito'))"
      ],
      "execution_count": 22,
      "outputs": [
        {
          "output_type": "stream",
          "text": [
            "None\n"
          ],
          "name": "stdout"
        }
      ]
    },
    {
      "cell_type": "markdown",
      "metadata": {
        "id": "OvOcmQaZU2Gs"
      },
      "source": [
        "### Métodos para transformar dicionários em listas"
      ]
    },
    {
      "cell_type": "code",
      "metadata": {
        "colab": {
          "base_uri": "https://localhost:8080/"
        },
        "id": "aPsspCZ3U6QA",
        "outputId": "2380058b-a11e-4e26-814f-21abad0ec063"
      },
      "source": [
        "print(dados_cidade.keys()) # retorna uma lista de chaves de um dicionário\n",
        "print('----')\n",
        "print(dados_cidade.values()) # retorna uma lista de valores de um dicionário\n",
        "print('----')\n",
        "print(dados_cidade.items()) # retorna uma lista de tuplas (chave, valor) de um dicionário"
      ],
      "execution_count": 23,
      "outputs": [
        {
          "output_type": "stream",
          "text": [
            "dict_keys(['nome', 'estado', 'area_km2', 'populacao_milhoes', 'pais', 'fundacao'])\n",
            "----\n",
            "dict_values(['São Paulo', 'São Paulo', 1500, 15, 'Brasil', '25/01/1554'])\n",
            "----\n",
            "dict_items([('nome', 'São Paulo'), ('estado', 'São Paulo'), ('area_km2', 1500), ('populacao_milhoes', 15), ('pais', 'Brasil'), ('fundacao', '25/01/1554')])\n"
          ],
          "name": "stdout"
        }
      ]
    },
    {
      "cell_type": "markdown",
      "metadata": {
        "id": "fLMK-CDuYWQ0"
      },
      "source": [
        "## Estrutura de Repetição FOR\n",
        "\n",
        "O for é um tipo especial de loop feito para percorrer elementos de uma coleção. Acima vimos exemplos usando um while e um contador para percorrer uma lista. O for elimina a necessidade de inicializarmos um contador, incrementarmos e verificar a condição de parada. Sintaxe:\n"
      ]
    },
    {
      "cell_type": "code",
      "metadata": {
        "id": "TWiymVC9YZ4S"
      },
      "source": [
        "for (variável temporária) in (lista):\n",
        "    # instruções...\n",
        "    # ..."
      ],
      "execution_count": null,
      "outputs": []
    },
    {
      "cell_type": "code",
      "metadata": {
        "colab": {
          "base_uri": "https://localhost:8080/"
        },
        "id": "MzFKN3e1Y_oz",
        "outputId": "45a72e7d-04f8-4b59-b6a5-24371d18f29d"
      },
      "source": [
        "nomes_cidades = ['São Paulo', 'Maringá', 'Blumenau', 'Joinville']\n",
        "for c in nomes_cidades:\n",
        "  print(c)"
      ],
      "execution_count": null,
      "outputs": [
        {
          "output_type": "stream",
          "text": [
            "São Paulo\n",
            "Maringá\n",
            "Blumenau\n",
            "Joinville\n"
          ],
          "name": "stdout"
        }
      ]
    },
    {
      "cell_type": "code",
      "metadata": {
        "colab": {
          "base_uri": "https://localhost:8080/"
        },
        "id": "DldtlRI_ZP81",
        "outputId": "7a990f29-cef6-46eb-facb-fb07cef6fe7d"
      },
      "source": [
        "contador = 0\n",
        "while contador < len(nomes_cidades):\n",
        "  print(nomes_cidades[contador])\n",
        "  contador += 1"
      ],
      "execution_count": null,
      "outputs": [
        {
          "output_type": "stream",
          "text": [
            "São Paulo\n",
            "Maringá\n",
            "Blumenau\n",
            "Joinville\n"
          ],
          "name": "stdout"
        }
      ]
    },
    {
      "cell_type": "markdown",
      "metadata": {
        "id": "-1gqUMmIZluX"
      },
      "source": [
        "### Laço for em Dicionário"
      ]
    },
    {
      "cell_type": "code",
      "metadata": {
        "colab": {
          "base_uri": "https://localhost:8080/"
        },
        "id": "gXnt_aY6ZdPl",
        "outputId": "1df9e980-bccf-4bfb-fa3a-52a15f149c5d"
      },
      "source": [
        "cidade = {\n",
        "    'nome': 'São Paulo',\n",
        "    'estado': 'São Paulo',\n",
        "    'populacao_milhoes': 12.2\n",
        "}\n",
        "for chave in cidade:\n",
        "  print(f'{chave}: {cidade[chave]}')"
      ],
      "execution_count": null,
      "outputs": [
        {
          "output_type": "stream",
          "text": [
            "nome: São Paulo\n",
            "estado: São Paulo\n",
            "populacao_milhoes: 12.2\n"
          ],
          "name": "stdout"
        }
      ]
    },
    {
      "cell_type": "code",
      "metadata": {
        "colab": {
          "base_uri": "https://localhost:8080/"
        },
        "id": "w3B29q9laCSW",
        "outputId": "b750525b-12b4-4d38-a153-40fc06565240"
      },
      "source": [
        "nomes_cidades = ['São Paulo', 'Maringá', 'Blumenau', 'Joinville']\n",
        "for nome in nomes_cidades:\n",
        "  nome = 'Rio de Janeiro'\n",
        "print(nomes_cidades)"
      ],
      "execution_count": null,
      "outputs": [
        {
          "output_type": "stream",
          "text": [
            "['São Paulo', 'Maringá', 'Blumenau', 'Joinville']\n"
          ],
          "name": "stdout"
        }
      ]
    },
    {
      "cell_type": "markdown",
      "metadata": {
        "id": "dhkveBFafaix"
      },
      "source": [
        "Não houve alteração pois o FOR dessa forma somente lida com cópias dos valores da lista. Para alterar de fato os valores será necesário acessar cada elemento usando o índice relativo a ele.\n"
      ]
    },
    {
      "cell_type": "code",
      "metadata": {
        "colab": {
          "base_uri": "https://localhost:8080/"
        },
        "id": "RWY5UKIHelHq",
        "outputId": "c562f7ba-d9cd-42e8-d27d-c9f7eaf83300"
      },
      "source": [
        "for posicao in range(len(nomes_cidades)):\n",
        "  nomes_cidades[posicao] = 'Cidade ' + str(posicao)\n",
        "print(nomes_cidades)"
      ],
      "execution_count": null,
      "outputs": [
        {
          "output_type": "stream",
          "text": [
            "['Cidade 0', 'Cidade 1', 'Cidade 2', 'Cidade 3']\n"
          ],
          "name": "stdout"
        }
      ]
    },
    {
      "cell_type": "code",
      "metadata": {
        "colab": {
          "base_uri": "https://localhost:8080/"
        },
        "id": "VwG8o0JJf7i2",
        "outputId": "f18d7024-5d4f-4f3b-e5fe-147d38ba1ba2"
      },
      "source": [
        "print(list(range(10)))\n",
        "print(list(range(2, 10)))\n",
        "print(list(range(2, 10, 2)))"
      ],
      "execution_count": null,
      "outputs": [
        {
          "output_type": "stream",
          "text": [
            "[0, 1, 2, 3, 4, 5, 6, 7, 8, 9]\n",
            "[2, 3, 4, 5, 6, 7, 8, 9]\n",
            "[2, 4, 6, 8]\n"
          ],
          "name": "stdout"
        }
      ]
    },
    {
      "cell_type": "markdown",
      "metadata": {
        "id": "QM-psDc7gewC"
      },
      "source": [
        "### Percorrendo sequências numéricas\n",
        "O for pode ser usado, junto com a função range(), para gerar sequências numéricas e contagens. Existem 3 meios de usar o range(): especificando 1, 2 ou 3 parâmetros."
      ]
    },
    {
      "cell_type": "code",
      "metadata": {
        "colab": {
          "base_uri": "https://localhost:8080/"
        },
        "id": "3hNaMRvJgQav",
        "outputId": "eba2122d-53ba-485c-d25a-eb7aff354f5c"
      },
      "source": [
        "# Com 1 parâmetro, ele será interpretado como valor final (exclusivo).\n",
        "# O valor inicial será 0 e o incremento será 1.\n",
        "\n",
        "for numero in range(10):\n",
        "    print(numero)"
      ],
      "execution_count": null,
      "outputs": [
        {
          "output_type": "stream",
          "text": [
            "0\n",
            "1\n",
            "2\n",
            "3\n",
            "4\n",
            "5\n",
            "6\n",
            "7\n",
            "8\n",
            "9\n"
          ],
          "name": "stdout"
        }
      ]
    },
    {
      "cell_type": "code",
      "metadata": {
        "colab": {
          "base_uri": "https://localhost:8080/"
        },
        "id": "dPyrt8c-gigj",
        "outputId": "124aa1f9-94f1-4235-bf2b-eb9c10d0045a"
      },
      "source": [
        "# Com 2 parâmetros, o primeiro será o valor inicial (inclusivo) e o\n",
        "# segundo será o final (exclusivo).\n",
        "# O incremento continuará sendo 1.\n",
        "\n",
        "for numero in range(1,11):\n",
        "    print(numero)\n",
        "    # este exemplo imprime os números de 1 a 10, de um em um\n",
        "\n",
        "# Com 3 parâmetros, o terceiro será interpretado como incremento.\n",
        "for numero in range(1,20,2):\n",
        "    print(numero)\n",
        "    # este exemplo imprime os ímpares positivos menores do que 20\n",
        "    # ele começa valendo 1 e salta de 2 em 2 até atingir ou passar 20\n",
        "\n",
        "# O incremento pode ser também um decremento (incremento negativo).\n",
        "for numero in range (10,0,-1):\n",
        "    print(numero)\n",
        "    #Imprimindo os números de 1 a 10 em ordem decrescente"
      ],
      "execution_count": null,
      "outputs": [
        {
          "output_type": "stream",
          "text": [
            "1\n",
            "2\n",
            "3\n",
            "4\n",
            "5\n",
            "6\n",
            "7\n",
            "8\n",
            "9\n",
            "10\n",
            "1\n",
            "3\n",
            "5\n",
            "7\n",
            "9\n",
            "11\n",
            "13\n",
            "15\n",
            "17\n",
            "19\n",
            "10\n",
            "9\n",
            "8\n",
            "7\n",
            "6\n",
            "5\n",
            "4\n",
            "3\n",
            "2\n",
            "1\n"
          ],
          "name": "stdout"
        }
      ]
    },
    {
      "cell_type": "markdown",
      "metadata": {
        "id": "c48qC1bVg9qO"
      },
      "source": [
        "## Funções I\n",
        "Funções são uma espécie de \"subprograma\". Elas são como pequenos pedacinhos de programa que podem ser chamadas pelo nome. Para criar uma função usamos o comando \"def\" e o nome da função. Elas são um bloco de comando assim como if/elif/else, while e for.\n",
        "\n"
      ]
    },
    {
      "cell_type": "code",
      "metadata": {
        "colab": {
          "base_uri": "https://localhost:8080/"
        },
        "id": "JxDsAYjLgkS5",
        "outputId": "0d06dd93-16ab-45bf-8e2f-04508ebe010d"
      },
      "source": [
        "def hello():\n",
        "    print(\"Olá, mundo!\")\n",
        "hello()"
      ],
      "execution_count": null,
      "outputs": [
        {
          "output_type": "stream",
          "text": [
            "Olá, mundo!\n"
          ],
          "name": "stdout"
        }
      ]
    },
    {
      "cell_type": "code",
      "metadata": {
        "colab": {
          "base_uri": "https://localhost:8080/"
        },
        "id": "klBcc5dghbiO",
        "outputId": "ade11f1d-4d3f-48f4-dc4b-fdbd08a1d547"
      },
      "source": [
        "def ola(nome):\n",
        "    print(\"Olá\", nome)\n",
        "ola('Rodrigo')"
      ],
      "execution_count": null,
      "outputs": [
        {
          "output_type": "stream",
          "text": [
            "Olá Rodrigo\n"
          ],
          "name": "stdout"
        }
      ]
    },
    {
      "cell_type": "code",
      "metadata": {
        "colab": {
          "base_uri": "https://localhost:8080/"
        },
        "id": "pfqOuJEvhjP9",
        "outputId": "5f8b4b04-fd94-43ce-cfdd-3b1157bd6625"
      },
      "source": [
        "def media(valor1, valor2, valor3):\n",
        "  return (valor1 + valor2 + valor3) / 3\n",
        "media(5, 7, 8)\n",
        "\n",
        "#ou armazenando o resultado da função dentro de uma variável\n",
        "variavel_media = media(18, 32, 25)\n",
        "print(variavel_media)"
      ],
      "execution_count": null,
      "outputs": [
        {
          "output_type": "stream",
          "text": [
            "25.0\n"
          ],
          "name": "stdout"
        }
      ]
    },
    {
      "cell_type": "code",
      "metadata": {
        "colab": {
          "base_uri": "https://localhost:8080/"
        },
        "id": "m5eNvItBiTP2",
        "outputId": "adb27de1-d769-4099-fece-7ad944bc924e"
      },
      "source": [
        "#valores default dentro de métodos \n",
        "print('Rodrigo', end=' ')\n",
        "print('Weber')"
      ],
      "execution_count": null,
      "outputs": [
        {
          "output_type": "stream",
          "text": [
            "Rodrigo Weber\n"
          ],
          "name": "stdout"
        }
      ]
    },
    {
      "cell_type": "code",
      "metadata": {
        "colab": {
          "base_uri": "https://localhost:8080/"
        },
        "id": "RRRQC21HjDgZ",
        "outputId": "03ffdf23-1269-4fba-8173-9d66a73aad3c"
      },
      "source": [
        "#função media utilizando valores default\n",
        "def media(valor1 = 0, valor2 = 0, valor3 = 0):\n",
        "  return (valor1 + valor2 + valor3) / 3\n",
        "\n",
        "#ou armazenando o resultado da função dentro de uma variável\n",
        "resultado_media = media()\n",
        "print(resultado_media)"
      ],
      "execution_count": null,
      "outputs": [
        {
          "output_type": "stream",
          "text": [
            "0.0\n"
          ],
          "name": "stdout"
        }
      ]
    },
    {
      "cell_type": "code",
      "metadata": {
        "colab": {
          "base_uri": "https://localhost:8080/"
        },
        "id": "OuVlt-CPj0O8",
        "outputId": "63cd8f5c-411a-4012-9b01-a186497343e0"
      },
      "source": [
        "#a função pode receber vários parâmetros separados por vírgula\n",
        "def dadosPessoais(nome, idade, cidade):\n",
        "    print(\"Seu nome é {}, você tem {} anos e mora em {}.\".format(nome, idade, cidade))\n",
        "\n",
        "dadosPessoais(\"José\", 30, \"Maceió\")"
      ],
      "execution_count": null,
      "outputs": [
        {
          "output_type": "stream",
          "text": [
            "Seu nome é José, você tem 30 anos e mora em Maceió.\n"
          ],
          "name": "stdout"
        }
      ]
    },
    {
      "cell_type": "code",
      "metadata": {
        "colab": {
          "base_uri": "https://localhost:8080/"
        },
        "id": "0lbTWsz3kQdf",
        "outputId": "51a459be-5eff-4a3f-ae26-643a0daa62d6"
      },
      "source": [
        "#podendo tambpem ser utilizados valores default\n",
        "dadosPessoais(idade=56, cidade=\"Florianópolis\", nome=\"Ana\")"
      ],
      "execution_count": null,
      "outputs": [
        {
          "output_type": "stream",
          "text": [
            "Seu nome é Ana, você tem 56 anos e mora em Florianópolis.\n"
          ],
          "name": "stdout"
        }
      ]
    },
    {
      "cell_type": "markdown",
      "metadata": {
        "id": "46OfzBm9keHk"
      },
      "source": [
        "### Funções com resposta\n",
        "Uma função pode ter uma \"resposta\". Por exemplo, nossa função pode ser uma conta, e o resultado da conta pode ser útil em nosso programa. Dizemos que essas funções __retornam__ um valor. Utilizamos a palavra __return__ para fazer uma função retornar sua resposta. Quando uma função retorna um valor, ela pode ser usada em expressões matemáticas ou lógicas, ter seu valor atribuído a uma variável, etc."
      ]
    },
    {
      "cell_type": "code",
      "metadata": {
        "colab": {
          "base_uri": "https://localhost:8080/"
        },
        "id": "OFDwsSLWkaKy",
        "outputId": "fd934d1c-c150-40e3-d426-638304baa728"
      },
      "source": [
        "def somatorio(lista):\n",
        "    soma = 0\n",
        "    for item in lista:\n",
        "        soma += item\n",
        "    return soma\n",
        "\n",
        "numeros = [1, 2, 3, 4, 5]\n",
        "soma_dos_numeros = somatorio(numeros)\n",
        "print(\"A soma dos elementos da lista vale: \", soma_dos_numeros)\n",
        "\n",
        "if somatorio(numeros) > 50:\n",
        "    print(\"Que soma grande!\")\n",
        "else:\n",
        "    print(\"Que soma pequena!\")"
      ],
      "execution_count": null,
      "outputs": [
        {
          "output_type": "stream",
          "text": [
            "A soma dos elementos da lista vale:  15\n",
            "Que soma pequena!\n"
          ],
          "name": "stdout"
        }
      ]
    },
    {
      "cell_type": "markdown",
      "metadata": {
        "id": "yG3dNLBtk1lW"
      },
      "source": [
        "### Funções recursivas\n",
        "Algumas funções são chamadas funções recursivas. A recursividade (ou recursão) é uma propriedade na qual uma função faz referência a si mesma. Quando a função encontra uma nova referência, ela irá pausar sua execução atual e iniciar a execução da nova instância, para só então retomar sua execução.\n",
        "\n",
        "Assim como nos loops, é necessário ter alguma condição para que as chamadas recursivas sejam interrompidas, evitando que executem para sempre."
      ]
    },
    {
      "cell_type": "code",
      "metadata": {
        "colab": {
          "base_uri": "https://localhost:8080/"
        },
        "id": "q3Xfs7e8krCk",
        "outputId": "320ebfdf-d5fd-4857-8fa9-28127d2968d0"
      },
      "source": [
        "def funcaoRecursiva(numero):\n",
        "    if (numero != 1):\n",
        "        funcaoRecursiva(numero - 1)\n",
        "    print(numero)\n",
        "\n",
        "print(\"Testando a função recursiva:\")\n",
        "funcaoRecursiva(10)"
      ],
      "execution_count": null,
      "outputs": [
        {
          "output_type": "stream",
          "text": [
            "Testando a função recursiva:\n",
            "1\n",
            "2\n",
            "3\n",
            "4\n",
            "5\n",
            "6\n",
            "7\n",
            "8\n",
            "9\n",
            "10\n"
          ],
          "name": "stdout"
        }
      ]
    },
    {
      "cell_type": "markdown",
      "metadata": {
        "id": "qkTj66QqlNZB"
      },
      "source": [
        "Note que no exemplo acima passamos 10 para a função. Sua execução foi interrompida por uma nova chamada passando 9, depois 8, depois 7... Ao chegar em 1, ele foge da condicional e imprime 1, encerrando a execução. Então a instância que recebeu 2 tambem conclui sua execução, depois a chamada 3, a 4... A 10, que foi a 1a chamada, encerra por último.\n",
        "\n",
        "Dizemos que é um comportamento de pilha - exatamente como uma pilha de pratos sobre a mesa: O primeiro prato que foi colocado sobre a mesa será o último a sair, pois todos os pratos colocados sobre ele precisam ser retirados antes de você poder retirar o último.\n",
        "\n",
        "Problemas recursivos normalmente são problemas do tipo \"dividir para conquistar\": Temos um \"caso base\", ou seja, um ou mais casos onde há uma resposta direta; E temos um \"caso geral\", que é uma versão reduzida do problema original.\n",
        "\n"
      ]
    },
    {
      "cell_type": "markdown",
      "metadata": {
        "id": "9_tp9nWcbRvg"
      },
      "source": [
        "## Funções II\n",
        "\n",
        "Agrupando parâmetros\n",
        "Podemos utilizar o operador * - que, neste caso, não será uma multiplicação. Ao colocarmos o * ao lado do nome de um parâmetro na definição da função, estamos dizendo que aquele argumento será uma coleção. Mais especificamente, uma tupla. Porém, o usuário não irá passar uma tupla. Ele irá passar quantos argumentos ele quiser, e o Python automaticamente criará uma tupla com eles:"
      ]
    },
    {
      "cell_type": "code",
      "metadata": {
        "colab": {
          "base_uri": "https://localhost:8080/"
        },
        "id": "dJyx14gyk_Bd",
        "outputId": "33c5add1-cb8d-4186-a7bc-eb971b3f7235"
      },
      "source": [
        "def piscina(*infos):\n",
        "    vol = infos[0]*infos[1]*infos[2]\n",
        "    return vol\n",
        "\n",
        "volume = piscina(5, 4, 5)\n",
        "\n",
        "print('O volume é: ', volume)"
      ],
      "execution_count": null,
      "outputs": [
        {
          "output_type": "stream",
          "text": [
            "O volume é:  100\n"
          ],
          "name": "stdout"
        }
      ]
    },
    {
      "cell_type": "markdown",
      "metadata": {
        "id": "x4lyZOrkbjRD"
      },
      "source": [
        "Podemos utilizar o operador * na chamada da função também. Na definição, o operador * indica que devemos agrupar itens avulsos em uma coleção. Na chamada, ele indica que uma coleção deve ser expandida em itens avulsos:"
      ]
    },
    {
      "cell_type": "code",
      "metadata": {
        "colab": {
          "base_uri": "https://localhost:8080/"
        },
        "id": "Y-II6bjFbVmT",
        "outputId": "c70c7194-52a5-48ba-feae-4beda59253ca"
      },
      "source": [
        "def piscina(prof, largura, comprimento):\n",
        "    vol = prof*largura*comprimento\n",
        "    return vol\n",
        "\n",
        "lista = [5, 4, 5]\n",
        "\n",
        "volume = piscina(*lista)\n",
        "\n",
        "print('O volume é: ', volume)"
      ],
      "execution_count": null,
      "outputs": [
        {
          "output_type": "stream",
          "text": [
            "O volume é:  100\n"
          ],
          "name": "stdout"
        }
      ]
    },
    {
      "cell_type": "markdown",
      "metadata": {
        "id": "kwj1U9Dabxan"
      },
      "source": [
        "### Parâmetros opcionais\n",
        "Outra possibilidade são funções com parâmetros opcionais. Note que isso é diferente de termos quantidade variável de parâmetros. No caso da quantidade variável, normalmente são diversos parâmetros com a mesma utilidade (números a serem somados, valores a serem exibidos etc), enquanto os parâmetros opcionais são informações distintas que podem ou não ser passadas para a função.\n",
        "\n",
        "Para criar parâmetros opcionais, usaremos **, e os parâmetros passados serão agrupados em um dicionário: o nome do parâmetro será uma chave, e o valor será... O valor."
      ]
    },
    {
      "cell_type": "code",
      "metadata": {
        "colab": {
          "base_uri": "https://localhost:8080/"
        },
        "id": "T7xvjDbYbnG8",
        "outputId": "c6a9c047-b150-4671-a7a8-3af355b93bc2"
      },
      "source": [
        "def piscina(prof, **infos):\n",
        "    vol = prof*infos['largura']*infos['comprimento']\n",
        "    return vol\n",
        "\n",
        "volume = piscina(5, largura=4, comprimento=5)\n",
        "\n",
        "print('O volume é: ', volume)"
      ],
      "execution_count": null,
      "outputs": [
        {
          "output_type": "stream",
          "text": [
            "O volume é:  100\n"
          ],
          "name": "stdout"
        }
      ]
    },
    {
      "cell_type": "code",
      "metadata": {
        "colab": {
          "base_uri": "https://localhost:8080/"
        },
        "id": "TYb_HtLab0gC",
        "outputId": "705974df-0101-4913-9de2-0e1a2962909c"
      },
      "source": [
        "#funções utilizando múltiplos parâmetros\n",
        "def calcula_media(valor1, valor2, valor3):\n",
        "  return (valor1 + valor2 + valor3) / 3\n",
        "calcula_media(1, 2, 3)  "
      ],
      "execution_count": null,
      "outputs": [
        {
          "output_type": "execute_result",
          "data": {
            "text/plain": [
              "2.0"
            ]
          },
          "metadata": {
            "tags": []
          },
          "execution_count": 4
        }
      ]
    },
    {
      "cell_type": "code",
      "metadata": {
        "colab": {
          "base_uri": "https://localhost:8080/"
        },
        "id": "1Waiy-9mcaGw",
        "outputId": "d825f44f-c999-4be1-ac2b-75b4e7e88892"
      },
      "source": [
        "#método LetsCode\n",
        "def calcula_media(*args):\n",
        "  soma = sum(args)\n",
        "  media = soma / len(args)\n",
        "  return media\n",
        "  \n",
        "#meu jeito simplificado\n",
        "def media_outro_jeito(*args):\n",
        "  return sum(args) / len(args)\n",
        "media_outro_jeito(1, 2, 3, 4, 5)"
      ],
      "execution_count": null,
      "outputs": [
        {
          "output_type": "execute_result",
          "data": {
            "text/plain": [
              "3.0"
            ]
          },
          "metadata": {
            "tags": []
          },
          "execution_count": 7
        }
      ]
    },
    {
      "cell_type": "code",
      "metadata": {
        "colab": {
          "base_uri": "https://localhost:8080/"
        },
        "id": "OmDvKPNXcsip",
        "outputId": "068dfa0c-41c2-4ccc-f58a-6f190badf29c"
      },
      "source": [
        "def soma_qualquer_teste(*args, margem):\n",
        "  soma = sum(args)\n",
        "  media = soma / len(args)\n",
        "  return media + margem\n",
        "soma_qualquer_teste(3, 2, 1, margem=1)"
      ],
      "execution_count": null,
      "outputs": [
        {
          "output_type": "execute_result",
          "data": {
            "text/plain": [
              "3.0"
            ]
          },
          "metadata": {
            "tags": []
          },
          "execution_count": 15
        }
      ]
    },
    {
      "cell_type": "code",
      "metadata": {
        "colab": {
          "base_uri": "https://localhost:8080/"
        },
        "id": "WJmfzCCfe1qi",
        "outputId": "b1537967-6c99-4894-8504-ecb46c37b1f6"
      },
      "source": [
        "def print_info(**kwargs):\n",
        "  print(kwargs, type(kwargs))\n",
        "print_info(nome='Rodrigo', sobrenome='Weber')"
      ],
      "execution_count": null,
      "outputs": [
        {
          "output_type": "stream",
          "text": [
            "{'nome': 'Rodrigo', 'sobrenome': 'Weber'} <class 'dict'>\n"
          ],
          "name": "stdout"
        }
      ]
    }
  ]
}