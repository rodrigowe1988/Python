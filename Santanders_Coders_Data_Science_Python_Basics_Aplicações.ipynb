{
  "nbformat": 4,
  "nbformat_minor": 0,
  "metadata": {
    "colab": {
      "name": "Santanders Coders - Data Science - Python Basics - Aplicações.ipynb",
      "provenance": [],
      "authorship_tag": "ABX9TyNKFGgdTIhUR5qIcdlvTAUU",
      "include_colab_link": true
    },
    "kernelspec": {
      "name": "python3",
      "display_name": "Python 3"
    },
    "language_info": {
      "name": "python"
    }
  },
  "cells": [
    {
      "cell_type": "markdown",
      "metadata": {
        "id": "view-in-github",
        "colab_type": "text"
      },
      "source": [
        "<a href=\"https://colab.research.google.com/github/rodrigowe1988/Python/blob/main/Santanders_Coders_Data_Science_Python_Basics_Aplica%C3%A7%C3%B5es.ipynb\" target=\"_parent\"><img src=\"https://colab.research.google.com/assets/colab-badge.svg\" alt=\"Open In Colab\"/></a>"
      ]
    },
    {
      "cell_type": "markdown",
      "metadata": {
        "id": "p-tHg53pnrSG"
      },
      "source": [
        "# Arquivos em Python\n",
        "O Python possui algumas funções prontas para manipular arquivos binários puros (onde, conhecendo a estrutura interna de qualquer formato, podemos salvar qualquer tipo de arquivo) e para manipular arquivos de texto (onde os binários são decodificados como strings).\n",
        "\n",
        "Focaremos no básico de manipulação de arquivo de texto, pois, na prática, quando formos trabalhar com arquivos mais complexos, é provável que usaremos bibliotecas específicas para lidar com eles, e elas já terão funções próprias para ler e salvar esses arquivos da maneira correta."
      ]
    },
    {
      "cell_type": "markdown",
      "metadata": {
        "id": "snb8pNaPgsa4"
      },
      "source": [
        "## TXT\n"
      ]
    },
    {
      "cell_type": "code",
      "metadata": {
        "colab": {
          "base_uri": "https://localhost:8080/"
        },
        "id": "E_A9dPDlg_xh",
        "outputId": "5ce1a40e-2131-4571-9977-d5e108f5691f"
      },
      "source": [
        "arquivo = open('/content/dom_casmurro.txt', 'r', encoding='utf-8')\n",
        "texto = arquivo.read()\n",
        "print(texto)\n",
        "arquivo.close()"
      ],
      "execution_count": null,
      "outputs": [
        {
          "output_type": "stream",
          "text": [
            "Dom Casmurro \n",
            "\n",
            "Texto de referenda: \n",
            "Obras Completas de Machado de Assis, vol. I, \n",
            "Nova Aguilar, Rio de Janeiro, 1994. \n",
            "Publicado originalmente pela Editora Gamier, Rio de Janeiro, 1899. \n",
            "\n",
            "\n",
            "CAPITULO PRIMEIRO \n",
            "DO TITULO \n",
            "\n",
            "Uma noite destas, vindo da cidade para o Engenho Novo, encontrei no trem da \n",
            "Central um rapaz aqui do bairro, que eu conhego de vista e de chapeu. \n",
            "Cumprimentou-me, sentou-se ao pe de mim, falou da Lua e dos ministros, e \n",
            "acabou recitando-me versos. A viagem era curta, e os versos pode ser que nao \n",
            "fossem inteiramente maus. Sucedeu, porem, que, como eu estava cansado, fechei \n",
            "os olhos tres ou quatro vezes; tanto bastou para que ele interrompesse a leitura e \n",
            "metesse os versos no bolso. \n",
            "\n",
            "— Continue, disse eu acordando. \n",
            "\n",
            "— Ja acabei, murmurou ele. \n",
            "\n",
            "— Sao muito bonitos. \n",
            "\n",
            "Vi-lhe fazer um gesto para tira-los outra vez do bolso, mas nao passou do gesto; \n",
            "estava amuado. No dia seguinte entrou a dizer de mim nomes feios, e acabou \n",
            "alcunhando-me Dom Casmurro. Os vizinhos, que nao gostam dos meus habitos \n",
            "reclusos e calados, deram curso a alcunha, que afinal pegou. Nem por isso me \n",
            "zanguei. Contei a anedota aos amigos da cidade, e eles, por graga, chamam-me \n",
            "assim, alguns em bilhetes: \"Dom Casmurro, domingo vou jantar com voce”.— \n",
            "\"Vou para Petropolis, Dom Casmurro; a casa e a mesma da Renania; ve se deixas \n",
            "essa caverna do Engenho Novo, e vai la passar uns quinze dias comigo\".— \"Meu \n",
            "caro Dom Casmurro, nao cuide que o dispenso do teatro amanha; venha e dormira \n",
            "aqui na cidade; dou-lhe camarote, dou-lhe cha, dou-lhe cama; so nao Ihe dou \n",
            "moga”. \n",
            "\n",
            "Nao consultes dicionarios. Casmurro nao esta aqui no sentido que eles Ihe dao, \n",
            "mas no que Ihe pos o vulgo de homem calado e metido consigo. Dom veio por \n",
            "ironia, para atribuir-me fumos de fidalgo. Tudo por estar cochilando! Tambem nao \n",
            "achei melhor titulo para a minha narracao; se nao tiver outro daqui ate ao fim do \n",
            "livro, vai este mesmo. O meu poeta do trem ficara sabendo que nao Ihe guardo \n",
            "rancor. E com pequeno esforco, sendo o titulo seu, podera cuidar que a obra e \n",
            "sua. Ha livros que apenas terao isso dos seus autores; alguns nem tanto. \n",
            "\n"
          ],
          "name": "stdout"
        }
      ]
    },
    {
      "cell_type": "markdown",
      "metadata": {
        "id": "xydqDMAIn1l8"
      },
      "source": [
        "Abrindo e fechando arquivos\n",
        "Podemos criar arquivos novos ou abrir arquivos já existentes utilizando a função open. Ela possui 2 argumentos: o caminho do arquivo e o modo de operação.\n",
        "\n",
        "Modo\tSímbolo\tDescrição\n",
        "* read\t(**r**)\tlê um arquivo existente\n",
        "* write\t(**w**)\tcria um novo arquivo\n",
        "* append\t(**a**)\tabre um arquivo existente para adicionar informações ao seu final\n",
        "* update\t(**+**)\tao ser combinado com outros modos, permite alteração de arquivo já existente (ex: r+ abre um arquivo existente e permite modificá-lo)\n",
        "\n",
        "Após abrirmos (ou criarmos) um arquivo, podemos realizar diversas operações. Ao final de todas elas, devemos fechar o nosso arquivo usando a função close. Essa etapa é importante por 2 motivos:\n",
        "\n",
        "* Se alteramos o arquivo mas não o fechamos, as alterações não serão salvas;\n",
        "* Se esquecemos de fechar um arquivo, outros programas podem ter problemas ao acessá-lo."
      ]
    },
    {
      "cell_type": "code",
      "metadata": {
        "colab": {
          "base_uri": "https://localhost:8080/"
        },
        "id": "Xopne90Vho51",
        "outputId": "cbdfe73b-2065-4dc4-c33b-f2454c919afe"
      },
      "source": [
        "#como ler linha a linha de um texto\n",
        "arquivo = open('dom_casmurro.txt', 'r', encoding='utf-8')\n",
        "linha = arquivo.readline()\n",
        "while linha != '':\n",
        "  print(linha, end='') #end é justamente para não adicionar uma quebra de linha automática\n",
        "  linha = arquivo.readline()\n",
        "arquivo.close()"
      ],
      "execution_count": null,
      "outputs": [
        {
          "output_type": "stream",
          "text": [
            "Dom Casmurro \n",
            "\n",
            "Texto de referenda: \n",
            "Obras Completas de Machado de Assis, vol. I, \n",
            "Nova Aguilar, Rio de Janeiro, 1994. \n",
            "Publicado originalmente pela Editora Gamier, Rio de Janeiro, 1899. \n",
            "\n",
            "\n",
            "CAPITULO PRIMEIRO \n",
            "DO TITULO \n",
            "\n",
            "Uma noite destas, vindo da cidade para o Engenho Novo, encontrei no trem da \n",
            "Central um rapaz aqui do bairro, que eu conhego de vista e de chapeu. \n",
            "Cumprimentou-me, sentou-se ao pe de mim, falou da Lua e dos ministros, e \n",
            "acabou recitando-me versos. A viagem era curta, e os versos pode ser que nao \n",
            "fossem inteiramente maus. Sucedeu, porem, que, como eu estava cansado, fechei \n",
            "os olhos tres ou quatro vezes; tanto bastou para que ele interrompesse a leitura e \n",
            "metesse os versos no bolso. \n",
            "\n",
            "— Continue, disse eu acordando. \n",
            "\n",
            "— Ja acabei, murmurou ele. \n",
            "\n",
            "— Sao muito bonitos. \n",
            "\n",
            "Vi-lhe fazer um gesto para tira-los outra vez do bolso, mas nao passou do gesto; \n",
            "estava amuado. No dia seguinte entrou a dizer de mim nomes feios, e acabou \n",
            "alcunhando-me Dom Casmurro. Os vizinhos, que nao gostam dos meus habitos \n",
            "reclusos e calados, deram curso a alcunha, que afinal pegou. Nem por isso me \n",
            "zanguei. Contei a anedota aos amigos da cidade, e eles, por graga, chamam-me \n",
            "assim, alguns em bilhetes: \"Dom Casmurro, domingo vou jantar com voce”.— \n",
            "\"Vou para Petropolis, Dom Casmurro; a casa e a mesma da Renania; ve se deixas \n",
            "essa caverna do Engenho Novo, e vai la passar uns quinze dias comigo\".— \"Meu \n",
            "caro Dom Casmurro, nao cuide que o dispenso do teatro amanha; venha e dormira \n",
            "aqui na cidade; dou-lhe camarote, dou-lhe cha, dou-lhe cama; so nao Ihe dou \n",
            "moga”. \n",
            "\n",
            "Nao consultes dicionarios. Casmurro nao esta aqui no sentido que eles Ihe dao, \n",
            "mas no que Ihe pos o vulgo de homem calado e metido consigo. Dom veio por \n",
            "ironia, para atribuir-me fumos de fidalgo. Tudo por estar cochilando! Tambem nao \n",
            "achei melhor titulo para a minha narracao; se nao tiver outro daqui ate ao fim do \n",
            "livro, vai este mesmo. O meu poeta do trem ficara sabendo que nao Ihe guardo \n",
            "rancor. E com pequeno esforco, sendo o titulo seu, podera cuidar que a obra e \n",
            "sua. Ha livros que apenas terao isso dos seus autores; alguns nem tanto. \n"
          ],
          "name": "stdout"
        }
      ]
    },
    {
      "cell_type": "code",
      "metadata": {
        "colab": {
          "base_uri": "https://localhost:8080/"
        },
        "id": "M_0W_XuTkmNC",
        "outputId": "6c47b9da-8f9d-497f-bb4f-0595830b5d59"
      },
      "source": [
        "#usando o laço FOR\n",
        "arquivo = open('dom_casmurro.txt', 'r', encoding='utf-8')\n",
        "for linha in arquivo:\n",
        "  print(linha, end='')\n",
        "arquivo.close()"
      ],
      "execution_count": null,
      "outputs": [
        {
          "output_type": "stream",
          "text": [
            "Dom Casmurro \n",
            "\n",
            "Texto de referenda: \n",
            "Obras Completas de Machado de Assis, vol. I, \n",
            "Nova Aguilar, Rio de Janeiro, 1994. \n",
            "Publicado originalmente pela Editora Gamier, Rio de Janeiro, 1899. \n",
            "\n",
            "\n",
            "CAPITULO PRIMEIRO \n",
            "DO TITULO \n",
            "\n",
            "Uma noite destas, vindo da cidade para o Engenho Novo, encontrei no trem da \n",
            "Central um rapaz aqui do bairro, que eu conhego de vista e de chapeu. \n",
            "Cumprimentou-me, sentou-se ao pe de mim, falou da Lua e dos ministros, e \n",
            "acabou recitando-me versos. A viagem era curta, e os versos pode ser que nao \n",
            "fossem inteiramente maus. Sucedeu, porem, que, como eu estava cansado, fechei \n",
            "os olhos tres ou quatro vezes; tanto bastou para que ele interrompesse a leitura e \n",
            "metesse os versos no bolso. \n",
            "\n",
            "— Continue, disse eu acordando. \n",
            "\n",
            "— Ja acabei, murmurou ele. \n",
            "\n",
            "— Sao muito bonitos. \n",
            "\n",
            "Vi-lhe fazer um gesto para tira-los outra vez do bolso, mas nao passou do gesto; \n",
            "estava amuado. No dia seguinte entrou a dizer de mim nomes feios, e acabou \n",
            "alcunhando-me Dom Casmurro. Os vizinhos, que nao gostam dos meus habitos \n",
            "reclusos e calados, deram curso a alcunha, que afinal pegou. Nem por isso me \n",
            "zanguei. Contei a anedota aos amigos da cidade, e eles, por graga, chamam-me \n",
            "assim, alguns em bilhetes: \"Dom Casmurro, domingo vou jantar com voce”.— \n",
            "\"Vou para Petropolis, Dom Casmurro; a casa e a mesma da Renania; ve se deixas \n",
            "essa caverna do Engenho Novo, e vai la passar uns quinze dias comigo\".— \"Meu \n",
            "caro Dom Casmurro, nao cuide que o dispenso do teatro amanha; venha e dormira \n",
            "aqui na cidade; dou-lhe camarote, dou-lhe cha, dou-lhe cama; so nao Ihe dou \n",
            "moga”. \n",
            "\n",
            "Nao consultes dicionarios. Casmurro nao esta aqui no sentido que eles Ihe dao, \n",
            "mas no que Ihe pos o vulgo de homem calado e metido consigo. Dom veio por \n",
            "ironia, para atribuir-me fumos de fidalgo. Tudo por estar cochilando! Tambem nao \n",
            "achei melhor titulo para a minha narracao; se nao tiver outro daqui ate ao fim do \n",
            "livro, vai este mesmo. O meu poeta do trem ficara sabendo que nao Ihe guardo \n",
            "rancor. E com pequeno esforco, sendo o titulo seu, podera cuidar que a obra e \n",
            "sua. Ha livros que apenas terao isso dos seus autores; alguns nem tanto. \n"
          ],
          "name": "stdout"
        }
      ]
    },
    {
      "cell_type": "code",
      "metadata": {
        "colab": {
          "base_uri": "https://localhost:8080/"
        },
        "id": "cUeOmE1nlKPM",
        "outputId": "caed5d5f-d9c8-4905-959e-20f27fb4fae2"
      },
      "source": [
        "#utilizando WITH para abrir o arquivo\n",
        "#o método With já fecha automaticamente o arquivo após o uso\n",
        "with open('dom_casmurro.txt') as arquivo:\n",
        "  texto = arquivo.read()\n",
        "  print(texto)\n"
      ],
      "execution_count": null,
      "outputs": [
        {
          "output_type": "stream",
          "text": [
            "Dom Casmurro \n",
            "\n",
            "Texto de referenda: \n",
            "Obras Completas de Machado de Assis, vol. I, \n",
            "Nova Aguilar, Rio de Janeiro, 1994. \n",
            "Publicado originalmente pela Editora Gamier, Rio de Janeiro, 1899. \n",
            "\n",
            "\n",
            "CAPITULO PRIMEIRO \n",
            "DO TITULO \n",
            "\n",
            "Uma noite destas, vindo da cidade para o Engenho Novo, encontrei no trem da \n",
            "Central um rapaz aqui do bairro, que eu conhego de vista e de chapeu. \n",
            "Cumprimentou-me, sentou-se ao pe de mim, falou da Lua e dos ministros, e \n",
            "acabou recitando-me versos. A viagem era curta, e os versos pode ser que nao \n",
            "fossem inteiramente maus. Sucedeu, porem, que, como eu estava cansado, fechei \n",
            "os olhos tres ou quatro vezes; tanto bastou para que ele interrompesse a leitura e \n",
            "metesse os versos no bolso. \n",
            "\n",
            "— Continue, disse eu acordando. \n",
            "\n",
            "— Ja acabei, murmurou ele. \n",
            "\n",
            "— Sao muito bonitos. \n",
            "\n",
            "Vi-lhe fazer um gesto para tira-los outra vez do bolso, mas nao passou do gesto; \n",
            "estava amuado. No dia seguinte entrou a dizer de mim nomes feios, e acabou \n",
            "alcunhando-me Dom Casmurro. Os vizinhos, que nao gostam dos meus habitos \n",
            "reclusos e calados, deram curso a alcunha, que afinal pegou. Nem por isso me \n",
            "zanguei. Contei a anedota aos amigos da cidade, e eles, por graga, chamam-me \n",
            "assim, alguns em bilhetes: \"Dom Casmurro, domingo vou jantar com voce”.— \n",
            "\"Vou para Petropolis, Dom Casmurro; a casa e a mesma da Renania; ve se deixas \n",
            "essa caverna do Engenho Novo, e vai la passar uns quinze dias comigo\".— \"Meu \n",
            "caro Dom Casmurro, nao cuide que o dispenso do teatro amanha; venha e dormira \n",
            "aqui na cidade; dou-lhe camarote, dou-lhe cha, dou-lhe cama; so nao Ihe dou \n",
            "moga”. \n",
            "\n",
            "Nao consultes dicionarios. Casmurro nao esta aqui no sentido que eles Ihe dao, \n",
            "mas no que Ihe pos o vulgo de homem calado e metido consigo. Dom veio por \n",
            "ironia, para atribuir-me fumos de fidalgo. Tudo por estar cochilando! Tambem nao \n",
            "achei melhor titulo para a minha narracao; se nao tiver outro daqui ate ao fim do \n",
            "livro, vai este mesmo. O meu poeta do trem ficara sabendo que nao Ihe guardo \n",
            "rancor. E com pequeno esforco, sendo o titulo seu, podera cuidar que a obra e \n",
            "sua. Ha livros que apenas terao isso dos seus autores; alguns nem tanto. \n",
            "\n"
          ],
          "name": "stdout"
        }
      ]
    },
    {
      "cell_type": "code",
      "metadata": {
        "id": "MmQ2n4vmlu2m"
      },
      "source": [
        "#criando um arquivo de texto utilizando o python\n",
        "with open('arquivo_teste.txt', 'w') as novo_arquivo:\n",
        "  novo_arquivo.write('Essa linha foi escrita utilizando o Python.\\n')\n",
        "  novo_arquivo.write('Mais especificamente utilizando o Jupyter Notebook.')"
      ],
      "execution_count": null,
      "outputs": []
    },
    {
      "cell_type": "code",
      "metadata": {
        "colab": {
          "base_uri": "https://localhost:8080/"
        },
        "id": "2pXaomzimnZ_",
        "outputId": "40a94ee1-b487-41df-e019-39143d4f0431"
      },
      "source": [
        "#lendo o arquivo criado\n",
        "with open('arquivo_teste.txt') as arquivo:\n",
        "  print(arquivo.read(), end='')"
      ],
      "execution_count": null,
      "outputs": [
        {
          "output_type": "stream",
          "text": [
            "Essa linha foi escrita utilizando o Python.\n",
            "Mais especificamente utilizando o Jupyter Notebook."
          ],
          "name": "stdout"
        }
      ]
    },
    {
      "cell_type": "code",
      "metadata": {
        "id": "3TLknv0qm0DT"
      },
      "source": [
        "#adicionando uma nova linha ao arquivo de texto criado\n",
        "with open('arquivo_teste.txt', 'a') as novo_arquivo:\n",
        "  novo_arquivo.write('\\nVocê não vai acreditar: mas essa também foi com Python.')"
      ],
      "execution_count": null,
      "outputs": []
    },
    {
      "cell_type": "code",
      "metadata": {
        "colab": {
          "base_uri": "https://localhost:8080/"
        },
        "id": "2N-hLGRinUSS",
        "outputId": "fc6513da-dabd-4135-b317-7b482b1492e6"
      },
      "source": [
        "#lendo o arquivo criado\n",
        "with open('arquivo_teste.txt') as arquivo:\n",
        "  print(arquivo.read(), end='')"
      ],
      "execution_count": null,
      "outputs": [
        {
          "output_type": "stream",
          "text": [
            "Essa linha foi escrita utilizando o Python.\n",
            "Mais especificamente utilizando o Jupyter Notebook.\n",
            "Você não vai acreditar: mas essa também foi com Python."
          ],
          "name": "stdout"
        }
      ]
    },
    {
      "cell_type": "markdown",
      "metadata": {
        "id": "sL7DzbKNpSDK"
      },
      "source": [
        "## CSV\n",
        "\n",
        "O formato CSV (Comma Separated Values, ou Valores Separados por Vírgula) é um arquivo de texto que representa dados em forma de tabela de forma simples.\n",
        "\n",
        "Cada linha do arquivo de texto é uma linha da tabela, e as colunas são separadas por vírgulas.\n",
        "\n",
        "1, 2, 3, 4\n",
        "\n",
        "5, 6, 7, 8\n",
        "\n",
        "9, 10, 11, 12\n",
        "\n",
        "Poderíamos manipular estes arquivos diretamente usando as funções de arquivo vistas anteriormente. Um fator complicador é que o formato CSV não é bem padronizado: apesar do nome, é normal que outros separadores sejam usados ao invés de vírgula, como \";\", para permitir que a vírgula seja usada em um campo. Idem para a separação entre linhas. Existe um módulo em Python para manipular arquivos CSV que nos ajuda a tratar essas diferenças. Todo programa que for utilizar o módulo CSV deverá importá-lo em seu início através do comando: \n",
        "* import csv"
      ]
    },
    {
      "cell_type": "code",
      "metadata": {
        "id": "RQqiaOPunWN8"
      },
      "source": [
        "import csv"
      ],
      "execution_count": 2,
      "outputs": []
    },
    {
      "cell_type": "code",
      "metadata": {
        "id": "11KAGurug-K7"
      },
      "source": [
        "with open('brasil_covid.csv') as arquivo_csv:\n",
        "  leitor = csv.reader(arquivo_csv)\n",
        "  for linha in leitor:\n",
        "    print(linha)"
      ],
      "execution_count": null,
      "outputs": []
    },
    {
      "cell_type": "code",
      "metadata": {
        "colab": {
          "base_uri": "https://localhost:8080/"
        },
        "id": "vRM6gPN-hgHm",
        "outputId": "4824c70c-59da-45ca-8a7b-7e22758550a2"
      },
      "source": [
        "#imprimir somente os itens que possuam número de casos maior que 1\n",
        "with open('brasil_covid.csv') as arquivo_csv:\n",
        "  leitor = csv.reader(arquivo_csv)\n",
        "  next(leitor) #pular o cabeçalho\n",
        "  for linha in leitor:\n",
        "    if float(linha[2]) > 1:\n",
        "      print(linha)"
      ],
      "execution_count": 9,
      "outputs": [
        {
          "output_type": "stream",
          "text": [
            "['2020-03-06', 'Brasil', '5', '0', '8', '0']\n",
            "['2020-03-07', 'Brasil', '5', '0', '13', '0']\n",
            "['2020-03-09', 'Brasil', '12', '0', '25', '0']\n",
            "['2020-03-11', 'Brasil', '9', '0', '34', '0']\n",
            "['2020-03-12', 'Brasil', '18', '0', '52', '0']\n",
            "['2020-03-13', 'Brasil', '25', '0', '77', '0']\n",
            "['2020-03-14', 'Brasil', '21', '0', '98', '0']\n",
            "['2020-03-15', 'Brasil', '23', '0', '121', '0']\n",
            "['2020-03-16', 'Brasil', '79', '0', '200', '0']\n",
            "['2020-03-17', 'Brasil', '34', '0', '234', '0']\n",
            "['2020-03-18', 'Brasil', '57', '1', '291', '1']\n",
            "['2020-03-19', 'Brasil', '137', '3', '428', '4']\n",
            "['2020-03-20', 'Brasil', '193', '2', '621', '6']\n",
            "['2020-03-21', 'Brasil', '283', '5', '904', '11']\n",
            "['2020-03-22', 'Brasil', '224', '7', '1128', '18']\n",
            "['2020-03-23', 'Brasil', '418', '7', '1546', '25']\n",
            "['2020-03-24', 'Brasil', '345', '9', '1891', '34']\n",
            "['2020-03-25', 'Brasil', '310', '12', '2201', '46']\n",
            "['2020-03-26', 'Brasil', '232', '11', '2433', '57']\n",
            "['2020-03-27', 'Brasil', '482', '20', '2915', '77']\n",
            "['2020-03-28', 'Brasil', '502', '15', '3417', '92']\n",
            "['2020-03-29', 'Brasil', '487', '22', '3904', '114']\n",
            "['2020-03-30', 'Brasil', '352', '22', '4256', '136']\n",
            "['2020-03-31', 'Brasil', '323', '23', '4579', '159']\n",
            "['2020-04-01', 'Brasil', '1138', '42', '5717', '201']\n",
            "['2020-04-02', 'Brasil', '1119', '40', '6836', '241']\n",
            "['2020-04-03', 'Brasil', '1074', '58', '7910', '299']\n",
            "['2020-04-04', 'Brasil', '1146', '60', '9056', '359']\n",
            "['2020-04-05', 'Brasil', '1222', '73', '10278', '432']\n",
            "['2020-04-06', 'Brasil', '852', '54', '11130', '486']\n",
            "['2020-04-07', 'Brasil', '926', '67', '12056', '553']\n",
            "['2020-04-08', 'Brasil', '1661', '114', '13717', '667']\n",
            "['2020-04-09', 'Brasil', '2210', '133', '15927', '800']\n",
            "['2020-04-10', 'Brasil', '1930', '141', '17857', '941']\n",
            "['2020-04-11', 'Brasil', '1781', '115', '19638', '1056']\n",
            "['2020-04-12', 'Brasil', '1089', '68', '20727', '1124']\n",
            "['2020-04-13', 'Brasil', '1442', '99', '22169', '1223']\n",
            "['2020-04-14', 'Brasil', '1261', '105', '23430', '1328']\n",
            "['2020-04-15', 'Brasil', '1832', '204', '25262', '1532']\n",
            "['2020-04-16', 'Brasil', '3058', '204', '28320', '1736']\n",
            "['2020-04-17', 'Brasil', '2105', '188', '30425', '1924']\n",
            "['2020-04-18', 'Brasil', '3257', '217', '33682', '2141']\n",
            "['2020-04-19', 'Brasil', '2917', '206', '36599', '2347']\n",
            "['2020-04-20', 'Brasil', '2055', '115', '38654', '2462']\n",
            "['2020-04-21', 'Brasil', '1927', '113', '40581', '2575']\n",
            "['2020-04-22', 'Brasil', '2498', '166', '43079', '2741']\n",
            "['2020-04-23', 'Brasil', '2678', '165', '45757', '2906']\n",
            "['2020-04-24', 'Brasil', '3735', '407', '49492', '3313']\n",
            "['2020-04-25', 'Brasil', '3503', '357', '52995', '3670']\n",
            "['2020-04-26', 'Brasil', '5514', '346', '58509', '4016']\n",
            "['2020-04-27', 'Brasil', '3379', '189', '61888', '4205']\n",
            "['2020-04-28', 'Brasil', '4613', '338', '66501', '4543']\n",
            "['2020-04-29', 'Brasil', '5385', '474', '71886', '5017']\n",
            "['2020-04-30', 'Brasil', '6276', '449', '78162', '5466']\n",
            "['2020-05-01', 'Brasil', '7218', '435', '85380', '5901']\n",
            "['2020-05-02', 'Brasil', '6209', '428', '91589', '6329']\n",
            "['2020-05-03', 'Brasil', '4970', '421', '96559', '6750']\n",
            "['2020-05-04', 'Brasil', '4588', '275', '101147', '7025']\n",
            "['2020-05-05', 'Brasil', '6633', '296', '107780', '7321']\n",
            "['2020-05-06', 'Brasil', '6935', '600', '114715', '7921']\n",
            "['2020-05-07', 'Brasil', '10503', '615', '125218', '8536']\n",
            "['2020-05-08', 'Brasil', '9888', '610', '135106', '9146']\n",
            "['2020-05-09', 'Brasil', '10222', '751', '145328', '9897']\n",
            "['2020-05-10', 'Brasil', '10611', '730', '155939', '10627']\n",
            "['2020-05-11', 'Brasil', '6760', '496', '162699', '11123']\n",
            "['2020-05-12', 'Brasil', '5632', '396', '168331', '11519']\n",
            "['2020-05-13', 'Brasil', '9258', '881', '177589', '12400']\n",
            "['2020-05-14', 'Brasil', '11385', '749', '188974', '13149']\n",
            "['2020-05-15', 'Brasil', '13944', '844', '202918', '13993']\n",
            "['2020-05-16', 'Brasil', '15305', '824', '218223', '14817']\n",
            "['2020-05-17', 'Brasil', '14919', '816', '233142', '15633']\n",
            "['2020-05-18', 'Brasil', '7938', '485', '241080', '16118']\n",
            "['2020-05-19', 'Brasil', '13140', '674', '254220', '16792']\n",
            "['2020-05-20', 'Brasil', '17408', '1179', '271628', '17971']\n",
            "['2020-05-21', 'Brasil', '19951', '888', '291579', '18859']\n",
            "['2020-05-22', 'Brasil', '18508', '1188', '310087', '20047']\n",
            "['2020-05-23', 'Brasil', '20803', '1001', '330890', '21048']\n",
            "['2020-05-24', 'Brasil', '16508', '965', '347398', '22013']\n",
            "['2020-05-25', 'Brasil', '15813', '653', '363211', '22666']\n",
            "['2020-05-26', 'Brasil', '11687', '807', '374898', '23473']\n",
            "['2020-05-27', 'Brasil', '16324', '1039', '391222', '24512']\n",
            "['2020-05-28', 'Brasil', '20599', '1086', '411821', '25598']\n",
            "['2020-05-29', 'Brasil', '26417', '1156', '438238', '26754']\n",
            "['2020-05-30', 'Brasil', '26928', '1124', '465166', '27878']\n",
            "['2020-05-31', 'Brasil', '33274', '956', '498440', '28834']\n",
            "['2020-06-01', 'Brasil', '16409', '480', '514849', '29314']\n",
            "['2020-06-02', 'Brasil', '11598', '623', '526447', '29937']\n",
            "['2020-06-03', 'Brasil', '28936', '1262', '555383', '31199']\n",
            "['2020-06-04', 'Brasil', '28633', '1349', '584016', '32548']\n",
            "['2020-06-05', 'Brasil', '30916', '1473', '614932', '34021']\n",
            "['2020-06-06', 'Brasil', '30830', '1005', '645762', '35026']\n",
            "['2020-06-07', 'Brasil', '27075', '904', '672837', '35930']\n",
            "['2020-06-08', 'Brasil', '18921', '525', '691758', '36455']\n",
            "['2020-06-09', 'Brasil', '15654', '679', '707412', '37134']\n",
            "['2020-06-10', 'Brasil', '32091', '1272', '739503', '38406']\n",
            "['2020-06-11', 'Brasil', '32913', '1274', '772416', '39680']\n",
            "['2020-06-12', 'Brasil', '30412', '1239', '802828', '40919']\n",
            "['2020-06-13', 'Brasil', '25982', '909', '828810', '41828']\n",
            "['2020-06-14', 'Brasil', '21704', '892', '850514', '42720']\n",
            "['2020-06-15', 'Brasil', '17110', '612', '867624', '43332']\n",
            "['2020-06-16', 'Brasil', '20647', '627', '888271', '43959']\n"
          ],
          "name": "stdout"
        }
      ]
    },
    {
      "cell_type": "code",
      "metadata": {
        "colab": {
          "base_uri": "https://localhost:8080/"
        },
        "id": "W_VggYxTh_mg",
        "outputId": "e6c7cb73-d73a-4034-fe6d-27c7b194d4c5"
      },
      "source": [
        "with open('brasil_covid.csv') as csv_file:\n",
        "  linhas = csv_file.read()\n",
        "  linhas = linhas.split('\\n')\n",
        "  for linha in linhas:\n",
        "    linha = linha.split(',')\n",
        "    print(linha)\n",
        "len(linhas)"
      ],
      "execution_count": 12,
      "outputs": [
        {
          "output_type": "stream",
          "text": [
            "['data', 'pais', 'novos_casos', 'novos_obitos', 'total_casos', 'total_obitos']\n",
            "['2019-12-31', 'Brasil', '0', '0', '0', '0']\n",
            "['2020-01-01', 'Brasil', '0', '0', '0', '0']\n",
            "['2020-01-02', 'Brasil', '0', '0', '0', '0']\n",
            "['2020-01-03', 'Brasil', '0', '0', '0', '0']\n",
            "['2020-01-04', 'Brasil', '0', '0', '0', '0']\n",
            "['2020-01-05', 'Brasil', '0', '0', '0', '0']\n",
            "['2020-01-06', 'Brasil', '0', '0', '0', '0']\n",
            "['2020-01-07', 'Brasil', '0', '0', '0', '0']\n",
            "['2020-01-08', 'Brasil', '0', '0', '0', '0']\n",
            "['2020-01-09', 'Brasil', '0', '0', '0', '0']\n",
            "['2020-01-10', 'Brasil', '0', '0', '0', '0']\n",
            "['2020-01-11', 'Brasil', '0', '0', '0', '0']\n",
            "['2020-01-12', 'Brasil', '0', '0', '0', '0']\n",
            "['2020-01-13', 'Brasil', '0', '0', '0', '0']\n",
            "['2020-01-14', 'Brasil', '0', '0', '0', '0']\n",
            "['2020-01-15', 'Brasil', '0', '0', '0', '0']\n",
            "['2020-01-16', 'Brasil', '0', '0', '0', '0']\n",
            "['2020-01-17', 'Brasil', '0', '0', '0', '0']\n",
            "['2020-01-18', 'Brasil', '0', '0', '0', '0']\n",
            "['2020-01-19', 'Brasil', '0', '0', '0', '0']\n",
            "['2020-01-20', 'Brasil', '0', '0', '0', '0']\n",
            "['2020-01-21', 'Brasil', '0', '0', '0', '0']\n",
            "['2020-01-22', 'Brasil', '0', '0', '0', '0']\n",
            "['2020-01-23', 'Brasil', '0', '0', '0', '0']\n",
            "['2020-01-24', 'Brasil', '0', '0', '0', '0']\n",
            "['2020-01-25', 'Brasil', '0', '0', '0', '0']\n",
            "['2020-01-26', 'Brasil', '0', '0', '0', '0']\n",
            "['2020-01-27', 'Brasil', '0', '0', '0', '0']\n",
            "['2020-01-28', 'Brasil', '0', '0', '0', '0']\n",
            "['2020-01-29', 'Brasil', '0', '0', '0', '0']\n",
            "['2020-01-30', 'Brasil', '0', '0', '0', '0']\n",
            "['2020-01-31', 'Brasil', '0', '0', '0', '0']\n",
            "['2020-02-01', 'Brasil', '0', '0', '0', '0']\n",
            "['2020-02-02', 'Brasil', '0', '0', '0', '0']\n",
            "['2020-02-03', 'Brasil', '0', '0', '0', '0']\n",
            "['2020-02-04', 'Brasil', '0', '0', '0', '0']\n",
            "['2020-02-05', 'Brasil', '0', '0', '0', '0']\n",
            "['2020-02-06', 'Brasil', '0', '0', '0', '0']\n",
            "['2020-02-07', 'Brasil', '0', '0', '0', '0']\n",
            "['2020-02-08', 'Brasil', '0', '0', '0', '0']\n",
            "['2020-02-09', 'Brasil', '0', '0', '0', '0']\n",
            "['2020-02-10', 'Brasil', '0', '0', '0', '0']\n",
            "['2020-02-11', 'Brasil', '0', '0', '0', '0']\n",
            "['2020-02-12', 'Brasil', '0', '0', '0', '0']\n",
            "['2020-02-13', 'Brasil', '0', '0', '0', '0']\n",
            "['2020-02-14', 'Brasil', '0', '0', '0', '0']\n",
            "['2020-02-15', 'Brasil', '0', '0', '0', '0']\n",
            "['2020-02-16', 'Brasil', '0', '0', '0', '0']\n",
            "['2020-02-17', 'Brasil', '0', '0', '0', '0']\n",
            "['2020-02-18', 'Brasil', '0', '0', '0', '0']\n",
            "['2020-02-19', 'Brasil', '0', '0', '0', '0']\n",
            "['2020-02-20', 'Brasil', '0', '0', '0', '0']\n",
            "['2020-02-21', 'Brasil', '0', '0', '0', '0']\n",
            "['2020-02-22', 'Brasil', '0', '0', '0', '0']\n",
            "['2020-02-23', 'Brasil', '0', '0', '0', '0']\n",
            "['2020-02-24', 'Brasil', '0', '0', '0', '0']\n",
            "['2020-02-25', 'Brasil', '0', '0', '0', '0']\n",
            "['2020-02-26', 'Brasil', '1', '0', '1', '0']\n",
            "['2020-02-27', 'Brasil', '0', '0', '1', '0']\n",
            "['2020-02-28', 'Brasil', '0', '0', '1', '0']\n",
            "['2020-02-29', 'Brasil', '0', '0', '1', '0']\n",
            "['2020-03-01', 'Brasil', '1', '0', '2', '0']\n",
            "['2020-03-02', 'Brasil', '0', '0', '2', '0']\n",
            "['2020-03-03', 'Brasil', '0', '0', '2', '0']\n",
            "['2020-03-04', 'Brasil', '0', '0', '2', '0']\n",
            "['2020-03-05', 'Brasil', '1', '0', '3', '0']\n",
            "['2020-03-06', 'Brasil', '5', '0', '8', '0']\n",
            "['2020-03-07', 'Brasil', '5', '0', '13', '0']\n",
            "['2020-03-08', 'Brasil', '0', '0', '13', '0']\n",
            "['2020-03-09', 'Brasil', '12', '0', '25', '0']\n",
            "['2020-03-10', 'Brasil', '0', '0', '25', '0']\n",
            "['2020-03-11', 'Brasil', '9', '0', '34', '0']\n",
            "['2020-03-12', 'Brasil', '18', '0', '52', '0']\n",
            "['2020-03-13', 'Brasil', '25', '0', '77', '0']\n",
            "['2020-03-14', 'Brasil', '21', '0', '98', '0']\n",
            "['2020-03-15', 'Brasil', '23', '0', '121', '0']\n",
            "['2020-03-16', 'Brasil', '79', '0', '200', '0']\n",
            "['2020-03-17', 'Brasil', '34', '0', '234', '0']\n",
            "['2020-03-18', 'Brasil', '57', '1', '291', '1']\n",
            "['2020-03-19', 'Brasil', '137', '3', '428', '4']\n",
            "['2020-03-20', 'Brasil', '193', '2', '621', '6']\n",
            "['2020-03-21', 'Brasil', '283', '5', '904', '11']\n",
            "['2020-03-22', 'Brasil', '224', '7', '1128', '18']\n",
            "['2020-03-23', 'Brasil', '418', '7', '1546', '25']\n",
            "['2020-03-24', 'Brasil', '345', '9', '1891', '34']\n",
            "['2020-03-25', 'Brasil', '310', '12', '2201', '46']\n",
            "['2020-03-26', 'Brasil', '232', '11', '2433', '57']\n",
            "['2020-03-27', 'Brasil', '482', '20', '2915', '77']\n",
            "['2020-03-28', 'Brasil', '502', '15', '3417', '92']\n",
            "['2020-03-29', 'Brasil', '487', '22', '3904', '114']\n",
            "['2020-03-30', 'Brasil', '352', '22', '4256', '136']\n",
            "['2020-03-31', 'Brasil', '323', '23', '4579', '159']\n",
            "['2020-04-01', 'Brasil', '1138', '42', '5717', '201']\n",
            "['2020-04-02', 'Brasil', '1119', '40', '6836', '241']\n",
            "['2020-04-03', 'Brasil', '1074', '58', '7910', '299']\n",
            "['2020-04-04', 'Brasil', '1146', '60', '9056', '359']\n",
            "['2020-04-05', 'Brasil', '1222', '73', '10278', '432']\n",
            "['2020-04-06', 'Brasil', '852', '54', '11130', '486']\n",
            "['2020-04-07', 'Brasil', '926', '67', '12056', '553']\n",
            "['2020-04-08', 'Brasil', '1661', '114', '13717', '667']\n",
            "['2020-04-09', 'Brasil', '2210', '133', '15927', '800']\n",
            "['2020-04-10', 'Brasil', '1930', '141', '17857', '941']\n",
            "['2020-04-11', 'Brasil', '1781', '115', '19638', '1056']\n",
            "['2020-04-12', 'Brasil', '1089', '68', '20727', '1124']\n",
            "['2020-04-13', 'Brasil', '1442', '99', '22169', '1223']\n",
            "['2020-04-14', 'Brasil', '1261', '105', '23430', '1328']\n",
            "['2020-04-15', 'Brasil', '1832', '204', '25262', '1532']\n",
            "['2020-04-16', 'Brasil', '3058', '204', '28320', '1736']\n",
            "['2020-04-17', 'Brasil', '2105', '188', '30425', '1924']\n",
            "['2020-04-18', 'Brasil', '3257', '217', '33682', '2141']\n",
            "['2020-04-19', 'Brasil', '2917', '206', '36599', '2347']\n",
            "['2020-04-20', 'Brasil', '2055', '115', '38654', '2462']\n",
            "['2020-04-21', 'Brasil', '1927', '113', '40581', '2575']\n",
            "['2020-04-22', 'Brasil', '2498', '166', '43079', '2741']\n",
            "['2020-04-23', 'Brasil', '2678', '165', '45757', '2906']\n",
            "['2020-04-24', 'Brasil', '3735', '407', '49492', '3313']\n",
            "['2020-04-25', 'Brasil', '3503', '357', '52995', '3670']\n",
            "['2020-04-26', 'Brasil', '5514', '346', '58509', '4016']\n",
            "['2020-04-27', 'Brasil', '3379', '189', '61888', '4205']\n",
            "['2020-04-28', 'Brasil', '4613', '338', '66501', '4543']\n",
            "['2020-04-29', 'Brasil', '5385', '474', '71886', '5017']\n",
            "['2020-04-30', 'Brasil', '6276', '449', '78162', '5466']\n",
            "['2020-05-01', 'Brasil', '7218', '435', '85380', '5901']\n",
            "['2020-05-02', 'Brasil', '6209', '428', '91589', '6329']\n",
            "['2020-05-03', 'Brasil', '4970', '421', '96559', '6750']\n",
            "['2020-05-04', 'Brasil', '4588', '275', '101147', '7025']\n",
            "['2020-05-05', 'Brasil', '6633', '296', '107780', '7321']\n",
            "['2020-05-06', 'Brasil', '6935', '600', '114715', '7921']\n",
            "['2020-05-07', 'Brasil', '10503', '615', '125218', '8536']\n",
            "['2020-05-08', 'Brasil', '9888', '610', '135106', '9146']\n",
            "['2020-05-09', 'Brasil', '10222', '751', '145328', '9897']\n",
            "['2020-05-10', 'Brasil', '10611', '730', '155939', '10627']\n",
            "['2020-05-11', 'Brasil', '6760', '496', '162699', '11123']\n",
            "['2020-05-12', 'Brasil', '5632', '396', '168331', '11519']\n",
            "['2020-05-13', 'Brasil', '9258', '881', '177589', '12400']\n",
            "['2020-05-14', 'Brasil', '11385', '749', '188974', '13149']\n",
            "['2020-05-15', 'Brasil', '13944', '844', '202918', '13993']\n",
            "['2020-05-16', 'Brasil', '15305', '824', '218223', '14817']\n",
            "['2020-05-17', 'Brasil', '14919', '816', '233142', '15633']\n",
            "['2020-05-18', 'Brasil', '7938', '485', '241080', '16118']\n",
            "['2020-05-19', 'Brasil', '13140', '674', '254220', '16792']\n",
            "['2020-05-20', 'Brasil', '17408', '1179', '271628', '17971']\n",
            "['2020-05-21', 'Brasil', '19951', '888', '291579', '18859']\n",
            "['2020-05-22', 'Brasil', '18508', '1188', '310087', '20047']\n",
            "['2020-05-23', 'Brasil', '20803', '1001', '330890', '21048']\n",
            "['2020-05-24', 'Brasil', '16508', '965', '347398', '22013']\n",
            "['2020-05-25', 'Brasil', '15813', '653', '363211', '22666']\n",
            "['2020-05-26', 'Brasil', '11687', '807', '374898', '23473']\n",
            "['2020-05-27', 'Brasil', '16324', '1039', '391222', '24512']\n",
            "['2020-05-28', 'Brasil', '20599', '1086', '411821', '25598']\n",
            "['2020-05-29', 'Brasil', '26417', '1156', '438238', '26754']\n",
            "['2020-05-30', 'Brasil', '26928', '1124', '465166', '27878']\n",
            "['2020-05-31', 'Brasil', '33274', '956', '498440', '28834']\n",
            "['2020-06-01', 'Brasil', '16409', '480', '514849', '29314']\n",
            "['2020-06-02', 'Brasil', '11598', '623', '526447', '29937']\n",
            "['2020-06-03', 'Brasil', '28936', '1262', '555383', '31199']\n",
            "['2020-06-04', 'Brasil', '28633', '1349', '584016', '32548']\n",
            "['2020-06-05', 'Brasil', '30916', '1473', '614932', '34021']\n",
            "['2020-06-06', 'Brasil', '30830', '1005', '645762', '35026']\n",
            "['2020-06-07', 'Brasil', '27075', '904', '672837', '35930']\n",
            "['2020-06-08', 'Brasil', '18921', '525', '691758', '36455']\n",
            "['2020-06-09', 'Brasil', '15654', '679', '707412', '37134']\n",
            "['2020-06-10', 'Brasil', '32091', '1272', '739503', '38406']\n",
            "['2020-06-11', 'Brasil', '32913', '1274', '772416', '39680']\n",
            "['2020-06-12', 'Brasil', '30412', '1239', '802828', '40919']\n",
            "['2020-06-13', 'Brasil', '25982', '909', '828810', '41828']\n",
            "['2020-06-14', 'Brasil', '21704', '892', '850514', '42720']\n",
            "['2020-06-15', 'Brasil', '17110', '612', '867624', '43332']\n",
            "['2020-06-16', 'Brasil', '20647', '627', '888271', '43959']\n"
          ],
          "name": "stdout"
        },
        {
          "output_type": "execute_result",
          "data": {
            "text/plain": [
              "170"
            ]
          },
          "metadata": {
            "tags": []
          },
          "execution_count": 12
        }
      ]
    },
    {
      "cell_type": "code",
      "metadata": {
        "id": "BGPEJZrRjy-_"
      },
      "source": [
        "#criando um arquivo csv\n",
        "with open('users.csv', 'w', newline='') as arquivo_users:\n",
        "  escritor = csv.writer(arquivo_users)\n",
        "  escritor.writerow(['nome', 'sobrenome', 'email', 'genero'])\n",
        "  escritor.writerow(['Teste', 'UM', 'teste1@email.com', 'Feminino'])\n",
        "  escritor.writerow(['Teste', 'DOIS', 'teste2@email.com', 'Masculino'])\n",
        "  escritor.writerow(['Teste', 'TRÊS', 'teste3@email.com', 'Masculino'])"
      ],
      "execution_count": 16,
      "outputs": []
    },
    {
      "cell_type": "code",
      "metadata": {
        "colab": {
          "base_uri": "https://localhost:8080/"
        },
        "id": "b9W9WAmWkdMd",
        "outputId": "541b40c6-fc4f-434d-ec85-3f8656c91db7"
      },
      "source": [
        "header = ['nome', 'sobrenome']\n",
        "dados = []\n",
        "opt = input('O que deseja fazer?\\n1 - Cadastrar\\n0 - Sair\\n')\n",
        "while opt!= '0':\n",
        "  nome = input('Qual é o nome que quer cadastrar? ').capitalize()\n",
        "  sobrenome = input('Qual é o sobrenome? ').capitalize()\n",
        "  dados.append([nome, sobrenome])\n",
        "  opt = input('O que deseja fazer?\\n1 - Cadastrar \\n0 - Sair\\n')\n",
        "print(dados)\n",
        "\n",
        "with open('new_users.csv', 'w', newline='') as new_arquivo_csv:\n",
        "  writer = csv.writer(new_arquivo_csv)\n",
        "  writer.writerow(header)\n",
        "  writer.writerows(dados)\n",
        "\n",
        "with open('new_users.csv') as csv_file:\n",
        "  csv_reader = csv.reader(csv_file, delimiter=',')\n",
        "  for row in csv_reader:\n",
        "    print(row)"
      ],
      "execution_count": 20,
      "outputs": [
        {
          "output_type": "stream",
          "text": [
            "O que deseja fazer?\n",
            "1 - Cadastrar\n",
            "0 - Sair\n",
            "1\n",
            "Qual é o nome que quer cadastrar? Rodrigo\n",
            "Qual é o sobrenome? Weber\n",
            "O que deseja fazer?\n",
            "1 - Cadastrar \n",
            "0 - Sair\n",
            "1\n",
            "Qual é o nome que quer cadastrar? Rogério\n",
            "Qual é o sobrenome? Weber\n",
            "O que deseja fazer?\n",
            "1 - Cadastrar \n",
            "0 - Sair\n",
            "1\n",
            "Qual é o nome que quer cadastrar? Michele \n",
            "Qual é o sobrenome? Dutra\n",
            "O que deseja fazer?\n",
            "1 - Cadastrar \n",
            "0 - Sair\n",
            "0\n",
            "[['Rodrigo', 'Weber'], ['Rogério', 'Weber'], ['Michele ', 'Dutra']]\n",
            "['nome', 'sobrenome']\n",
            "['Rodrigo', 'Weber']\n",
            "['Rogério', 'Weber']\n",
            "['Michele ', 'Dutra']\n"
          ],
          "name": "stdout"
        }
      ]
    },
    {
      "cell_type": "markdown",
      "metadata": {
        "id": "uBU0SipitRzO"
      },
      "source": [
        "### DictReader e DictWriter\n",
        "Podemos também trabalhar com dicionários, nos quais a primeira linha é lida como a chave e as demais são os respectivos valores:"
      ]
    },
    {
      "cell_type": "code",
      "metadata": {
        "colab": {
          "base_uri": "https://localhost:8080/"
        },
        "id": "Atw7n-mrnY3d",
        "outputId": "998cb7c6-77e5-4cf3-c149-120bc474d1af"
      },
      "source": [
        "import csv\n",
        "\n",
        "with open('email.csv', 'r') as emails:\n",
        "    leitor = csv.DictReader(emails) #a primeira linha é lida como um cabeçalho\n",
        "    for linha in leitor:\n",
        "        print(linha['Login email']) #podemos chamar um valor específico de cada linha pela chave no cabeçallho\n",
        "\n",
        "\n",
        "with open('names.csv', 'w', newline='') as csvfile:\n",
        "    chaves = ['first_name', 'last_name'] # definimos o cabeçalho\n",
        "    writer = csv.DictWriter(csvfile, fieldnames=chaves) # especificamos o cabeçalho\n",
        "\n",
        "    writer.writeheader() # escrevemos o cabeçalho\n",
        "    writer.writerow({'first_name': 'Senhor', 'last_name': 'Batata'}) # escrevemos linhas com as chaves e valores\n",
        "    writer.writerow({'first_name': 'Will', 'last_name': 'Smith'})\n",
        "    writer.writerow({'first_name': 'Elon', 'last_name': 'Musk'})"
      ],
      "execution_count": 26,
      "outputs": [
        {
          "output_type": "stream",
          "text": [
            "teste1@email.com\n",
            "teste2@email.com\n",
            "teste3@email.com\n"
          ],
          "name": "stdout"
        }
      ]
    },
    {
      "cell_type": "code",
      "metadata": {
        "id": "GqwD2X5ftYsf"
      },
      "source": [
        "#criando o arquivo email.csv\n",
        "with open('email.csv', 'w', newline='') as email:\n",
        "  escritor = csv.writer(email)\n",
        "  escritor.writerow(['nome', 'sobrenome', 'Login email', 'genero'])\n",
        "  escritor.writerow(['Teste', 'UM', 'teste1@email.com', 'Feminino'])\n",
        "  escritor.writerow(['Teste', 'DOIS', 'teste2@email.com', 'Masculino'])\n",
        "  escritor.writerow(['Teste', 'TRÊS', 'teste3@email.com', 'Masculino'])"
      ],
      "execution_count": 22,
      "outputs": []
    },
    {
      "cell_type": "markdown",
      "metadata": {
        "id": "M9mhhOAX2Nm3"
      },
      "source": [
        "## API"
      ]
    },
    {
      "cell_type": "code",
      "metadata": {
        "colab": {
          "base_uri": "https://localhost:8080/"
        },
        "id": "dR5OPNUWwDbm",
        "outputId": "8638bed1-95e3-4b8a-f32e-c6ac34da6854"
      },
      "source": [
        "!pip install requests"
      ],
      "execution_count": 28,
      "outputs": [
        {
          "output_type": "stream",
          "text": [
            "Requirement already satisfied: requests in /usr/local/lib/python3.7/dist-packages (2.23.0)\n",
            "Requirement already satisfied: urllib3!=1.25.0,!=1.25.1,<1.26,>=1.21.1 in /usr/local/lib/python3.7/dist-packages (from requests) (1.24.3)\n",
            "Requirement already satisfied: chardet<4,>=3.0.2 in /usr/local/lib/python3.7/dist-packages (from requests) (3.0.4)\n",
            "Requirement already satisfied: idna<3,>=2.5 in /usr/local/lib/python3.7/dist-packages (from requests) (2.10)\n",
            "Requirement already satisfied: certifi>=2017.4.17 in /usr/local/lib/python3.7/dist-packages (from requests) (2021.5.30)\n"
          ],
          "name": "stdout"
        }
      ]
    },
    {
      "cell_type": "code",
      "metadata": {
        "id": "nidAwrPQ2Rls"
      },
      "source": [
        "import requests"
      ],
      "execution_count": 30,
      "outputs": []
    },
    {
      "cell_type": "code",
      "metadata": {
        "colab": {
          "base_uri": "https://localhost:8080/"
        },
        "id": "vBXOJ6Z32YiL",
        "outputId": "ebb721d3-bd7a-4c37-96c2-1c51a749a2a3"
      },
      "source": [
        "url = 'https://api.exchangerate-api.com/v6/latest'\n",
        "\n",
        "req = requests.get(url)\n",
        "\n",
        "print(req.status_code)"
      ],
      "execution_count": 33,
      "outputs": [
        {
          "output_type": "stream",
          "text": [
            "200\n"
          ],
          "name": "stdout"
        }
      ]
    },
    {
      "cell_type": "code",
      "metadata": {
        "colab": {
          "base_uri": "https://localhost:8080/"
        },
        "id": "TQI0hONz7GwP",
        "outputId": "79063044-88a8-471a-de77-32c133156cb8"
      },
      "source": [
        "#salvar a API dentro de uma variável\n",
        "dados = req.json()\n",
        "\n",
        "dados"
      ],
      "execution_count": 38,
      "outputs": [
        {
          "output_type": "execute_result",
          "data": {
            "text/plain": [
              "{'WARNING_NEW_ENDPOINT': 'Swap *api.exchangerate-api.com* with *open.er-api.com* for better servers!',\n",
              " 'base_code': 'USD',\n",
              " 'documentation': 'https://www.exchangerate-api.com/docs/free',\n",
              " 'provider': 'https://www.exchangerate-api.com',\n",
              " 'rates': {'AED': 3.67,\n",
              "  'AFN': 79.3,\n",
              "  'ALL': 103.41,\n",
              "  'AMD': 495.49,\n",
              "  'ANG': 1.79,\n",
              "  'AOA': 650.1,\n",
              "  'ARS': 95.86,\n",
              "  'AUD': 1.33,\n",
              "  'AWG': 1.79,\n",
              "  'AZN': 1.7,\n",
              "  'BAM': 1.65,\n",
              "  'BBD': 2,\n",
              "  'BDT': 84.72,\n",
              "  'BGN': 1.65,\n",
              "  'BHD': 0.376,\n",
              "  'BIF': 1968.31,\n",
              "  'BMD': 1,\n",
              "  'BND': 1.34,\n",
              "  'BOB': 6.88,\n",
              "  'BRL': 5.06,\n",
              "  'BSD': 1,\n",
              "  'BTN': 74.38,\n",
              "  'BWP': 10.95,\n",
              "  'BYN': 2.54,\n",
              "  'BZD': 2,\n",
              "  'CAD': 1.23,\n",
              "  'CDF': 1988.62,\n",
              "  'CHF': 0.922,\n",
              "  'CLP': 734.74,\n",
              "  'CNY': 6.46,\n",
              "  'COP': 3718.49,\n",
              "  'CRC': 618.14,\n",
              "  'CUC': 1,\n",
              "  'CUP': 25.75,\n",
              "  'CVE': 92.9,\n",
              "  'CZK': 21.6,\n",
              "  'DJF': 177.72,\n",
              "  'DKK': 6.29,\n",
              "  'DOP': 56.85,\n",
              "  'DZD': 134.46,\n",
              "  'EGP': 15.67,\n",
              "  'ERN': 15,\n",
              "  'ETB': 43.88,\n",
              "  'EUR': 0.843,\n",
              "  'FJD': 2.07,\n",
              "  'FKP': 0.72,\n",
              "  'FOK': 6.29,\n",
              "  'GBP': 0.72,\n",
              "  'GEL': 3.15,\n",
              "  'GGP': 0.72,\n",
              "  'GHS': 5.9,\n",
              "  'GIP': 0.72,\n",
              "  'GMD': 51.99,\n",
              "  'GNF': 9819.77,\n",
              "  'GTQ': 7.73,\n",
              "  'GYD': 209.12,\n",
              "  'HKD': 7.77,\n",
              "  'HNL': 23.88,\n",
              "  'HRK': 6.35,\n",
              "  'HTG': 93.15,\n",
              "  'HUF': 297.31,\n",
              "  'IDR': 14513.14,\n",
              "  'ILS': 3.28,\n",
              "  'IMP': 0.72,\n",
              "  'INR': 74.38,\n",
              "  'IQD': 1459.39,\n",
              "  'IRR': 41679.26,\n",
              "  'ISK': 123.92,\n",
              "  'JMD': 150.39,\n",
              "  'JOD': 0.709,\n",
              "  'JPY': 110.96,\n",
              "  'KES': 107.89,\n",
              "  'KGS': 84.7,\n",
              "  'KHR': 4073.15,\n",
              "  'KID': 1.33,\n",
              "  'KMF': 414.49,\n",
              "  'KRW': 1130.91,\n",
              "  'KWD': 0.3,\n",
              "  'KYD': 0.833,\n",
              "  'KZT': 425.5,\n",
              "  'LAK': 9460.74,\n",
              "  'LBP': 1507.5,\n",
              "  'LKR': 198.77,\n",
              "  'LRD': 171.53,\n",
              "  'LSL': 14.25,\n",
              "  'LYD': 4.51,\n",
              "  'MAD': 8.93,\n",
              "  'MDL': 18.04,\n",
              "  'MGA': 3917.41,\n",
              "  'MKD': 52.18,\n",
              "  'MMK': 1643.92,\n",
              "  'MNT': 2855.18,\n",
              "  'MOP': 8,\n",
              "  'MRU': 36.16,\n",
              "  'MUR': 42.99,\n",
              "  'MVR': 15.42,\n",
              "  'MWK': 807.67,\n",
              "  'MXN': 19.84,\n",
              "  'MYR': 4.16,\n",
              "  'MZN': 63.8,\n",
              "  'NAD': 14.25,\n",
              "  'NGN': 425.84,\n",
              "  'NIO': 34.84,\n",
              "  'NOK': 8.58,\n",
              "  'NPR': 119.01,\n",
              "  'NZD': 1.42,\n",
              "  'OMR': 0.384,\n",
              "  'PAB': 1,\n",
              "  'PEN': 3.91,\n",
              "  'PGK': 3.51,\n",
              "  'PHP': 49.31,\n",
              "  'PKR': 157.64,\n",
              "  'PLN': 3.8,\n",
              "  'PYG': 6721.81,\n",
              "  'QAR': 3.64,\n",
              "  'RON': 4.15,\n",
              "  'RSD': 99.11,\n",
              "  'RUB': 73.39,\n",
              "  'RWF': 1004.56,\n",
              "  'SAR': 3.75,\n",
              "  'SBD': 7.92,\n",
              "  'SCR': 14.16,\n",
              "  'SDG': 452.41,\n",
              "  'SEK': 8.55,\n",
              "  'SGD': 1.34,\n",
              "  'SHP': 0.72,\n",
              "  'SLL': 10270.95,\n",
              "  'SOS': 578.78,\n",
              "  'SRD': 20.85,\n",
              "  'SSP': 177.59,\n",
              "  'STN': 20.64,\n",
              "  'SYP': 1258.83,\n",
              "  'SZL': 14.25,\n",
              "  'THB': 32.13,\n",
              "  'TJS': 11.3,\n",
              "  'TMT': 3.5,\n",
              "  'TND': 2.76,\n",
              "  'TOP': 2.25,\n",
              "  'TRY': 8.67,\n",
              "  'TTD': 6.76,\n",
              "  'TVD': 1.33,\n",
              "  'TWD': 27.91,\n",
              "  'TZS': 2315.61,\n",
              "  'UAH': 27.28,\n",
              "  'UGX': 3555.8,\n",
              "  'USD': 1,\n",
              "  'UYU': 43.57,\n",
              "  'UZS': 10542.34,\n",
              "  'VES': 3241854.6,\n",
              "  'VND': 22969.24,\n",
              "  'VUV': 109.99,\n",
              "  'WST': 2.54,\n",
              "  'XAF': 552.65,\n",
              "  'XCD': 2.7,\n",
              "  'XDR': 0.702,\n",
              "  'XOF': 552.65,\n",
              "  'XPF': 100.54,\n",
              "  'YER': 250.19,\n",
              "  'ZAR': 14.25,\n",
              "  'ZMW': 22.63},\n",
              " 'result': 'success',\n",
              " 'terms_of_use': 'https://www.exchangerate-api.com/terms',\n",
              " 'time_eol_unix': 0,\n",
              " 'time_last_update_unix': 1625529751,\n",
              " 'time_last_update_utc': 'Tue, 06 Jul 2021 00:02:31 +0000',\n",
              " 'time_next_update_unix': 1625617341,\n",
              " 'time_next_update_utc': 'Wed, 07 Jul 2021 00:22:21 +0000'}"
            ]
          },
          "metadata": {
            "tags": []
          },
          "execution_count": 38
        }
      ]
    },
    {
      "cell_type": "code",
      "metadata": {
        "colab": {
          "base_uri": "https://localhost:8080/"
        },
        "id": "VzsfIGCo9p1G",
        "outputId": "43f7e2e3-0157-4010-847a-cc0adb3e3133"
      },
      "source": [
        "valor_reais = float(input('Informe o valor em R$ a ser convertido\\n'))\n",
        "cotacao = dados['rates']['BRL']\n",
        "print(f'R${valor_reais} em dólar vale US$ {valor_reais / cotacao}.')"
      ],
      "execution_count": 37,
      "outputs": [
        {
          "output_type": "stream",
          "text": [
            "Informe o valor em R$ a ser convertido\n",
            "100\n",
            "R$100.0 em dólar vale US$ 19.762845849802375.\n"
          ],
          "name": "stdout"
        }
      ]
    },
    {
      "cell_type": "markdown",
      "metadata": {
        "id": "8GYl8ICj_g7E"
      },
      "source": [
        "Application Programming Interface\n",
        "Hoje em dia é muito comum que diferentes aplicações consumam dados pela internet, muitas vezes dados providenciados por terceiros. Por exemplo, um aplicativo de entrega de alimentos pode usar dados de geolocalização do Google para localizar restaurantes próximos ao usuário e exibir a rota percorrida pelo entregador.\n",
        "\n",
        "Como as aplicações podem rodar em diferentes plataformas (Windows, Android, MacOS, iOS, um navegador de internet...), é importante estabelecer uma linguagem comum para que todos consigam consumir esses dados.\n",
        "\n",
        "Essa \"linguagem comum\" é o que chamamos de API: Application Programming Interface. A organização que disponibiliza os dados estabelece algumas \"regrinhas\" para fazermos requisições, e em contrapartida ela garante que os recursos fornecidos também seguirão certos padrões, facilitando a vida dos programadores.\n",
        "\n",
        "Portanto, quando decidimos utilizar uma API, a primeira coisa que precisamos fazer é estudar sua documentação. Vejamos alguns dos pontos mais relevantes para procurar.\n",
        "\n",
        "Todos os exemplos de requisição que mostraremos aqui podem ser colados em seu navegador ou estudados usando um requests.get no Python e imprimindo seu campo text.\n",
        "\n",
        "URI base\n",
        "Várias APIs fornecem um \"endereço base\". Todas as suas requisições incluirão esse endereço, e ao final dele nós colocamos detalhes específicos para cada um dos recursos disponíveis.\n",
        "\n",
        "Por exemplo, na AlphaVantage (https://www.alphavantage.co/), uma API de dados de bolsas de valores e criptomoedas, a URI base é:\n",
        "\n",
        "https://www.alphavantage.co/query?\n",
        "\n",
        "Após a interrogação nós colocaremos os campos para nossa consulta. Por exemplo, para fazer uma consulta sem autenticação para valores da IBM, de 5 em 5 minutos, o endereço completo fica:\n",
        "\n",
        "https://www.alphavantage.co/query?function=TIME_SERIES_INTRADAY&symbol=IBM&interval=5min&apikey=demo\n",
        "\n",
        "Note o formato com &NomeDoCampo=ValorDoCampo. Ele é bastante comum. Outro formato bastante comum é o de \"subdiretórios\".\n",
        "\n",
        "Um exemplo é a PokéAPI. A URI base é:\n",
        "\n",
        "https://pokeapi.co/api/v2/\n",
        "\n",
        "Para procurar por pokémons, adicionamos pokemon/. Em seguida, podemos colocar números (índices) ou nomes de Pokémon, como:\n",
        "\n",
        "https://pokeapi.co/api/v2/pokemon/ditto/\n",
        "\n",
        "https://pokeapi.co/api/v2/pokemon/25\n",
        "\n",
        "Se ao invés de pokémons estivéssemos interessados em tipos de pokémon, usaríamos types/ e o nome ou índice do tipo desejado:\n",
        "\n",
        "https://pokeapi.co/api/v2/type/ghost\n",
        "\n",
        "Formato\n",
        "Tipo de dado\n",
        "Algumas APIs possuem formatos fixos de dados. Outros permitem que você escolha. É comum, por exemplo, que uma API permita que você escolha entre JSON, XML, CSV e/ou outros formatos.\n",
        "\n",
        "Caso você tenha entrado no AlphaVantage e se registrado para obter uma chave (falaremos mais adiante), você pode especificar, por exemplo, que gostaria de resultados no formato CSV:\n",
        "\n",
        "https://www.alphavantage.co/query?function=TIME_SERIES_INTRADAY&symbol=IBM&interval=5min&dataformat=csv&apikey=demo\n",
        "\n",
        "Substitua \"demo\" por sua chave no exemplo acima e ele funcionará.\n",
        "\n",
        "Schema\n",
        "É bastante comum que as APIs disponibilizem um \"modelo\" genérico de como será formatado o seu JSON, XML etc para que os desenvolvedores saibam quais campos esperar e quais tipos de dados serão possíveis para cada campo. Por exemplo:\n",
        "\n",
        "{\n",
        "    'nome':string,\n",
        "    'pontuacao':integer\n",
        "}\n",
        "Autenticação\n",
        "Outro aspecto importante é a autenticação. Enquanto algumas APIs são grátis, outras são pagas. Ainda temos algumas híbridas: você pode gratuitamente acessar certos recursos, ou consumir um certo volume de dados, e acima disso você deverá pagar. Os dois modelos mais comuns de autenticação:\n",
        "\n",
        "Chave: ao fazer seu registro, você recebe uma chave que será inclusa na requisição, como é o caso do AlphaVantage.\n",
        "OAuth: um esquema um pouco mais complexo onde são combinados códigos de autorização, identificação do cliente e segredo do cliente em um POST, e o servidor cria uma sessão por um tempo limitado e fornece o ID da mesma. APIs de gigantes da internet (como Google e Facebook) costumam usar esse modelo.\n",
        "Rate limiting\n",
        "Um dado parcialmente relacionado ao item anterior. As APIs costumam limitar o número de requisições que você pode fazer em um instante de tempo (3 requisições por minuto, 10000 requisições por dia etc). Temos dois motivos:\n",
        "\n",
        "Segurança: evitar uma sobrecarga no servidor deles que possa indisponibilizar a API para todos os usuários.\n",
        "Venda de planos: várias APIs pagas possuem diferentes planos de pagamento. Os planos mais caros costumam permitir mais requisições do que os mais baratos ou gratuitos.\n",
        "Wrappers\n",
        "Algumas APIs possuem tantas buscas diferentes e os resultados podem ser tão complexos que mesmo vindo em formatos simples como JSON pode ser um pouco trabalhoso montar as requisições e isolar os dados que queremos. Por conta disso, frequentemente são fornecidas wrapper libraries: bibliotecas escritas em linguagens de programação específicas que já trazem classes e funções prontas para fazer requisições automaticamente e já quebrar o resultado em objetos fáceis de serem utilizados. Elas também costumam oferecer alguns benefícios adicionais, como caching: de tempos em tempos a base de dados é totalmente ou parcialmente baixada por completo e salva localmente, o que ajuda a economizar requisições e, consequentemente, uso de dados (bastante útil considerando em usuários de dispositivos móveis, por exemplo).\n",
        "\n",
        "Sandbox\n",
        "Várias APIs possuem no mesmo site de sua documentação uma área conhecida como sandbox, onde você pode simular requisições no próprio navegador e ver não só a resposta formatada, como informações sobre como montar aquela requisição em software.\n",
        "\n",
        "Aqui podemos observar a área de sandbox para fazer consultas de gastos por meio de cartão de pagamento do Portal da Transparência do governo federal. Note que ele mostra o schema e apresenta campos para preenchermos as buscas.\n",
        "\n",
        "![primeira.png](data:image/png;base64,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)\n",
        "\n",
        "E aqui, o resultado: ele gera o endereço completo para a busca baseado nos valores preenchidos nos campos e mostra a resposta formatada.\n",
        "\n",
        "![ultima.png](data:image/png;base64,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)\n",
        "\n"
      ]
    },
    {
      "cell_type": "markdown",
      "metadata": {
        "id": "lrWXJRPv_ebY"
      },
      "source": [
        "### Consumindo APIs em Python\n",
        "As APIs são meios de nos conectarmos a recursos na internet. Portanto, já possuímos as ferramentas na mão desde os capítulos anteriores. Você irá construir a lógica para decidir o que você irá buscar/consultar, montará uma string seguindo o formato indicado pela documentação da API (como todos os exemplos deste capítulo). Em seguida você tratará a resposta de acordo:\n",
        "\n",
        "Se for JSON, utilize o método json da própria requests.\n",
        "Se for CSV, utilize o módulo CSV estudado anteriormente.\n",
        "Se for XML, podemos utilizar o módulo BeautifulSoup, que não será estudado aqui.\n",
        "Para outros formatos, provavelmente a solução mais fácil será baixar um módulo preparado para lidar com eles.\n",
        "Descobrindo APIs: tem boas ideias e gostaria de saber se existe uma boa API para ajudar? Confira alguns bons repositórios de API organizados por categoria:\n",
        "\n",
        "https://github.com/n0shake/public-apis\n",
        "\n",
        "https://github.com/public-apis/public-apis\n",
        "\n",
        "https://any-api.com/\n",
        "\n",
        "Sites de governos costumam ter uma grande riqueza de dados também. Segue abaixo algumas sugestões (oficiais ou mantidas por voluntários) com dados do Brasil como um todo. Experimente buscar por bases de dados de sua cidade ou estado!\n",
        "\n",
        "http://www.transparencia.gov.br/swagger-ui.html\n",
        "\n",
        "http://www.dados.gov.br/\n",
        "\n",
        "https://brasil.io/home/"
      ]
    }
  ]
}