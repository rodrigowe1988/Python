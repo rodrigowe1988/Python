{
  "nbformat": 4,
  "nbformat_minor": 0,
  "metadata": {
    "colab": {
      "name": "Exercícios em Python 5.ipynb",
      "provenance": [],
      "authorship_tag": "ABX9TyOlUEjdXM0spEJuCJE37OOK",
      "include_colab_link": true
    },
    "kernelspec": {
      "name": "python3",
      "display_name": "Python 3"
    }
  },
  "cells": [
    {
      "cell_type": "markdown",
      "metadata": {
        "id": "view-in-github",
        "colab_type": "text"
      },
      "source": [
        "<a href=\"https://colab.research.google.com/github/rodrigowe1988/Python/blob/main/Exerc%C3%ADcios_em_Python_5.ipynb\" target=\"_parent\"><img src=\"https://colab.research.google.com/assets/colab-badge.svg\" alt=\"Open In Colab\"/></a>"
      ]
    },
    {
      "cell_type": "markdown",
      "metadata": {
        "id": "fcMCC_K3QTNp"
      },
      "source": [
        "#desenvolva um programa que leia o termo e a razão de uma PA. No final, mostre os 10 primeiros termos dessa progressão\r\n"
      ]
    },
    {
      "cell_type": "code",
      "metadata": {
        "colab": {
          "base_uri": "https://localhost:8080/"
        },
        "id": "tKhjLBP6QO7Q",
        "outputId": "f4d2a6c8-61af-4848-8b81-2113094c971e"
      },
      "source": [
        "termo = int(input('Digite o termo da PA: '))\r\n",
        "razao = int(input('Digite a razao da PA: '))\r\n",
        "decimo = termo + (10 - 1) * razao\r\n",
        "pa = []\r\n",
        "for c in range(termo, decimo + razao, razao):\r\n",
        "  pa.append(c)\r\n",
        "print(pa)"
      ],
      "execution_count": null,
      "outputs": [
        {
          "output_type": "stream",
          "text": [
            "Digite o termo da PA: 10\n",
            "Digite a razao da PA: 1\n",
            "[10, 11, 12, 13, 14, 15, 16, 17, 18, 19]\n"
          ],
          "name": "stdout"
        }
      ]
    },
    {
      "cell_type": "markdown",
      "metadata": {
        "id": "8OTIrDhSQetS"
      },
      "source": [
        "#faça um programa que leia um número inteiro e diga se ele é ou não um número primo"
      ]
    },
    {
      "cell_type": "code",
      "metadata": {
        "colab": {
          "base_uri": "https://localhost:8080/"
        },
        "id": "i1uN4JnDQj0a",
        "outputId": "5d01a3ff-8ca3-4914-8d43-33bfdaf8c390"
      },
      "source": [
        "number = int(input('Digite um número inteiro: '))\r\n",
        "total = 0\r\n",
        "for c in range(1, number + 1):\r\n",
        "  if number % c == 0:\r\n",
        "    print('\\033[32m', end=' ')\r\n",
        "    total += 1\r\n",
        "  else:\r\n",
        "    print('\\033[31m', end=' ')\r\n",
        "  print('{}'.format(c), end=' ')\r\n",
        "print('\\n\\033[mO número {} foi divisível {} vezes.'.format(number, total))\r\n",
        "if total > 2:\r\n",
        "  print('Não é número primo.')\r\n",
        "else:\r\n",
        "  print('Número primo.')"
      ],
      "execution_count": null,
      "outputs": [
        {
          "output_type": "stream",
          "text": [
            "Digite um número inteiro: 5\n",
            "\u001b[32m 1 \u001b[31m 2 \u001b[31m 3 \u001b[31m 4 \u001b[32m 5 \n",
            "\u001b[mO número 5 foi divisível 2 vezes.\n",
            "Número primo.\n"
          ],
          "name": "stdout"
        }
      ]
    },
    {
      "cell_type": "markdown",
      "metadata": {
        "id": "qJHjUgZmQkkW"
      },
      "source": [
        "#crie um programa que leia uma frase qualquer e diga se ela é um palíndromo, desconsiderando os espaços.\r\n",
        "Ex:\r\n",
        "\r\n",
        "-apos a sopa;\r\n",
        "\r\n",
        "-a sacada da casa;\r\n",
        "\r\n",
        "-a torre da derrota;\r\n",
        "\r\n",
        "-o lobo ama o bolo;\r\n",
        "\r\n",
        "-anotaram a data da maratona"
      ]
    },
    {
      "cell_type": "code",
      "metadata": {
        "id": "omp1W4zmQrAF",
        "colab": {
          "base_uri": "https://localhost:8080/"
        },
        "outputId": "3b2b6e27-d174-4aa3-b14e-ced73ba309e2"
      },
      "source": [
        "phrase = str(input('Digite uma frase: '))\r\n",
        "phrase.replace(' ', '')\r\n",
        "#nome da variável é phrase ao contrário\r\n",
        "esarhp = phrase[::-1].replace(' ', '')\r\n",
        "\r\n",
        "#fazendo a comparação entre as duas strings\r\n",
        "if(phrase.replace(' ','') == esarhp):\r\n",
        "  print(\"Essa frase é um palíndromo.\")\r\n",
        "else:\r\n",
        "  print(\"Essa frase não é um palíndromo.\")\r\n"
      ],
      "execution_count": null,
      "outputs": [
        {
          "output_type": "stream",
          "text": [
            "Digite uma frase: testando alguma coisa\n",
            "Essa frase não é um palíndromo.\n"
          ],
          "name": "stdout"
        }
      ]
    },
    {
      "cell_type": "markdown",
      "metadata": {
        "id": "r1qRW4o_QvAm"
      },
      "source": [
        "#crie um programa que leia o ano de nascimento de sete pessoas.\r\n",
        "-no final mostre quantas pessoas ainda não atingiram a maioridade e quantas já são maiores de idade."
      ]
    },
    {
      "cell_type": "code",
      "metadata": {
        "id": "nMhEPR4LRB02",
        "colab": {
          "base_uri": "https://localhost:8080/"
        },
        "outputId": "803ed226-a761-4784-f944-661f78022d9f"
      },
      "source": [
        "from datetime import datetime\r\n",
        "currentYear = datetime.now().year\r\n",
        "pessoas = []\r\n",
        "for c in range(0, 6):\r\n",
        "  idade = int(input('Digite o ano de nascimento: '))\r\n",
        "  if(currentYear - idade <= 18):\r\n",
        "    pessoas.append(idade)\r\n",
        "print('{} pessoas ainda não atingiram a maioridade nesse grupo.'.format(len(pessoas)))"
      ],
      "execution_count": null,
      "outputs": [
        {
          "output_type": "stream",
          "text": [
            "Digite o ano de nascimento: 2020\n",
            "Digite o ano de nascimento: 2018\n",
            "Digite o ano de nascimento: 2021\n",
            "Digite o ano de nascimento: 2000\n",
            "Digite o ano de nascimento: 1999\n",
            "Digite o ano de nascimento: 1999\n",
            "3 pessoas que ainda não atingiram a maioridade desse grupo.\n",
            "2021\n"
          ],
          "name": "stdout"
        }
      ]
    },
    {
      "cell_type": "markdown",
      "metadata": {
        "id": "MBl0kh7tRJsj"
      },
      "source": [
        "#faça um programa que leia o peso de 5 pessoas. No final, mostre qual foi o maior e o menor peso lidos."
      ]
    },
    {
      "cell_type": "code",
      "metadata": {
        "id": "1XHY7_JFRLBI",
        "colab": {
          "base_uri": "https://localhost:8080/"
        },
        "outputId": "8be8f3ad-56ab-4cc1-a6ca-b513dfbf893f"
      },
      "source": [
        "pesos = []\r\n",
        "for c in range(0, 6):\r\n",
        "  peso = int(input('Digite o peso da pessoa {}: '.format(c + 1)))\r\n",
        "  pesos.append(peso)\r\n",
        "pesos.sort()\r\n",
        "print(pesos)\r\n",
        "print(f'O menor peso lido foi {pesos[0]} kg.')\r\n",
        "print(f'O maior peso lido foi {pesos[-1]}')"
      ],
      "execution_count": null,
      "outputs": [
        {
          "output_type": "stream",
          "text": [
            "Digite o peso da pessoa 1: 150\n",
            "Digite o peso da pessoa 2: 96\n",
            "Digite o peso da pessoa 3: 75\n",
            "Digite o peso da pessoa 4: 47\n",
            "Digite o peso da pessoa 5: 89\n",
            "Digite o peso da pessoa 6: 16\n",
            "[16, 47, 75, 89, 96, 150]\n",
            "O menor peso lido foi 16 kg.\n",
            "O maior peso lido foi 150\n"
          ],
          "name": "stdout"
        }
      ]
    },
    {
      "cell_type": "markdown",
      "metadata": {
        "id": "sYph_zBxRLhe"
      },
      "source": [
        "#desenvolva um programa que leia o nome, idade e sexo de 4 pessoas. No final do programa, mostre:\r\n",
        "\r\n",
        "-A média de idade do grupo;\r\n",
        "\r\n",
        "-qual é o nome do homem mais velho;\r\n",
        "\r\n",
        "-quantas mulhers têm menos de 20 anos;"
      ]
    },
    {
      "cell_type": "code",
      "metadata": {
        "id": "o41NISw7RYRj",
        "colab": {
          "base_uri": "https://localhost:8080/"
        },
        "outputId": "b8ccebb3-8bb5-4a57-dc10-5c98000cf1e4"
      },
      "source": [
        "soma_idade = 0\r\n",
        "media_idade = 0\r\n",
        "maior_idade_homem = 0\r\n",
        "nome_velho = 0\r\n",
        "total_mulher20 = 0\r\n",
        "for c in range(1, 5):\r\n",
        "    print('----- {}ª PESSOA -----'.format(c))\r\n",
        "    nome = input('Digite o nome: ').strip()\r\n",
        "    idade = int(input('Digite a idade: '))\r\n",
        "    sexo = input('Sexo [M/F]: ').strip()\r\n",
        "    soma_idade += idade\r\n",
        "    if c == 1 and sexo in 'Mm':\r\n",
        "        maior_idade_homem = idade\r\n",
        "        nome_velho = nome\r\n",
        "    if sexo in 'Mm' and idade > maior_idade_homem:\r\n",
        "        maior_idade_homem = idade\r\n",
        "        nome_velho = nome\r\n",
        "        if sexo in 'Ff' and idade < 20:\r\n",
        "            total_mulher20 += 1\r\n",
        "media_idade = soma_idade / 4\r\n",
        "print('A média de idade do grupo é de {} anos.'.format(media_idade))\r\n",
        "print('O homem mais velho tem {} anos, e se chama {}.'.format(maior_idade_homem, nome_velho))\r\n",
        "print('Ao todo são {} mulheres com menos de 20 anos de idade.'.format(total_mulher20))"
      ],
      "execution_count": null,
      "outputs": [
        {
          "output_type": "stream",
          "text": [
            "----- 1ª PESSOA -----\n",
            "Digite o nome: Rodrigo\n",
            "Digite a idade: 33\n",
            "Sexo [M/F]: m\n",
            "----- 2ª PESSOA -----\n",
            "Digite o nome: Rogério\n",
            "Digite a idade: 26\n",
            "Sexo [M/F]: m\n",
            "----- 3ª PESSOA -----\n",
            "Digite o nome: Patricia\n",
            "Digite a idade: 30\n",
            "Sexo [M/F]: f\n",
            "----- 4ª PESSOA -----\n",
            "Digite o nome: Mari\n",
            "Digite a idade: 38\n",
            "Sexo [M/F]: f\n",
            "A média de idade do grupo é de 31.75 anos.\n",
            "O homem mais velho tem 33 anos, e se chama Rodrigo.\n",
            "Ao todo são 0 mulheres com menos de 20 anos de idade.\n"
          ],
          "name": "stdout"
        }
      ]
    },
    {
      "cell_type": "markdown",
      "metadata": {
        "id": "BA67C-XcRZLF"
      },
      "source": [
        "#faça um programa que leia o sexo de uma pessoa, mas só aceite os valores 'M' ou 'F'. Caso esteja errado, peça a digitação novamente até ter um valor correto."
      ]
    },
    {
      "cell_type": "code",
      "metadata": {
        "id": "pHf_DgyTRu4_",
        "colab": {
          "base_uri": "https://localhost:8080/"
        },
        "outputId": "c80f17b1-f620-4b0b-8f34-9f683f038972"
      },
      "source": [
        "sexo = str(input('Digite o sexo: [M/F] ')).strip().upper()[0]\r\n",
        "while sexo not in 'MmFf':\r\n",
        "    sexo = str(input('Sexo inválido! Digite novamente o sexo: [M/F] ')).strip().upper()[0]\r\n",
        "if sexo == 'F':\r\n",
        "    print('Sexo armazenado com sucesso: Feminino.')\r\n",
        "else:\r\n",
        "    print('Sexo armazenado com sucesso: Masculino.')"
      ],
      "execution_count": null,
      "outputs": [
        {
          "output_type": "stream",
          "text": [
            "Digite o sexo: [M/F] g\n",
            "Sexo inválido! Digite novamente o sexo: [M/F] m\n",
            "Sexo armazenado com sucesso: Masculino.\n"
          ],
          "name": "stdout"
        }
      ]
    },
    {
      "cell_type": "markdown",
      "metadata": {
        "id": "sn0R4yl2SCjt"
      },
      "source": [
        "#melhore o jogo do desafio onde o computador 'pensa um número entre 0 e 10. Só que agora o jogador vai tentar adivinhar até acertar, mostrando no final quantos palpites foram necessários para vencer."
      ]
    },
    {
      "cell_type": "code",
      "metadata": {
        "id": "7JdbNnHESJVl",
        "colab": {
          "base_uri": "https://localhost:8080/"
        },
        "outputId": "b89d9b4c-edc7-4871-f317-6931d5232a7f"
      },
      "source": [
        "import random\r\n",
        "number = random.randint(0, 10)\r\n",
        "tentativas = []\r\n",
        "palpite = int(input('\"Chute\" um número entre 0 e 10: '))\r\n",
        "while palpite != number:\r\n",
        "    palpite = int(input('\"Chute\" outro número entre 0 e 10: '))\r\n",
        "    tentativas.append(palpite)\r\n",
        "print('O computador escolheu {}.'.format(number))\r\n",
        "print('Parabéns você escolheu {} e acertou!!!'.format(palpite))\r\n",
        "print('Você precisou de {} tentativas para acertar.'.format(len(tentativas) + 1))"
      ],
      "execution_count": null,
      "outputs": [
        {
          "output_type": "stream",
          "text": [
            "\"Chute\" um número entre 0 e 10: 5\n",
            "\"Chute\" outro número entre 0 e 10: 4\n",
            "\"Chute\" outro número entre 0 e 10: 3\n",
            "\"Chute\" outro número entre 0 e 10: 2\n",
            "\"Chute\" outro número entre 0 e 10: 1\n",
            "O computador escolheu 1.\n",
            "Parabéns você escolheu 1 e acertou!!!\n",
            "Você precisou de 5 tentativas para acertar.\n"
          ],
          "name": "stdout"
        }
      ]
    },
    {
      "cell_type": "markdown",
      "metadata": {
        "id": "D1AqmHzmSL6s"
      },
      "source": [
        "#crie um programa que leia dois valores e mostre um menu na tela:\r\n",
        "\r\n",
        "[1]somar\r\n",
        "\r\n",
        "[2]multiplicar\r\n",
        "\r\n",
        "[3]maior\r\n",
        "\r\n",
        "[4]novos números\r\n",
        "\r\n",
        "[5]sair do programa\r\n",
        "\r\n",
        "Seu programa deverá realizar a operação solicitada em cada caso"
      ]
    },
    {
      "cell_type": "code",
      "metadata": {
        "id": "4CatTAxuSXMQ",
        "colab": {
          "base_uri": "https://localhost:8080/"
        },
        "outputId": "0f901a00-8a86-440e-f9b6-418139d59d8d"
      },
      "source": [
        "number1 = float(input('Digite um número na tela: '))\r\n",
        "number2 = float(input('Digite outro número na tela: '))\r\n",
        "print('=-' * 17)\r\n",
        "print('Escolha uma das operações abaixo: ')\r\n",
        "print('[1]Somar\\n[2]Multiplicar\\n[3]Maior número\\n[4}Novos números\\n[5]Sair do programa')\r\n",
        "print('=-' * 17)\r\n",
        "numbers = [number1, number2]\r\n",
        "numbers.sort()\r\n",
        "n = 0\r\n",
        "while n != 5:\r\n",
        "  print('Escolha uma opção: ')\r\n",
        "  n = int(input())\r\n",
        "  if(n == 1):\r\n",
        "    print(number1 + number2)\r\n",
        "  elif(n == 2):\r\n",
        "    print(number1 * number2)\r\n",
        "  elif(n == 3):\r\n",
        "    print(numbers[-1])\r\n",
        "  elif(n == 4):\r\n",
        "    new_numbers = []\r\n",
        "    for c in range(0, 2):\r\n",
        "      new_number = float(input('Digite um número: ')) \r\n",
        "      new_numbers.append(new_number)\r\n",
        "    new_numbers.sort()\r\n",
        "    print(new_numbers)\r\n",
        "print('Obrigado por usar nosso programa.')"
      ],
      "execution_count": null,
      "outputs": [
        {
          "output_type": "stream",
          "text": [
            "=-=-=-=-=-=-=-=-=-=-=-=-=-=-=-=-=-\n",
            "Escolha uma das operações abaixo: \n",
            "[1]Somar\n",
            "[2]Multiplicar\n",
            "[3]Maior número\n",
            "[4}Novos números\n",
            "[5]Sair do programa\n",
            "=-=-=-=-=-=-=-=-=-=-=-=-=-=-=-=-=-\n",
            "Escolha uma opção: \n",
            "[33.0, 56.0]\n",
            "Escolha uma opção: \n",
            "15.0\n",
            "Escolha uma opção: \n"
          ],
          "name": "stdout"
        }
      ]
    },
    {
      "cell_type": "markdown",
      "metadata": {
        "id": "hKXn7QuiSdzY"
      },
      "source": [
        "#faça um programa que leia um número qualquer e mostre seu fatorial usando while e for"
      ]
    },
    {
      "cell_type": "code",
      "metadata": {
        "id": "a2FZRch3SfwQ",
        "colab": {
          "base_uri": "https://localhost:8080/"
        },
        "outputId": "c92e9db3-5f64-4e93-963f-f4ccdc332309"
      },
      "source": [
        "fatorial = int(input('Digite um número inteiro qualquer: '))\r\n",
        "c = fatorial\r\n",
        "f = 1\r\n",
        "print('Calculando {}! = '.format(fatorial, end=''))\r\n",
        "while c > 0:\r\n",
        "  print('{}'.format(c), end='')\r\n",
        "  print(' x ' if c > 1 else ' = ', end='')\r\n",
        "  f *= c\r\n",
        "  c -= 1\r\n",
        "print('{}'.format(f))"
      ],
      "execution_count": 1,
      "outputs": [
        {
          "output_type": "stream",
          "text": [
            "Digite um número inteiro qualquer: 5\n",
            "Calculando 5! = \n",
            "5 x 4 x 3 x 2 x 1 = 120\n"
          ],
          "name": "stdout"
        }
      ]
    }
  ]
}