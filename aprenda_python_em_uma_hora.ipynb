{
  "nbformat": 4,
  "nbformat_minor": 0,
  "metadata": {
    "colab": {
      "name": "aprenda_python_em_uma_hora.ipynb",
      "provenance": [],
      "authorship_tag": "ABX9TyN75w5H3tM1U+OKi40ZFYTe",
      "include_colab_link": true
    },
    "kernelspec": {
      "name": "python3",
      "display_name": "Python 3"
    }
  },
  "cells": [
    {
      "cell_type": "markdown",
      "metadata": {
        "id": "view-in-github",
        "colab_type": "text"
      },
      "source": [
        "<a href=\"https://colab.research.google.com/github/rodrigowe1988/Python/blob/main/aprenda_python_em_uma_hora.ipynb\" target=\"_parent\"><img src=\"https://colab.research.google.com/assets/colab-badge.svg\" alt=\"Open In Colab\"/></a>"
      ]
    },
    {
      "cell_type": "markdown",
      "metadata": {
        "id": "BLneEpzq3LMO"
      },
      "source": [
        "#Fundamentos de Lógica de Programação com Python"
      ]
    },
    {
      "cell_type": "markdown",
      "metadata": {
        "id": "M3aA2IKw3zqo"
      },
      "source": [
        "##Tipo inteiro"
      ]
    },
    {
      "cell_type": "code",
      "metadata": {
        "colab": {
          "base_uri": "https://localhost:8080/"
        },
        "id": "UOQDoHhiokRG",
        "outputId": "1e2f5fe6-b977-42b4-c349-ad97738c22dc"
      },
      "source": [
        "type(55)"
      ],
      "execution_count": 1,
      "outputs": [
        {
          "output_type": "execute_result",
          "data": {
            "text/plain": [
              "int"
            ]
          },
          "metadata": {
            "tags": []
          },
          "execution_count": 1
        }
      ]
    },
    {
      "cell_type": "code",
      "metadata": {
        "colab": {
          "base_uri": "https://localhost:8080/"
        },
        "id": "wxpRcaPP36kt",
        "outputId": "c6077681-18ea-44e6-b822-6f408060730f"
      },
      "source": [
        "#retorna um float como resposta\r\n",
        "43 / 6"
      ],
      "execution_count": 3,
      "outputs": [
        {
          "output_type": "execute_result",
          "data": {
            "text/plain": [
              "float"
            ]
          },
          "metadata": {
            "tags": []
          },
          "execution_count": 3
        }
      ]
    },
    {
      "cell_type": "code",
      "metadata": {
        "colab": {
          "base_uri": "https://localhost:8080/"
        },
        "id": "RXuuUqJj4NRB",
        "outputId": "d7b6d39e-eb18-4cd1-985c-04f6de14fce6"
      },
      "source": [
        "#retorna somente a parte inteira da divisão\r\n",
        "43 // 6"
      ],
      "execution_count": 7,
      "outputs": [
        {
          "output_type": "execute_result",
          "data": {
            "text/plain": [
              "7"
            ]
          },
          "metadata": {
            "tags": []
          },
          "execution_count": 7
        }
      ]
    },
    {
      "cell_type": "code",
      "metadata": {
        "colab": {
          "base_uri": "https://localhost:8080/"
        },
        "id": "zeI6h_NB4ib_",
        "outputId": "6d4a7f98-2fbd-4fc4-fa11-39682bc94111"
      },
      "source": [
        "#maior número em Java (do tipo LONG)\r\n",
        "2 ** 63 -1"
      ],
      "execution_count": 8,
      "outputs": [
        {
          "output_type": "execute_result",
          "data": {
            "text/plain": [
              "9223372036854775807"
            ]
          },
          "metadata": {
            "tags": []
          },
          "execution_count": 8
        }
      ]
    },
    {
      "cell_type": "code",
      "metadata": {
        "colab": {
          "base_uri": "https://localhost:8080/"
        },
        "id": "RhedgMGI5Zwx",
        "outputId": "6dd46dcb-92ab-4cb4-bd2a-2e9b20a71fd9"
      },
      "source": [
        "#o Python permite que você utilize o _ onde ficaria os milhares para melhor visualização \r\n",
        "9_223_372_036_854_775_807"
      ],
      "execution_count": 10,
      "outputs": [
        {
          "output_type": "execute_result",
          "data": {
            "text/plain": [
              "9223372036854775807"
            ]
          },
          "metadata": {
            "tags": []
          },
          "execution_count": 10
        }
      ]
    },
    {
      "cell_type": "code",
      "metadata": {
        "colab": {
          "base_uri": "https://localhost:8080/"
        },
        "id": "TAJyWnBz5ghG",
        "outputId": "3cfd03ed-7a73-4e50-deef-16bd1d499495"
      },
      "source": [
        "#em Python, desde que o número caiba na memória, você pode utilizá-lo\r\n",
        "2 ** 500"
      ],
      "execution_count": 15,
      "outputs": [
        {
          "output_type": "execute_result",
          "data": {
            "text/plain": [
              "3273390607896141870013189696827599152216642046043064789483291368096133796404674554883270092325904157150886684127560071009217256545885393053328527589376"
            ]
          },
          "metadata": {
            "tags": []
          },
          "execution_count": 15
        }
      ]
    },
    {
      "cell_type": "markdown",
      "metadata": {
        "id": "5-detlaH6GYB"
      },
      "source": [
        "##Tipo Ponto Flutuante"
      ]
    },
    {
      "cell_type": "code",
      "metadata": {
        "colab": {
          "base_uri": "https://localhost:8080/"
        },
        "id": "i5_SmNFR6QfS",
        "outputId": "14a9f059-14b2-4d42-dfcc-5295f5908bc5"
      },
      "source": [
        "type(2.5)"
      ],
      "execution_count": 16,
      "outputs": [
        {
          "output_type": "execute_result",
          "data": {
            "text/plain": [
              "float"
            ]
          },
          "metadata": {
            "tags": []
          },
          "execution_count": 16
        }
      ]
    },
    {
      "cell_type": "code",
      "metadata": {
        "colab": {
          "base_uri": "https://localhost:8080/"
        },
        "id": "PQl_k-Xa6Su9",
        "outputId": "fca29fb6-2759-4760-a767-58e2a174652b"
      },
      "source": [
        "7.5 + 5, 5.5 - 7, 7.2 * 2, 2.1 ** 2, 7.3 /2"
      ],
      "execution_count": 17,
      "outputs": [
        {
          "output_type": "execute_result",
          "data": {
            "text/plain": [
              "(12.5, -1.5, 14.4, 4.41, 3.65)"
            ]
          },
          "metadata": {
            "tags": []
          },
          "execution_count": 17
        }
      ]
    },
    {
      "cell_type": "markdown",
      "metadata": {
        "id": "Dt7tphfu6ext"
      },
      "source": [
        "##Variáveis"
      ]
    },
    {
      "cell_type": "code",
      "metadata": {
        "colab": {
          "base_uri": "https://localhost:8080/"
        },
        "id": "f-MEPaK46idp",
        "outputId": "8c2ddc7b-5425-4b5f-eed8-f228dcb256f3"
      },
      "source": [
        "pi = 3.1415\r\n",
        "raio = 2\r\n",
        "pi * raio ** 2"
      ],
      "execution_count": 20,
      "outputs": [
        {
          "output_type": "execute_result",
          "data": {
            "text/plain": [
              "12.566"
            ]
          },
          "metadata": {
            "tags": []
          },
          "execution_count": 20
        }
      ]
    },
    {
      "cell_type": "markdown",
      "metadata": {
        "id": "ttxD9XrE6_o2"
      },
      "source": [
        "##Cadeia de Caracteres (String)"
      ]
    },
    {
      "cell_type": "code",
      "metadata": {
        "colab": {
          "base_uri": "https://localhost:8080/"
        },
        "id": "KM8yHQop7J3c",
        "outputId": "99e0fb49-9dd6-4c90-aee5-feb5eb1c7f5c"
      },
      "source": [
        "type('olá')"
      ],
      "execution_count": 21,
      "outputs": [
        {
          "output_type": "execute_result",
          "data": {
            "text/plain": [
              "str"
            ]
          },
          "metadata": {
            "tags": []
          },
          "execution_count": 21
        }
      ]
    },
    {
      "cell_type": "code",
      "metadata": {
        "colab": {
          "base_uri": "https://localhost:8080/"
        },
        "id": "XQsfJvLD7E-P",
        "outputId": "9a7cee4d-8580-47e7-decd-e0dfcb9fd21c"
      },
      "source": [
        "print('Olá Mundo!')"
      ],
      "execution_count": 22,
      "outputs": [
        {
          "output_type": "stream",
          "text": [
            "Olá Mundo!\n"
          ],
          "name": "stdout"
        }
      ]
    },
    {
      "cell_type": "code",
      "metadata": {
        "colab": {
          "base_uri": "https://localhost:8080/"
        },
        "id": "Gd804adA7NjU",
        "outputId": "854c6780-f926-4d92-818b-83524aef559a"
      },
      "source": [
        "nome = '''Rodrigo \r\n",
        "Weber'''\r\n",
        "print(nome)"
      ],
      "execution_count": 23,
      "outputs": [
        {
          "output_type": "stream",
          "text": [
            "Rodrigo \n",
            "Weber\n"
          ],
          "name": "stdout"
        }
      ]
    },
    {
      "cell_type": "markdown",
      "metadata": {
        "id": "iUoT8Dpd79GX"
      },
      "source": [
        "##Tipos Booleanos"
      ]
    },
    {
      "cell_type": "code",
      "metadata": {
        "colab": {
          "base_uri": "https://localhost:8080/"
        },
        "id": "WZm1cAej72EK",
        "outputId": "027b8e9a-af81-4400-be65-29c49eaed279"
      },
      "source": [
        "True, False, type(True), type(False)"
      ],
      "execution_count": 24,
      "outputs": [
        {
          "output_type": "execute_result",
          "data": {
            "text/plain": [
              "(True, False, bool, bool)"
            ]
          },
          "metadata": {
            "tags": []
          },
          "execution_count": 24
        }
      ]
    },
    {
      "cell_type": "code",
      "metadata": {
        "colab": {
          "base_uri": "https://localhost:8080/"
        },
        "id": "dTrjG_fe8Jjy",
        "outputId": "626005e1-4a67-43f2-908c-8e5efded47aa"
      },
      "source": [
        "not True, not False"
      ],
      "execution_count": 25,
      "outputs": [
        {
          "output_type": "execute_result",
          "data": {
            "text/plain": [
              "(False, True)"
            ]
          },
          "metadata": {
            "tags": []
          },
          "execution_count": 25
        }
      ]
    },
    {
      "cell_type": "code",
      "metadata": {
        "colab": {
          "base_uri": "https://localhost:8080/"
        },
        "id": "bQ6crLda8MLx",
        "outputId": "fa5c51e1-b8bc-478b-8894-d02ca7d8acce"
      },
      "source": [
        "(True and True, True and False, True or True, True or False, False or False)"
      ],
      "execution_count": 27,
      "outputs": [
        {
          "output_type": "execute_result",
          "data": {
            "text/plain": [
              "(True, False, True, True, False)"
            ]
          },
          "metadata": {
            "tags": []
          },
          "execution_count": 27
        }
      ]
    },
    {
      "cell_type": "markdown",
      "metadata": {
        "id": "rID1t7GC-B1b"
      },
      "source": [
        "##Desvios Lógicos"
      ]
    },
    {
      "cell_type": "code",
      "metadata": {
        "colab": {
          "base_uri": "https://localhost:8080/"
        },
        "id": "02TH-D4p8YHd",
        "outputId": "fc5ae6db-d4d7-4133-ca43-092b64194c9c"
      },
      "source": [
        "idade = 67\r\n",
        "if idade < 18:\r\n",
        "  print('Menor de idade.')\r\n",
        "elif idade >= 65:\r\n",
        "  print('Pessoa idosa.')\r\n",
        "else:\r\n",
        "  print('Maior de idade.')"
      ],
      "execution_count": 31,
      "outputs": [
        {
          "output_type": "stream",
          "text": [
            "Pessoa idosa.\n"
          ],
          "name": "stdout"
        }
      ]
    },
    {
      "cell_type": "markdown",
      "metadata": {
        "id": "z5t6pmVc_Qcp"
      },
      "source": [
        "##Funções"
      ]
    },
    {
      "cell_type": "code",
      "metadata": {
        "colab": {
          "base_uri": "https://localhost:8080/",
          "height": 69
        },
        "id": "P9tztKYm-a-x",
        "outputId": "29c89d33-d720-4314-c2a8-eecade05e73d"
      },
      "source": [
        "idade = int(input('Quantos anos você tem? '))\r\n",
        "nome = str(input('Qual é o seu nome? '))\r\n",
        "def classificar(idade, nome):\r\n",
        "  if idade < 18:\r\n",
        "    return (f'Olá {nome} você é menor de idade.')\r\n",
        "  elif idade >= 65:\r\n",
        "    return (f'Olá {nome} você é um pessoa idosa.')\r\n",
        "  else:\r\n",
        "    return (f'Olá {nome} você é maior de idade.')\r\n",
        "classificar(idade, nome)"
      ],
      "execution_count": 34,
      "outputs": [
        {
          "output_type": "stream",
          "text": [
            "Quantos anos você tem? 33\n",
            "Qual é o seu nome? Rodrigo\n"
          ],
          "name": "stdout"
        },
        {
          "output_type": "execute_result",
          "data": {
            "application/vnd.google.colaboratory.intrinsic+json": {
              "type": "string"
            },
            "text/plain": [
              "'Olá Rodrigo você é maior de idade.'"
            ]
          },
          "metadata": {
            "tags": []
          },
          "execution_count": 34
        }
      ]
    },
    {
      "cell_type": "markdown",
      "metadata": {
        "id": "j_74gVaJEauJ"
      },
      "source": [
        "##Sequências"
      ]
    },
    {
      "cell_type": "code",
      "metadata": {
        "colab": {
          "base_uri": "https://localhost:8080/"
        },
        "id": "Lu9EmtJHC5M6",
        "outputId": "ce65d063-091e-4fae-e1f8-368c730b1847"
      },
      "source": [
        "lista = [1, 2, 3]\r\n",
        "type(lista)"
      ],
      "execution_count": 36,
      "outputs": [
        {
          "output_type": "execute_result",
          "data": {
            "text/plain": [
              "list"
            ]
          },
          "metadata": {
            "tags": []
          },
          "execution_count": 36
        }
      ]
    },
    {
      "cell_type": "code",
      "metadata": {
        "colab": {
          "base_uri": "https://localhost:8080/"
        },
        "id": "GtZgBiZAEl8y",
        "outputId": "8433045a-edb4-4690-ac52-211a141ff3d5"
      },
      "source": [
        "print(f'''Primeiro elemento da lista: {lista[0]};\r\n",
        "tamanho da lista: {len(lista)}\r\n",
        "último elemento da lista: {lista[-1]};''')"
      ],
      "execution_count": 41,
      "outputs": [
        {
          "output_type": "stream",
          "text": [
            "Primeiro elemento da lista: 1;\n",
            "tamanho da lista: 3\n",
            "último elemento da lista: 3;\n"
          ],
          "name": "stdout"
        }
      ]
    },
    {
      "cell_type": "code",
      "metadata": {
        "colab": {
          "base_uri": "https://localhost:8080/"
        },
        "id": "o35-vg1WEsHB",
        "outputId": "2871334e-91fc-4c31-c9c1-9eb3e29e4212"
      },
      "source": [
        "#varre a lista, elemento de índice 2 não entra na contagem\r\n",
        "lista[0:2]\r\n",
        "lista[:3]\r\n",
        "lista[1: -1]"
      ],
      "execution_count": 45,
      "outputs": [
        {
          "output_type": "execute_result",
          "data": {
            "text/plain": [
              "[2]"
            ]
          },
          "metadata": {
            "tags": []
          },
          "execution_count": 45
        }
      ]
    },
    {
      "cell_type": "code",
      "metadata": {
        "colab": {
          "base_uri": "https://localhost:8080/"
        },
        "id": "qLs2Qe_GFbGT",
        "outputId": "da85f63a-79c4-4dc7-9e8f-74b1561cd04f"
      },
      "source": [
        "#criando uma lista com valores dentro de determinado range\r\n",
        "numbers = list(range(1, 11))\r\n",
        "numbers.sort(reverse=True)\r\n",
        "print(numbers)"
      ],
      "execution_count": 49,
      "outputs": [
        {
          "output_type": "stream",
          "text": [
            "[10, 9, 8, 7, 6, 5, 4, 3, 2, 1]\n"
          ],
          "name": "stdout"
        }
      ]
    },
    {
      "cell_type": "code",
      "metadata": {
        "colab": {
          "base_uri": "https://localhost:8080/"
        },
        "id": "MYyfxcnjGBdW",
        "outputId": "34143f80-087c-444f-d117-1848fec5c005"
      },
      "source": [
        "#criando uma lista com valores somente ímpares\r\n",
        "odd = list(range(1, 34, 2))\r\n",
        "print(odd)"
      ],
      "execution_count": 51,
      "outputs": [
        {
          "output_type": "stream",
          "text": [
            "[1, 3, 5, 7, 9, 11, 13, 15, 17, 19, 21, 23, 25, 27, 29, 31, 33]\n"
          ],
          "name": "stdout"
        }
      ]
    },
    {
      "cell_type": "markdown",
      "metadata": {
        "id": "dppX9xj6G-EF"
      },
      "source": [
        "#Adição e Remoção"
      ]
    },
    {
      "cell_type": "code",
      "metadata": {
        "colab": {
          "base_uri": "https://localhost:8080/"
        },
        "id": "dghnCe7EGixa",
        "outputId": "e5b6a9fe-187f-4399-9737-24433d6c662e"
      },
      "source": [
        "dir(numbers)"
      ],
      "execution_count": 52,
      "outputs": [
        {
          "output_type": "execute_result",
          "data": {
            "text/plain": [
              "['__add__',\n",
              " '__class__',\n",
              " '__contains__',\n",
              " '__delattr__',\n",
              " '__delitem__',\n",
              " '__dir__',\n",
              " '__doc__',\n",
              " '__eq__',\n",
              " '__format__',\n",
              " '__ge__',\n",
              " '__getattribute__',\n",
              " '__getitem__',\n",
              " '__gt__',\n",
              " '__hash__',\n",
              " '__iadd__',\n",
              " '__imul__',\n",
              " '__init__',\n",
              " '__init_subclass__',\n",
              " '__iter__',\n",
              " '__le__',\n",
              " '__len__',\n",
              " '__lt__',\n",
              " '__mul__',\n",
              " '__ne__',\n",
              " '__new__',\n",
              " '__reduce__',\n",
              " '__reduce_ex__',\n",
              " '__repr__',\n",
              " '__reversed__',\n",
              " '__rmul__',\n",
              " '__setattr__',\n",
              " '__setitem__',\n",
              " '__sizeof__',\n",
              " '__str__',\n",
              " '__subclasshook__',\n",
              " 'append',\n",
              " 'clear',\n",
              " 'copy',\n",
              " 'count',\n",
              " 'extend',\n",
              " 'index',\n",
              " 'insert',\n",
              " 'pop',\n",
              " 'remove',\n",
              " 'reverse',\n",
              " 'sort']"
            ]
          },
          "metadata": {
            "tags": []
          },
          "execution_count": 52
        }
      ]
    },
    {
      "cell_type": "code",
      "metadata": {
        "colab": {
          "base_uri": "https://localhost:8080/"
        },
        "id": "W5ah5YMiHvJk",
        "outputId": "b4605760-4f5b-40c5-ba06-4de725e98424"
      },
      "source": [
        "#adicionar elementos ao final da lista\r\n",
        "numbers.append(4)\r\n",
        "print(numbers)"
      ],
      "execution_count": 54,
      "outputs": [
        {
          "output_type": "stream",
          "text": [
            "[10, 9, 8, 7, 6, 5, 4, 3, 2, 1, 4, 4]\n"
          ],
          "name": "stdout"
        }
      ]
    },
    {
      "cell_type": "code",
      "metadata": {
        "colab": {
          "base_uri": "https://localhost:8080/"
        },
        "id": "mq1BFkPuIsJ8",
        "outputId": "de92016f-01ed-4b5a-94cc-a4f87101a76d"
      },
      "source": [
        "#remover elementos da lista(caso não expecifique o índice do elemento, removerá o último)\r\n",
        "numbers.pop()"
      ],
      "execution_count": 65,
      "outputs": [
        {
          "output_type": "execute_result",
          "data": {
            "text/plain": [
              "0"
            ]
          },
          "metadata": {
            "tags": []
          },
          "execution_count": 65
        }
      ]
    },
    {
      "cell_type": "code",
      "metadata": {
        "colab": {
          "base_uri": "https://localhost:8080/"
        },
        "id": "igDss4BHJIq5",
        "outputId": "5433ab27-8ba4-4f08-96eb-230baefdea66"
      },
      "source": [
        "#concatenando os elementos de duas listas\r\n",
        "numbers.extend([0, -1])\r\n",
        "print(numbers)"
      ],
      "execution_count": 61,
      "outputs": [
        {
          "output_type": "stream",
          "text": [
            "[9, 8, 7, 6, 5, 4, 3, 2, 1, 0, -1, 0, -1]\n"
          ],
          "name": "stdout"
        }
      ]
    },
    {
      "cell_type": "code",
      "metadata": {
        "colab": {
          "base_uri": "https://localhost:8080/"
        },
        "id": "saa5idkjJbZ8",
        "outputId": "1d9f59e0-e80a-485a-abd4-76bab8e37602"
      },
      "source": [
        "print('blá ' * 3)"
      ],
      "execution_count": 67,
      "outputs": [
        {
          "output_type": "stream",
          "text": [
            "blá blá blá \n"
          ],
          "name": "stdout"
        }
      ]
    },
    {
      "cell_type": "markdown",
      "metadata": {
        "id": "Q4sfaGp-KDKZ"
      },
      "source": [
        "#Laços de Repetição\r\n"
      ]
    },
    {
      "cell_type": "code",
      "metadata": {
        "colab": {
          "base_uri": "https://localhost:8080/"
        },
        "id": "r3kB7N6vJ4dL",
        "outputId": "edafe5d7-df27-42e3-ce06-fa9c93f6ec5c"
      },
      "source": [
        "idades = [17, 38, 70]\r\n",
        "\r\n",
        "for c in idades:\r\n",
        "  print(classificar(c, 'Pessoa'))\r\n"
      ],
      "execution_count": 70,
      "outputs": [
        {
          "output_type": "stream",
          "text": [
            "Olá Pessoa você é menor de idade.\n",
            "Olá Pessoa você é maior de idade.\n",
            "Olá Pessoa você é um pessoa idosa.\n"
          ],
          "name": "stdout"
        }
      ]
    },
    {
      "cell_type": "markdown",
      "metadata": {
        "id": "1KgoNKohK_1C"
      },
      "source": [
        "#Dicionário"
      ]
    },
    {
      "cell_type": "code",
      "metadata": {
        "colab": {
          "base_uri": "https://localhost:8080/"
        },
        "id": "lH5DD7R4Kp3c",
        "outputId": "0a3c2a70-646e-4ee1-f740-757e76c2f9b9"
      },
      "source": [
        "linguas = {'pt': 'Português', 'en': 'Inglês'}\r\n",
        "linguas['pt'], linguas['en']"
      ],
      "execution_count": 72,
      "outputs": [
        {
          "output_type": "execute_result",
          "data": {
            "text/plain": [
              "('Português', 'Inglês')"
            ]
          },
          "metadata": {
            "tags": []
          },
          "execution_count": 72
        }
      ]
    },
    {
      "cell_type": "code",
      "metadata": {
        "id": "vhwvkZCULPKg"
      },
      "source": [
        "linguas['es'] = 'Espanhol'"
      ],
      "execution_count": 73,
      "outputs": []
    },
    {
      "cell_type": "code",
      "metadata": {
        "colab": {
          "base_uri": "https://localhost:8080/"
        },
        "id": "x-qYpOnOLZZ5",
        "outputId": "31ef03c2-29de-442b-e63a-a0a145e730c6"
      },
      "source": [
        "print(linguas)"
      ],
      "execution_count": 74,
      "outputs": [
        {
          "output_type": "stream",
          "text": [
            "{'pt': 'Português', 'en': 'Inglês', 'es': 'Espanhol'}\n"
          ],
          "name": "stdout"
        }
      ]
    },
    {
      "cell_type": "code",
      "metadata": {
        "colab": {
          "base_uri": "https://localhost:8080/"
        },
        "id": "mOKDBoKILbB7",
        "outputId": "8385a257-2abe-4984-8b69-24b9ae7f151b"
      },
      "source": [
        "#imprimindo as chaves do dicionário\r\n",
        "for keys in linguas.keys():\r\n",
        "  print(keys)"
      ],
      "execution_count": 76,
      "outputs": [
        {
          "output_type": "stream",
          "text": [
            "pt\n",
            "en\n",
            "es\n"
          ],
          "name": "stdout"
        }
      ]
    },
    {
      "cell_type": "code",
      "metadata": {
        "colab": {
          "base_uri": "https://localhost:8080/"
        },
        "id": "o9lTktIdLsBz",
        "outputId": "d4a81052-56db-40b3-93a0-c12cf6692e90"
      },
      "source": [
        "#imprimindo os valores do dicionário\r\n",
        "for values in  linguas.values():\r\n",
        "  print(values)\r\n"
      ],
      "execution_count": 77,
      "outputs": [
        {
          "output_type": "stream",
          "text": [
            "Português\n",
            "Inglês\n",
            "Espanhol\n"
          ],
          "name": "stdout"
        }
      ]
    },
    {
      "cell_type": "code",
      "metadata": {
        "colab": {
          "base_uri": "https://localhost:8080/"
        },
        "id": "Bs-IeW-vL5Kr",
        "outputId": "73f682ae-d3fd-4a81-ec46-4a6e2bdcf7ec"
      },
      "source": [
        "#imprimindo ambos\r\n",
        "for chave, valor in linguas.items():\r\n",
        "  print(chave, valor)"
      ],
      "execution_count": 79,
      "outputs": [
        {
          "output_type": "stream",
          "text": [
            "pt Português\n",
            "en Inglês\n",
            "es Espanhol\n"
          ],
          "name": "stdout"
        }
      ]
    }
  ]
}