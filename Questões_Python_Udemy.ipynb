{
  "nbformat": 4,
  "nbformat_minor": 0,
  "metadata": {
    "colab": {
      "name": "Questões Python Udemy.ipynb",
      "provenance": [],
      "authorship_tag": "ABX9TyO+/JpgLRsgVoUuOr0r6tba",
      "include_colab_link": true
    },
    "kernelspec": {
      "name": "python3",
      "display_name": "Python 3"
    },
    "language_info": {
      "name": "python"
    }
  },
  "cells": [
    {
      "cell_type": "markdown",
      "metadata": {
        "id": "view-in-github",
        "colab_type": "text"
      },
      "source": [
        "<a href=\"https://colab.research.google.com/github/rodrigowe1988/Python/blob/main/Quest%C3%B5es_Python_Udemy.ipynb\" target=\"_parent\"><img src=\"https://colab.research.google.com/assets/colab-badge.svg\" alt=\"Open In Colab\"/></a>"
      ]
    },
    {
      "cell_type": "markdown",
      "metadata": {
        "id": "Mr43_d7Nvw0n"
      },
      "source": [
        "##Crie um programa que tenha uma função chamada amplitude. A função deve receber uma lista e imprimir a amplitude. Crie um código para testar a sua função."
      ]
    },
    {
      "cell_type": "code",
      "metadata": {
        "colab": {
          "base_uri": "https://localhost:8080/"
        },
        "id": "jNhyJzw2vtL1",
        "outputId": "08cf2eae-b38e-4603-bfa5-43fb136a5603"
      },
      "source": [
        "def amplitude(start=1, end=10):\n",
        "  lista1 = list()\n",
        "  while True:\n",
        "    list_item = float(input('Digite um número para adicionar à lista: [999 para parar] '))\n",
        "    if list_item == 999:\n",
        "      break\n",
        "    lista1.append(list_item)\n",
        "  return lista1\n",
        "x = amplitude()\n",
        "print(len(x))"
      ],
      "execution_count": 2,
      "outputs": [
        {
          "output_type": "stream",
          "text": [
            "Digite um número para adicionar à lista: [999 para parar] 1\n",
            "Digite um número para adicionar à lista: [999 para parar] 2\n",
            "Digite um número para adicionar à lista: [999 para parar] 3\n",
            "Digite um número para adicionar à lista: [999 para parar] 999\n",
            "3\n"
          ],
          "name": "stdout"
        }
      ]
    },
    {
      "cell_type": "markdown",
      "metadata": {
        "id": "-svPyvLLwFRA"
      },
      "source": [
        "##Faça uma função que receba uma String e imprima esta String na forma vertical.2222"
      ]
    },
    {
      "cell_type": "code",
      "metadata": {
        "colab": {
          "base_uri": "https://localhost:8080/"
        },
        "id": "YvCVQ-vWwKGt",
        "outputId": "cd4f678e-1267-44df-fd5c-40947c890fda"
      },
      "source": [
        "def verticalize():\n",
        "  word = str(input('Digite uma palavra: '))\n",
        "  for c in word:\n",
        "    print(c)\n",
        "verticalize()"
      ],
      "execution_count": null,
      "outputs": [
        {
          "output_type": "stream",
          "text": [
            "Digite uma palavra: Rodrigo\n",
            "R\n",
            "o\n",
            "d\n",
            "r\n",
            "i\n",
            "g\n",
            "o\n"
          ],
          "name": "stdout"
        }
      ]
    },
    {
      "cell_type": "markdown",
      "metadata": {
        "id": "qMhlHYFmwMRo"
      },
      "source": [
        "##Crie um programa que leia o peso de uma carga em números inteiros. \n",
        "\n",
        "* Se o peso for até 10kg, informe que o valor será de R$50,00. \n",
        "\n",
        "* Entre 11 e 20 Kg, informe que o valor será de R$80,00. \n",
        "\n",
        "* Se for maior que 20, informe que o transporte não poderá ser feito. Teste vários pesos."
      ]
    },
    {
      "cell_type": "code",
      "metadata": {
        "colab": {
          "base_uri": "https://localhost:8080/"
        },
        "id": "d0Qd2WaowKwf",
        "outputId": "96c021ed-98a3-4b3e-9615-bd330a8ebf82"
      },
      "source": [
        "peso = float(input('Digite o peso da carga: '))\n",
        "peso_int = int(peso)\n",
        "if peso_int <= 10:\n",
        "  print('O valor da carga será de R$50,00.')\n",
        "elif peso_int >= 11 and peso_int <= 20:\n",
        "  print('O valor da carga será de R$80,00.')\n",
        "else:\n",
        "  print('A carga não poderá ser transportada.')"
      ],
      "execution_count": null,
      "outputs": [
        {
          "output_type": "stream",
          "text": [
            "Digite o peso da carga: 5\n",
            "O valor da carga será de R$50,00.\n"
          ],
          "name": "stdout"
        }
      ]
    }
  ]
}