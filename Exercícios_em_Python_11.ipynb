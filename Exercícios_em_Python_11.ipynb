{
  "nbformat": 4,
  "nbformat_minor": 0,
  "metadata": {
    "colab": {
      "name": "Exercícios em Python 11.ipynb",
      "provenance": [],
      "toc_visible": true,
      "authorship_tag": "ABX9TyPyz8+xg4at8jnww4igOUwo",
      "include_colab_link": true
    },
    "kernelspec": {
      "name": "python3",
      "display_name": "Python 3"
    },
    "language_info": {
      "name": "python"
    }
  },
  "cells": [
    {
      "cell_type": "markdown",
      "metadata": {
        "id": "view-in-github",
        "colab_type": "text"
      },
      "source": [
        "<a href=\"https://colab.research.google.com/github/rodrigowe1988/Python/blob/main/Exerc%C3%ADcios_em_Python_11.ipynb\" target=\"_parent\"><img src=\"https://colab.research.google.com/assets/colab-badge.svg\" alt=\"Open In Colab\"/></a>"
      ]
    },
    {
      "cell_type": "markdown",
      "metadata": {
        "id": "Cz3Djg9zfXRp"
      },
      "source": [
        "#Funções DEF (definições de função)"
      ]
    },
    {
      "cell_type": "code",
      "metadata": {
        "colab": {
          "base_uri": "https://localhost:8080/"
        },
        "id": "Y-L58sOjfSuY",
        "outputId": "e56be475-4c63-4a6d-e0c0-021d3a006732"
      },
      "source": [
        "#teste inicial de FUNÇÃO\n",
        "def mostra_texto():\n",
        "  print('This is inside a function!')\n",
        "mostra_texto()"
      ],
      "execution_count": null,
      "outputs": [
        {
          "output_type": "stream",
          "text": [
            "This is inside a function!\n"
          ],
          "name": "stdout"
        }
      ]
    },
    {
      "cell_type": "code",
      "metadata": {
        "colab": {
          "base_uri": "https://localhost:8080/"
        },
        "id": "8WueZh_5gGL1",
        "outputId": "f031b4bc-05ae-4d5e-ec69-78efc537471e"
      },
      "source": [
        "#usando parâmetros na função\n",
        "def message(nome):\n",
        "  nome = str(input('Qual é o seu nome? '))\n",
        "  print('-=' * 30)\n",
        "  print(f'Olá {nome}. Seja muito bem vindo(a)!')\n",
        "  print('-=' * 30)\n",
        "message('teste')"
      ],
      "execution_count": null,
      "outputs": [
        {
          "output_type": "stream",
          "text": [
            "Qual é o seu nome? Rodrigo\n",
            "-=-=-=-=-=-=-=-=-=-=-=-=-=-=-=-=-=-=-=-=-=-=-=-=-=-=-=-=-=-=\n",
            "Olá Rodrigo. Seja muito bem vindo(a)!\n",
            "-=-=-=-=-=-=-=-=-=-=-=-=-=-=-=-=-=-=-=-=-=-=-=-=-=-=-=-=-=-=\n"
          ],
          "name": "stdout"
        }
      ]
    },
    {
      "cell_type": "code",
      "metadata": {
        "colab": {
          "base_uri": "https://localhost:8080/"
        },
        "id": "M4J1izFlhRsV",
        "outputId": "01e0363d-2df5-4119-e8dc-0443f4e91360"
      },
      "source": [
        "#criando uma função de SOMA\n",
        "def soma(a, b):\n",
        "  print(a + b)\n",
        "soma(1, 2)\n",
        "soma(32, 75)\n",
        "#caso queira alterar a ordem dos parâmetros\n",
        "soma(b=17, a=5) "
      ],
      "execution_count": null,
      "outputs": [
        {
          "output_type": "stream",
          "text": [
            "3\n",
            "107\n",
            "22\n"
          ],
          "name": "stdout"
        }
      ]
    },
    {
      "cell_type": "markdown",
      "metadata": {
        "id": "9If1dKRLkCo4"
      },
      "source": [
        "##No Python você consegue usar número de parâmetros aleatoriamente somente utilizando o * dentro dos parêntesis"
      ]
    },
    {
      "cell_type": "code",
      "metadata": {
        "colab": {
          "base_uri": "https://localhost:8080/"
        },
        "id": "ZvI_dLA7iyi6",
        "outputId": "03a16bfb-be5d-49a3-dd1a-fb41cae02a38"
      },
      "source": [
        "def contador(*num):\n",
        "  print(num)\n",
        "contador(1, 2, 3)\n",
        "contador(4, 5, 6, 7, 8)"
      ],
      "execution_count": null,
      "outputs": [
        {
          "output_type": "stream",
          "text": [
            "(1, 2, 3)\n",
            "(4, 5, 6, 7, 8)\n"
          ],
          "name": "stdout"
        }
      ]
    },
    {
      "cell_type": "code",
      "metadata": {
        "colab": {
          "base_uri": "https://localhost:8080/"
        },
        "id": "dMBE6RxhkmdP",
        "outputId": "d80142d3-6ec7-4ec9-de07-8aabd6f7a7d3"
      },
      "source": [
        "#criando uma lista com as tuplas criadas pela função contador\n",
        "lista = list()\n",
        "def contador(*num):\n",
        "  lista.append(num)\n",
        "contador(1, 2, 3)\n",
        "contador(4, 5, 6, 7)\n",
        "contador(8, 9, 110)\n",
        "print(lista)"
      ],
      "execution_count": null,
      "outputs": [
        {
          "output_type": "stream",
          "text": [
            "[(1, 2, 3), (4, 5, 6, 7), (8, 9, 110)]\n"
          ],
          "name": "stdout"
        }
      ]
    },
    {
      "cell_type": "code",
      "metadata": {
        "colab": {
          "base_uri": "https://localhost:8080/"
        },
        "id": "FR44MRs8k4Td",
        "outputId": "e3f8d9c6-6311-404a-b8a2-ff00ab12560a"
      },
      "source": [
        "def contador(*num):\n",
        "  size = len(num)\n",
        "  print(f'Recebi os valores {num} e são ao todo {size} números.')\n",
        "\n",
        "\n",
        "contador(1, 2, 3)"
      ],
      "execution_count": null,
      "outputs": [
        {
          "output_type": "stream",
          "text": [
            "Recebi os valores (1, 2, 3) e são ao todo 3 números.\n"
          ],
          "name": "stdout"
        }
      ]
    },
    {
      "cell_type": "code",
      "metadata": {
        "colab": {
          "base_uri": "https://localhost:8080/"
        },
        "id": "7c0McfR9ldN6",
        "outputId": "e1d9c471-db39-43f1-8ea9-be09802d81f5"
      },
      "source": [
        "#criando uma função para dobrar os valores dos elementos de uma lista \n",
        "def dobra(lst):\n",
        "  pos = 0\n",
        "  while pos < len(lst):\n",
        "    lst[pos] *= 2\n",
        "    pos +=1\n",
        "valores = [11, 2, 33, 45]\n",
        "print(valores)\n",
        "dobra(valores)\n",
        "print(valores)"
      ],
      "execution_count": null,
      "outputs": [
        {
          "output_type": "stream",
          "text": [
            "[11, 2, 33, 45]\n",
            "[22, 4, 66, 90]\n"
          ],
          "name": "stdout"
        }
      ]
    },
    {
      "cell_type": "code",
      "metadata": {
        "colab": {
          "base_uri": "https://localhost:8080/"
        },
        "id": "71b6P4YpmtK2",
        "outputId": "44f91cef-dd86-4d48-c843-4e0939dde366"
      },
      "source": [
        "#criando uma função de soma que aceita qualquer quantidade de valores\n",
        "def soma(* valores):\n",
        "  s = 0\n",
        "  for num in valores:\n",
        "    s += num\n",
        "  print(f'Somando os valores {valores}, temos {s}.')\n",
        "\n",
        "soma(3, 2)\n",
        "soma(4, 5, 6, 7, 8)"
      ],
      "execution_count": null,
      "outputs": [
        {
          "output_type": "stream",
          "text": [
            "Somando os valores (3, 2) temos 5.\n",
            "Somando os valores (4, 5, 6, 7, 8) temos 30.\n"
          ],
          "name": "stdout"
        }
      ]
    },
    {
      "cell_type": "markdown",
      "metadata": {
        "id": "guf8A8dhqS3H"
      },
      "source": [
        "##EXERCÍCIOS:\n"
      ]
    },
    {
      "cell_type": "markdown",
      "metadata": {
        "id": "86fiDKgyqZrg"
      },
      "source": [
        "###Desafio 096:\n",
        "* Faça um programa que tenha uma função chamada área(), que receba as dimensões de um terreno retangular(largura e comprimento) e  mostre a área do terreno. \n"
      ]
    },
    {
      "cell_type": "code",
      "metadata": {
        "colab": {
          "base_uri": "https://localhost:8080/"
        },
        "id": "PkRraigHnwZ5",
        "outputId": "8cd00531-7af0-4261-a4c4-9aa7873e00bf"
      },
      "source": [
        "def area():\n",
        "  size_a = float(input('Digite a largura do terreno: '))\n",
        "  size_b = float(input('Digite o comprimento do terreno: '))\n",
        "  print(f'O terreno possui a área de {size_a * size_b:.2f} m².')\n",
        "area()"
      ],
      "execution_count": null,
      "outputs": [
        {
          "output_type": "stream",
          "text": [
            "Digite a largura do terreno: 4\n",
            "Digite o comprimento do terreno: 8.5\n",
            "O terreno possui a área de 34.00 m².\n"
          ],
          "name": "stdout"
        }
      ]
    },
    {
      "cell_type": "markdown",
      "metadata": {
        "id": "Tp7Fb5PzZyJ_"
      },
      "source": [
        "###Desafio 097:\n",
        "\n",
        "* Crie um programa que tenha uma função chamada escreva(), que receba um texto qualquer como parâmetro e mostre uma mensagem com tamanho adaptável."
      ]
    },
    {
      "cell_type": "code",
      "metadata": {
        "colab": {
          "base_uri": "https://localhost:8080/"
        },
        "id": "dRm7UzFMb65r",
        "outputId": "ef86b5c0-ed25-4d8f-d5f3-b1a3fb87a970"
      },
      "source": [
        "#minha versão (explorando a minha lógica)\n",
        "def escreva(txt):\n",
        "  print('~' * (len(txt) + 1))\n",
        "  print(txt)\n",
        "  print('~' * (len(txt) + 1))\n",
        "msg = str(input('Digite um texto a sua escolha: '))\n",
        "escreva(msg)"
      ],
      "execution_count": null,
      "outputs": [
        {
          "output_type": "stream",
          "text": [
            "Digite um texto a sua escolha: tem alguma coisa\n",
            "~~~~~~~~~~~~~~~~~\n",
            "tem alguma coisa\n",
            "~~~~~~~~~~~~~~~~~\n"
          ],
          "name": "stdout"
        }
      ]
    },
    {
      "cell_type": "code",
      "metadata": {
        "id": "YuUo32wLdr-O"
      },
      "source": [
        "#versão do curso em vídeo com alinhamento central dos elementos"
      ],
      "execution_count": null,
      "outputs": []
    },
    {
      "cell_type": "markdown",
      "metadata": {
        "id": "6dpUmc_j6CpS"
      },
      "source": [
        "###Desafio 098\n",
        "\n",
        "* Faça um programa que tenha uma função chamada contador(), que receba três parâmetros: início, fim e passo e realize a contagem.\n",
        "\n",
        "* Seu programa tem que realizar três contagens através da função criada:\n",
        "\n",
        "  * de 1 até 10, de 1 em 1;\n",
        "  * de 10 até 0, de 2 em 2;\n",
        "  * uma contagem **personalizada**;\n"
      ]
    },
    {
      "cell_type": "code",
      "metadata": {
        "id": "Qu-rjVHR6EqZ"
      },
      "source": [
        ""
      ],
      "execution_count": null,
      "outputs": []
    },
    {
      "cell_type": "markdown",
      "metadata": {
        "id": "mAoqtOXW7KHd"
      },
      "source": [
        "###Desafio 099\n",
        "\n",
        "* Faça um programa que tenha uma função chamada maior( ), que receba vários parâmetros com valores inteiros.\n",
        "\n",
        "  * Seu programa tem que analisar todos os valores e dizer qual deles é o maior"
      ]
    },
    {
      "cell_type": "code",
      "metadata": {
        "id": "iBlQzdZj7Mo4"
      },
      "source": [
        ""
      ],
      "execution_count": null,
      "outputs": []
    },
    {
      "cell_type": "markdown",
      "metadata": {
        "id": "CwKClG2YG7Xd"
      },
      "source": [
        "###Desafio 100\n",
        "\n",
        "* Faça um programa que tenha uma lista chamada números e duas funções chamadas sorteio() e soma_par(). A primeira função vai sortear 5 números e vai colocá-lo dentro da lista e a segunda função vai mostrar a soma entre todos os valores PARES sorteados pela função anterior."
      ]
    },
    {
      "cell_type": "code",
      "metadata": {
        "id": "zzKW6pEdNXsw"
      },
      "source": [
        ""
      ],
      "execution_count": null,
      "outputs": []
    }
  ]
}