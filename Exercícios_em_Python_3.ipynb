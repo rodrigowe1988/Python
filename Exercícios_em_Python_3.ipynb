{
  "nbformat": 4,
  "nbformat_minor": 0,
  "metadata": {
    "colab": {
      "name": "Exercícios em Python 3.ipynb",
      "provenance": [],
      "authorship_tag": "ABX9TyOLlDUe/nkf99f5TV5Yhbo4",
      "include_colab_link": true
    },
    "kernelspec": {
      "name": "python3",
      "display_name": "Python 3"
    }
  },
  "cells": [
    {
      "cell_type": "markdown",
      "metadata": {
        "id": "view-in-github",
        "colab_type": "text"
      },
      "source": [
        "<a href=\"https://colab.research.google.com/github/rodrigowe1988/Python/blob/main/Exerc%C3%ADcios_em_Python_3.ipynb\" target=\"_parent\"><img src=\"https://colab.research.google.com/assets/colab-badge.svg\" alt=\"Open In Colab\"/></a>"
      ]
    },
    {
      "cell_type": "markdown",
      "metadata": {
        "id": "lPrJ6ewlMtiK"
      },
      "source": [
        "#Escreva um programa que pergunte o salário de um funcionário e calcule o valor de seu aumento\r\n",
        "-para salários acima de 1250 reais, calcule aumento de 10%\r\n",
        "\r\n",
        "-para os inferiores ou igual a 1250, calcule aumento de 15%"
      ]
    },
    {
      "cell_type": "code",
      "metadata": {
        "id": "ejr8SMRmMmw1",
        "colab": {
          "base_uri": "https://localhost:8080/"
        },
        "outputId": "810d50f0-eb80-4bc6-e329-2cba342e1165"
      },
      "source": [
        "salario = float(input('Digite o salário do funcionário: '))\r\n",
        "if salario > 1250:\r\n",
        "  print(f'Com o aumento o novo salário do funcionário é R${salario + (salario * 0.1):.2f}.')\r\n",
        "else:\r\n",
        "  print(f'O novo salário do funcionário será de R${salario + (salario * 0.15)}.')"
      ],
      "execution_count": null,
      "outputs": [
        {
          "output_type": "stream",
          "text": [
            "Digite o salário do funcionário: 1000\n",
            "O novo salário do funcionário será de R$1150.0.\n"
          ],
          "name": "stdout"
        }
      ]
    },
    {
      "cell_type": "markdown",
      "metadata": {
        "id": "ucXrCqfTM9r8"
      },
      "source": [
        "#Desenvolva um programa que leia o comprimento de três retas e diga ao usuário se elas podem ou não formar um triângulo\r\n"
      ]
    },
    {
      "cell_type": "code",
      "metadata": {
        "id": "glRV2lk6NDj7",
        "colab": {
          "base_uri": "https://localhost:8080/"
        },
        "outputId": "5254623c-17c6-45a9-8e66-c9c365eef2f1"
      },
      "source": [
        "retas = []\r\n",
        "for c in range(0, 3):\r\n",
        "  reta = float(input('Digite o tamanho da reta: '))\r\n",
        "  retas.append(reta)\r\n",
        "retas.sort()\r\n",
        "if retas[0] + retas[1] > retas[2]:\r\n",
        "  print('É possível fazer um trinâgulo com essas retas.')\r\n",
        "else: \r\n",
        "  print('Não é possível fazer um triângulo com essas retas pois as somas dos catetos é menor do que a hipotenusa.')"
      ],
      "execution_count": null,
      "outputs": [
        {
          "output_type": "stream",
          "text": [
            "Digite o tamanho da reta: 10\n",
            "Digite o tamanho da reta: 10\n",
            "Digite o tamanho da reta: 15\n",
            "É possível fazer um trinâgulo com essas retas.\n"
          ],
          "name": "stdout"
        }
      ]
    },
    {
      "cell_type": "markdown",
      "metadata": {
        "id": "2vpYMxrlNFJI"
      },
      "source": [
        "#Escreva um programa para aprovar um empréstimo bancário para a compra de uma casa. O programa vai perguntar:\r\n",
        "\r\n",
        " -o valor da casa;\r\n",
        "\r\n",
        " -o salário do comprador;\r\n",
        "\r\n",
        " -em quantos anos ele gostaria de pagar;\r\n",
        "\r\n",
        " Calcule o valor mensal da prestação, sabendo que ela não pode exceder 30% do salário ou então o empréstimo será negado.\r\n"
      ]
    },
    {
      "cell_type": "code",
      "metadata": {
        "id": "JcTyvlBGNP1I",
        "colab": {
          "base_uri": "https://localhost:8080/"
        },
        "outputId": "54db898f-e7ff-4175-ed52-2f24f27a732b"
      },
      "source": [
        "valor_da_casa = float(input('Digite o valor da casa: '))\r\n",
        "salario = float(input('Digite o salário do comprador: '))\r\n",
        "tempo = int(input('Digite a quantidade de meses que gostaria de parcela a casa: '))\r\n",
        "prestacao = valor_da_casa / tempo \r\n",
        "if prestacao < salario * 0.3:\r\n",
        "  print('Pode ser feito o empréstimo e o valor da parcela será de R${:.2f}.'.format(prestacao))\r\n",
        "else:\r\n",
        "  print('Empréstimo negado pois o valor da parcela excede o 30% do valor do salário.')"
      ],
      "execution_count": null,
      "outputs": [
        {
          "output_type": "stream",
          "text": [
            "Digite o valor da casa: 100000\n",
            "Digite o salário do comprador: 5000\n",
            "Digite a quantidade de meses que gostaria de parcela a casa: 100\n",
            "Pode parcelar e o valor da parcela será de R$1000.00.\n"
          ],
          "name": "stdout"
        }
      ]
    },
    {
      "cell_type": "markdown",
      "metadata": {
        "id": "b5WGYCfbNQzY"
      },
      "source": [
        "#Escreva um programa que leia um número inteiro qualquer e peça para o usuário escolher qual será a base de conversão:\r\n",
        "-1 para binário;\r\n",
        "\r\n",
        "-2 para octal\r\n",
        "\r\n",
        "-3 para hexadecimal"
      ]
    },
    {
      "cell_type": "code",
      "metadata": {
        "id": "jjUciFlENYFD",
        "colab": {
          "base_uri": "https://localhost:8080/"
        },
        "outputId": "ef085fba-98d6-4555-b789-c337d94cb0c0"
      },
      "source": [
        "number = int(input('Digite um número inteiro qualquer: '))\r\n",
        "print(f'O número {number} convertido em:')\r\n",
        "print(f'Binário: {bin(number)[2:]}.')\r\n",
        "print(f'Octal: {oct(number)[2:]}')\r\n",
        "print(f'Hexadecimal: {hex(number)[2:]}')"
      ],
      "execution_count": null,
      "outputs": [
        {
          "output_type": "stream",
          "text": [
            "Digite um número inteiro qualquer: 10\n",
            "O número 10 convertido em:\n",
            "Binário: 1010.\n",
            "Octal: 12\n",
            "Hexadecimal: a\n"
          ],
          "name": "stdout"
        }
      ]
    },
    {
      "cell_type": "markdown",
      "metadata": {
        "id": "XVJPayhKNjX4"
      },
      "source": [
        "#Escreva um programa que leia dois números inteiros e compare-os, mostrando na tela uma mensagem:\r\n",
        "-O primeiro valor é maior;\r\n",
        "\r\n",
        "-O segundo valor é maior;\r\n",
        "\r\n",
        "-Não existe valor maior, ambos são iguais;"
      ]
    },
    {
      "cell_type": "code",
      "metadata": {
        "id": "amdmpPIKNoxc",
        "colab": {
          "base_uri": "https://localhost:8080/"
        },
        "outputId": "81def96a-b94a-4b11-fbbe-d1c57aa8821b"
      },
      "source": [
        "numeros = []\r\n",
        "for c in range(0, 2):\r\n",
        "  n1 = int(input('Digite um número inteiro: '))\r\n",
        "  numeros.append(n1)\r\n",
        "numeros.sort()\r\n",
        "if numeros[0] == numeros[1]:\r\n",
        "  print('Os dois números digitados são iguais.')\r\n",
        "else:\r\n",
        "  print(f'O número maior é {numeros[1]} e o menor é {numeros[0]}.')"
      ],
      "execution_count": null,
      "outputs": [
        {
          "output_type": "stream",
          "text": [
            "Digite um número inteiro: 100\n",
            "Digite um número inteiro: 90\n",
            "O número maior é 100 e o menor é 90.\n"
          ],
          "name": "stdout"
        }
      ]
    },
    {
      "cell_type": "markdown",
      "metadata": {
        "id": "1FH7Iv4VNxWr"
      },
      "source": [
        "1#Crie um programa que leia o ano de nascimento de um jovem e informe, de acordo com sua idade:\r\n",
        "-se ele ainda vai se alistar ao serviço militar;\r\n",
        "\r\n",
        "-se é a hora de se alistar;\r\n",
        "\r\n",
        "-se já passou do tempo de alistamento;\r\n",
        "\r\n",
        "-seu programa também deverá mostrar o tempo que falta ou que passou do prazo."
      ]
    },
    {
      "cell_type": "code",
      "metadata": {
        "id": "HiwJb2LrN6fo"
      },
      "source": [
        ""
      ],
      "execution_count": null,
      "outputs": []
    },
    {
      "cell_type": "markdown",
      "metadata": {
        "id": "JZw3592jN-v6"
      },
      "source": [
        "#Crie um programa que leia duas notas de um aluno e calcule a média entre elas e mostre na tela de acordo com a média:\r\n",
        "\r\n",
        "-média abaixo de 5.0: REPROVADO;\r\n",
        "\r\n",
        "-média entre 5.0 e 6.9: EM RECUPERAÇÃO;\r\n",
        "\r\n",
        "-média 7.0 ou superior: APROVADO;"
      ]
    },
    {
      "cell_type": "code",
      "metadata": {
        "id": "DK8qzlnJOELQ",
        "colab": {
          "base_uri": "https://localhost:8080/"
        },
        "outputId": "9f6dde48-d742-4bae-d6c0-45bc2d2752e5"
      },
      "source": [
        "nota1 = float(input('Digite a primeira nota: '))\r\n",
        "nota2 = float(input('Digite a segunda nota: '))\r\n",
        "media = (nota1 + nota2) / 2\r\n",
        "if media < 5:\r\n",
        "  print('REPROVADO')\r\n",
        "elif media >= 5 and media < 7:\r\n",
        "  print('EM RECUPERAÇÃO')\r\n",
        "else:\r\n",
        "  print('APROVADO')"
      ],
      "execution_count": null,
      "outputs": [
        {
          "output_type": "stream",
          "text": [
            "Digite a primeira nota: 5\n",
            "Digite a segunda nota: 4\n",
            "REPROVADO\n"
          ],
          "name": "stdout"
        }
      ]
    },
    {
      "cell_type": "code",
      "metadata": {
        "id": "f5wUzV1cVbsH"
      },
      "source": [
        ""
      ],
      "execution_count": null,
      "outputs": []
    }
  ]
}