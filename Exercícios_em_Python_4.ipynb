{
  "nbformat": 4,
  "nbformat_minor": 0,
  "metadata": {
    "colab": {
      "name": "Exercícios em Python 4.ipynb",
      "provenance": [],
      "toc_visible": true,
      "authorship_tag": "ABX9TyPFYxwvrJja7LQ9/QlZaU0j",
      "include_colab_link": true
    },
    "kernelspec": {
      "name": "python3",
      "display_name": "Python 3"
    }
  },
  "cells": [
    {
      "cell_type": "markdown",
      "metadata": {
        "id": "view-in-github",
        "colab_type": "text"
      },
      "source": [
        "<a href=\"https://colab.research.google.com/github/rodrigowe1988/Python/blob/main/Exerc%C3%ADcios_em_Python_4.ipynb\" target=\"_parent\"><img src=\"https://colab.research.google.com/assets/colab-badge.svg\" alt=\"Open In Colab\"/></a>"
      ]
    },
    {
      "cell_type": "markdown",
      "metadata": {
        "id": "Dq5kRM5KW6Xr"
      },
      "source": [
        "#A confederação Nacional de Natação precisa de um programa que leia o ano de nascimento de um atleta e mostre a sua categoria, de acordo com a idade:\r\n",
        "-até 9 anos: MIRIM;\r\n",
        "\r\n",
        "-até 14 anos: INFANTIL;\r\n",
        "\r\n",
        "-até 17 anos: JÙNIOR;\r\n",
        "\r\n",
        "-até 20 anos: SÊNIOR;\r\n",
        "\r\n",
        "-acima: MASTER;\r\n"
      ]
    },
    {
      "cell_type": "code",
      "metadata": {
        "colab": {
          "base_uri": "https://localhost:8080/"
        },
        "id": "oQVgi3_eWrGG",
        "outputId": "e59f9c64-e8bd-4b32-bc62-6e986012ece6"
      },
      "source": [
        "from datetime import date\r\n",
        "atual = date.today().year\r\n",
        "ano_nasc = int(input('Digite o ano de nascimento do atleta: [999 para parar] '))\r\n",
        "idade = atual - ano_nasc\r\n",
        "if idade <= 9:\r\n",
        "  print('Atleta mirim')\r\n",
        "elif idade <= 14:\r\n",
        "  print('Atleta infantil')\r\n",
        "elif idade <= 17:\r\n",
        "  print('Atleta júnior')\r\n",
        "elif idade <= 20:\r\n",
        "  print('Atleta sênior')\r\n",
        "else:\r\n",
        "  print('Atleta master')\r\n",
        "\r\n"
      ],
      "execution_count": null,
      "outputs": [
        {
          "output_type": "stream",
          "text": [
            "Digite o ano de nascimento do atleta: [999 para parar] 1988\n",
            "Atleta master\n"
          ],
          "name": "stdout"
        }
      ]
    },
    {
      "cell_type": "markdown",
      "metadata": {
        "id": "9YuZj9YFXFgN"
      },
      "source": [
        "#Refaça o desafio dos triângulos acrescentando o recurso de mostrar que tipo de triângulo será formado:\r\n",
        "-equilátero: todos os lados iguais;\r\n",
        "\r\n",
        "-isósceles: dois lados iguais;\r\n",
        "\r\n",
        "-escaleno: todos os lados diferentes;\r\n"
      ]
    },
    {
      "cell_type": "code",
      "metadata": {
        "colab": {
          "base_uri": "https://localhost:8080/"
        },
        "id": "jYKvpI9LXND6",
        "outputId": "aa53df5f-eab1-4f72-f581-26c00ded6927"
      },
      "source": [
        "retas = []\r\n",
        "for i in range(0, 3):\r\n",
        "  reta = float(input('Digite a medida da reta: '))\r\n",
        "  retas.append(reta)\r\n",
        "retas.sort()\r\n",
        "if retas[0] + retas [1] < retas[2]:\r\n",
        "  print('Não é possível fazer um triângulo com essas medidas pois a soma dos catetos é menor do que a hipotenusa.')\r\n",
        "else: \r\n",
        "  if retas[0] == retas[1] and retas[0] == retas[2] and retas[1] == retas[2]:\r\n",
        "    print('Triãngulo Equilátero')\r\n",
        "  elif retas[0] == retas[1] or retas[0] == retas[2] or retas[1] == retas[2]:\r\n",
        "    print('Triângulo Isósceles')\r\n",
        "  else:\r\n",
        "    print('Triângulo Escaleno')\r\n"
      ],
      "execution_count": null,
      "outputs": [
        {
          "output_type": "stream",
          "text": [
            "Digite a medida da reta: 5\n",
            "Digite a medida da reta: 6\n",
            "Digite a medida da reta: 7\n",
            "Triângulo Escaleno\n",
            "[5.0, 6.0, 7.0]\n"
          ],
          "name": "stdout"
        }
      ]
    },
    {
      "cell_type": "markdown",
      "metadata": {
        "id": "BwNk_YNuXN2r"
      },
      "source": [
        "#desenvolva uma lógica que leia o peso e altura de uma pessoa, calcule seu IMC e mostre seu status de acordo com a tabela abaixo:\r\n",
        "-abaixo de 18.5: Abaixo do peso;\r\n",
        "\r\n",
        "-entre 18.5 e 25: Peso ideal;\r\n",
        "\r\n",
        "-25 até 30: Sobrepeso;\r\n",
        "\r\n",
        "-30 até 40: Obesidade;\r\n",
        "\r\n",
        "-Acima de 40: Obesidade mórbida"
      ]
    },
    {
      "cell_type": "code",
      "metadata": {
        "colab": {
          "base_uri": "https://localhost:8080/"
        },
        "id": "RzhekYhqbTTp",
        "outputId": "1e65ff7b-b288-4928-98d7-b8656f977985"
      },
      "source": [
        "peso = float(input('Digite o peso: '))\r\n",
        "altura = float(input('Digite a altura: '))\r\n",
        "imc = peso / altura ** 2\r\n",
        "if imc < 18.5:\r\n",
        "  print('Abaixo do peso')\r\n",
        "elif imc >= 18.5 and imc < 25:\r\n",
        "  print('Peso ideal')\r\n",
        "elif imc >= 25 and imc < 30:\r\n",
        "  print('Sobrepeso')\r\n",
        "elif imc >= 30 and imc <= 40:\r\n",
        "  print('Obesidade')\r\n",
        "else:\r\n",
        "  print('Obesidade mórbida')"
      ],
      "execution_count": null,
      "outputs": [
        {
          "output_type": "stream",
          "text": [
            "Digite o peso: 150\n",
            "Digite a altura: 1.6\n",
            "Obesidade mórbida\n"
          ],
          "name": "stdout"
        }
      ]
    },
    {
      "cell_type": "markdown",
      "metadata": {
        "id": "xWZeyTyLbWsr"
      },
      "source": [
        "#Elabore um programa que calcule o valor a ser pago por um produto, considerando o seu preço normal e condição de pagamento:\r\n",
        "-à vista dinheiro/ cheque: 10% de desconto;\r\n",
        "\r\n",
        "-à vista no cartão: 5% de desconto;\r\n",
        "\r\n",
        "-em até 2x no cartão: preço normal;\r\n",
        "\r\n",
        "-3x ou mais no cartão: 20% de juros;"
      ]
    },
    {
      "cell_type": "code",
      "metadata": {
        "colab": {
          "base_uri": "https://localhost:8080/"
        },
        "id": "LsoYtsUvbaq6",
        "outputId": "f684a264-e162-42ea-a62f-b2c29bae112e"
      },
      "source": [
        "preco = 1\r\n",
        "precos = []\r\n",
        "while preco > 0:\r\n",
        "  preco = float(input('Digite o preço do produto: '))\r\n",
        "  if preco > 0:\r\n",
        "    precos.append(preco)\r\n",
        "print('=-' * 20)\r\n",
        "print('1.Dinheiro à vista (10% de desconto)')\r\n",
        "print('2.Cartão à vista (5% de desconto)')\r\n",
        "print('3.Cartão em 2x (preço normal)')\r\n",
        "print('4.Cartão em 3x ou mais (20% de juros)')\r\n",
        "print('=-' * 20)\r\n",
        "\r\n",
        "pagamento = 0\r\n",
        "while pagamento != -999:\r\n",
        "  pagamento = int(input('Escolha a forma de pagamento: [-999 para sair] ')) \r\n",
        "  if pagamento == 1:\r\n",
        "    for i in range(0, len(precos)):\r\n",
        "      print('Produto {} é R${:.2f}'.format(i + 1, precos[i] - (precos[i] * 0.1)))\r\n",
        "  elif pagamento == 2:\r\n",
        "    for i in range(0, len(precos)):\r\n",
        "      print('Produto {} é R${:.2f}'.format(i + 1, precos[i] - (precos[i] * 0.05)))\r\n",
        "  elif pagamento == 3:\r\n",
        "    for i in range(0, len(precos)):\r\n",
        "      print('Produto {} é R${:.2f}'.format(i + 1, precos[i]))\r\n",
        "  elif pagamento == 4:\r\n",
        "    for i in range(0, len(precos)):\r\n",
        "      print('Produto {} é R${:.2f}'.format(i + 1, precos[i] + (precos[i] * 0.2)))\r\n",
        "  elif pagamento == -999:\r\n",
        "    print('Programa encerrado pelo usuário.')\r\n",
        "  else: \r\n",
        "    print('Opcão inválida')\r\n",
        "print('\\xa9 Rodrigo Weber - Programador Python')"
      ],
      "execution_count": null,
      "outputs": [
        {
          "output_type": "stream",
          "text": [
            "Digite o preço do produto: 1\n",
            "Digite o preço do produto: -1\n",
            "=-=-=-=-=-=-=-=-=-=-=-=-=-=-=-=-=-=-=-=-\n",
            "1.Dinheiro à vista (10% de desconto)\n",
            "2.Cartão à vista (5% de desconto)\n",
            "3.Cartão em 2x (preço normal)\n",
            "4.Cartão em 3x ou mais (20% de juros)\n",
            "=-=-=-=-=-=-=-=-=-=-=-=-=-=-=-=-=-=-=-=-\n",
            "Escolha a forma de pagamento: [-999 para sair] -999\n",
            "Programa encerrado pelo usuário.\n",
            "© Rodrigo Weber\n"
          ],
          "name": "stdout"
        }
      ]
    },
    {
      "cell_type": "markdown",
      "metadata": {
        "id": "Ja0pIlb8bs6s"
      },
      "source": [
        "#Crie um programa que faça o computador jogar jokenpô com você"
      ]
    },
    {
      "cell_type": "code",
      "metadata": {
        "id": "Jcght25Sbuo_",
        "colab": {
          "base_uri": "https://localhost:8080/"
        },
        "outputId": "a1dc6e81-e009-4501-fca4-6a591ad19836"
      },
      "source": [
        "from random import randint\r\n",
        "\r\n",
        "opcoes = ['pedra', 'papel', 'tesoura']\r\n",
        "random_number = randint(0, 2)\r\n",
        "print('=-' * 8)\r\n",
        "print('Jogando Jokenpô')\r\n",
        "print('=-' * 8)\r\n",
        "for c in range(0, 3):\r\n",
        "  print(f'{c} para escolher {opcoes[c]}' )\r\n",
        "\r\n",
        "choice = int(input('Escolha uma das opções acima: '))\r\n",
        "\r\n",
        "print(f'O computador escolheu {opcoes[random_number]}.')\r\n",
        "print('Você escolheu {}.'.format(opcoes[choice]))\r\n",
        "\r\n",
        "if(opcoes[choice] == opcoes[random_number]):\r\n",
        "  print('Empate!')\r\n",
        "elif((opcoes[choice] == 'papel' and opcoes[random_number] == 'pedra') or (opcoes[choice] == 'pedra' and opcoes[random_number] == 'tesoura') or (opcoes[choice] == 'tesoura' and opcoes[random_number] == 'papel')):\r\n",
        "  print('Parabéns, você ganhou!')\r\n",
        "else:\r\n",
        "  print('Não foi dessa vez, o computador ganhou de você!')  "
      ],
      "execution_count": null,
      "outputs": [
        {
          "output_type": "stream",
          "text": [
            "=-=-=-=-=-=-=-=-\n",
            "Jogando Jokenpô\n",
            "=-=-=-=-=-=-=-=-\n",
            "0 para escolher pedra\n",
            "1 para escolher papel\n",
            "2 para escolher tesoura\n",
            "Escolha uma das opções acima: 2\n",
            "O computador escolheu pedra.\n",
            "Você escolheu tesoura.\n",
            "Não foi dessa vez, o computador ganhou de você!\n"
          ],
          "name": "stdout"
        }
      ]
    },
    {
      "cell_type": "markdown",
      "metadata": {
        "id": "S15EEl74b2Mq"
      },
      "source": [
        "#Crie um programa que mostre uma contagem regressiva para o estouro dos fogos:\r\n",
        "-contagem de 10 até 0;\r\n",
        "\r\n",
        "-pausa de 1 segundo entre eles;"
      ]
    },
    {
      "cell_type": "code",
      "metadata": {
        "id": "O1JTHO9wb7q2"
      },
      "source": [
        "from time import sleep\r\n",
        "import emoji\r\n",
        "for c in range(10, 0, -1):\r\n",
        "  print(c)\r\n",
        "  sleep(1)\r\n",
        "print(emoji.emojize(':boom:' * 3, use_aliases=True))\r\n",
        "print('Feliz Ano Novo!!!')\r\n"
      ],
      "execution_count": null,
      "outputs": []
    },
    {
      "cell_type": "markdown",
      "metadata": {
        "id": "t6MkHLdxcHbH"
      },
      "source": [
        "#crie um programa que mostre todos os números pares entre 1 e 50"
      ]
    },
    {
      "cell_type": "code",
      "metadata": {
        "id": "tR1IlB9DcJww",
        "colab": {
          "base_uri": "https://localhost:8080/"
        },
        "outputId": "aba3dfd4-af43-4940-b38e-44f0d4710459"
      },
      "source": [
        "def pair_numbers(number):\r\n",
        "  valid_numbers = []\r\n",
        "  for i in range(0, number + 1):\r\n",
        "    if i % 2 == 0:\r\n",
        "      valid_numbers.append(i)\r\n",
        "  print(valid_numbers)\r\n",
        "pair_numbers(300)"
      ],
      "execution_count": null,
      "outputs": [
        {
          "output_type": "stream",
          "text": [
            "[0, 2, 4, 6, 8, 10, 12, 14, 16, 18, 20, 22, 24, 26, 28, 30, 32, 34, 36, 38, 40, 42, 44, 46, 48, 50, 52, 54, 56, 58, 60, 62, 64, 66, 68, 70, 72, 74, 76, 78, 80, 82, 84, 86, 88, 90, 92, 94, 96, 98, 100, 102, 104, 106, 108, 110, 112, 114, 116, 118, 120, 122, 124, 126, 128, 130, 132, 134, 136, 138, 140, 142, 144, 146, 148, 150, 152, 154, 156, 158, 160, 162, 164, 166, 168, 170, 172, 174, 176, 178, 180, 182, 184, 186, 188, 190, 192, 194, 196, 198, 200, 202, 204, 206, 208, 210, 212, 214, 216, 218, 220, 222, 224, 226, 228, 230, 232, 234, 236, 238, 240, 242, 244, 246, 248, 250, 252, 254, 256, 258, 260, 262, 264, 266, 268, 270, 272, 274, 276, 278, 280, 282, 284, 286, 288, 290, 292, 294, 296, 298, 300]\n"
          ],
          "name": "stdout"
        }
      ]
    },
    {
      "cell_type": "markdown",
      "metadata": {
        "id": "HuFpPBFbcK2y"
      },
      "source": [
        "#faça um programa que calcule a soma entre todos os números ímpares que são múltiplos de 3 e que se encontram no intervalo de 1 até 500"
      ]
    },
    {
      "cell_type": "code",
      "metadata": {
        "id": "ObakoIzXcty3",
        "colab": {
          "base_uri": "https://localhost:8080/"
        },
        "outputId": "56976b9b-3a97-4bee-cc36-2096fe3c42e8"
      },
      "source": [
        "def odd_sum(number):\r\n",
        "  valid_numbers = []\r\n",
        "  for c in range(0, number + 1):\r\n",
        "    if c % 2 != 0 and c % 3 == 0:\r\n",
        "      valid_numbers.append(c)\r\n",
        "  print(valid_numbers)\r\n",
        "odd_sum(504)"
      ],
      "execution_count": null,
      "outputs": [
        {
          "output_type": "stream",
          "text": [
            "[3, 9, 15, 21, 27, 33, 39, 45, 51, 57, 63, 69, 75, 81, 87, 93, 99, 105, 111, 117, 123, 129, 135, 141, 147, 153, 159, 165, 171, 177, 183, 189, 195, 201, 207, 213, 219, 225, 231, 237, 243, 249, 255, 261, 267, 273, 279, 285, 291, 297, 303, 309, 315, 321, 327, 333, 339, 345, 351, 357, 363, 369, 375, 381, 387, 393, 399, 405, 411, 417, 423, 429, 435, 441, 447, 453, 459, 465, 471, 477, 483, 489, 495, 501]\n"
          ],
          "name": "stdout"
        }
      ]
    },
    {
      "cell_type": "markdown",
      "metadata": {
        "id": "lgIeXZiEcukk"
      },
      "source": [
        "#Desenvolva um programa que leia seis números inteiros e mostre a soma apenas daqueles que forem pares.\r\n",
        "-se o valor for ímpar, desconsidere-o;"
      ]
    },
    {
      "cell_type": "code",
      "metadata": {
        "id": "jX5v2ewac13V",
        "colab": {
          "base_uri": "https://localhost:8080/"
        },
        "outputId": "b7832ff5-589c-4545-cf54-c0534d4c61fe"
      },
      "source": [
        "pair_numbers1 = []\r\n",
        "for c in range(0, 6):\r\n",
        "  number = int(input('Digite um número inteiro qualquer: '))\r\n",
        "  if number % 2 == 0:\r\n",
        "    pair_numbers1.append(number)\r\n",
        "\r\n",
        "sum_of_numbers = 0\r\n",
        "for i in range(0, len(pair_numbers1)):\r\n",
        "  sum_of_numbers += pair_numbers1[i]\r\n",
        "print(pair_numbers1)\r\n",
        "print(sum_of_numbers)"
      ],
      "execution_count": null,
      "outputs": [
        {
          "output_type": "stream",
          "text": [
            "Digite um número inteiro qualquer: 2\n",
            "Digite um número inteiro qualquer: 4\n",
            "Digite um número inteiro qualquer: 8\n",
            "Digite um número inteiro qualquer: 16\n",
            "Digite um número inteiro qualquer: 32\n",
            "Digite um número inteiro qualquer: 64\n",
            "[2, 4, 8, 16, 32, 64]\n",
            "126\n"
          ],
          "name": "stdout"
        }
      ]
    }
  ]
}