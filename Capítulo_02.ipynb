{
  "nbformat": 4,
  "nbformat_minor": 0,
  "metadata": {
    "colab": {
      "name": "Capítulo 02.ipynb",
      "provenance": [],
      "toc_visible": true,
      "authorship_tag": "ABX9TyOlqozRycpQRjYqbgLIORV1",
      "include_colab_link": true
    },
    "kernelspec": {
      "name": "python3",
      "display_name": "Python 3"
    },
    "language_info": {
      "name": "python"
    }
  },
  "cells": [
    {
      "cell_type": "markdown",
      "metadata": {
        "id": "view-in-github",
        "colab_type": "text"
      },
      "source": [
        "<a href=\"https://colab.research.google.com/github/rodrigowe1988/Python/blob/main/Cap%C3%ADtulo_02.ipynb\" target=\"_parent\"><img src=\"https://colab.research.google.com/assets/colab-badge.svg\" alt=\"Open In Colab\"/></a>"
      ]
    },
    {
      "cell_type": "markdown",
      "metadata": {
        "id": "iesJOkEYeqAT"
      },
      "source": [
        "#Variáveis e Tipos de dados simples"
      ]
    },
    {
      "cell_type": "markdown",
      "metadata": {
        "id": "9PkA6rOpoXUJ"
      },
      "source": [
        "##Strings\n",
        "Como a maior parte dos programas define e reúne algum tipo de dado e\n",
        "então faz algo útil com eles, classificar diferentes tipos de dados é\n",
        "conveniente. O primeiro tipo de dado que veremos é a string. As strings, à\n",
        "primeira vista, são bem simples, mas você pode usá-las de vários modos\n",
        "diferentes.\n",
        "Uma string é simplesmente uma série de caracteres. Tudo que estiver\n",
        "entre aspas é considerada uma string em Python, e você pode usar aspas\n",
        "simples ou duplas em torno de suas strings, assim:\n",
        "\n",
        "* \"This is a string.\"\n",
        "* 'This is also a string.'"
      ]
    },
    {
      "cell_type": "code",
      "metadata": {
        "colab": {
          "base_uri": "https://localhost:8080/"
        },
        "id": "7rMbCuEUepK0",
        "outputId": "3d728d78-bcab-4033-ed94-2076a2c92fe2"
      },
      "source": [
        "#alguns métodos para trabalhar com strings\n",
        "name = 'ada lovelace'\n",
        "print(name.title())\n",
        "print(name.upper())\n",
        "print(name.lower())"
      ],
      "execution_count": null,
      "outputs": [
        {
          "output_type": "stream",
          "text": [
            "Ada Lovelace\n",
            "ADA LOVELACE\n",
            "ada lovelace\n"
          ],
          "name": "stdout"
        }
      ]
    },
    {
      "cell_type": "code",
      "metadata": {
        "colab": {
          "base_uri": "https://localhost:8080/"
        },
        "id": "TZYUAZjSfaTQ",
        "outputId": "d770ea77-4153-456b-9038-f1ec54ba2281"
      },
      "source": [
        "#concatenação de strings\n",
        "first_name = 'ada'\n",
        "last_name = 'lovelace'\n",
        "full_name = first_name + ' ' + last_name\n",
        "print(full_name)"
      ],
      "execution_count": null,
      "outputs": [
        {
          "output_type": "stream",
          "text": [
            "ada lovelace\n"
          ],
          "name": "stdout"
        }
      ]
    },
    {
      "cell_type": "code",
      "metadata": {
        "colab": {
          "base_uri": "https://localhost:8080/"
        },
        "id": "pd2bjek7f7tq",
        "outputId": "abd26a54-7cb8-41f6-eef9-d896d702622e"
      },
      "source": [
        "#nova linha, tabulação\n",
        "print('Python\\n\\tCurso em Vídeo')\n",
        "print('\\t\\tGustavo Guanabara')"
      ],
      "execution_count": null,
      "outputs": [
        {
          "output_type": "stream",
          "text": [
            "Python\n",
            "\tCurso em Vídeo\n",
            "\t\tGustavo Guanabara\n"
          ],
          "name": "stdout"
        }
      ]
    },
    {
      "cell_type": "code",
      "metadata": {
        "colab": {
          "base_uri": "https://localhost:8080/"
        },
        "id": "OTq229byg2Dd",
        "outputId": "e1cdcdde-6a05-4639-c24f-13fb1474119e"
      },
      "source": [
        "#removendo espaços em branco \n",
        "msg = ' Python is the easier\\t programming language!\\t\\o/'\n",
        "print(msg)\n",
        "print(msg.strip())\n",
        "#lstrip (espaços à esquerda), rstrip(espaços à direita)"
      ],
      "execution_count": null,
      "outputs": [
        {
          "output_type": "stream",
          "text": [
            " Python is the easier\t programming language!\t\\o/\n",
            "Python is the easier\t programming language!\t\\o/\n"
          ],
          "name": "stdout"
        }
      ]
    },
    {
      "cell_type": "code",
      "metadata": {
        "colab": {
          "base_uri": "https://localhost:8080/"
        },
        "id": "OTCqc7fjhUAt",
        "outputId": "2820773f-8a67-449c-d5d6-874e1017525c"
      },
      "source": [
        "#usando aspas em strings\n",
        "message = \"One of Python's strengths is its diverse community.\"\n",
        "print(message)"
      ],
      "execution_count": null,
      "outputs": [
        {
          "output_type": "stream",
          "text": [
            "One of Python's strengths is its diverse community.\n"
          ],
          "name": "stdout"
        }
      ]
    },
    {
      "cell_type": "markdown",
      "metadata": {
        "id": "wJbtWNfGipOC"
      },
      "source": [
        "###Faça você mesmo (strings)\n"
      ]
    },
    {
      "cell_type": "code",
      "metadata": {
        "colab": {
          "base_uri": "https://localhost:8080/"
        },
        "id": "9tw8YkjniX8d",
        "outputId": "e54ef86b-1e03-43bc-8a65-00c56036382d"
      },
      "source": [
        "#ler o nome de uma pessoa e mandar a ela uma mensagem\n",
        "name = str(input('Qual é o seu nome? '))\n",
        "print(f'Olá {name}! Gostaria de aprender Python hoje? ')"
      ],
      "execution_count": null,
      "outputs": [
        {
          "output_type": "stream",
          "text": [
            "Qual é o seu nome? Rodrigo\n",
            "Olá Rodrigo! Gostaria de aprender Python hoje? \n"
          ],
          "name": "stdout"
        }
      ]
    },
    {
      "cell_type": "code",
      "metadata": {
        "colab": {
          "base_uri": "https://localhost:8080/"
        },
        "id": "2APT0ytLjBRg",
        "outputId": "0c25f8e1-4686-496b-aab2-2593fdf18605"
      },
      "source": [
        "#pegar um nome e imprimir na tela em letras maiúsculas, minúsculas e, por último,\n",
        "#somente com a primeira letra maiúscula\n",
        "name = str(input('Qual é o seu nome completo? '))\n",
        "print(name.upper())\n",
        "print(name.lower()) \n",
        "print(name.title())"
      ],
      "execution_count": null,
      "outputs": [
        {
          "output_type": "stream",
          "text": [
            "Qual é o seu nome completo? roDrigo Weber\n",
            "RODRIGO WEBER\n",
            "rodrigo weber\n",
            "Rodrigo Weber\n"
          ],
          "name": "stdout"
        }
      ]
    },
    {
      "cell_type": "code",
      "metadata": {
        "colab": {
          "base_uri": "https://localhost:8080/"
        },
        "id": "UBFxLs8BjnFW",
        "outputId": "5d6ffc21-7fc3-42c1-db69-41ed73284821"
      },
      "source": [
        "print('\\tLeonardo da Vinci certa vez disse: \\033[1m\"A simplicidade é o último grau de sofisticação.\"')"
      ],
      "execution_count": null,
      "outputs": [
        {
          "output_type": "stream",
          "text": [
            "\tLeonardo da Vinci certa vez disse: \u001b[1m\"A simplicidade é o último grau de sofisticação.\"\n"
          ],
          "name": "stdout"
        }
      ]
    },
    {
      "cell_type": "code",
      "metadata": {
        "colab": {
          "base_uri": "https://localhost:8080/"
        },
        "id": "UrIDB8zLkIKe",
        "outputId": "b0cd8bf8-af95-45c8-9491-c9e2f132b258"
      },
      "source": [
        "famous_person = 'Mestre Yoda'\n",
        "print(f'\\t{famous_person} disse certa vez: \\033[1m\"Não! Não tentar! Fazer ou não fazer! Tentativa não há!\"')"
      ],
      "execution_count": null,
      "outputs": [
        {
          "output_type": "stream",
          "text": [
            "\tMestre Yoda disse certa vez: \u001b[1m\"Não! Não tentar! Fazer ou não fazer! Tentativa não há!\"\n"
          ],
          "name": "stdout"
        }
      ]
    },
    {
      "cell_type": "code",
      "metadata": {
        "colab": {
          "base_uri": "https://localhost:8080/"
        },
        "id": "ZcIUTbe2nDd_",
        "outputId": "ecffd1f5-eb5b-4449-8e3e-d4274992fceb"
      },
      "source": [
        "any_string = \"\\t   Rodrigo \\nWeber \"\n",
        "print(f'The name is {any_string}.')\n",
        "print(any_string)\n",
        "print(any_string.strip())\n",
        "print(any_string.lstrip())\n",
        "print(any_string.rstrip())"
      ],
      "execution_count": null,
      "outputs": [
        {
          "output_type": "stream",
          "text": [
            "The name is \t   Rodrigo \n",
            "Weber .\n",
            "\t   Rodrigo \n",
            "Weber \n",
            "Rodrigo \n",
            "Weber\n",
            "Rodrigo \n",
            "Weber \n",
            "\t   Rodrigo \n",
            "Weber\n"
          ],
          "name": "stdout"
        }
      ]
    },
    {
      "cell_type": "markdown",
      "metadata": {
        "id": "4xZ3eQWbo7Vx"
      },
      "source": [
        "##Números\n",
        "Os números são usados com muita frequência em programação para\n",
        "armazenar pontuações em jogos, representar dados em visualizações,\n",
        "guardar informações em aplicações web e assim por diante. Python trata\n",
        "números de várias maneiras diferentes, de acordo com o modo como são\n",
        "usados."
      ]
    },
    {
      "cell_type": "code",
      "metadata": {
        "colab": {
          "base_uri": "https://localhost:8080/"
        },
        "id": "aTdA_otFzjWt",
        "outputId": "578643b2-6480-4e7a-c185-1a59534ea49a"
      },
      "source": [
        "age = 33\n",
        "message = f'Happy {age}rd Birthday!'\n",
        "print(message)"
      ],
      "execution_count": 2,
      "outputs": [
        {
          "output_type": "stream",
          "text": [
            "Happy 33rd Birthday!\n"
          ],
          "name": "stdout"
        }
      ]
    },
    {
      "cell_type": "code",
      "metadata": {
        "colab": {
          "base_uri": "https://localhost:8080/"
        },
        "id": "9IOCvUk4z5Ha",
        "outputId": "87dc39b7-7ba1-4a6d-fbf3-371d793ea29f"
      },
      "source": [
        "#operações que tenham 8 como resultado\n",
        "print(4+4)\n",
        "print(12-4)\n",
        "print(32/4)\n",
        "print(2*4)\n",
        "print(2**3)\n",
        "print(64**(1/2))#raiz quadrada"
      ],
      "execution_count": 4,
      "outputs": [
        {
          "output_type": "stream",
          "text": [
            "8\n",
            "8\n",
            "8.0\n",
            "8\n",
            "8\n",
            "8.0\n",
            "3.0\n"
          ],
          "name": "stdout"
        }
      ]
    },
    {
      "cell_type": "code",
      "metadata": {
        "colab": {
          "base_uri": "https://localhost:8080/"
        },
        "id": "sWrBsrji0oYz",
        "outputId": "94238c70-938d-4482-fa1f-7b22d0cd1b0e"
      },
      "source": [
        "#importando o Zen do Python\n",
        "import this"
      ],
      "execution_count": 5,
      "outputs": [
        {
          "output_type": "stream",
          "text": [
            "The Zen of Python, by Tim Peters\n",
            "\n",
            "Beautiful is better than ugly.\n",
            "Explicit is better than implicit.\n",
            "Simple is better than complex.\n",
            "Complex is better than complicated.\n",
            "Flat is better than nested.\n",
            "Sparse is better than dense.\n",
            "Readability counts.\n",
            "Special cases aren't special enough to break the rules.\n",
            "Although practicality beats purity.\n",
            "Errors should never pass silently.\n",
            "Unless explicitly silenced.\n",
            "In the face of ambiguity, refuse the temptation to guess.\n",
            "There should be one-- and preferably only one --obvious way to do it.\n",
            "Although that way may not be obvious at first unless you're Dutch.\n",
            "Now is better than never.\n",
            "Although never is often better than *right* now.\n",
            "If the implementation is hard to explain, it's a bad idea.\n",
            "If the implementation is easy to explain, it may be a good idea.\n",
            "Namespaces are one honking great idea -- let's do more of those!\n"
          ],
          "name": "stdout"
        }
      ]
    }
  ]
}