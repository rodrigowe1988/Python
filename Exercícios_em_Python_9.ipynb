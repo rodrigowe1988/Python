{
  "nbformat": 4,
  "nbformat_minor": 0,
  "metadata": {
    "colab": {
      "name": "Exercícios em Python 9.ipynb",
      "provenance": [],
      "toc_visible": true,
      "authorship_tag": "ABX9TyMXlzbWo9rVtPdcmkFjh9pJ",
      "include_colab_link": true
    },
    "kernelspec": {
      "name": "python3",
      "display_name": "Python 3"
    },
    "language_info": {
      "name": "python"
    }
  },
  "cells": [
    {
      "cell_type": "markdown",
      "metadata": {
        "id": "view-in-github",
        "colab_type": "text"
      },
      "source": [
        "<a href=\"https://colab.research.google.com/github/rodrigowe1988/Python/blob/main/Exerc%C3%ADcios_em_Python_9.ipynb\" target=\"_parent\"><img src=\"https://colab.research.google.com/assets/colab-badge.svg\" alt=\"Open In Colab\"/></a>"
      ]
    },
    {
      "cell_type": "markdown",
      "metadata": {
        "id": "F7QgR4vkVyO_"
      },
      "source": [
        "#Crie um programa que liste 3 pessoas e suas respectivas idades:\n",
        "\n",
        "* após imprime a lista completa do grupo e também separadamente os que são maiores e menores de idade.\n"
      ]
    },
    {
      "cell_type": "code",
      "metadata": {
        "colab": {
          "base_uri": "https://localhost:8080/"
        },
        "id": "mPQxMXFMVxi6",
        "outputId": "b885d85c-a2f9-4f1c-a760-bf5892226b14"
      },
      "source": [
        "galera = list()\n",
        "dado = list()\n",
        "totmai = totmen = 0\n",
        "for c in range(0, 3):\n",
        "  dado.append(str(input('Nome: ')))\n",
        "  dado.append(int(input('Idade: ')))\n",
        "  galera.append(dado[:])\n",
        "  dado.clear()\n",
        "print(galera)\n",
        "for p in galera:\n",
        "  if p[1] >= 18:\n",
        "    print(f'{p[0]} é maior de idade.')\n",
        "    totmai += 1\n",
        "  else:\n",
        "    print(f'{p[0]} é menor de idade.')\n",
        "    totmen += 1\n",
        "print(f'Esse grupo possui {totmai} maiores de idade e {totmen} menores de idade.')"
      ],
      "execution_count": 4,
      "outputs": [
        {
          "output_type": "stream",
          "text": [
            "Nome: Rodrigo\n",
            "Idade: 33\n",
            "Nome: Rogério \n",
            "Idade: 26\n",
            "Nome: Luana\n",
            "Idade: 17\n",
            "[['Rodrigo', 33], ['Rogério ', 26], ['Luana', 17]]\n",
            "Rodrigo é maior de idade.\n",
            "Rogério  é maior de idade.\n",
            "Luana é menor de idade.\n",
            "Esse grupo possui 2 maiores de idade e 1 menores de idade.\n"
          ],
          "name": "stdout"
        }
      ]
    },
    {
      "cell_type": "markdown",
      "metadata": {
        "id": "2jVS-7HCawZG"
      },
      "source": [
        "#crie um programa que leia nome e peso de várias pessoas, guardando tudo em uma lista. No final, mostre:\n",
        "\n",
        "* quantas pessoas foram cadastradas \n",
        "\n",
        "* uma listagem com as pessoas mais pesadas\n",
        "\n",
        "* uma listagem com as pessoas mais leves\n",
        "\n"
      ]
    },
    {
      "cell_type": "code",
      "metadata": {
        "colab": {
          "base_uri": "https://localhost:8080/"
        },
        "id": "kurNah9OXaAR",
        "outputId": "35703f18-92d6-47f7-be7a-7e77dedaec9f"
      },
      "source": [
        "#versão criada pelo Gustavo Guanabara \n",
        "temp = []\n",
        "princ = []\n",
        "mai = men = 0\n",
        "while True:\n",
        "  temp.append(str(input('Nome: ')))\n",
        "  temp.append(float(input('Peso: ')))\n",
        "  if len(princ) == 0:\n",
        "    mai = men = temp[1]\n",
        "  else: \n",
        "    if temp[1] > mai:\n",
        "      mai = temp[1]\n",
        "    if temp[1] < men:\n",
        "      men = temp[1]\n",
        "  princ.append(temp[:])\n",
        "  temp.clear()\n",
        "  resp = str(input('Quer continuar? [S/N]'))\n",
        "  if resp in 'Nn':\n",
        "    break\n",
        "print('-=' * 30)    \n",
        "print(f'Foram cadastradas {len(princ)} pessoas.')\n",
        "print(f'O maior peso foi de {mai}Kg. Peso de ', end='')\n",
        "for p in princ:  \n",
        "  if p[1] == mai:\n",
        "    print(f'[{p[0]}] ', end='')\n",
        "print()\n",
        "print(f'O menor peso foi de {men} Kg. Peso de ', end='')\n",
        "for p in princ:\n",
        "  if p[1] == men:\n",
        "    print(f'[{p[0]}] ', end='')\n",
        "print()"
      ],
      "execution_count": 19,
      "outputs": [
        {
          "output_type": "stream",
          "text": [
            "Nome: Rodrigo\n",
            "Peso: 76\n",
            "Quer continuar? [S/N]s\n",
            "Nome: Rogério\n",
            "Peso: 74\n",
            "Quer continuar? [S/N]s\n",
            "Nome: Michele\n",
            "Peso: 50\n",
            "Quer continuar? [S/N]n\n",
            "-=-=-=-=-=-=-=-=-=-=-=-=-=-=-=-=-=-=-=-=-=-=-=-=-=-=-=-=-=-=\n",
            "Foram cadastradas 3 pessoas.\n",
            "O maior peso foi de 76.0Kg. Peso de [Rodrigo] \n",
            "O menor peso foi de 50.0 Kg. Peso de [Michele] \n"
          ],
          "name": "stdout"
        }
      ]
    },
    {
      "cell_type": "code",
      "metadata": {
        "colab": {
          "base_uri": "https://localhost:8080/"
        },
        "id": "v9LAnbLtb6B0",
        "outputId": "942d5b61-8e8d-4d34-9bac-9d6714b6323e"
      },
      "source": [
        "cars = [['Onix', 2020], ['Up', 2021], ['Gol', 2010], ['Uno ', 2016]]\n",
        "anos = []\n",
        "for i, c in cars:\n",
        "  anos.append(c)\n",
        "print(sorted(anos))\n",
        "print(cars)"
      ],
      "execution_count": 27,
      "outputs": [
        {
          "output_type": "stream",
          "text": [
            "[2010, 2016, 2020, 2021]\n",
            "[['Onix', 2020], ['Up', 2021], ['Gol', 2010], ['Uno ', 2016]]\n"
          ],
          "name": "stdout"
        }
      ]
    },
    {
      "cell_type": "code",
      "metadata": {
        "colab": {
          "base_uri": "https://localhost:8080/"
        },
        "id": "dLIzJrwh3xrc",
        "outputId": "b5d8c18d-5cb6-4ed2-d412-810ee4b43076"
      },
      "source": [
        "# código para organizar uma lista pelo tamanho do 2º elemento\n",
        "def Sort(sub_li): \n",
        "  \n",
        "    # reverse = None (Sorts in Ascending order) \n",
        "    # key is set to sort using second element of  \n",
        "    # sublist lambda has been used \n",
        "    sub_li.sort(key = lambda x: x[1]) \n",
        "    return sub_li \n",
        "  \n",
        "# Driver Code \n",
        "sub_li =[['rishav', 10], ['akash', 5], ['ram', 20], ['gaurav', 15]] \n",
        "print(Sort(sub_li)) "
      ],
      "execution_count": 28,
      "outputs": [
        {
          "output_type": "stream",
          "text": [
            "[['akash', 5], ['rishav', 10], ['gaurav', 15], ['ram', 20]]\n"
          ],
          "name": "stdout"
        }
      ]
    },
    {
      "cell_type": "code",
      "metadata": {
        "colab": {
          "base_uri": "https://localhost:8080/"
        },
        "id": "_ClD162e504v",
        "outputId": "b37fcc52-b239-4ffb-a945-bc71ae185db9"
      },
      "source": [
        "cars = [['Onix', 2020], ['Up', 2021], ['Gol', 2010], ['Uno ', 2016]]\n",
        "cars.sort(key = lambda x: x[1])\n",
        "print(cars) "
      ],
      "execution_count": 55,
      "outputs": [
        {
          "output_type": "stream",
          "text": [
            "[['Gol', 2010], ['Uno ', 2016], ['Onix', 2020], ['Up', 2021]]\n"
          ],
          "name": "stdout"
        }
      ]
    },
    {
      "cell_type": "code",
      "metadata": {
        "colab": {
          "base_uri": "https://localhost:8080/"
        },
        "id": "GcZY-cTcWGmm",
        "outputId": "50e16fbc-6ebf-4e6b-dc09-c15af1e754b6"
      },
      "source": [
        "#versão criada por mim com as pesquisas na internet\n",
        "pessoas = list()\n",
        "dados = list()\n",
        "number = int(input('Quantas pessoas você deseja cadastrar? '))\n",
        "for c in range(0, number):\n",
        "  dados.append(str(input('Nome: ')))\n",
        "  dados.append(int(input('Peso: ')))\n",
        "  pessoas.append(dados[:])\n",
        "  dados.clear()\n",
        "pessoas.sort(key = lambda x: x[1])\n",
        "print(f'A lista completa é {pessoas}.')\n",
        "print(f'Foram cadastradas {number} pessoas.')\n",
        "print(f'{pessoas[-1]} e {pessoas[-2]} são as pessoas mais pesadas.')\n",
        "print(f'{pessoas[0]} e {pessoas[1]}, são as pessoas mais leves.')"
      ],
      "execution_count": 56,
      "outputs": [
        {
          "output_type": "stream",
          "text": [
            "Quantas pessoas você deseja cadastrar? 5\n",
            "Nome: nome1\n",
            "Peso: 56\n",
            "Nome: nome2\n",
            "Peso: 65\n",
            "Nome: nome3\n",
            "Peso: 49\n",
            "Nome: nome4\n",
            "Peso: 52\n",
            "Nome: nome5\n",
            "Peso: 64\n",
            "A lista completa é [['nome3', 49], ['nome4', 52], ['nome1', 56], ['nome5', 64], ['nome2', 65]].\n",
            "['nome2', 65] e ['nome5', 64] são as pessoas mais pesadas.\n",
            "['nome3', 49] e ['nome4', 52], são as pessoas mais leves\n"
          ],
          "name": "stdout"
        }
      ]
    },
    {
      "cell_type": "markdown",
      "metadata": {
        "id": "wQa-8agHqmen"
      },
      "source": [
        "#Crie um programa onde o usuário possa digitar 7 valores numéricos e cadastre-os em uma lista única que mantenha separados os valores pares e ímpares. No final, mostre os valores pares e ímpares em ordem crescente. \n"
      ]
    },
    {
      "cell_type": "code",
      "metadata": {
        "colab": {
          "base_uri": "https://localhost:8080/"
        },
        "id": "MgwjmP5NcyHV",
        "outputId": "a36a8302-4d1a-4dc5-d59e-6d075a4cc59b"
      },
      "source": [
        "numbers = list()\n",
        "par = []\n",
        "impar = []\n",
        "for c in range(0, 7):\n",
        "  number = numbers.append(int(input(f'Digite o {c + 1}º valor: ')))\n",
        "for c in numbers:\n",
        "  if c % 2 == 0:\n",
        "    par.append(c)\n",
        "  else:\n",
        "    impar.append(c)\n",
        "sorted(par)\n",
        "sorted(impar)\n",
        "print('-=' * 30)\n",
        "print(numbers)\n",
        "print(f'Números pares: {par}.')\n",
        "print(f'Números ímpares: {impar}.')"
      ],
      "execution_count": 65,
      "outputs": [
        {
          "output_type": "stream",
          "text": [
            "Digite o 1º valor: 5\n",
            "Digite o 2º valor: 3\n",
            "Digite o 3º valor: 6\n",
            "Digite o 4º valor: 1\n",
            "Digite o 5º valor: 5\n",
            "Digite o 6º valor: 32\n",
            "Digite o 7º valor: 33\n",
            "[5, 3, 6, 1, 5, 32, 33]\n",
            "Números pares [6, 32].\n",
            "Números ímpares [5, 3, 1, 5, 33].\n"
          ],
          "name": "stdout"
        }
      ]
    },
    {
      "cell_type": "markdown",
      "metadata": {
        "id": "e7GqBO-t4JD7"
      },
      "source": [
        "#Crie um programa que crie uma matriz de __dimensão 3x3__ e preencha com valores lidos pelo teclado.\n",
        "* no final, mostre a matriz na tela, com a formatação correta. "
      ]
    },
    {
      "cell_type": "code",
      "metadata": {
        "id": "86hAAP79szKh"
      },
      "source": [
        ""
      ],
      "execution_count": null,
      "outputs": []
    },
    {
      "cell_type": "markdown",
      "metadata": {
        "id": "5i81IhDW5NUi"
      },
      "source": [
        "#Aprimore o desafio anterior, mostrando no final:\n",
        "* a soma de todos os valores pares digitados;\n",
        "* a soma dos valores da terceira coluna\n",
        "* o maior valor da segunda linha\n"
      ]
    },
    {
      "cell_type": "code",
      "metadata": {
        "id": "AV_ExddD51i4"
      },
      "source": [
        ""
      ],
      "execution_count": null,
      "outputs": []
    },
    {
      "cell_type": "markdown",
      "metadata": {
        "id": "jVyPNatN52gr"
      },
      "source": [
        "#Crie um programa que ajude um jogador da MEGA SENA a criar palpites. O programa vai perguntar quantos jogos serão gerados e vai sortear 6 números entre 1 e 60 para cada jogo, cadastrando tudo em uma lista composta."
      ]
    },
    {
      "cell_type": "code",
      "metadata": {
        "id": "ynD2CUpc6eCe"
      },
      "source": [
        ""
      ],
      "execution_count": null,
      "outputs": []
    },
    {
      "cell_type": "markdown",
      "metadata": {
        "id": "BgwjztY96iT1"
      },
      "source": [
        "#Crie um programa que leia nome e duas notas de vários alunos e guarde tudo em uma lista composta. No final, mostre um boletim contendo a média de cada um e permita que o usuário possa mostrar as notas de cada aluno individualmente."
      ]
    },
    {
      "cell_type": "code",
      "metadata": {
        "id": "5DF0WCqg66BI"
      },
      "source": [
        ""
      ],
      "execution_count": null,
      "outputs": []
    }
  ]
}