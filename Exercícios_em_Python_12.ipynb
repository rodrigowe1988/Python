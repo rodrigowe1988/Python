{
  "nbformat": 4,
  "nbformat_minor": 0,
  "metadata": {
    "colab": {
      "name": "Exercícios em Python 12.ipynb",
      "provenance": [],
      "authorship_tag": "ABX9TyN8cKGF7iA6/acffFkXmsBJ",
      "include_colab_link": true
    },
    "kernelspec": {
      "name": "python3",
      "display_name": "Python 3"
    },
    "language_info": {
      "name": "python"
    }
  },
  "cells": [
    {
      "cell_type": "markdown",
      "metadata": {
        "id": "view-in-github",
        "colab_type": "text"
      },
      "source": [
        "<a href=\"https://colab.research.google.com/github/rodrigowe1988/Python/blob/main/Exerc%C3%ADcios_em_Python_12.ipynb\" target=\"_parent\"><img src=\"https://colab.research.google.com/assets/colab-badge.svg\" alt=\"Open In Colab\"/></a>"
      ]
    },
    {
      "cell_type": "markdown",
      "metadata": {
        "id": "GDRzRZiygQAJ"
      },
      "source": [
        "#Funções (parte 2)\n",
        "\n",
        "* help() - ajuda interativa do Python\n",
        "  * help(print)\n",
        "  * help(len)\n",
        "  * help(input)\n",
        "\n"
      ]
    },
    {
      "cell_type": "code",
      "metadata": {
        "colab": {
          "base_uri": "https://localhost:8080/"
        },
        "id": "v-tiHukjdc3l",
        "outputId": "bb197395-5443-4ab8-cde1-2f69ab902feb"
      },
      "source": [
        "#criando um help para o usuário entender o que a função que acabei de criar faz\n",
        "def contador(i, f, p):\n",
        "  \"\"\"\n",
        "  ->Faz um contagem e mostra na tela o resultado dela\n",
        "  :param i: início da contagem\n",
        "  :param f: final da contagem\n",
        "  :param p: passo da contagem\n",
        "  :return: sem retorno\n",
        "  \"\"\"\n",
        "  c = int(input('Número de início da contagem: '))\n",
        "  f = int(input('Final da contagem: '))\n",
        "  p = int(input('Passo da contagem: '))\n",
        "  while c <= f:\n",
        "    print(f'{c}', end=' ')\n",
        "    c += p\n",
        "  print('FIM!')\n",
        "contador(2, 10, 2) \n",
        "help(contador)\n"
      ],
      "execution_count": 7,
      "outputs": [
        {
          "output_type": "stream",
          "text": [
            "Número de início da contagem: 1\n",
            "Final da contagem: 10\n",
            "Passo da contagem: 1\n",
            "1 2 3 4 5 6 7 8 9 10 FIM!\n",
            "Help on function contador in module __main__:\n",
            "\n",
            "contador(i, f, p)\n",
            "    ->Faz um contagem e mostra na tela o resultado dela\n",
            "    :param i: início da contagem\n",
            "    :param f: final da contagem\n",
            "    :param p: passo da contagem\n",
            "    :return: sem retorno\n",
            "\n"
          ],
          "name": "stdout"
        }
      ]
    },
    {
      "cell_type": "code",
      "metadata": {
        "colab": {
          "base_uri": "https://localhost:8080/"
        },
        "id": "buZadydbx84z",
        "outputId": "234f9745-e055-4fd6-f26c-83dc68a7e2be"
      },
      "source": [
        "def somar(a=0,b=0,c=0):\n",
        "  \"\"\"\n",
        "  -> Faz a soma de 3 valores e mostra o resultado na tela do usuário\n",
        "  :param a: o primeiro valor\n",
        "  :param b: o segundo valor\n",
        "  :param c: o terceiro valor\n",
        "  Função criada por Rodrigo Weber \n",
        "  \"\"\"\n",
        "  s = a + b + c\n",
        "  print(f'A soma vale {s}.')\n",
        "somar(3, 2, 5)\n",
        "somar(8, 4)\n",
        "somar()\n",
        "help(somar)"
      ],
      "execution_count": 5,
      "outputs": [
        {
          "output_type": "stream",
          "text": [
            "A soma vale 10.\n",
            "A soma vale 12.\n",
            "A soma vale 0.\n",
            "Help on function somar in module __main__:\n",
            "\n",
            "somar(a=0, b=0, c=0)\n",
            "    -> Faz a soma de 3 valores e mostra o resultado na tela do usuário\n",
            "    :param a: o primeiro valor\n",
            "    :param b: o segundo valor\n",
            "    :param c: o terceiro valor\n",
            "    Função criada por Rodrigo Weber\n",
            "\n"
          ],
          "name": "stdout"
        }
      ]
    },
    {
      "cell_type": "code",
      "metadata": {
        "colab": {
          "base_uri": "https://localhost:8080/"
        },
        "id": "ZWYYQ1SWir5N",
        "outputId": "0f33ae11-4a5d-4b88-b9da-b6d18ded0762"
      },
      "source": [
        "def teste(b):\n",
        "  a = 8\n",
        "  b += 4\n",
        "  c = 2\n",
        "  print(f'A dentro vale {a}.')\n",
        "  print(f'B dentro vale {b}.')\n",
        "  print(f'C dentro vale {c}.')\n",
        "a = 5\n",
        "teste(5)\n",
        "print(f'A fora vale {a}.')"
      ],
      "execution_count": 7,
      "outputs": [
        {
          "output_type": "stream",
          "text": [
            "A dentro vale 8.\n",
            "B dentro vale 9.\n",
            "C dentro vale 2.\n",
            "A fora vale 5.\n"
          ],
          "name": "stdout"
        }
      ]
    },
    {
      "cell_type": "code",
      "metadata": {
        "colab": {
          "base_uri": "https://localhost:8080/"
        },
        "id": "ZAwcyYtKlwDM",
        "outputId": "873732b7-cc40-4c69-c81c-8d6f9f18a332"
      },
      "source": [
        "def multiplicar(a=0, b=0, c=0):\n",
        "  m = a * b * c\n",
        "  return m\n",
        "produto = multiplicar(3, 2, 5)\n",
        "print(produto)"
      ],
      "execution_count": 8,
      "outputs": [
        {
          "output_type": "stream",
          "text": [
            "30\n"
          ],
          "name": "stdout"
        }
      ]
    }
  ]
}