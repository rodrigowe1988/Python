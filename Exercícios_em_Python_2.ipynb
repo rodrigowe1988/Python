{
  "nbformat": 4,
  "nbformat_minor": 0,
  "metadata": {
    "colab": {
      "name": "Exercícios em Python 2.ipynb",
      "provenance": [],
      "collapsed_sections": [
        "-0gTD5kZuuKy",
        "_trfklyJuvHg",
        "VmeK3AGEuvas",
        "p8JM9A1huvrs",
        "bhIRz7vEuv0y",
        "Eg1aaLlYuv9N",
        "8RkQ7a7ovo81",
        "zCbQnNQavtSy",
        "VXcrFn_Dv6i6",
        "phKRk9XFwBKv",
        "O9wgrEStwE8j",
        "6PDLuHBUwPfr",
        "JT0pNr_VwXcu",
        "Fw4kjgf1wbV9",
        "83qNRlTWwer3",
        "gsal19tLwmCA",
        "2SKS0cZFwqFa"
      ],
      "authorship_tag": "ABX9TyPMTT5TfuI9pTveyMcuP0z1",
      "include_colab_link": true
    },
    "kernelspec": {
      "name": "python3",
      "display_name": "Python 3"
    }
  },
  "cells": [
    {
      "cell_type": "markdown",
      "metadata": {
        "id": "view-in-github",
        "colab_type": "text"
      },
      "source": [
        "<a href=\"https://colab.research.google.com/github/rodrigowe1988/Python/blob/main/Exerc%C3%ADcios_em_Python_2.ipynb\" target=\"_parent\"><img src=\"https://colab.research.google.com/assets/colab-badge.svg\" alt=\"Open In Colab\"/></a>"
      ]
    },
    {
      "cell_type": "markdown",
      "metadata": {
        "id": "-0gTD5kZuuKy"
      },
      "source": [
        "#Crie um programa que leia dois números e mostre a soma entre eles.\r\n"
      ]
    },
    {
      "cell_type": "code",
      "metadata": {
        "colab": {
          "base_uri": "https://localhost:8080/"
        },
        "id": "9GOVv6hDwuZ5",
        "outputId": "60e0eace-2230-41fd-805e-85684a72eda5"
      },
      "source": [
        "n1 = float(input('Digite um número qualquer: '))\r\n",
        "n2 = float(input('Digite outro número: '))\r\n",
        "print(f'A soma entre o número {n1} e o número {n2} é {n1 + n2}.')"
      ],
      "execution_count": null,
      "outputs": [
        {
          "output_type": "stream",
          "text": [
            "Digite um número qualquer: 5\n",
            "Digite outro número: 6.6\n",
            "A soma entre o número 5.0 e o número 6.6 é 11.6.\n"
          ],
          "name": "stdout"
        }
      ]
    },
    {
      "cell_type": "markdown",
      "metadata": {
        "id": "_trfklyJuvHg"
      },
      "source": [
        "\r\n",
        "##Crie um programa que leia um número Real qualquer pelo teclado e mostre na tela posição inteira dele\r\n",
        "\r\n",
        "\r\n"
      ]
    },
    {
      "cell_type": "code",
      "metadata": {
        "colab": {
          "base_uri": "https://localhost:8080/"
        },
        "id": "J37neCggwxA3",
        "outputId": "d3c1d9fb-1a1b-4ffe-e4d8-ca62ef89c755"
      },
      "source": [
        "from math import trunc\r\n",
        "n3 = float(input('Digite um número real na tela: '))\r\n",
        "print('A parte inteira do número {} é {}'.format(n3, trunc(n3)))"
      ],
      "execution_count": null,
      "outputs": [
        {
          "output_type": "stream",
          "text": [
            "Digite um número real na tela: 6.5\n",
            "A parte inteira do número6.5 é 6\n"
          ],
          "name": "stdout"
        }
      ]
    },
    {
      "cell_type": "markdown",
      "metadata": {
        "id": "VmeK3AGEuvas"
      },
      "source": [
        "#Crie um program que leia o comprimento do cateto oposto e do cateto adjacente de um triângulo retângulo, calcule e mostre o comprimento da hipotenusa\r\n"
      ]
    },
    {
      "cell_type": "code",
      "metadata": {
        "colab": {
          "base_uri": "https://localhost:8080/"
        },
        "id": "MWfxuq21vAjl",
        "outputId": "ea641299-729b-422d-89d2-5474c3983610"
      },
      "source": [
        "cat_oposto = float(input('Digite o comprimento do cateto oposto: '))\r\n",
        "cat_adjacente = float(input('Digite o comprimento do cateto adjacente: '))\r\n",
        "hipotenusa = (cat_oposto**2 + cat_adjacente ** 2)**(1/2)\r\n",
        "print(f'O comprimento da hipotenusa é {hipotenusa:.2f}')"
      ],
      "execution_count": null,
      "outputs": [
        {
          "output_type": "stream",
          "text": [
            "Digite o comprimento do cateto oposto: 10\n",
            "Digite o comprimento do cateto adjacente: 7\n",
            "O comprimento da hipotenusa é 12.21\n"
          ],
          "name": "stdout"
        }
      ]
    },
    {
      "cell_type": "markdown",
      "metadata": {
        "id": "p8JM9A1huvrs"
      },
      "source": [
        "#faça um programa que leia um ângulo qualquer e mostre na tela o valor do seno, cosseno e tangente desse ângulo\r\n"
      ]
    },
    {
      "cell_type": "code",
      "metadata": {
        "colab": {
          "base_uri": "https://localhost:8080/"
        },
        "id": "mqmx1VRswyMd",
        "outputId": "55b4a288-3df3-488d-93aa-0f1ac80e30e9"
      },
      "source": [
        "import math\r\n",
        "angulo = float(input('Digite um ângulo qualquer: '))\r\n",
        "print(f'O ângulo {angulo} tem com seno {math.sin(angulo)}, como cosseno {math.cos(angulo)} e tangente {math.tan(angulo)}.')"
      ],
      "execution_count": null,
      "outputs": [
        {
          "output_type": "stream",
          "text": [
            "Digite um ângulo qualquer: 180\n",
            "O ângulo 180.0 tem com seno -0.8011526357338304, como cosseno -0.5984600690578581 e tangente 1.3386902103511544.\n"
          ],
          "name": "stdout"
        }
      ]
    },
    {
      "cell_type": "markdown",
      "metadata": {
        "id": "bhIRz7vEuv0y"
      },
      "source": [
        "#um professor quer sortear um dos seus quatro alunos para apagar o quadro. Faça um programa que ajude ele, lendo o nome deles e escrevendo o nome escolhido\r\n"
      ]
    },
    {
      "cell_type": "code",
      "metadata": {
        "colab": {
          "base_uri": "https://localhost:8080/"
        },
        "id": "0qYkcJE1w7jl",
        "outputId": "bb1d550f-dd8a-449a-a98f-14541aa8b9ab"
      },
      "source": [
        "import random\r\n",
        "alunos = []\r\n",
        "for c in range(0, 4):\r\n",
        "  nome = input('Digite o nome do(a) aluno(a): ')\r\n",
        "  alunos.append(nome)\r\n",
        "print(f'O aluno escolhido foi {alunos[random.randint(0, len(alunos) - 1)]}.')"
      ],
      "execution_count": null,
      "outputs": [
        {
          "output_type": "stream",
          "text": [
            "Digite o nome do(a) aluno(a): 1\n",
            "Digite o nome do(a) aluno(a): 2\n",
            "Digite o nome do(a) aluno(a): 3\n",
            "Digite o nome do(a) aluno(a): 4\n",
            "O aluno escolhido foi 4.\n"
          ],
          "name": "stdout"
        }
      ]
    },
    {
      "cell_type": "markdown",
      "metadata": {
        "id": "Eg1aaLlYuv9N"
      },
      "source": [
        "#o mesmo professor do desafio anterior quer sortear a ordem de apresentação de trabalhos dos alunos. Crie um programa que leia o nome dos quatro alunos e mostre a ordem sorteada\r\n"
      ]
    },
    {
      "cell_type": "code",
      "metadata": {
        "colab": {
          "base_uri": "https://localhost:8080/"
        },
        "id": "lScNDUIhuoq4",
        "outputId": "56a933ca-1db3-4352-a07b-1c6b2789df86"
      },
      "source": [
        "import random\r\n",
        "alunos = []\r\n",
        "for c in range(0, 4):\r\n",
        "  nome = input('Digite o nome do(a) aluno(a): ')\r\n",
        "  alunos.append(nome)\r\n",
        "random.shuffle(alunos)\r\n",
        "print(f'A ordem de apresentação dos alunos será: {alunos}.')\r\n"
      ],
      "execution_count": null,
      "outputs": [
        {
          "output_type": "stream",
          "text": [
            "Digite o nome do(a) aluno(a): claudia\n",
            "Digite o nome do(a) aluno(a): ana\n",
            "Digite o nome do(a) aluno(a): jose \n",
            "Digite o nome do(a) aluno(a): maria\n",
            "A ordem de apresentação dos alunos será: ['claudia', 'maria', 'jose ', 'ana'].\n"
          ],
          "name": "stdout"
        }
      ]
    },
    {
      "cell_type": "markdown",
      "metadata": {
        "id": "S6MT1ha9vXpY"
      },
      "source": [
        "#crie um programa que leia o nome completo de uma pessoa e mostre:\r\n",
        "-o nome com todas as letras maiúsculas; \r\n",
        "\r\n",
        "-o nome com todas as letras minúsculas;\r\n",
        "\r\n",
        "-quantas letras ao todo(sem considerar espaços);\r\n",
        "\r\n",
        "-quantas letras tem o primeiro nome;\r\n",
        "\r\n"
      ]
    },
    {
      "cell_type": "code",
      "metadata": {
        "colab": {
          "base_uri": "https://localhost:8080/"
        },
        "id": "CM6WR-P1viiG",
        "outputId": "48f07f51-5fec-473a-9080-8fb9b0eca776"
      },
      "source": [
        "nome_completo = str(input('Digite o seu nome completo: '))\r\n",
        "print(nome_completo.lstrip().upper())\r\n",
        "print(nome_completo.lstrip().lower())\r\n",
        "print('O nome possui {} caracteres.'.format(len(nome_completo) - nome_completo.count(' ')))\r\n",
        "first_name = nome_completo.lstrip().find(' ')\r\n",
        "print('O primeiro nome possui {} caracteres.'.format(first_name))"
      ],
      "execution_count": 1,
      "outputs": [
        {
          "output_type": "stream",
          "text": [
            "Digite o seu nome completo: rodrIgo Weber\n",
            "RODRIGO WEBER\n",
            "rodrigo weber\n",
            "O nome possui 12 caracteres.\n",
            "O primeiro nome possui 7 caracteres.\n"
          ],
          "name": "stdout"
        }
      ]
    },
    {
      "cell_type": "markdown",
      "metadata": {
        "id": "8RkQ7a7ovo81"
      },
      "source": [
        "#Faça um programa que leia um número de 0 a 9999 e mostre na tela cada um dos dígitos separados\r\n",
        "-Ex: Digite um número: 1834\r\n",
        "unidade:4\r\n",
        "dezena:3\r\n",
        "centena:8\r\n",
        "milhar:1\r\n",
        "faça como string ou number\r\n"
      ]
    },
    {
      "cell_type": "code",
      "metadata": {
        "colab": {
          "base_uri": "https://localhost:8080/"
        },
        "id": "YaJechImvrtS",
        "outputId": "163a1cee-4c7b-4f50-f0ef-2a673b021079"
      },
      "source": [
        "number = input('Digite um número inteiro qualquer: ')\r\n",
        "number.split()\r\n",
        "print(f'Unidade: {number[3]} \\nDezena: {number[2]} \\nCentena: {number[1]} \\nMilhar: {number[0]}')"
      ],
      "execution_count": null,
      "outputs": [
        {
          "output_type": "stream",
          "text": [
            "Digite um número inteiro qualquer: 1234\n",
            "Unidade: 4 \n",
            "Dezena: 3 \n",
            "Centena: 2 \n",
            "Milhar: 1\n"
          ],
          "name": "stdout"
        }
      ]
    },
    {
      "cell_type": "markdown",
      "metadata": {
        "id": "zCbQnNQavtSy"
      },
      "source": [
        "#Crie um programa que leia o nome completo de uma pessoa, mostrando em seguida o primeiro e o último nome separadamente.\r\n",
        "Ex: Ana Maria de Souza\r\n",
        "primeiro: Ana\r\n",
        "segundo: Souza\r\n",
        "'''"
      ]
    },
    {
      "cell_type": "code",
      "metadata": {
        "colab": {
          "base_uri": "https://localhost:8080/"
        },
        "id": "_a9oIMkEvweO",
        "outputId": "3413f5cf-6197-4a57-99a5-f443e74d7e0e"
      },
      "source": [
        "name = str(input('Digite o nome completo: '))\r\n",
        "nome_dividido = name.split()\r\n",
        "print(f'O primeiro nome é {nome_dividido[0]} e o último é {nome_dividido[len(nome_dividido) - 1]}.')"
      ],
      "execution_count": null,
      "outputs": [
        {
          "output_type": "stream",
          "text": [
            "Digite o nome completo: nome1 nome2 nome3 nome4 nome5\n",
            "O primeiro nome é nome1 e o último é nome5.\n"
          ],
          "name": "stdout"
        }
      ]
    },
    {
      "cell_type": "markdown",
      "metadata": {
        "id": "VXcrFn_Dv6i6"
      },
      "source": [
        "#Crie um programa que leia o nome de uma cidade e diga se ela começa ou não com a palavra \"SANTO\".\r\n"
      ]
    },
    {
      "cell_type": "code",
      "metadata": {
        "colab": {
          "base_uri": "https://localhost:8080/"
        },
        "id": "3WKGiN3Yv8pV",
        "outputId": "503bdc2f-8748-4a1f-eb70-fd119ad46275"
      },
      "source": [
        "cidade = str(input('Digite o nome da cidade: '))\r\n",
        "cidade_dividida = cidade.lower().split()\r\n",
        "if cidade_dividida[0] == 'santo':\r\n",
        "  print('A cidade digitada começa com a palavra \"Santo\".')\r\n",
        "else:\r\n",
        "  print('A cidade digitada não começa com a palavra \"Santo\".')"
      ],
      "execution_count": null,
      "outputs": [
        {
          "output_type": "stream",
          "text": [
            "Digite o nome da cidade: Santa Cruz do Sul\n",
            "A cidade digitada não começa com a palavra \"Santo\".\n"
          ],
          "name": "stdout"
        }
      ]
    },
    {
      "cell_type": "markdown",
      "metadata": {
        "id": "phKRk9XFwBKv"
      },
      "source": [
        "#Crie um programa que leia o nome de uma pessoa e diga se ela tem \"SILVA\" no nome (não importa a posição)\r\n"
      ]
    },
    {
      "cell_type": "code",
      "metadata": {
        "colab": {
          "base_uri": "https://localhost:8080/"
        },
        "id": "CCdLEg1bwDD0",
        "outputId": "6d7ba2c5-fa7a-4727-9715-1dbbe1f6f374"
      },
      "source": [
        "tem_silva = input('Digite o nome da pessoa selecionada: ').lower()\r\n",
        "tem_ou_nao = tem_silva.find('silva')\r\n",
        "if  tem_ou_nao == -1:\r\n",
        "  print('Não tem Silva no nome.')\r\n",
        "else: \r\n",
        "  print('Tem Silva no nome.')"
      ],
      "execution_count": null,
      "outputs": [
        {
          "output_type": "stream",
          "text": [
            "Digite o nome da pessoa selecionada: silva\n",
            "Tem Silva no nome.\n"
          ],
          "name": "stdout"
        }
      ]
    },
    {
      "cell_type": "markdown",
      "metadata": {
        "id": "O9wgrEStwE8j"
      },
      "source": [
        "#Crie um programa que leia uma frase pelo teclado e mostre:\r\n",
        "-quantas vezes aparece a letra 'A'\r\n",
        "\r\n",
        "-em que posição ela aparece a primeira vez\r\n",
        "\r\n",
        "-em que posição ela aparece a última vez\r\n"
      ]
    },
    {
      "cell_type": "code",
      "metadata": {
        "colab": {
          "base_uri": "https://localhost:8080/"
        },
        "id": "JmUKcNClwItc",
        "outputId": "8861715f-d100-43b4-a80a-0333410c1ad5"
      },
      "source": [
        "frase2 = str(input('Digite uma frase qualquer: ')).lower()\r\n",
        "print('A letra \"A\" aparece {} vezes.'.format(frase2.count('a')))\r\n",
        "print('A letra \"A\" aparece pela primeira vez no índice {}.'.format(frase2.find('a')))\r\n",
        "print('A letra \"A\" aparece pela última vez no índice {}.'.format(frase2.rfind('a')))"
      ],
      "execution_count": null,
      "outputs": [
        {
          "output_type": "stream",
          "text": [
            "Digite uma frase qualquer: frase qualquer\n",
            "A letra \"A\" aparece 2 vezes.\n",
            "A letra \"A\" aparece pela primeira vez no índice 2.\n",
            "A letra \"A\" aparece pela última vez no índice 8.\n"
          ],
          "name": "stdout"
        }
      ]
    },
    {
      "cell_type": "markdown",
      "metadata": {
        "id": "6PDLuHBUwPfr"
      },
      "source": [
        "#Escreva um programa em Python que:\r\n",
        " -faça o computador 'pensar' num número entre 0 e 5\r\n",
        "\r\n",
        " -peça para o usuário tentar descobrir qual foi o número escolhido pelo usuário\r\n",
        "\r\n",
        " -o programa deverá escrever na tela se o usuário perdeu ou venceu\r\n",
        " "
      ]
    },
    {
      "cell_type": "code",
      "metadata": {
        "colab": {
          "base_uri": "https://localhost:8080/"
        },
        "id": "N63YpX9LwTE7",
        "outputId": "2933b5f2-0b70-4c9c-dc11-8bb712734e5f"
      },
      "source": [
        "from random import randint\r\n",
        "number6 = int(input('Digite um número inteiro entre 0 e 5: '))\r\n",
        "computer_number = randint(0,5)\r\n",
        "print(f'Você escolheu {number6} e o computador escolheu {computer_number}.')\r\n",
        "\r\n",
        "if number6 == computer_number:\r\n",
        "  print('Parabéns, você acertou!')\r\n",
        "else: \r\n",
        "  print('Não acertou')"
      ],
      "execution_count": null,
      "outputs": [
        {
          "output_type": "stream",
          "text": [
            "Digite um número inteiro entre 0 e 5: 3\n",
            "Você escolheu 3 e o computador escolheu 4.\n",
            "Não acertou\n"
          ],
          "name": "stdout"
        }
      ]
    },
    {
      "cell_type": "markdown",
      "metadata": {
        "id": "JT0pNr_VwXcu"
      },
      "source": [
        "\r\n",
        "#Escreva um progama que leia a velocidade de um carro:\r\n",
        "-caso ele ultrapasse 80km/h, mostre uma mensagem dizendo que ele foi multado\r\n",
        "\r\n",
        "-a multa vai custar R$7,00 por km acima do limite\r\n"
      ]
    },
    {
      "cell_type": "code",
      "metadata": {
        "colab": {
          "base_uri": "https://localhost:8080/"
        },
        "id": "FFLADrYmwYxT",
        "outputId": "313ed5f3-81ab-4592-933b-bf4087b96b54"
      },
      "source": [
        "from math import trunc\r\n",
        "velocidade = trunc(float(input('Digite a velocidade do carro: ')))\r\n",
        "multa = (velocidade - 80) * 7  \r\n",
        "if velocidade > 80:\r\n",
        "  print('Sua velocidade foi de {:.0f}km/h. E a multa foi de R${:.2f}.'.format(velocidade, multa))"
      ],
      "execution_count": null,
      "outputs": [
        {
          "output_type": "stream",
          "text": [
            "Digite a velocidade do carro: 81\n",
            "Sua velocidade foi de 81km/h. E a multa foi de R$7.00.\n"
          ],
          "name": "stdout"
        }
      ]
    },
    {
      "cell_type": "markdown",
      "metadata": {
        "id": "Fw4kjgf1wbV9"
      },
      "source": [
        "#Escreva na tela um programa que leia um número na tela e mostre se ele é par ou ímpar\r\n"
      ]
    },
    {
      "cell_type": "code",
      "metadata": {
        "colab": {
          "base_uri": "https://localhost:8080/"
        },
        "id": "fV2gCmAKwdCM",
        "outputId": "40d136c1-86cd-4d36-d20c-0151040832db"
      },
      "source": [
        "pair_or_even = int(input('Digite um número inteiro qualquer: '))\r\n",
        "if pair_or_even == 0:\r\n",
        "  print('Falar o que do número zero. Uns consideram par, outros nulo. Você quem decide.')\r\n",
        "elif pair_or_even % 2 == 0:\r\n",
        "  print('{} é número par.'.format(pair_or_even))\r\n",
        "else:\r\n",
        "  print('{} é número ímpar.'.format(pair_or_even)) \r\n"
      ],
      "execution_count": null,
      "outputs": [
        {
          "output_type": "stream",
          "text": [
            "Digite um número inteiro qualquer: 12\n",
            "12 é número par.\n"
          ],
          "name": "stdout"
        }
      ]
    },
    {
      "cell_type": "markdown",
      "metadata": {
        "id": "83qNRlTWwer3"
      },
      "source": [
        "#Desenvolva um programa que pergunte a distância de uma viagem em km.\r\n",
        "-Calcule o preço da passagem:\r\n",
        "\r\n",
        "    -cobrando R$0.50 por km para viagens de até 200km\r\n",
        "    \r\n",
        "    -cobrando R$0.45 por km para viagens acima de 200km\r\n"
      ]
    },
    {
      "cell_type": "code",
      "metadata": {
        "colab": {
          "base_uri": "https://localhost:8080/"
        },
        "id": "_tmDRwtkwjzl",
        "outputId": "38e48d9f-38d4-487f-c03d-2c34cd6d0e36"
      },
      "source": [
        "dist = float(input(\"Digite a distância em km da viagem: \"))\r\n",
        "if dist <= 200:\r\n",
        "  print(f'O preço da viagem é de R${dist * 0.5:.2f}.')\r\n",
        "else: \r\n",
        "  print(f'O preço da viagem é de {dist * 0.45:.2f}.')"
      ],
      "execution_count": null,
      "outputs": [
        {
          "output_type": "stream",
          "text": [
            "Digite a distância em km da viagem: 300\n",
            "O preço da viagem é de 135.00.\n"
          ],
          "name": "stdout"
        }
      ]
    },
    {
      "cell_type": "markdown",
      "metadata": {
        "id": "gsal19tLwmCA"
      },
      "source": [
        "#Crie um programa que leia um ano e informe na tela se ele é bissexto ou não\r\n"
      ]
    },
    {
      "cell_type": "code",
      "metadata": {
        "colab": {
          "base_uri": "https://localhost:8080/"
        },
        "id": "j9gEH4pBwoak",
        "outputId": "afd87d25-4645-4e87-e97d-255a65936480"
      },
      "source": [
        "ano = int(input('Digite o ano para descobrir se é ou não bissexto: '))\r\n",
        "if ano % 4 == 0:\r\n",
        "  print('O ano escolhido é bissexto.')\r\n",
        "else:\r\n",
        "  print('O ano escolhido não é bissexto.')"
      ],
      "execution_count": null,
      "outputs": [
        {
          "output_type": "stream",
          "text": [
            "Digite o ano para descobrir se é ou não bissexto: 2011\n",
            "O ano escolhido não é bissexto.\n"
          ],
          "name": "stdout"
        }
      ]
    },
    {
      "cell_type": "markdown",
      "metadata": {
        "id": "2SKS0cZFwqFa"
      },
      "source": [
        "#Crie um programa que leia quantos números o usuário desejar:\r\n",
        "\r\n",
        "- informe qual é o maior e qual é menor\r\n"
      ]
    },
    {
      "cell_type": "code",
      "metadata": {
        "colab": {
          "base_uri": "https://localhost:8080/"
        },
        "id": "oRornIqOwsWJ",
        "outputId": "8509cd0c-07c5-401f-997f-ce36dec30e70"
      },
      "source": [
        "number_choices = int(input('Digite a quantidade de números que quer digitar: '))\r\n",
        "numeros = []\r\n",
        "for c in range(0, number_choices):\r\n",
        "  number = int(input('Digite um número: '))\r\n",
        "  numeros.append(number)\r\n",
        "numeros.sort()\r\n",
        "print(numeros[0], numeros[number_choices - 1])"
      ],
      "execution_count": null,
      "outputs": [
        {
          "output_type": "stream",
          "text": [
            "Digite a quantidade de números que quer digitar: 4\n",
            "Digite um número: 3\n",
            "Digite um número: 17\n",
            "Digite um número: 2\n",
            "Digite um número: 5\n",
            "2 17\n"
          ],
          "name": "stdout"
        }
      ]
    },
    {
      "cell_type": "code",
      "metadata": {
        "id": "l_mgjzcJyVFy"
      },
      "source": [
        ""
      ],
      "execution_count": null,
      "outputs": []
    }
  ]
}