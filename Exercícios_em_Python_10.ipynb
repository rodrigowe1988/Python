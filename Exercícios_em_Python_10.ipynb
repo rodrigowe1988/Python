{
  "nbformat": 4,
  "nbformat_minor": 0,
  "metadata": {
    "colab": {
      "name": "Exercícios em Python 10.ipynb",
      "provenance": [],
      "authorship_tag": "ABX9TyOSQZpF3fuUEIDM342tIdfL",
      "include_colab_link": true
    },
    "kernelspec": {
      "name": "python3",
      "display_name": "Python 3"
    },
    "language_info": {
      "name": "python"
    }
  },
  "cells": [
    {
      "cell_type": "markdown",
      "metadata": {
        "id": "view-in-github",
        "colab_type": "text"
      },
      "source": [
        "<a href=\"https://colab.research.google.com/github/rodrigowe1988/Python/blob/main/Exerc%C3%ADcios_em_Python_10.ipynb\" target=\"_parent\"><img src=\"https://colab.research.google.com/assets/colab-badge.svg\" alt=\"Open In Colab\"/></a>"
      ]
    },
    {
      "cell_type": "markdown",
      "metadata": {
        "id": "qsIQGiGwquHg"
      },
      "source": [
        "#Variáveis compostas (Dicionários)"
      ]
    },
    {
      "cell_type": "code",
      "metadata": {
        "colab": {
          "base_uri": "https://localhost:8080/"
        },
        "id": "x9Bm4t43qo5I",
        "outputId": "cb18cdc4-3edc-4ad5-c572-2a4944a4424c"
      },
      "source": [
        "dados = list()\n",
        "dados.append('Pedro')\n",
        "dados.append(25)\n",
        "print(dados[0])\n",
        "print(dados[1])"
      ],
      "execution_count": null,
      "outputs": [
        {
          "output_type": "stream",
          "text": [
            "Pedro\n",
            "25\n"
          ],
          "name": "stdout"
        }
      ]
    },
    {
      "cell_type": "markdown",
      "metadata": {
        "id": "Ls1JMIbcqqAu"
      },
      "source": [
        "##Para fazer isso, note que é preciso chamar cada uma das variáveis através de seu índice numérico. E se você quisesse chamá-lo literalmente? Para isso temos os Dicionários.\n",
        "\n",
        "* Tuplas (  )\n",
        "* Listas [  ]\n",
        "* Dicionários { }"
      ]
    },
    {
      "cell_type": "code",
      "metadata": {
        "colab": {
          "base_uri": "https://localhost:8080/"
        },
        "id": "BPsefBGUtMUK",
        "outputId": "8d32f243-2450-480d-fd45-2251ba9adb81"
      },
      "source": [
        "dados = dict()\n",
        "dados = {'nome': 'Pedro', 'idade': 25}\n",
        "print(dados['nome'])\n",
        "print(dados['idade'])\n",
        "dados['sexo'] = 'M'\n",
        "dados['teste'] = 'qualquer'\n",
        "print(dados)\n",
        "del dados['teste']\n",
        "print(dados)"
      ],
      "execution_count": null,
      "outputs": [
        {
          "output_type": "stream",
          "text": [
            "Pedro\n",
            "25\n",
            "{'nome': 'Pedro', 'idade': 25, 'sexo': 'M', 'teste': 'qualquer'}\n",
            "{'nome': 'Pedro', 'idade': 25, 'sexo': 'M'}\n"
          ],
          "name": "stdout"
        }
      ]
    },
    {
      "cell_type": "code",
      "metadata": {
        "colab": {
          "base_uri": "https://localhost:8080/"
        },
        "id": "F8iCa7sGtu5K",
        "outputId": "c7ec847e-703d-4d7e-e824-8bfcf384bfa9"
      },
      "source": [
        "#entendo como funcionam os elementos dos dicionários\n",
        "filme = {'titulo':'Star Wars', \n",
        "        'ano': 1977,  \n",
        "        'diretor': 'George Lucas'\n",
        "        }\n",
        "print(filme.values())\n",
        "print(filme.keys())\n",
        "print(filme.items())\n",
        "\n",
        "#laço for para ler o dicionário ('k' é key e 'v' é value)\n",
        "for k, v in filme.items():\n",
        "  print(f'O {k} é {v}.')"
      ],
      "execution_count": null,
      "outputs": [
        {
          "output_type": "stream",
          "text": [
            "dict_values(['Star Wars', 1977, 'George Lucas'])\n",
            "dict_keys(['titulo', 'ano', 'diretor'])\n",
            "dict_items([('titulo', 'Star Wars'), ('ano', 1977), ('diretor', 'George Lucas')])\n",
            "O titulo é Star Wars.\n",
            "O ano é 1977.\n",
            "O diretor é George Lucas.\n"
          ],
          "name": "stdout"
        }
      ]
    },
    {
      "cell_type": "code",
      "metadata": {
        "colab": {
          "base_uri": "https://localhost:8080/"
        },
        "id": "ycU_oqdxAQ0V",
        "outputId": "cc739f12-71a6-499d-d80a-fec714b0bbf4"
      },
      "source": [
        "#mesclando listas e dicionários\n",
        "locadora = [{'filme': 'Star Wars', 'ano': 1977, 'diretor': 'George Lucas'}, \n",
        "          {'filme': 'Avengers', 'ano': 2012, 'diretor': 'Avengers'},\n",
        "          {'filme': 'Matrix', 'ano': 1999, 'diretor': 'Irmãos Wachowski'}\n",
        "          ]\n",
        "for c in range(0,3):\n",
        "  print(f'{locadora[c]}')\n",
        "#navegando dentro da lista\n",
        "print(locadora[0]['ano'])\n",
        "print(locadora[2]['filme'])"
      ],
      "execution_count": null,
      "outputs": [
        {
          "output_type": "stream",
          "text": [
            "{'filme': 'Star Wars', 'ano': 1977, 'diretor': 'George Lucas'}\n",
            "{'filme': 'Avengers', 'ano': 2012, 'diretor': 'Avengers'}\n",
            "{'filme': 'Matrix', 'ano': 1999, 'diretor': 'Irmãos Wachowski'}\n",
            "1977\n",
            "Matrix\n"
          ],
          "name": "stdout"
        }
      ]
    },
    {
      "cell_type": "markdown",
      "metadata": {
        "id": "rxK1yROCF4xF"
      },
      "source": [
        "#Prática"
      ]
    },
    {
      "cell_type": "code",
      "metadata": {
        "colab": {
          "base_uri": "https://localhost:8080/"
        },
        "id": "Byw8nLhQDwhZ",
        "outputId": "536c5fce-31f7-49d0-c8a1-2dd13392ca07"
      },
      "source": [
        "#como adicionar e remover elementos de um dicionário\n",
        "pessoas = {'nome': 'Gustavo', 'sexo': 'M', 'idade': 22}\n",
        "print(f'O {pessoas[\"nome\"]} tem {pessoas[\"idade\"]} anos.')\n",
        "#laço for com a mesma função do enumerate\n",
        "for k, v in pessoas.items():\n",
        "  print(f'{k} = {v}')\n",
        "del pessoas['sexo']\n",
        "print(pessoas)\n",
        "pessoas['peso'] = 75\n",
        "print(pessoas)"
      ],
      "execution_count": null,
      "outputs": [
        {
          "output_type": "stream",
          "text": [
            "O Gustavo tem 22 anos.\n",
            "nome = Gustavo\n",
            "sexo = M\n",
            "idade = 22\n",
            "{'nome': 'Gustavo', 'idade': 22}\n",
            "{'nome': 'Gustavo', 'idade': 22, 'peso': 75}\n"
          ],
          "name": "stdout"
        }
      ]
    },
    {
      "cell_type": "code",
      "metadata": {
        "colab": {
          "base_uri": "https://localhost:8080/"
        },
        "id": "qYywhm0qvaWl",
        "outputId": "24cd9853-2ae3-426a-cddf-24708d2d54b1"
      },
      "source": [
        "#listas com dicionários\n",
        "brasil = []\n",
        "estado1 = {'uf': 'Rio de Janeiro', 'sigla': 'RJ'} \n",
        "estado2 = {'uf': 'São Paulo', 'sigla': 'SP'} \n",
        "brasil.append(estado1)\n",
        "brasil.append(estado2)\n",
        "print(brasil)\n",
        "print(brasil[0]['uf'])\n",
        "print(brasil[1]['sigla'])"
      ],
      "execution_count": null,
      "outputs": [
        {
          "output_type": "stream",
          "text": [
            "[{'uf': 'Rio de Janeiro', 'sigla': 'RJ'}, {'uf': 'São Paulo', 'sigla': 'SP'}]\n",
            "Rio de Janeiro\n",
            "SP\n"
          ],
          "name": "stdout"
        }
      ]
    },
    {
      "cell_type": "code",
      "metadata": {
        "colab": {
          "base_uri": "https://localhost:8080/"
        },
        "id": "2o7X5e6fzr_m",
        "outputId": "c6e3e86f-21de-435e-b6b3-8a1fd56ff3f6"
      },
      "source": [
        "#como fazer o fatiamento num dicionário\n",
        "estado = dict()\n",
        "brasil = list()\n",
        "for c in range(0, 3):\n",
        "  estado['uf'] = str(input('Unidade Federativa: '))\n",
        "  estado['sigla'] = str(input('Sigla do Estado: '))\n",
        "  brasil.append(estado.copy())\n",
        "for e in brasil:\n",
        "  for v in e.values():\n",
        "    print(v , end=' ')\n",
        "  print()"
      ],
      "execution_count": null,
      "outputs": [
        {
          "output_type": "stream",
          "text": [
            "Unidade Federativa: Rio\n",
            "Sigla do Estado: RJ\n",
            "Unidade Federativa: Goias\n",
            "Sigla do Estado: GO\n",
            "Unidade Federativa: Minas\n",
            "Sigla do Estado: MG\n",
            "O estado  Rio O estado  RJ \n",
            "O estado  Goias O estado  GO \n",
            "O estado  Minas O estado  MG \n"
          ],
          "name": "stdout"
        }
      ]
    },
    {
      "cell_type": "markdown",
      "metadata": {
        "id": "Tw7Qhffc621k"
      },
      "source": [
        "#Exercícios"
      ]
    },
    {
      "cell_type": "markdown",
      "metadata": {
        "id": "EpnskyPm7eaF"
      },
      "source": [
        "##Faça um programa que leia nome e média de um aluno, guardando também a situação em um dicionário. No final, mostre o conteúdo da estrutura na tela."
      ]
    },
    {
      "cell_type": "code",
      "metadata": {
        "id": "O-N2xvQ53EmU",
        "colab": {
          "base_uri": "https://localhost:8080/"
        },
        "outputId": "ddc093a2-ebe1-4a0b-c951-bd5656da58be"
      },
      "source": [
        "#Desafio 090\n",
        "alunos = {}\n",
        "nome = str(input('Nome: '))\n",
        "media = float(input('Média: '))\n",
        "alunos['nome'] = nome\n",
        "alunos['media'] = media\n",
        "if media >= 7:\n",
        "  alunos['situacao'] = 'Aprovado(a)'\n",
        "else:\n",
        "  alunos['situacao'] = 'Reprovado(a)'\n",
        "print('-=' * 30)\n",
        "print(f'O nome do aluno é {alunos[\"nome\"]}.')\n",
        "print(f'A média é {alunos[\"media\"]}.')\n",
        "print(f'A situação do(a) aluno(a) é {alunos[\"situacao\"]}.')"
      ],
      "execution_count": 6,
      "outputs": [
        {
          "output_type": "stream",
          "text": [
            "Nome: rodrigo\n",
            "Média: 8\n",
            "-=-=-=-=-=-=-=-=-=-=-=-=-=-=-=-=-=-=-=-=-=-=-=-=-=-=-=-=-=-=\n",
            "O nome do aluno é rodrigo.\n",
            "A média é 8.0.\n",
            "A situação do(a) aluno(a) é Aprovado(a)\n"
          ],
          "name": "stdout"
        }
      ]
    },
    {
      "cell_type": "markdown",
      "metadata": {
        "id": "i8KCN1g78RWB"
      },
      "source": [
        "##Crie um programa onde 4 jogadores joguem um dado e tenham resultados aleatórios. Guarde esses resultados em um dicionário. No final, coloque esse dicionário em ordem, sabendo que o vencedor tirou o maior número no dado."
      ]
    },
    {
      "cell_type": "code",
      "metadata": {
        "id": "gWAWv0tX8SuA",
        "colab": {
          "base_uri": "https://localhost:8080/"
        },
        "outputId": "8854b7e5-a25a-4d55-a984-7f90c7f8ec4b"
      },
      "source": [
        "#Desafio 091\n",
        "from random import randint\n",
        "from time import sleep\n",
        "from operator import itemgetter\n",
        "jogo = {'jogador1': randint(1, 6),\n",
        "    'jogador2': randint(1, 6),\n",
        "    'jogador3': randint(1, 6),\n",
        "    'jogador4': randint(1, 6)\n",
        "}\n",
        "ranking = list()\n",
        "print('Valores sorteados: ')\n",
        "for k, v in jogo.items():\n",
        "  print(f'O {k} tirou {v} ao jogar os dados.')\n",
        "  sleep(1)\n",
        "ranking = sorted(jogo.items(), key=itemgetter(1), reverse=True)\n",
        "print('-=' * 30)\n",
        "print('== RANKING DOS JOGADORES ==')\n",
        "for i, v in enumerate(ranking):\n",
        "  print(f'{i+1}º lugar: {v[0]} com {v[1]}.')\n",
        "  sleep(1)"
      ],
      "execution_count": 25,
      "outputs": [
        {
          "output_type": "stream",
          "text": [
            "Valores sorteados: \n",
            "O jogador1 tirou 2 ao jogar os dados.\n",
            "O jogador2 tirou 5 ao jogar os dados.\n",
            "O jogador3 tirou 4 ao jogar os dados.\n",
            "O jogador4 tirou 1 ao jogar os dados.\n",
            "-=-=-=-=-=-=-=-=-=-=-=-=-=-=-=-=-=-=-=-=-=-=-=-=-=-=-=-=-=-=\n",
            "== RANKING DOS JOGADORES ==\n",
            "1º lugar: jogador2 com 5.\n",
            "2º lugar: jogador3 com 4.\n",
            "3º lugar: jogador1 com 2.\n",
            "4º lugar: jogador4 com 1.\n"
          ],
          "name": "stdout"
        }
      ]
    },
    {
      "cell_type": "markdown",
      "metadata": {
        "id": "Yelt_qDr-YrV"
      },
      "source": [
        "##Crie um programa que leia nome, ano de nascimento, carteira de trabalho e cadastre-os(com idade) em um dicionário se por acaso a CTPS for diferente de ZERO, o dicionário receberá também o ano de contratação e o salário. Calcule e acrescente, além da idade, com quantos anos a pessoa vai se aposentar. "
      ]
    },
    {
      "cell_type": "code",
      "metadata": {
        "id": "6BtGohpn-Zgf",
        "colab": {
          "base_uri": "https://localhost:8080/"
        },
        "outputId": "a4915284-e1d7-4d66-ea87-fa52c08538c1"
      },
      "source": [
        "#desafio 092\n",
        "from datetime import datetime\n",
        "dados = dict()\n",
        "dados['nome'] = str(input('Nome: '))\n",
        "nasc = int(input('Ano de nascimento: '))\n",
        "dados['idade'] = datetime.now().year - nasc\n",
        "dados['ctps'] = int(input('Número da Carteira de Trabalho: [digite 0 se não houver] '))\n",
        "if dados['ctps'] != 0:\n",
        "  dados['contratação'] = int(input('Ano de contratação: '))\n",
        "  dados['salário'] = float(input('Salário: R$ '))\n",
        "  dados['aposentadoria'] = dados['idade'] + ((dados['contratação'] + 35) - datetime.now().year)\n",
        "print('-=' * 30)\n",
        "for k, v in dados.items():\n",
        "  print(f'  - {k} tem o valor {v}.')"
      ],
      "execution_count": 28,
      "outputs": [
        {
          "output_type": "stream",
          "text": [
            "Nome: rodrigo\n",
            "Ano de nascimento: 1988\n",
            "Número da Carteira de Trabalho: [digite 0 se não houver] 1234\n",
            "Ano de contratação: 2008\n",
            "Salário: R$1500\n",
            "-=-=-=-=-=-=-=-=-=-=-=-=-=-=-=-=-=-=-=-=-=-=-=-=-=-=-=-=-=-=\n",
            "  - nome tem o valor rodrigo.\n",
            "  - idade tem o valor 33.\n",
            "  - ctps tem o valor 1234.\n",
            "  - contratação tem o valor 2008.\n",
            "  - salário tem o valor 1500.0.\n",
            "  - aposentadoria tem o valor 55.\n"
          ],
          "name": "stdout"
        }
      ]
    },
    {
      "cell_type": "markdown",
      "metadata": {
        "id": "2na6Ud3x_HDw"
      },
      "source": [
        "##Crie um programa que gerencie o aproveitamento de um jogador de futebol. O programa vai ler o nome do jogador e quantas partidas ele jogou. Depois vai ler a quantidade de gols feitos em cada partida. No final, tudo isso será guardado em um dicionário, incluindo o total de gols feitos durante o campeonato."
      ]
    },
    {
      "cell_type": "code",
      "metadata": {
        "id": "48y6NMmY_EJj",
        "colab": {
          "base_uri": "https://localhost:8080/"
        },
        "outputId": "77285392-708e-4367-cb1c-16a1cbcd4a0b"
      },
      "source": [
        "#desafio 093\n",
        "jogador = dict()\n",
        "partidas = list()\n",
        "jogador['nome'] = str(input('Nome do jogador: ')).strip()\n",
        "tot = int(input(f'Quantas partidas {jogador[\"nome\"]} jogou? '))\n",
        "for c in range(0, tot):\n",
        "  partidas.append(int(input(f'Quantos gols na partida {c + 1}? ')))\n",
        "jogador['gols'] = partidas[:] #uma cópia de partidas\n",
        "jogador['total'] = sum(partidas)\n",
        "print('-=' * 30)\n",
        "print(jogador)\n",
        "print('-=' * 30)\n",
        "for k, v in jogador.items():\n",
        "  print(f'A chave {k} tem o valor {v}.')\n",
        "print('-=' * 30)\n",
        "for i, v in enumerate(jogador['gols']):\n",
        "  print(f'Na partida {i + 1} o jogador fez {v} gols.')\n",
        "print(f'{jogador[\"nome\"]} fez um total de {jogador[\"total\"]} gols.')"
      ],
      "execution_count": 10,
      "outputs": [
        {
          "output_type": "stream",
          "text": [
            "Nome do jogador: Zico\n",
            "Quantas partidas Zico jogou? 3\n",
            "Quantos gols na partida 1? 3\n",
            "Quantos gols na partida 2? 2\n",
            "Quantos gols na partida 3? 4\n",
            "-=-=-=-=-=-=-=-=-=-=-=-=-=-=-=-=-=-=-=-=-=-=-=-=-=-=-=-=-=-=\n",
            "{'nome': 'Zico', 'gols': [3, 2, 4], 'total': 9}\n",
            "-=-=-=-=-=-=-=-=-=-=-=-=-=-=-=-=-=-=-=-=-=-=-=-=-=-=-=-=-=-=\n",
            "A chave nome tem o valor Zico.\n",
            "A chave gols tem o valor [3, 2, 4].\n",
            "A chave total tem o valor 9.\n",
            "-=-=-=-=-=-=-=-=-=-=-=-=-=-=-=-=-=-=-=-=-=-=-=-=-=-=-=-=-=-=\n",
            "Na partida 1 o jogador fez 3 gols.\n",
            "Na partida 2 o jogador fez 2 gols.\n",
            "Na partida 3 o jogador fez 4 gols.\n",
            "Zico fez um total de 9 gols.\n"
          ],
          "name": "stdout"
        }
      ]
    },
    {
      "cell_type": "markdown",
      "metadata": {
        "id": "n9CXn4ZBAdD3"
      },
      "source": [
        "##Crie um programa que leia o nome, sexo e idade de várias pessoas, guardando os dados de cada pessoa num dicionário e todos os dicionários numa lista. No final, mostre:\n",
        "* quantas pessoas foram cadastradas\n",
        "* a média de idade do grupo\n",
        "* uma lista com todas as mulheres\n",
        "* uma lista com todas as pessoas com idade acima da média"
      ]
    },
    {
      "cell_type": "code",
      "metadata": {
        "id": "KKLar69rA_jB",
        "colab": {
          "base_uri": "https://localhost:8080/"
        },
        "outputId": "4080f969-9bb8-4e2b-ab27-76dc9a862dde"
      },
      "source": [
        "#desafio 094\n",
        "pessoas = list()\n",
        "pessoa = dict()\n",
        "soma = media = 0\n",
        "while True:\n",
        "  pessoa['nome'] = str(input('Nome: '))\n",
        "  while True:\n",
        "    pessoa['sexo'] = str(input('Sexo: [M/F] ')).upper()[0]\n",
        "    if pessoa['sexo'] in 'FM':\n",
        "      break\n",
        "    else:\n",
        "      print('ERRO! Digite o sexo corretamente!')\n",
        "  pessoa['idade'] = int(input('Idade: '))\n",
        "  soma += pessoa['idade']\n",
        "  pessoas.append(pessoa.copy())\n",
        "  while True:  \n",
        "    choice = str(input('Deseja continuar? [S/N] ')).upper()[0]\n",
        "    if choice in 'SN':\n",
        "      break\n",
        "    print('ERRO! Responda somente S ou N... ')\n",
        "  if choice in 'N':\n",
        "    break \n",
        "print('-=' * 30)\n",
        "print(f'Foram cadastradas {len(pessoas)} pessoas.')\n",
        "media = soma / len(pessoas)\n",
        "print(f'A média da idade das pessoas é de {media:5.2f} anos.')\n",
        "print('As mulheres cadastradas foram: ')\n",
        "for p in pessoas:\n",
        "  if p['sexo'] in 'F':\n",
        "    print(f'->{p[\"nome\"]}')\n",
        "print('Pessoas com idade acima da média: ')\n",
        "for p in pessoas:\n",
        "  if p['idade'] > media:\n",
        "    print(f'->{p[\"nome\"]}')\n",
        "print('=-' * 30)\n",
        "print('PROGRAMA FINALIZADO! ESPERO TER AJUDADO!')"
      ],
      "execution_count": 63,
      "outputs": [
        {
          "output_type": "stream",
          "text": [
            "Nome: rodrigo\n",
            "Sexo: [M/F] m\n",
            "Idade: 22\n",
            "Deseja continuar? [S/N] michele\n",
            "ERRO! Responda somente S ou N... \n",
            "Deseja continuar? [S/N] s\n",
            "Nome: michele\n",
            "Sexo: [M/F] f\n",
            "Idade: 30\n",
            "Deseja continuar? [S/N] s\n",
            "Nome: rogerio\n",
            "Sexo: [M/F] m\n",
            "Idade: 26\n",
            "Deseja continuar? [S/N] s\n",
            "Nome: claudia\n",
            "Sexo: [M/F] 25\n",
            "ERRO! Digite o sexo corretamente!\n",
            "Sexo: [M/F] f\n",
            "Idade: 25\n",
            "Deseja continuar? [S/N] n\n",
            "-=-=-=-=-=-=-=-=-=-=-=-=-=-=-=-=-=-=-=-=-=-=-=-=-=-=-=-=-=-=\n",
            "Foram cadastradas 4 pessoas.\n",
            "A média da idade das pessoas é de 25.75 anos.\n",
            "As mulheres cadastradas foram: \n",
            "->michele\n",
            "->claudia\n",
            "Pessoas com idade acima da média: \n",
            "->michele\n",
            "->rogerio\n",
            "=-=-=-=-=-=-=-=-=-=-=-=-=-=-=-=-=-=-=-=-=-=-=-=-=-=-=-=-=-=-\n",
            "PROGRAMA FINALIZADO! ESPERO TER AJUDADO!\n"
          ],
          "name": "stdout"
        }
      ]
    },
    {
      "cell_type": "code",
      "metadata": {
        "colab": {
          "base_uri": "https://localhost:8080/"
        },
        "id": "-qpiMK3_avem",
        "outputId": "a07d79f1-24f3-4d91-b924-d714f00f0f39"
      },
      "source": [
        "#testando como fazer a soma de itens do dicionário que está dentro da lista\n",
        "carros = [{'nome': 'gol', 'preco': 12000},\n",
        "          {'nome': 'uno', 'preco': 10000},\n",
        "          {'nome': 'corsa', 'preco': 11000},\n",
        "          {'nome': 'march', 'preco': 20000}\n",
        "]\n",
        "#duas formas de somar o preço dos carros\n",
        "print((carros[0]['preco']) + (carros[1]['preco']) + (carros[2]['preco']))\n",
        "nomes_carros = list()\n",
        "for c, v in enumerate(carros):\n",
        "  nomes_carros.append(v['nome'])\n",
        "print(nomes_carros)\n",
        "total_precos = list()\n",
        "for c, v in enumerate(carros):\n",
        "  total_precos.append(v['preco'])\n",
        "print(total_precos)\n",
        "print(f'O preço total da lista de carros é R${sum(total_precos)},00.')"
      ],
      "execution_count": 49,
      "outputs": [
        {
          "output_type": "stream",
          "text": [
            "33000\n",
            "['gol', 'uno', 'corsa', 'march']\n",
            "[12000, 10000, 11000, 20000]\n",
            "O preço total da lista de carros é R$53000,00.\n"
          ],
          "name": "stdout"
        }
      ]
    },
    {
      "cell_type": "markdown",
      "metadata": {
        "id": "cX4W6IUvBDAO"
      },
      "source": [
        "##Aprimore o desafio 093 para que ele funcione com vários jogadores, incluindo um sistema de visualização de detalhes do aproveitamento de cada jogador."
      ]
    },
    {
      "cell_type": "code",
      "metadata": {
        "id": "fHKH42dWCMmt",
        "colab": {
          "base_uri": "https://localhost:8080/"
        },
        "outputId": "84a896dd-076a-43b7-fb67-a3e5e98042da"
      },
      "source": [
        "#desafio 095\n",
        "jogadores = list()\n",
        "jogador = dict()\n",
        "partidas = list()\n",
        "while True:\n",
        "  jogador.clear()\n",
        "  jogador['nome'] = str(input('Nome do jogador: ')).strip()\n",
        "  tot = int(input(f'Quantas partidas {jogador[\"nome\"]} jogou? '))\n",
        "  partidas.clear()\n",
        "  for c in range(0, tot):\n",
        "    partidas.append(int(input(f'Quantos gols na partida {c + 1}? ')))\n",
        "  jogador['gols'] = partidas[:] #uma cópia de partidas\n",
        "  jogador['total'] = sum(partidas)\n",
        "  jogadores.append(jogador.copy())\n",
        "  while True: \n",
        "    choice = str(input('Cadastrar mais jogadores? [S/N] ')).upper()[0]\n",
        "    if choice in 'SN': \n",
        "      break\n",
        "      print('Escolha entre S ou N...')\n",
        "  if choice == 'N':\n",
        "    break\n",
        "print('-=' * 30)\n",
        "print('cod', end='')\n",
        "for i in jogador.keys():\n",
        "  print(f'{i:<15}', end='')\n",
        "print()\n",
        "print('-' * 40)\n",
        "for k, v in enumerate(jogadores):\n",
        "  print(f'{k:>3} ', end='')\n",
        "  for d in v.values():\n",
        "    print(f'{str(d):<15}', end='')\n",
        "  print()\n",
        "print('-' * 40)\n",
        "while True:\n",
        "  busca = int(input('Mostrar os dados de qual jogador? [999 para sair] '))\n",
        "  if busca == 999:\n",
        "    break\n",
        "  if busca >= len(jogadores):\n",
        "    print(f'ERRO! Não existe jogador com o código de busca {busca}!')\n",
        "  else:\n",
        "    print(f' -- LEVANTAMENTO DO JOGADOR {jogadores[busca][\"nome\"]}:')\n",
        "    for i, g in enumerate(jogadores[busca]['gols']):\n",
        "      print(f'  No jogo {i+1} fez {g} gols.') \n",
        "  print('-' * 40)\n",
        "print('<< VOLTE SEMPRE >>')\n"
      ],
      "execution_count": 72,
      "outputs": [
        {
          "output_type": "stream",
          "text": [
            "Nome do jogador: jose\n",
            "Quantas partidas jose jogou? 3\n",
            "Quantos gols na partida 1? 0\n",
            "Quantos gols na partida 2? 1\n",
            "Quantos gols na partida 3? 4\n",
            "Cadastrar mais jogadores? [S/N] s\n",
            "Nome do jogador: claudio\n",
            "Quantas partidas claudio jogou? 2\n",
            "Quantos gols na partida 1? 4\n",
            "Quantos gols na partida 2? 2\n",
            "Cadastrar mais jogadores? [S/N] s\n",
            "Nome do jogador: edson\n",
            "Quantas partidas edson jogou? 5\n",
            "Quantos gols na partida 1? 3\n",
            "Quantos gols na partida 2? 2\n",
            "Quantos gols na partida 3? 1\n",
            "Quantos gols na partida 4? 5\n",
            "Quantos gols na partida 5? 6\n",
            "Cadastrar mais jogadores? [S/N] n\n",
            "-=-=-=-=-=-=-=-=-=-=-=-=-=-=-=-=-=-=-=-=-=-=-=-=-=-=-=-=-=-=\n",
            "codnome           gols           total          \n",
            "----------------------------------------\n",
            "  0 jose           [0, 1, 4]      5              \n",
            "  1 claudio        [4, 2]         6              \n",
            "  2 edson          [3, 2, 1, 5, 6]17             \n",
            "----------------------------------------\n",
            "Mostrar os dados de qual jogador? [999 para sair] 2\n",
            " -- LEVANTAMENTO DO JOGADOR edson:\n",
            "  No jogo 1 fez 3 gols.\n",
            "  No jogo 2 fez 2 gols.\n",
            "  No jogo 3 fez 1 gols.\n",
            "  No jogo 4 fez 5 gols.\n",
            "  No jogo 5 fez 6 gols.\n",
            "----------------------------------------\n",
            "Mostrar os dados de qual jogador? [999 para sair] 999\n",
            "<< VOLTE SEMPRE >>\n"
          ],
          "name": "stdout"
        }
      ]
    }
  ]
}