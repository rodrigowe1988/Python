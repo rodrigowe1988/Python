{
  "nbformat": 4,
  "nbformat_minor": 0,
  "metadata": {
    "colab": {
      "name": "Exercícios em Python 10.ipynb",
      "provenance": [],
      "authorship_tag": "ABX9TyN7I2WvgBo+pL5XMNmi+hgJ",
      "include_colab_link": true
    },
    "kernelspec": {
      "name": "python3",
      "display_name": "Python 3"
    },
    "language_info": {
      "name": "python"
    }
  },
  "cells": [
    {
      "cell_type": "markdown",
      "metadata": {
        "id": "view-in-github",
        "colab_type": "text"
      },
      "source": [
        "<a href=\"https://colab.research.google.com/github/rodrigowe1988/Python/blob/main/Exerc%C3%ADcios_em_Python_10.ipynb\" target=\"_parent\"><img src=\"https://colab.research.google.com/assets/colab-badge.svg\" alt=\"Open In Colab\"/></a>"
      ]
    },
    {
      "cell_type": "markdown",
      "metadata": {
        "id": "qsIQGiGwquHg"
      },
      "source": [
        "#Variáveis compostas (Dicionários)"
      ]
    },
    {
      "cell_type": "code",
      "metadata": {
        "colab": {
          "base_uri": "https://localhost:8080/"
        },
        "id": "x9Bm4t43qo5I",
        "outputId": "cb18cdc4-3edc-4ad5-c572-2a4944a4424c"
      },
      "source": [
        "dados = list()\n",
        "dados.append('Pedro')\n",
        "dados.append(25)\n",
        "print(dados[0])\n",
        "print(dados[1])"
      ],
      "execution_count": 1,
      "outputs": [
        {
          "output_type": "stream",
          "text": [
            "Pedro\n",
            "25\n"
          ],
          "name": "stdout"
        }
      ]
    },
    {
      "cell_type": "markdown",
      "metadata": {
        "id": "Ls1JMIbcqqAu"
      },
      "source": [
        "##Para fazer isso, note que é preciso chamar cada uma das variáveis através de seu índice numérico. E se você quisesse chamá-lo literalmente? Para isso temos os Dicionários.\n",
        "\n",
        "* Tuplas (  )\n",
        "* Listas [  ]\n",
        "* Dicionários { }"
      ]
    },
    {
      "cell_type": "code",
      "metadata": {
        "colab": {
          "base_uri": "https://localhost:8080/"
        },
        "id": "BPsefBGUtMUK",
        "outputId": "8d32f243-2450-480d-fd45-2251ba9adb81"
      },
      "source": [
        "dados = dict()\n",
        "dados = {'nome': 'Pedro', 'idade': 25}\n",
        "print(dados['nome'])\n",
        "print(dados['idade'])\n",
        "dados['sexo'] = 'M'\n",
        "dados['teste'] = 'qualquer'\n",
        "print(dados)\n",
        "del dados['teste']\n",
        "print(dados)"
      ],
      "execution_count": 5,
      "outputs": [
        {
          "output_type": "stream",
          "text": [
            "Pedro\n",
            "25\n",
            "{'nome': 'Pedro', 'idade': 25, 'sexo': 'M', 'teste': 'qualquer'}\n",
            "{'nome': 'Pedro', 'idade': 25, 'sexo': 'M'}\n"
          ],
          "name": "stdout"
        }
      ]
    },
    {
      "cell_type": "code",
      "metadata": {
        "colab": {
          "base_uri": "https://localhost:8080/"
        },
        "id": "F8iCa7sGtu5K",
        "outputId": "c7ec847e-703d-4d7e-e824-8bfcf384bfa9"
      },
      "source": [
        "#entendo como funcionam os elementos dos dicionários\n",
        "filme = {'titulo':'Star Wars', \n",
        "        'ano': 1977,  \n",
        "        'diretor': 'George Lucas'\n",
        "        }\n",
        "print(filme.values())\n",
        "print(filme.keys())\n",
        "print(filme.items())\n",
        "\n",
        "#laço for para ler o dicionário ('k' é key e 'v' é value)\n",
        "for k, v in filme.items():\n",
        "  print(f'O {k} é {v}.')"
      ],
      "execution_count": 8,
      "outputs": [
        {
          "output_type": "stream",
          "text": [
            "dict_values(['Star Wars', 1977, 'George Lucas'])\n",
            "dict_keys(['titulo', 'ano', 'diretor'])\n",
            "dict_items([('titulo', 'Star Wars'), ('ano', 1977), ('diretor', 'George Lucas')])\n",
            "O titulo é Star Wars.\n",
            "O ano é 1977.\n",
            "O diretor é George Lucas.\n"
          ],
          "name": "stdout"
        }
      ]
    },
    {
      "cell_type": "code",
      "metadata": {
        "colab": {
          "base_uri": "https://localhost:8080/"
        },
        "id": "ycU_oqdxAQ0V",
        "outputId": "cc739f12-71a6-499d-d80a-fec714b0bbf4"
      },
      "source": [
        "#mesclando listas e dicionários\n",
        "locadora = [{'filme': 'Star Wars', 'ano': 1977, 'diretor': 'George Lucas'}, \n",
        "          {'filme': 'Avengers', 'ano': 2012, 'diretor': 'Avengers'},\n",
        "          {'filme': 'Matrix', 'ano': 1999, 'diretor': 'Irmãos Wachowski'}\n",
        "          ]\n",
        "for c in range(0,3):\n",
        "  print(f'{locadora[c]}')\n",
        "#navegando dentro da lista\n",
        "print(locadora[0]['ano'])\n",
        "print(locadora[2]['filme'])"
      ],
      "execution_count": 16,
      "outputs": [
        {
          "output_type": "stream",
          "text": [
            "{'filme': 'Star Wars', 'ano': 1977, 'diretor': 'George Lucas'}\n",
            "{'filme': 'Avengers', 'ano': 2012, 'diretor': 'Avengers'}\n",
            "{'filme': 'Matrix', 'ano': 1999, 'diretor': 'Irmãos Wachowski'}\n",
            "1977\n",
            "Matrix\n"
          ],
          "name": "stdout"
        }
      ]
    },
    {
      "cell_type": "markdown",
      "metadata": {
        "id": "rxK1yROCF4xF"
      },
      "source": [
        "#Prática"
      ]
    },
    {
      "cell_type": "code",
      "metadata": {
        "colab": {
          "base_uri": "https://localhost:8080/"
        },
        "id": "Byw8nLhQDwhZ",
        "outputId": "536c5fce-31f7-49d0-c8a1-2dd13392ca07"
      },
      "source": [
        "#como adicionar e remover elementos de um dicionário\n",
        "pessoas = {'nome': 'Gustavo', 'sexo': 'M', 'idade': 22}\n",
        "print(f'O {pessoas[\"nome\"]} tem {pessoas[\"idade\"]} anos.')\n",
        "#laço for com a mesma função do enumerate\n",
        "for k, v in pessoas.items():\n",
        "  print(f'{k} = {v}')\n",
        "del pessoas['sexo']\n",
        "print(pessoas)\n",
        "pessoas['peso'] = 75\n",
        "print(pessoas)"
      ],
      "execution_count": 7,
      "outputs": [
        {
          "output_type": "stream",
          "text": [
            "O Gustavo tem 22 anos.\n",
            "nome = Gustavo\n",
            "sexo = M\n",
            "idade = 22\n",
            "{'nome': 'Gustavo', 'idade': 22}\n",
            "{'nome': 'Gustavo', 'idade': 22, 'peso': 75}\n"
          ],
          "name": "stdout"
        }
      ]
    },
    {
      "cell_type": "code",
      "metadata": {
        "colab": {
          "base_uri": "https://localhost:8080/"
        },
        "id": "qYywhm0qvaWl",
        "outputId": "24cd9853-2ae3-426a-cddf-24708d2d54b1"
      },
      "source": [
        "#listas com dicionários\n",
        "brasil = []\n",
        "estado1 = {'uf': 'Rio de Janeiro', 'sigla': 'RJ'} \n",
        "estado2 = {'uf': 'São Paulo', 'sigla': 'SP'} \n",
        "brasil.append(estado1)\n",
        "brasil.append(estado2)\n",
        "print(brasil)\n",
        "print(brasil[0]['uf'])\n",
        "print(brasil[1]['sigla'])"
      ],
      "execution_count": 12,
      "outputs": [
        {
          "output_type": "stream",
          "text": [
            "[{'uf': 'Rio de Janeiro', 'sigla': 'RJ'}, {'uf': 'São Paulo', 'sigla': 'SP'}]\n",
            "Rio de Janeiro\n",
            "SP\n"
          ],
          "name": "stdout"
        }
      ]
    },
    {
      "cell_type": "code",
      "metadata": {
        "colab": {
          "base_uri": "https://localhost:8080/"
        },
        "id": "2o7X5e6fzr_m",
        "outputId": "c6e3e86f-21de-435e-b6b3-8a1fd56ff3f6"
      },
      "source": [
        "#como fazer o fatiamento num dicionário\n",
        "estado = dict()\n",
        "brasil = list()\n",
        "for c in range(0, 3):\n",
        "  estado['uf'] = str(input('Unidade Federativa: '))\n",
        "  estado['sigla'] = str(input('Sigla do Estado: '))\n",
        "  brasil.append(estado.copy())\n",
        "for e in brasil:\n",
        "  for v in e.values():\n",
        "    print(v , end=' ')\n",
        "  print()"
      ],
      "execution_count": 18,
      "outputs": [
        {
          "output_type": "stream",
          "text": [
            "Unidade Federativa: Rio\n",
            "Sigla do Estado: RJ\n",
            "Unidade Federativa: Goias\n",
            "Sigla do Estado: GO\n",
            "Unidade Federativa: Minas\n",
            "Sigla do Estado: MG\n",
            "O estado  Rio O estado  RJ \n",
            "O estado  Goias O estado  GO \n",
            "O estado  Minas O estado  MG \n"
          ],
          "name": "stdout"
        }
      ]
    },
    {
      "cell_type": "markdown",
      "metadata": {
        "id": "Tw7Qhffc621k"
      },
      "source": [
        "#Exercícios"
      ]
    },
    {
      "cell_type": "markdown",
      "metadata": {
        "id": "EpnskyPm7eaF"
      },
      "source": [
        "##Faça um programa que leia nome e média de um aluno, guardando também a situação em um dicionário. No final, mostre o conteúdo da estrutura na tela."
      ]
    },
    {
      "cell_type": "code",
      "metadata": {
        "id": "O-N2xvQ53EmU"
      },
      "source": [
        "#Desafio 090\n"
      ],
      "execution_count": 18,
      "outputs": []
    },
    {
      "cell_type": "markdown",
      "metadata": {
        "id": "i8KCN1g78RWB"
      },
      "source": [
        "##Crie um programa onde 4 jogadores joguem um dado e tenham resultados aleatórios. Guarde esses resultados em um dicionário. No final, coloque esse dicionário em ordem, sabendo que o vencedor tirou o maior número no dado."
      ]
    },
    {
      "cell_type": "code",
      "metadata": {
        "id": "gWAWv0tX8SuA"
      },
      "source": [
        "#Desafio 091"
      ],
      "execution_count": null,
      "outputs": []
    },
    {
      "cell_type": "markdown",
      "metadata": {
        "id": "Yelt_qDr-YrV"
      },
      "source": [
        "##Crie um programa que leia nome, ano de nascimento, carteira de trabalho e cadastre-os(com idade) em um dicionário se por acaso a CTPS for diferente de ZERO, o dicionário receberá também o ano de contratação e o salário. Calcule e acrescente, além da idade, com quantos anos a pessoa vai se aposentar. "
      ]
    },
    {
      "cell_type": "code",
      "metadata": {
        "id": "6BtGohpn-Zgf"
      },
      "source": [
        "#desafio 092"
      ],
      "execution_count": 19,
      "outputs": []
    },
    {
      "cell_type": "markdown",
      "metadata": {
        "id": "2na6Ud3x_HDw"
      },
      "source": [
        "##Crie um programa que gerencie o aproveitamento de um jogador de futebol. O programa vai ler o nome do jogador e quantas partidas ele jogou. Depois vai ler a quantidade de gols feitos em cada partida. No final, tudo isso será guardado em um dicionário, incluindo o total de gols feitos durante o campeonato."
      ]
    },
    {
      "cell_type": "code",
      "metadata": {
        "id": "48y6NMmY_EJj"
      },
      "source": [
        "#desafio 093"
      ],
      "execution_count": null,
      "outputs": []
    },
    {
      "cell_type": "markdown",
      "metadata": {
        "id": "n9CXn4ZBAdD3"
      },
      "source": [
        "##Crie um programa que leia o nome, sexo e idade de várias pessoas, guardando os dados de cada pessoa num dicionário e todos os dicionários numa lista. No final, mostre:\n",
        "* quantas pessoas foram cadastradas\n",
        "* a média de idade do grupo\n",
        "* uma lista com todas as mulheres\n",
        "* uma lista com todas as pessoas com idade acima da média"
      ]
    },
    {
      "cell_type": "code",
      "metadata": {
        "id": "KKLar69rA_jB"
      },
      "source": [
        "#desafio 094"
      ],
      "execution_count": null,
      "outputs": []
    },
    {
      "cell_type": "markdown",
      "metadata": {
        "id": "cX4W6IUvBDAO"
      },
      "source": [
        "##Aprimore o desafio 093 para que ele funcione com vários jogadores, incluindo um sistema de visualização de detalhes do aproveitamento de cada jogador."
      ]
    },
    {
      "cell_type": "code",
      "metadata": {
        "id": "fHKH42dWCMmt"
      },
      "source": [
        "#desafio 095"
      ],
      "execution_count": null,
      "outputs": []
    }
  ]
}