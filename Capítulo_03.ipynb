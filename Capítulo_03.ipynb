{
  "nbformat": 4,
  "nbformat_minor": 0,
  "metadata": {
    "colab": {
      "name": "Capítulo 03.ipynb",
      "provenance": [],
      "authorship_tag": "ABX9TyPsQembADOxk8gA4sLayvJT",
      "include_colab_link": true
    },
    "kernelspec": {
      "name": "python3",
      "display_name": "Python 3"
    },
    "language_info": {
      "name": "python"
    }
  },
  "cells": [
    {
      "cell_type": "markdown",
      "metadata": {
        "id": "view-in-github",
        "colab_type": "text"
      },
      "source": [
        "<a href=\"https://colab.research.google.com/github/rodrigowe1988/Python/blob/main/Cap%C3%ADtulo_03.ipynb\" target=\"_parent\"><img src=\"https://colab.research.google.com/assets/colab-badge.svg\" alt=\"Open In Colab\"/></a>"
      ]
    },
    {
      "cell_type": "markdown",
      "metadata": {
        "id": "jjkId8KQ3Pzs"
      },
      "source": [
        "#Introdução às Listas\n",
        "\n",
        "Uma lista é uma coleção de itens em uma ordem em particular. Podemos\n",
        "criar uma lista que inclua as letras do alfabeto, os dígitos de 0 a 9 ou os\n",
        "nomes de todas as pessoas de sua família. Você pode colocar qualquer\n",
        "informação que quiser em uma lista, e os itens de sua lista não precisam\n",
        "estar relacionados de nenhum modo em particular. Como uma lista\n",
        "geralmente contém mais de um elemento, é uma boa ideia deixar seu nome\n",
        "no plural, por exemplo, letters, digits ou names.\n",
        "Em Python, colchetes ([]) indicam uma lista, e elementos individuais da\n",
        "lista são separados por vírgulas. Eis um exemplo simples de uma lista que\n",
        "contém alguns tipos de bicicleta:\n"
      ]
    },
    {
      "cell_type": "code",
      "metadata": {
        "colab": {
          "base_uri": "https://localhost:8080/"
        },
        "id": "LXpsqe8E3LNw",
        "outputId": "cf4144e9-1eb8-4077-d578-a322abe67137"
      },
      "source": [
        "bicicletas = ['trek', 'cannondale', 'redline', 'specializer']\n",
        "print(bicicletas)\n",
        "for c in bicicletas:\n",
        "  print(c.title())"
      ],
      "execution_count": 3,
      "outputs": [
        {
          "output_type": "stream",
          "text": [
            "['trek', 'cannondale', 'redline', 'specializer']\n",
            "Trek\n",
            "Cannondale\n",
            "Redline\n",
            "Specializer\n"
          ],
          "name": "stdout"
        }
      ]
    },
    {
      "cell_type": "markdown",
      "metadata": {
        "id": "jgDlBzND6BzE"
      },
      "source": [
        "Exercícios:\n",
        "\n",
        "* 3.1 – Nomes: Armazene os nomes de alguns de seus amigos em uma lista\n",
        "chamada names. Exiba o nome de cada pessoa acessando cada elemento da lista,\n",
        "um de cada vez.\n",
        "\n",
        "* 3.2 – Saudações: Comece com a lista usada no Exercício 3.1, mas em vez de\n",
        "simplesmente exibir o nome de cada pessoa, apresente uma mensagem a elas. O\n",
        "texto de cada mensagem deve ser o mesmo, porém cada mensagem deve estar\n",
        "personalizada com o nome da pessoa.\n",
        "\n",
        "* 3.3 – Sua própria lista: Pense em algo que gostaria de ter, como\n",
        "motocicleta ou carro, e crie uma lista que armazene vários exemplos. Utilize sua\n",
        "lista para exibir uma série de frases sobre esses itens, como “Eu terei uma moto Honda”."
      ]
    },
    {
      "cell_type": "code",
      "metadata": {
        "colab": {
          "base_uri": "https://localhost:8080/"
        },
        "id": "59EoE_4P31UU",
        "outputId": "8cea04f3-0fd6-48ab-d463-e5b9a9df0be7"
      },
      "source": [
        "#3.1\n",
        "nomes = list()\n",
        "while True:\n",
        "  nome = str(input('Nome: [stop para parar] '))\n",
        "  if nome == 'stop':\n",
        "    break\n",
        "  nomes.append(nome)\n",
        "for c in nomes:\n",
        "  print(c.title())"
      ],
      "execution_count": 8,
      "outputs": [
        {
          "output_type": "stream",
          "text": [
            "Nome: [stop para parar] rodrigo\n",
            "Nome: [stop para parar] rogério\n",
            "Nome: [stop para parar] michele\n",
            "Nome: [stop para parar] stop\n",
            "Rodrigo\n",
            "Rogério\n",
            "Michele\n"
          ],
          "name": "stdout"
        }
      ]
    },
    {
      "cell_type": "code",
      "metadata": {
        "colab": {
          "base_uri": "https://localhost:8080/"
        },
        "id": "95cQH77x_q0e",
        "outputId": "59cb61b5-3dad-41db-e34c-f2820b3e05b9"
      },
      "source": [
        "#3.2\n",
        "nomes = list()\n",
        "while True:\n",
        "  nome = str(input('Nome: [stop para parar] '))\n",
        "  if nome == 'stop':\n",
        "    break\n",
        "  nomes.append(nome)\n",
        "for i, c in enumerate(nomes):\n",
        "  print(f'Na posição {i + 1} está o nome {c.title()}.')"
      ],
      "execution_count": 10,
      "outputs": [
        {
          "output_type": "stream",
          "text": [
            "Nome: [stop para parar] rodrigo\n",
            "Nome: [stop para parar] rogerio\n",
            "Nome: [stop para parar] michele\n",
            "Nome: [stop para parar] patricia\n",
            "Nome: [stop para parar] leonardo\n",
            "Nome: [stop para parar] stop\n",
            "Na posição 1 está o nome rodrigo.\n",
            "Na posição 2 está o nome rogerio.\n",
            "Na posição 3 está o nome michele.\n",
            "Na posição 4 está o nome patricia.\n",
            "Na posição 5 está o nome leonardo.\n"
          ],
          "name": "stdout"
        }
      ]
    },
    {
      "cell_type": "code",
      "metadata": {
        "colab": {
          "base_uri": "https://localhost:8080/"
        },
        "id": "P3wMt624BD3I",
        "outputId": "c8f4e20e-4353-4325-f63d-a216b5f31045"
      },
      "source": [
        "#3.3\n",
        "desejos = list()\n",
        "while True: \n",
        "  desejo = str(input('O que você gostaria de ter: [stop para parar] '))\n",
        "  if desejo == 'stop':\n",
        "    break\n",
        "  desejos.append(desejo)\n",
        "for c in desejos:\n",
        "  print(f'Eu tenho {c.upper()} na minha vida.')"
      ],
      "execution_count": 15,
      "outputs": [
        {
          "output_type": "stream",
          "text": [
            "O que você gostaria de ter: [stop para parar]fé\n",
            "O que você gostaria de ter: [stop para parar]paz\n",
            "O que você gostaria de ter: [stop para parar]amor\n",
            "O que você gostaria de ter: [stop para parar]saúde\n",
            "O que você gostaria de ter: [stop para parar]stop\n",
            "Eu tenho FÉ na minha vida.\n",
            "Eu tenho PAZ na minha vida.\n",
            "Eu tenho AMOR na minha vida.\n",
            "Eu tenho SAÚDE na minha vida.\n"
          ],
          "name": "stdout"
        }
      ]
    },
    {
      "cell_type": "code",
      "metadata": {
        "id": "pQZF9Vr8D4iG"
      },
      "source": [
        ""
      ],
      "execution_count": null,
      "outputs": []
    }
  ]
}